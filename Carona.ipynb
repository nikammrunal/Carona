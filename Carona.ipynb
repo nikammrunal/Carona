{
 "cells": [
  {
   "cell_type": "code",
   "execution_count": 2,
   "metadata": {},
   "outputs": [],
   "source": [
    "#Columns in Data sets \n",
    "#Province/State =Chinese Province / Region / State\n",
    "#Country/Region =Name of the Country / Region\n",
    "#Lat Latitude\n",
    "#Long Longitude\n",
    "#1/22/20No. of confirmed cases till this day\n",
    "#1/23/20No. of confirmed cases till this day\n",
    "#1/24/20No. of confirmed cases till this day\n",
    "#1/25/20No. of confirmed cases till this day\n",
    "#1/26/20No. of confirmed cases till this day\n",
    "#1/27/20No. of confirmed cases till this day\n",
    "#1/28/20No. of confirmed cases till this day\n",
    "#1/29/20No. of confirmed cases till this day\n",
    "#1/30/20No. of confirmed cases till this day\n",
    "#1/31/20No. of confirmed cases till this day\n",
    "#2/1/20No. of confirmed cases till this day\n",
    "#2/2/20No. of confirmed cases till this day\n",
    "#2/3/20No. of confirmed cases till this day\n",
    "#2/4/20No. of confirmed cases till this day\n",
    "#2/5/20No. of confirmed cases till this day\n",
    "#2/6/20No. of confirmed cases till this day\n",
    "#2/7/20No. of confirmed cases till this day\n",
    "#2/8/20No. of confirmed cases till this day\n",
    "#2/9/20No. of confirmed cases till this day\n",
    "#2/10/20No. of confirmed cases till this day\n",
    "#2/11/20No. of confirmed cases till this day\n",
    "#2/12/20No. of confirmed cases till this day\n",
    "#2/13/20No. of confirmed cases till this day\n",
    "#2/14/20No. of confirmed cases till this day\n",
    "#2/15/20No. of confirmed cases till this day\n",
    "#2/16/20*/"
   ]
  },
  {
   "cell_type": "code",
   "execution_count": 6,
   "metadata": {},
   "outputs": [],
   "source": [
    "# storing and anaysis\n",
    "import numpy as np\n",
    "import pandas as pd\n",
    "\n",
    "# visualization\n",
    "import matplotlib.pyplot as plt\n",
    "import seaborn as sns\n",
    "import plotly.express as px\n",
    "import folium"
   ]
  },
  {
   "cell_type": "code",
   "execution_count": 10,
   "metadata": {},
   "outputs": [],
   "source": [
    "# importing datasets\n",
    "conf_df = pd.read_csv('C:/Users/DELL/Desktop/Corona Virus/time_series_2019-ncov-Confirmed.csv')\n",
    "deaths_df = pd.read_csv('C:/Users/DELL/Desktop/Corona Virus/time_series_2019-ncov-Deaths.csv')\n",
    "recv_df = pd.read_csv('C:/Users/DELL/Desktop/Corona Virus/time_series_2019-ncov-Recovered.csv')"
   ]
  },
  {
   "cell_type": "code",
   "execution_count": 12,
   "metadata": {},
   "outputs": [
    {
     "data": {
      "text/html": [
       "<div>\n",
       "<style scoped>\n",
       "    .dataframe tbody tr th:only-of-type {\n",
       "        vertical-align: middle;\n",
       "    }\n",
       "\n",
       "    .dataframe tbody tr th {\n",
       "        vertical-align: top;\n",
       "    }\n",
       "\n",
       "    .dataframe thead th {\n",
       "        text-align: right;\n",
       "    }\n",
       "</style>\n",
       "<table border=\"1\" class=\"dataframe\">\n",
       "  <thead>\n",
       "    <tr style=\"text-align: right;\">\n",
       "      <th></th>\n",
       "      <th>Province/State</th>\n",
       "      <th>Country/Region</th>\n",
       "      <th>Lat</th>\n",
       "      <th>Long</th>\n",
       "      <th>1/22/20</th>\n",
       "      <th>1/23/20</th>\n",
       "      <th>1/24/20</th>\n",
       "      <th>1/25/20</th>\n",
       "      <th>1/26/20</th>\n",
       "      <th>1/27/20</th>\n",
       "      <th>...</th>\n",
       "      <th>2/7/20</th>\n",
       "      <th>2/8/20</th>\n",
       "      <th>2/9/20</th>\n",
       "      <th>2/10/20</th>\n",
       "      <th>2/11/20</th>\n",
       "      <th>2/12/20</th>\n",
       "      <th>2/13/20</th>\n",
       "      <th>2/14/20</th>\n",
       "      <th>2/15/20</th>\n",
       "      <th>2/16/20</th>\n",
       "    </tr>\n",
       "  </thead>\n",
       "  <tbody>\n",
       "    <tr>\n",
       "      <td>0</td>\n",
       "      <td>Anhui</td>\n",
       "      <td>Mainland China</td>\n",
       "      <td>31.82571</td>\n",
       "      <td>117.2264</td>\n",
       "      <td>1</td>\n",
       "      <td>9</td>\n",
       "      <td>15</td>\n",
       "      <td>39</td>\n",
       "      <td>60</td>\n",
       "      <td>70</td>\n",
       "      <td>...</td>\n",
       "      <td>665</td>\n",
       "      <td>733</td>\n",
       "      <td>779</td>\n",
       "      <td>830</td>\n",
       "      <td>860</td>\n",
       "      <td>889</td>\n",
       "      <td>910</td>\n",
       "      <td>934</td>\n",
       "      <td>950</td>\n",
       "      <td>962</td>\n",
       "    </tr>\n",
       "    <tr>\n",
       "      <td>1</td>\n",
       "      <td>Beijing</td>\n",
       "      <td>Mainland China</td>\n",
       "      <td>40.18238</td>\n",
       "      <td>116.4142</td>\n",
       "      <td>14</td>\n",
       "      <td>22</td>\n",
       "      <td>36</td>\n",
       "      <td>41</td>\n",
       "      <td>68</td>\n",
       "      <td>80</td>\n",
       "      <td>...</td>\n",
       "      <td>297</td>\n",
       "      <td>315</td>\n",
       "      <td>326</td>\n",
       "      <td>337</td>\n",
       "      <td>342</td>\n",
       "      <td>352</td>\n",
       "      <td>366</td>\n",
       "      <td>372</td>\n",
       "      <td>375</td>\n",
       "      <td>380</td>\n",
       "    </tr>\n",
       "    <tr>\n",
       "      <td>2</td>\n",
       "      <td>Chongqing</td>\n",
       "      <td>Mainland China</td>\n",
       "      <td>30.05718</td>\n",
       "      <td>107.8740</td>\n",
       "      <td>6</td>\n",
       "      <td>9</td>\n",
       "      <td>27</td>\n",
       "      <td>57</td>\n",
       "      <td>75</td>\n",
       "      <td>110</td>\n",
       "      <td>...</td>\n",
       "      <td>426</td>\n",
       "      <td>428</td>\n",
       "      <td>468</td>\n",
       "      <td>486</td>\n",
       "      <td>505</td>\n",
       "      <td>518</td>\n",
       "      <td>529</td>\n",
       "      <td>537</td>\n",
       "      <td>544</td>\n",
       "      <td>551</td>\n",
       "    </tr>\n",
       "    <tr>\n",
       "      <td>3</td>\n",
       "      <td>Fujian</td>\n",
       "      <td>Mainland China</td>\n",
       "      <td>26.07783</td>\n",
       "      <td>117.9895</td>\n",
       "      <td>1</td>\n",
       "      <td>5</td>\n",
       "      <td>10</td>\n",
       "      <td>18</td>\n",
       "      <td>35</td>\n",
       "      <td>59</td>\n",
       "      <td>...</td>\n",
       "      <td>224</td>\n",
       "      <td>239</td>\n",
       "      <td>250</td>\n",
       "      <td>261</td>\n",
       "      <td>267</td>\n",
       "      <td>272</td>\n",
       "      <td>279</td>\n",
       "      <td>281</td>\n",
       "      <td>285</td>\n",
       "      <td>287</td>\n",
       "    </tr>\n",
       "    <tr>\n",
       "      <td>4</td>\n",
       "      <td>Gansu</td>\n",
       "      <td>Mainland China</td>\n",
       "      <td>36.06110</td>\n",
       "      <td>103.8343</td>\n",
       "      <td>0</td>\n",
       "      <td>2</td>\n",
       "      <td>2</td>\n",
       "      <td>4</td>\n",
       "      <td>7</td>\n",
       "      <td>14</td>\n",
       "      <td>...</td>\n",
       "      <td>67</td>\n",
       "      <td>79</td>\n",
       "      <td>83</td>\n",
       "      <td>83</td>\n",
       "      <td>86</td>\n",
       "      <td>87</td>\n",
       "      <td>90</td>\n",
       "      <td>90</td>\n",
       "      <td>90</td>\n",
       "      <td>90</td>\n",
       "    </tr>\n",
       "  </tbody>\n",
       "</table>\n",
       "<p>5 rows × 30 columns</p>\n",
       "</div>"
      ],
      "text/plain": [
       "  Province/State  Country/Region       Lat      Long  1/22/20  1/23/20  \\\n",
       "0          Anhui  Mainland China  31.82571  117.2264        1        9   \n",
       "1        Beijing  Mainland China  40.18238  116.4142       14       22   \n",
       "2      Chongqing  Mainland China  30.05718  107.8740        6        9   \n",
       "3         Fujian  Mainland China  26.07783  117.9895        1        5   \n",
       "4          Gansu  Mainland China  36.06110  103.8343        0        2   \n",
       "\n",
       "   1/24/20  1/25/20  1/26/20  1/27/20  ...  2/7/20  2/8/20  2/9/20  2/10/20  \\\n",
       "0       15       39       60       70  ...     665     733     779      830   \n",
       "1       36       41       68       80  ...     297     315     326      337   \n",
       "2       27       57       75      110  ...     426     428     468      486   \n",
       "3       10       18       35       59  ...     224     239     250      261   \n",
       "4        2        4        7       14  ...      67      79      83       83   \n",
       "\n",
       "   2/11/20  2/12/20  2/13/20  2/14/20  2/15/20  2/16/20  \n",
       "0      860      889      910      934      950      962  \n",
       "1      342      352      366      372      375      380  \n",
       "2      505      518      529      537      544      551  \n",
       "3      267      272      279      281      285      287  \n",
       "4       86       87       90       90       90       90  \n",
       "\n",
       "[5 rows x 30 columns]"
      ]
     },
     "execution_count": 12,
     "metadata": {},
     "output_type": "execute_result"
    }
   ],
   "source": [
    "conf_df.head()"
   ]
  },
  {
   "cell_type": "code",
   "execution_count": 14,
   "metadata": {},
   "outputs": [
    {
     "data": {
      "text/plain": [
       "Index(['Province/State', 'Country/Region', 'Lat', 'Long', '1/22/20', '1/23/20',\n",
       "       '1/24/20', '1/25/20', '1/26/20', '1/27/20', '1/28/20', '1/29/20',\n",
       "       '1/30/20', '1/31/20', '2/01/20', '2/02/20', '2/03/20', '2/04/20',\n",
       "       '2/05/20', '2/06/20', '2/07/20', '2/08/20', '2/09/20', '2/10/20',\n",
       "       '2/11/20', '2/12/20', '2/13/20', '2/14/20', '2/15/20', '2/16/20'],\n",
       "      dtype='object')"
      ]
     },
     "execution_count": 14,
     "metadata": {},
     "output_type": "execute_result"
    }
   ],
   "source": [
    "recv_df.columns"
   ]
  },
  {
   "cell_type": "markdown",
   "metadata": {},
   "source": [
    "# Data Wrangling"
   ]
  },
  {
   "cell_type": "code",
   "execution_count": 16,
   "metadata": {},
   "outputs": [],
   "source": [
    "dates = ['1/22/20', '1/23/20', '1/24/20', '1/25/20', '1/26/20', '1/27/20', '1/28/20', '1/29/20',\n",
    "       '1/30/20', '1/31/20', '2/1/20', '2/2/20', '2/3/20', '2/4/20', '2/5/20',\n",
    "       '2/6/20', '2/7/20', '2/8/20', '2/9/20', '2/10/20', '2/11/20', '2/12/20',\n",
    "       '2/13/20', '2/14/20', '2/15/20', '2/16/20']"
   ]
  },
  {
   "cell_type": "code",
   "execution_count": 18,
   "metadata": {},
   "outputs": [],
   "source": [
    "dates1 = ['1/22/20', '1/23/20',\n",
    "       '1/24/20', '1/25/20', '1/26/20', '1/27/20', '1/28/20', '1/29/20',\n",
    "       '1/30/20', '1/31/20', '2/01/20', '2/02/20', '2/03/20', '2/04/20',\n",
    "       '2/05/20', '2/06/20', '2/07/20', '2/08/20', '2/09/20', '2/10/20',\n",
    "       '2/11/20', '2/12/20', '2/13/20', '2/14/20', '2/15/20', '2/16/20']"
   ]
  },
  {
   "cell_type": "code",
   "execution_count": 20,
   "metadata": {},
   "outputs": [
    {
     "data": {
      "text/html": [
       "<div>\n",
       "<style scoped>\n",
       "    .dataframe tbody tr th:only-of-type {\n",
       "        vertical-align: middle;\n",
       "    }\n",
       "\n",
       "    .dataframe tbody tr th {\n",
       "        vertical-align: top;\n",
       "    }\n",
       "\n",
       "    .dataframe thead th {\n",
       "        text-align: right;\n",
       "    }\n",
       "</style>\n",
       "<table border=\"1\" class=\"dataframe\">\n",
       "  <thead>\n",
       "    <tr style=\"text-align: right;\">\n",
       "      <th></th>\n",
       "      <th>Province/State</th>\n",
       "      <th>Country/Region</th>\n",
       "      <th>Lat</th>\n",
       "      <th>Long</th>\n",
       "      <th>1/22/20</th>\n",
       "      <th>1/23/20</th>\n",
       "      <th>1/24/20</th>\n",
       "      <th>1/25/20</th>\n",
       "      <th>1/26/20</th>\n",
       "      <th>1/27/20</th>\n",
       "      <th>...</th>\n",
       "      <th>2/07/20</th>\n",
       "      <th>2/08/20</th>\n",
       "      <th>2/09/20</th>\n",
       "      <th>2/10/20</th>\n",
       "      <th>2/11/20</th>\n",
       "      <th>2/12/20</th>\n",
       "      <th>2/13/20</th>\n",
       "      <th>2/14/20</th>\n",
       "      <th>2/15/20</th>\n",
       "      <th>2/16/20</th>\n",
       "    </tr>\n",
       "  </thead>\n",
       "  <tbody>\n",
       "    <tr>\n",
       "      <td>0</td>\n",
       "      <td>Anhui</td>\n",
       "      <td>Mainland China</td>\n",
       "      <td>31.82571</td>\n",
       "      <td>117.2264</td>\n",
       "      <td>0.0</td>\n",
       "      <td>0.0</td>\n",
       "      <td>0.0</td>\n",
       "      <td>0.0</td>\n",
       "      <td>0.0</td>\n",
       "      <td>0.0</td>\n",
       "      <td>...</td>\n",
       "      <td>47.0</td>\n",
       "      <td>59.0</td>\n",
       "      <td>72.0</td>\n",
       "      <td>88.0</td>\n",
       "      <td>105.0</td>\n",
       "      <td>127.0</td>\n",
       "      <td>157.0</td>\n",
       "      <td>193</td>\n",
       "      <td>221</td>\n",
       "      <td>255</td>\n",
       "    </tr>\n",
       "    <tr>\n",
       "      <td>1</td>\n",
       "      <td>Beijing</td>\n",
       "      <td>Mainland China</td>\n",
       "      <td>40.18238</td>\n",
       "      <td>116.4142</td>\n",
       "      <td>0.0</td>\n",
       "      <td>0.0</td>\n",
       "      <td>1.0</td>\n",
       "      <td>2.0</td>\n",
       "      <td>2.0</td>\n",
       "      <td>2.0</td>\n",
       "      <td>...</td>\n",
       "      <td>33.0</td>\n",
       "      <td>34.0</td>\n",
       "      <td>37.0</td>\n",
       "      <td>44.0</td>\n",
       "      <td>48.0</td>\n",
       "      <td>56.0</td>\n",
       "      <td>69.0</td>\n",
       "      <td>80</td>\n",
       "      <td>98</td>\n",
       "      <td>108</td>\n",
       "    </tr>\n",
       "    <tr>\n",
       "      <td>2</td>\n",
       "      <td>Chongqing</td>\n",
       "      <td>Mainland China</td>\n",
       "      <td>30.05718</td>\n",
       "      <td>107.8740</td>\n",
       "      <td>0.0</td>\n",
       "      <td>0.0</td>\n",
       "      <td>0.0</td>\n",
       "      <td>0.0</td>\n",
       "      <td>0.0</td>\n",
       "      <td>0.0</td>\n",
       "      <td>...</td>\n",
       "      <td>31.0</td>\n",
       "      <td>39.0</td>\n",
       "      <td>51.0</td>\n",
       "      <td>66.0</td>\n",
       "      <td>79.0</td>\n",
       "      <td>102.0</td>\n",
       "      <td>128.0</td>\n",
       "      <td>152</td>\n",
       "      <td>184</td>\n",
       "      <td>207</td>\n",
       "    </tr>\n",
       "    <tr>\n",
       "      <td>3</td>\n",
       "      <td>Fujian</td>\n",
       "      <td>Mainland China</td>\n",
       "      <td>26.07783</td>\n",
       "      <td>117.9895</td>\n",
       "      <td>0.0</td>\n",
       "      <td>0.0</td>\n",
       "      <td>0.0</td>\n",
       "      <td>0.0</td>\n",
       "      <td>0.0</td>\n",
       "      <td>0.0</td>\n",
       "      <td>...</td>\n",
       "      <td>20.0</td>\n",
       "      <td>24.0</td>\n",
       "      <td>35.0</td>\n",
       "      <td>39.0</td>\n",
       "      <td>45.0</td>\n",
       "      <td>53.0</td>\n",
       "      <td>57.0</td>\n",
       "      <td>63</td>\n",
       "      <td>71</td>\n",
       "      <td>82</td>\n",
       "    </tr>\n",
       "    <tr>\n",
       "      <td>4</td>\n",
       "      <td>Gansu</td>\n",
       "      <td>Mainland China</td>\n",
       "      <td>36.06110</td>\n",
       "      <td>103.8343</td>\n",
       "      <td>0.0</td>\n",
       "      <td>0.0</td>\n",
       "      <td>0.0</td>\n",
       "      <td>0.0</td>\n",
       "      <td>0.0</td>\n",
       "      <td>0.0</td>\n",
       "      <td>...</td>\n",
       "      <td>9.0</td>\n",
       "      <td>12.0</td>\n",
       "      <td>16.0</td>\n",
       "      <td>17.0</td>\n",
       "      <td>24.0</td>\n",
       "      <td>31.0</td>\n",
       "      <td>39.0</td>\n",
       "      <td>39</td>\n",
       "      <td>49</td>\n",
       "      <td>54</td>\n",
       "    </tr>\n",
       "  </tbody>\n",
       "</table>\n",
       "<p>5 rows × 30 columns</p>\n",
       "</div>"
      ],
      "text/plain": [
       "  Province/State  Country/Region       Lat      Long  1/22/20  1/23/20  \\\n",
       "0          Anhui  Mainland China  31.82571  117.2264      0.0      0.0   \n",
       "1        Beijing  Mainland China  40.18238  116.4142      0.0      0.0   \n",
       "2      Chongqing  Mainland China  30.05718  107.8740      0.0      0.0   \n",
       "3         Fujian  Mainland China  26.07783  117.9895      0.0      0.0   \n",
       "4          Gansu  Mainland China  36.06110  103.8343      0.0      0.0   \n",
       "\n",
       "   1/24/20  1/25/20  1/26/20  1/27/20  ...  2/07/20  2/08/20  2/09/20  \\\n",
       "0      0.0      0.0      0.0      0.0  ...     47.0     59.0     72.0   \n",
       "1      1.0      2.0      2.0      2.0  ...     33.0     34.0     37.0   \n",
       "2      0.0      0.0      0.0      0.0  ...     31.0     39.0     51.0   \n",
       "3      0.0      0.0      0.0      0.0  ...     20.0     24.0     35.0   \n",
       "4      0.0      0.0      0.0      0.0  ...      9.0     12.0     16.0   \n",
       "\n",
       "   2/10/20  2/11/20  2/12/20  2/13/20  2/14/20  2/15/20  2/16/20  \n",
       "0     88.0    105.0    127.0    157.0      193      221      255  \n",
       "1     44.0     48.0     56.0     69.0       80       98      108  \n",
       "2     66.0     79.0    102.0    128.0      152      184      207  \n",
       "3     39.0     45.0     53.0     57.0       63       71       82  \n",
       "4     17.0     24.0     31.0     39.0       39       49       54  \n",
       "\n",
       "[5 rows x 30 columns]"
      ]
     },
     "execution_count": 20,
     "metadata": {},
     "output_type": "execute_result"
    }
   ],
   "source": [
    "recv_df.head()"
   ]
  },
  {
   "cell_type": "code",
   "execution_count": 22,
   "metadata": {},
   "outputs": [],
   "source": [
    "conf_df_long = conf_df.melt(id_vars=['Province/State', 'Country/Region', 'Lat', 'Long'], \n",
    "                            value_vars=dates, var_name='Date', value_name='Confirmed')\n",
    "\n",
    "deaths_df_long = deaths_df.melt(id_vars=['Province/State', 'Country/Region', 'Lat', 'Long'], \n",
    "                            value_vars=dates, var_name='Date', value_name='Deaths')\n",
    "\n",
    "recv_df_long = recv_df.melt(id_vars=['Province/State', 'Country/Region', 'Lat', 'Long'], \n",
    "                            value_vars=dates1, var_name='Date', value_name='Recovered')\n",
    "\n",
    "full_table = pd.concat([conf_df_long, deaths_df_long['Deaths'], recv_df_long['Recovered']], axis=1, sort=False)\n"
   ]
  },
  {
   "cell_type": "markdown",
   "metadata": {},
   "source": [
    "# Data Cleaning and Preprocessing"
   ]
  },
  {
   "cell_type": "code",
   "execution_count": 24,
   "metadata": {},
   "outputs": [],
   "source": [
    "# fixing date time issues\n",
    "# -----------------------\n",
    "\n",
    "# converting to proper date format\n",
    "full_table['Date'] = pd.to_datetime(full_table['Date'])\n",
    "\n",
    "# # selecting only the last entry for each day \n",
    "# full_table = full_table[full_table['Date'].eq(full_table.groupby([full_table['Date'].dt.year,\n",
    "#                                                      full_table['Date'].dt.month, \n",
    "#                                                      full_table['Date'].dt.day])['Date'].transform('max'))]\n",
    "\n",
    "# # changing datetime to just date\n",
    "# full_table['Date'] = pd.to_datetime(full_table['Date']).dt.date"
   ]
  },
  {
   "cell_type": "code",
   "execution_count": 26,
   "metadata": {},
   "outputs": [
    {
     "data": {
      "text/html": [
       "<div>\n",
       "<style scoped>\n",
       "    .dataframe tbody tr th:only-of-type {\n",
       "        vertical-align: middle;\n",
       "    }\n",
       "\n",
       "    .dataframe tbody tr th {\n",
       "        vertical-align: top;\n",
       "    }\n",
       "\n",
       "    .dataframe thead th {\n",
       "        text-align: right;\n",
       "    }\n",
       "</style>\n",
       "<table border=\"1\" class=\"dataframe\">\n",
       "  <thead>\n",
       "    <tr style=\"text-align: right;\">\n",
       "      <th></th>\n",
       "      <th>Province/State</th>\n",
       "      <th>Country/Region</th>\n",
       "      <th>Lat</th>\n",
       "      <th>Long</th>\n",
       "      <th>Date</th>\n",
       "      <th>Confirmed</th>\n",
       "      <th>Deaths</th>\n",
       "      <th>Recovered</th>\n",
       "      <th>Deaths to Confirmed</th>\n",
       "      <th>Recovered to Confirmed</th>\n",
       "    </tr>\n",
       "  </thead>\n",
       "  <tbody>\n",
       "    <tr>\n",
       "      <td>0</td>\n",
       "      <td>Anhui</td>\n",
       "      <td>China</td>\n",
       "      <td>31.82571</td>\n",
       "      <td>117.2264</td>\n",
       "      <td>2020-01-22</td>\n",
       "      <td>1</td>\n",
       "      <td>0</td>\n",
       "      <td>0.0</td>\n",
       "      <td>0.0</td>\n",
       "      <td>0.0</td>\n",
       "    </tr>\n",
       "    <tr>\n",
       "      <td>1</td>\n",
       "      <td>Beijing</td>\n",
       "      <td>China</td>\n",
       "      <td>40.18238</td>\n",
       "      <td>116.4142</td>\n",
       "      <td>2020-01-22</td>\n",
       "      <td>14</td>\n",
       "      <td>0</td>\n",
       "      <td>0.0</td>\n",
       "      <td>0.0</td>\n",
       "      <td>0.0</td>\n",
       "    </tr>\n",
       "    <tr>\n",
       "      <td>2</td>\n",
       "      <td>Chongqing</td>\n",
       "      <td>China</td>\n",
       "      <td>30.05718</td>\n",
       "      <td>107.8740</td>\n",
       "      <td>2020-01-22</td>\n",
       "      <td>6</td>\n",
       "      <td>0</td>\n",
       "      <td>0.0</td>\n",
       "      <td>0.0</td>\n",
       "      <td>0.0</td>\n",
       "    </tr>\n",
       "    <tr>\n",
       "      <td>3</td>\n",
       "      <td>Fujian</td>\n",
       "      <td>China</td>\n",
       "      <td>26.07783</td>\n",
       "      <td>117.9895</td>\n",
       "      <td>2020-01-22</td>\n",
       "      <td>1</td>\n",
       "      <td>0</td>\n",
       "      <td>0.0</td>\n",
       "      <td>0.0</td>\n",
       "      <td>0.0</td>\n",
       "    </tr>\n",
       "    <tr>\n",
       "      <td>4</td>\n",
       "      <td>Gansu</td>\n",
       "      <td>China</td>\n",
       "      <td>36.06110</td>\n",
       "      <td>103.8343</td>\n",
       "      <td>2020-01-22</td>\n",
       "      <td>0</td>\n",
       "      <td>0</td>\n",
       "      <td>0.0</td>\n",
       "      <td>NaN</td>\n",
       "      <td>NaN</td>\n",
       "    </tr>\n",
       "  </tbody>\n",
       "</table>\n",
       "</div>"
      ],
      "text/plain": [
       "  Province/State Country/Region       Lat      Long       Date  Confirmed  \\\n",
       "0          Anhui          China  31.82571  117.2264 2020-01-22          1   \n",
       "1        Beijing          China  40.18238  116.4142 2020-01-22         14   \n",
       "2      Chongqing          China  30.05718  107.8740 2020-01-22          6   \n",
       "3         Fujian          China  26.07783  117.9895 2020-01-22          1   \n",
       "4          Gansu          China  36.06110  103.8343 2020-01-22          0   \n",
       "\n",
       "   Deaths  Recovered  Deaths to Confirmed  Recovered to Confirmed  \n",
       "0       0        0.0                  0.0                     0.0  \n",
       "1       0        0.0                  0.0                     0.0  \n",
       "2       0        0.0                  0.0                     0.0  \n",
       "3       0        0.0                  0.0                     0.0  \n",
       "4       0        0.0                  NaN                     NaN  "
      ]
     },
     "execution_count": 26,
     "metadata": {},
     "output_type": "execute_result"
    }
   ],
   "source": [
    "# replacing Mainland china with China\n",
    "full_table['Country/Region'] = full_table['Country/Region'].replace('Mainland China', 'China')\n",
    "\n",
    "# filling missing values with 0 in columns ('Confirmed', 'Deaths', 'Recovered')\n",
    "full_table[['Confirmed', 'Deaths', 'Recovered']] = full_table[['Confirmed', 'Deaths', 'Recovered']].fillna(0)\n",
    "\n",
    "# adding two more columns\n",
    "full_table['Deaths to Confirmed'] = round(full_table['Deaths']/full_table['Confirmed'], 3)\n",
    "full_table['Recovered to Confirmed'] = round(full_table['Deaths']/full_table['Confirmed'], 3)\n",
    "\n",
    "# removing unwanted row for now\n",
    "full_table = full_table[full_table['Province/State']!='Diamond Princess cruise ship']\n",
    "\n",
    "full_table.head()"
   ]
  },
  {
   "cell_type": "code",
   "execution_count": 28,
   "metadata": {},
   "outputs": [],
   "source": [
    "china = full_table[full_table['Country/Region']=='China']\n",
    "row = full_table[full_table['Country/Region']!='China']\n",
    "\n",
    "full_latest = full_table[full_table['Date'] == max(full_table['Date'])].reset_index()\n",
    "china_latest = full_latest[full_latest['Country/Region']=='China']\n",
    "row_latest = full_latest[full_latest['Country/Region']!='China']\n",
    "\n",
    "full_latest_grouped = full_latest.groupby('Country/Region')['Confirmed', 'Deaths', 'Recovered'].sum().reset_index()\n",
    "china_latest_grouped = china_latest.groupby('Province/State')['Confirmed', 'Deaths', 'Recovered'].sum().reset_index()\n",
    "row_latest_grouped = row_latest.groupby('Country/Region')['Confirmed', 'Deaths', 'Recovered'].sum().reset_index()"
   ]
  },
  {
   "cell_type": "code",
   "execution_count": 30,
   "metadata": {},
   "outputs": [
    {
     "name": "stdout",
     "output_type": "stream",
     "text": [
      "<class 'pandas.core.frame.DataFrame'>\n",
      "Int64Index: 1924 entries, 0 to 1949\n",
      "Data columns (total 10 columns):\n",
      "Province/State            1352 non-null object\n",
      "Country/Region            1924 non-null object\n",
      "Lat                       1924 non-null float64\n",
      "Long                      1924 non-null float64\n",
      "Date                      1924 non-null datetime64[ns]\n",
      "Confirmed                 1924 non-null int64\n",
      "Deaths                    1924 non-null int64\n",
      "Recovered                 1924 non-null float64\n",
      "Deaths to Confirmed       1623 non-null float64\n",
      "Recovered to Confirmed    1623 non-null float64\n",
      "dtypes: datetime64[ns](1), float64(5), int64(2), object(2)\n",
      "memory usage: 165.3+ KB\n"
     ]
    }
   ],
   "source": [
    " full_table.info()"
   ]
  },
  {
   "cell_type": "markdown",
   "metadata": {},
   "source": [
    "# EDA"
   ]
  },
  {
   "cell_type": "code",
   "execution_count": 33,
   "metadata": {},
   "outputs": [
    {
     "data": {
      "text/html": [
       "<div>\n",
       "<style scoped>\n",
       "    .dataframe tbody tr th:only-of-type {\n",
       "        vertical-align: middle;\n",
       "    }\n",
       "\n",
       "    .dataframe tbody tr th {\n",
       "        vertical-align: top;\n",
       "    }\n",
       "\n",
       "    .dataframe thead th {\n",
       "        text-align: right;\n",
       "    }\n",
       "</style>\n",
       "<table border=\"1\" class=\"dataframe\">\n",
       "  <thead>\n",
       "    <tr style=\"text-align: right;\">\n",
       "      <th></th>\n",
       "      <th>Country/Region</th>\n",
       "      <th>Confirmed</th>\n",
       "    </tr>\n",
       "  </thead>\n",
       "  <tbody>\n",
       "    <tr>\n",
       "      <td>0</td>\n",
       "      <td>China</td>\n",
       "      <td>70446</td>\n",
       "    </tr>\n",
       "    <tr>\n",
       "      <td>1</td>\n",
       "      <td>Singapore</td>\n",
       "      <td>75</td>\n",
       "    </tr>\n",
       "    <tr>\n",
       "      <td>2</td>\n",
       "      <td>Japan</td>\n",
       "      <td>59</td>\n",
       "    </tr>\n",
       "    <tr>\n",
       "      <td>3</td>\n",
       "      <td>Hong Kong</td>\n",
       "      <td>57</td>\n",
       "    </tr>\n",
       "    <tr>\n",
       "      <td>4</td>\n",
       "      <td>Thailand</td>\n",
       "      <td>34</td>\n",
       "    </tr>\n",
       "  </tbody>\n",
       "</table>\n",
       "</div>"
      ],
      "text/plain": [
       "  Country/Region  Confirmed\n",
       "0          China      70446\n",
       "1      Singapore         75\n",
       "2          Japan         59\n",
       "3      Hong Kong         57\n",
       "4       Thailand         34"
      ]
     },
     "execution_count": 33,
     "metadata": {},
     "output_type": "execute_result"
    }
   ],
   "source": [
    "# Countries with most reported cases\n",
    "temp_f = full_latest_grouped[['Country/Region', 'Confirmed']].sort_values(by='Confirmed', ascending=False).reset_index(drop=True)\n",
    "temp_f.head()#.style.background_gradient(cmap='Pastel1_r')"
   ]
  },
  {
   "cell_type": "markdown",
   "metadata": {},
   "source": [
    "Massive number of cases are reported in Mainland China Compared to reset of the world\n",
    "The next few countries are infact are the neighbours of China\n"
   ]
  },
  {
   "cell_type": "code",
   "execution_count": 35,
   "metadata": {},
   "outputs": [
    {
     "name": "stdout",
     "output_type": "stream",
     "text": [
      "29\n"
     ]
    }
   ],
   "source": [
    "# Number of Countries/Regions to which COVID-19 spread\n",
    "print(len(temp_f))"
   ]
  },
  {
   "cell_type": "code",
   "execution_count": 38,
   "metadata": {},
   "outputs": [
    {
     "data": {
      "text/html": [
       "<div>\n",
       "<style scoped>\n",
       "    .dataframe tbody tr th:only-of-type {\n",
       "        vertical-align: middle;\n",
       "    }\n",
       "\n",
       "    .dataframe tbody tr th {\n",
       "        vertical-align: top;\n",
       "    }\n",
       "\n",
       "    .dataframe thead th {\n",
       "        text-align: right;\n",
       "    }\n",
       "</style>\n",
       "<table border=\"1\" class=\"dataframe\">\n",
       "  <thead>\n",
       "    <tr style=\"text-align: right;\">\n",
       "      <th></th>\n",
       "      <th>Province/State</th>\n",
       "      <th>Confirmed</th>\n",
       "    </tr>\n",
       "  </thead>\n",
       "  <tbody>\n",
       "    <tr>\n",
       "      <td>0</td>\n",
       "      <td>Hubei</td>\n",
       "      <td>58182</td>\n",
       "    </tr>\n",
       "    <tr>\n",
       "      <td>1</td>\n",
       "      <td>Guangdong</td>\n",
       "      <td>1316</td>\n",
       "    </tr>\n",
       "    <tr>\n",
       "      <td>2</td>\n",
       "      <td>Henan</td>\n",
       "      <td>1231</td>\n",
       "    </tr>\n",
       "    <tr>\n",
       "      <td>3</td>\n",
       "      <td>Zhejiang</td>\n",
       "      <td>1167</td>\n",
       "    </tr>\n",
       "    <tr>\n",
       "      <td>4</td>\n",
       "      <td>Hunan</td>\n",
       "      <td>1004</td>\n",
       "    </tr>\n",
       "  </tbody>\n",
       "</table>\n",
       "</div>"
      ],
      "text/plain": [
       "  Province/State  Confirmed\n",
       "0          Hubei      58182\n",
       "1      Guangdong       1316\n",
       "2          Henan       1231\n",
       "3       Zhejiang       1167\n",
       "4          Hunan       1004"
      ]
     },
     "execution_count": 38,
     "metadata": {},
     "output_type": "execute_result"
    }
   ],
   "source": [
    "# Provinces in China with most reported cases\n",
    "temp_c = china_latest_grouped[['Province/State', 'Confirmed']].sort_values(by='Confirmed', ascending=False).reset_index(drop=True)\n",
    "temp_c.head()#.style.background_gradient(cmap='Pastel1_r')"
   ]
  },
  {
   "cell_type": "markdown",
   "metadata": {},
   "source": [
    "Even in china most of the cases reported are from a particular Province Hubei.\n",
    "It is no surprise, because Hubei's capital is Wuhan, where the the first cases are reported."
   ]
  },
  {
   "cell_type": "code",
   "execution_count": 40,
   "metadata": {},
   "outputs": [
    {
     "data": {
      "text/plain": [
       "31"
      ]
     },
     "execution_count": 40,
     "metadata": {},
     "output_type": "execute_result"
    }
   ],
   "source": [
    "# Number of Province/State in Mainland China to which COVID-19 spread\n",
    "len(temp_c)"
   ]
  },
  {
   "cell_type": "code",
   "execution_count": 44,
   "metadata": {},
   "outputs": [
    {
     "data": {
      "text/html": [
       "<style  type=\"text/css\" >\n",
       "    #T_afb8d4de_5196_11ea_970b_54137990732erow0_col1 {\n",
       "            background-color:  #fbb4ae;\n",
       "            color:  #000000;\n",
       "        }    #T_afb8d4de_5196_11ea_970b_54137990732erow1_col1 {\n",
       "            background-color:  #f2f2f2;\n",
       "            color:  #000000;\n",
       "        }    #T_afb8d4de_5196_11ea_970b_54137990732erow2_col1 {\n",
       "            background-color:  #f2f2f2;\n",
       "            color:  #000000;\n",
       "        }    #T_afb8d4de_5196_11ea_970b_54137990732erow3_col1 {\n",
       "            background-color:  #f2f2f2;\n",
       "            color:  #000000;\n",
       "        }    #T_afb8d4de_5196_11ea_970b_54137990732erow4_col1 {\n",
       "            background-color:  #f2f2f2;\n",
       "            color:  #000000;\n",
       "        }    #T_afb8d4de_5196_11ea_970b_54137990732erow5_col1 {\n",
       "            background-color:  #f2f2f2;\n",
       "            color:  #000000;\n",
       "        }</style><table id=\"T_afb8d4de_5196_11ea_970b_54137990732e\" ><thead>    <tr>        <th class=\"blank level0\" ></th>        <th class=\"col_heading level0 col0\" >Country/Region</th>        <th class=\"col_heading level0 col1\" >Deaths</th>    </tr></thead><tbody>\n",
       "                <tr>\n",
       "                        <th id=\"T_afb8d4de_5196_11ea_970b_54137990732elevel0_row0\" class=\"row_heading level0 row0\" >0</th>\n",
       "                        <td id=\"T_afb8d4de_5196_11ea_970b_54137990732erow0_col0\" class=\"data row0 col0\" >China</td>\n",
       "                        <td id=\"T_afb8d4de_5196_11ea_970b_54137990732erow0_col1\" class=\"data row0 col1\" >1765</td>\n",
       "            </tr>\n",
       "            <tr>\n",
       "                        <th id=\"T_afb8d4de_5196_11ea_970b_54137990732elevel0_row1\" class=\"row_heading level0 row1\" >1</th>\n",
       "                        <td id=\"T_afb8d4de_5196_11ea_970b_54137990732erow1_col0\" class=\"data row1 col0\" >Taiwan</td>\n",
       "                        <td id=\"T_afb8d4de_5196_11ea_970b_54137990732erow1_col1\" class=\"data row1 col1\" >1</td>\n",
       "            </tr>\n",
       "            <tr>\n",
       "                        <th id=\"T_afb8d4de_5196_11ea_970b_54137990732elevel0_row2\" class=\"row_heading level0 row2\" >2</th>\n",
       "                        <td id=\"T_afb8d4de_5196_11ea_970b_54137990732erow2_col0\" class=\"data row2 col0\" >France</td>\n",
       "                        <td id=\"T_afb8d4de_5196_11ea_970b_54137990732erow2_col1\" class=\"data row2 col1\" >1</td>\n",
       "            </tr>\n",
       "            <tr>\n",
       "                        <th id=\"T_afb8d4de_5196_11ea_970b_54137990732elevel0_row3\" class=\"row_heading level0 row3\" >3</th>\n",
       "                        <td id=\"T_afb8d4de_5196_11ea_970b_54137990732erow3_col0\" class=\"data row3 col0\" >Japan</td>\n",
       "                        <td id=\"T_afb8d4de_5196_11ea_970b_54137990732erow3_col1\" class=\"data row3 col1\" >1</td>\n",
       "            </tr>\n",
       "            <tr>\n",
       "                        <th id=\"T_afb8d4de_5196_11ea_970b_54137990732elevel0_row4\" class=\"row_heading level0 row4\" >4</th>\n",
       "                        <td id=\"T_afb8d4de_5196_11ea_970b_54137990732erow4_col0\" class=\"data row4 col0\" >Hong Kong</td>\n",
       "                        <td id=\"T_afb8d4de_5196_11ea_970b_54137990732erow4_col1\" class=\"data row4 col1\" >1</td>\n",
       "            </tr>\n",
       "            <tr>\n",
       "                        <th id=\"T_afb8d4de_5196_11ea_970b_54137990732elevel0_row5\" class=\"row_heading level0 row5\" >5</th>\n",
       "                        <td id=\"T_afb8d4de_5196_11ea_970b_54137990732erow5_col0\" class=\"data row5 col0\" >Philippines</td>\n",
       "                        <td id=\"T_afb8d4de_5196_11ea_970b_54137990732erow5_col1\" class=\"data row5 col1\" >1</td>\n",
       "            </tr>\n",
       "    </tbody></table>"
      ],
      "text/plain": [
       "<pandas.io.formats.style.Styler at 0x1ab76d2b488>"
      ]
     },
     "execution_count": 44,
     "metadata": {},
     "output_type": "execute_result"
    }
   ],
   "source": [
    "# Countries with deaths reported\n",
    "\n",
    "temp_flg = full_latest_grouped[['Country/Region', 'Deaths']].sort_values(by='Deaths', ascending=False).reset_index(drop=True)\n",
    "temp_flg = temp_flg[temp_flg['Deaths']>0]\n",
    "temp_flg.style.background_gradient(cmap='Pastel1_r')"
   ]
  },
  {
   "cell_type": "markdown",
   "metadata": {},
   "source": [
    "Outside China, there hasn't been a lot of deaths due to COVID-19 has reported\n",
    "There are only 3 deaths reported outside China\n"
   ]
  },
  {
   "cell_type": "code",
   "execution_count": 46,
   "metadata": {},
   "outputs": [
    {
     "data": {
      "text/html": [
       "<div>\n",
       "<style scoped>\n",
       "    .dataframe tbody tr th:only-of-type {\n",
       "        vertical-align: middle;\n",
       "    }\n",
       "\n",
       "    .dataframe tbody tr th {\n",
       "        vertical-align: top;\n",
       "    }\n",
       "\n",
       "    .dataframe thead th {\n",
       "        text-align: right;\n",
       "    }\n",
       "</style>\n",
       "<table border=\"1\" class=\"dataframe\">\n",
       "  <thead>\n",
       "    <tr style=\"text-align: right;\">\n",
       "      <th></th>\n",
       "      <th>Deaths</th>\n",
       "      <th>Recovered</th>\n",
       "    </tr>\n",
       "  </thead>\n",
       "  <tbody>\n",
       "    <tr>\n",
       "      <td>25</td>\n",
       "      <td>1770</td>\n",
       "      <td>10865.0</td>\n",
       "    </tr>\n",
       "  </tbody>\n",
       "</table>\n",
       "</div>"
      ],
      "text/plain": [
       "    Deaths  Recovered\n",
       "25    1770    10865.0"
      ]
     },
     "execution_count": 46,
     "metadata": {},
     "output_type": "execute_result"
    }
   ],
   "source": [
    "# Deaths to recoverd ratios\n",
    "\n",
    "deaths_to_recovered = full_table.groupby('Date')['Deaths', 'Recovered'].sum().reset_index().sort_values('Date')\n",
    "deaths_to_recovered['Ratio'] = deaths_to_recovered['Deaths']/deaths_to_recovered['Recovered']*100\n",
    "deaths_to_recovered[['Deaths', 'Recovered']].tail(1)#.style.background_gradient(cmap='Pastel1')"
   ]
  },
  {
   "cell_type": "markdown",
   "metadata": {},
   "source": [
    "There are more recovered cases than deaths at this point of time"
   ]
  },
  {
   "cell_type": "markdown",
   "metadata": {},
   "source": [
    "# Visual EDA\n"
   ]
  },
  {
   "cell_type": "code",
   "execution_count": 48,
   "metadata": {},
   "outputs": [
    {
     "data": {
      "application/vnd.plotly.v1+json": {
       "config": {
        "plotlyServerURL": "https://plot.ly"
       },
       "data": [
        {
         "coloraxis": "coloraxis",
         "geo": "geo",
         "hoverlabel": {
          "namelength": 0
         },
         "hovertemplate": "<b>%{hovertext}</b><br><br>Country/Region=%{location}<br>Confirmed=%{z}",
         "hovertext": [
          "Australia",
          "Belgium",
          "Cambodia",
          "Canada",
          "China",
          "Egypt",
          "Finland",
          "France",
          "Germany",
          "Hong Kong",
          "India",
          "Italy",
          "Japan",
          "Macau",
          "Malaysia",
          "Nepal",
          "Philippines",
          "Russia",
          "Singapore",
          "South Korea",
          "Spain",
          "Sri Lanka",
          "Sweden",
          "Taiwan",
          "Thailand",
          "UK",
          "US",
          "United Arab Emirates",
          "Vietnam"
         ],
         "locationmode": "country names",
         "locations": [
          "Australia",
          "Belgium",
          "Cambodia",
          "Canada",
          "China",
          "Egypt",
          "Finland",
          "France",
          "Germany",
          "Hong Kong",
          "India",
          "Italy",
          "Japan",
          "Macau",
          "Malaysia",
          "Nepal",
          "Philippines",
          "Russia",
          "Singapore",
          "South Korea",
          "Spain",
          "Sri Lanka",
          "Sweden",
          "Taiwan",
          "Thailand",
          "UK",
          "US",
          "United Arab Emirates",
          "Vietnam"
         ],
         "name": "",
         "type": "choropleth",
         "z": [
          15,
          1,
          1,
          7,
          70446,
          1,
          1,
          12,
          16,
          57,
          3,
          3,
          59,
          10,
          22,
          1,
          3,
          2,
          75,
          29,
          2,
          1,
          1,
          20,
          34,
          9,
          15,
          9,
          16
         ]
        }
       ],
       "layout": {
        "coloraxis": {
         "cmax": 50,
         "cmin": 1,
         "colorbar": {
          "title": {
           "text": "Confirmed"
          }
         },
         "colorscale": [
          [
           0,
           "rgb(252, 222, 156)"
          ],
          [
           0.16666666666666666,
           "rgb(250, 164, 118)"
          ],
          [
           0.3333333333333333,
           "rgb(240, 116, 110)"
          ],
          [
           0.5,
           "rgb(227, 79, 111)"
          ],
          [
           0.6666666666666666,
           "rgb(220, 57, 119)"
          ],
          [
           0.8333333333333334,
           "rgb(185, 37, 122)"
          ],
          [
           1,
           "rgb(124, 29, 111)"
          ]
         ],
         "showscale": false
        },
        "geo": {
         "center": {},
         "domain": {
          "x": [
           0,
           1
          ],
          "y": [
           0,
           1
          ]
         }
        },
        "legend": {
         "tracegroupgap": 0
        },
        "template": {
         "data": {
          "bar": [
           {
            "error_x": {
             "color": "#2a3f5f"
            },
            "error_y": {
             "color": "#2a3f5f"
            },
            "marker": {
             "line": {
              "color": "#E5ECF6",
              "width": 0.5
             }
            },
            "type": "bar"
           }
          ],
          "barpolar": [
           {
            "marker": {
             "line": {
              "color": "#E5ECF6",
              "width": 0.5
             }
            },
            "type": "barpolar"
           }
          ],
          "carpet": [
           {
            "aaxis": {
             "endlinecolor": "#2a3f5f",
             "gridcolor": "white",
             "linecolor": "white",
             "minorgridcolor": "white",
             "startlinecolor": "#2a3f5f"
            },
            "baxis": {
             "endlinecolor": "#2a3f5f",
             "gridcolor": "white",
             "linecolor": "white",
             "minorgridcolor": "white",
             "startlinecolor": "#2a3f5f"
            },
            "type": "carpet"
           }
          ],
          "choropleth": [
           {
            "colorbar": {
             "outlinewidth": 0,
             "ticks": ""
            },
            "type": "choropleth"
           }
          ],
          "contour": [
           {
            "colorbar": {
             "outlinewidth": 0,
             "ticks": ""
            },
            "colorscale": [
             [
              0,
              "#0d0887"
             ],
             [
              0.1111111111111111,
              "#46039f"
             ],
             [
              0.2222222222222222,
              "#7201a8"
             ],
             [
              0.3333333333333333,
              "#9c179e"
             ],
             [
              0.4444444444444444,
              "#bd3786"
             ],
             [
              0.5555555555555556,
              "#d8576b"
             ],
             [
              0.6666666666666666,
              "#ed7953"
             ],
             [
              0.7777777777777778,
              "#fb9f3a"
             ],
             [
              0.8888888888888888,
              "#fdca26"
             ],
             [
              1,
              "#f0f921"
             ]
            ],
            "type": "contour"
           }
          ],
          "contourcarpet": [
           {
            "colorbar": {
             "outlinewidth": 0,
             "ticks": ""
            },
            "type": "contourcarpet"
           }
          ],
          "heatmap": [
           {
            "colorbar": {
             "outlinewidth": 0,
             "ticks": ""
            },
            "colorscale": [
             [
              0,
              "#0d0887"
             ],
             [
              0.1111111111111111,
              "#46039f"
             ],
             [
              0.2222222222222222,
              "#7201a8"
             ],
             [
              0.3333333333333333,
              "#9c179e"
             ],
             [
              0.4444444444444444,
              "#bd3786"
             ],
             [
              0.5555555555555556,
              "#d8576b"
             ],
             [
              0.6666666666666666,
              "#ed7953"
             ],
             [
              0.7777777777777778,
              "#fb9f3a"
             ],
             [
              0.8888888888888888,
              "#fdca26"
             ],
             [
              1,
              "#f0f921"
             ]
            ],
            "type": "heatmap"
           }
          ],
          "heatmapgl": [
           {
            "colorbar": {
             "outlinewidth": 0,
             "ticks": ""
            },
            "colorscale": [
             [
              0,
              "#0d0887"
             ],
             [
              0.1111111111111111,
              "#46039f"
             ],
             [
              0.2222222222222222,
              "#7201a8"
             ],
             [
              0.3333333333333333,
              "#9c179e"
             ],
             [
              0.4444444444444444,
              "#bd3786"
             ],
             [
              0.5555555555555556,
              "#d8576b"
             ],
             [
              0.6666666666666666,
              "#ed7953"
             ],
             [
              0.7777777777777778,
              "#fb9f3a"
             ],
             [
              0.8888888888888888,
              "#fdca26"
             ],
             [
              1,
              "#f0f921"
             ]
            ],
            "type": "heatmapgl"
           }
          ],
          "histogram": [
           {
            "marker": {
             "colorbar": {
              "outlinewidth": 0,
              "ticks": ""
             }
            },
            "type": "histogram"
           }
          ],
          "histogram2d": [
           {
            "colorbar": {
             "outlinewidth": 0,
             "ticks": ""
            },
            "colorscale": [
             [
              0,
              "#0d0887"
             ],
             [
              0.1111111111111111,
              "#46039f"
             ],
             [
              0.2222222222222222,
              "#7201a8"
             ],
             [
              0.3333333333333333,
              "#9c179e"
             ],
             [
              0.4444444444444444,
              "#bd3786"
             ],
             [
              0.5555555555555556,
              "#d8576b"
             ],
             [
              0.6666666666666666,
              "#ed7953"
             ],
             [
              0.7777777777777778,
              "#fb9f3a"
             ],
             [
              0.8888888888888888,
              "#fdca26"
             ],
             [
              1,
              "#f0f921"
             ]
            ],
            "type": "histogram2d"
           }
          ],
          "histogram2dcontour": [
           {
            "colorbar": {
             "outlinewidth": 0,
             "ticks": ""
            },
            "colorscale": [
             [
              0,
              "#0d0887"
             ],
             [
              0.1111111111111111,
              "#46039f"
             ],
             [
              0.2222222222222222,
              "#7201a8"
             ],
             [
              0.3333333333333333,
              "#9c179e"
             ],
             [
              0.4444444444444444,
              "#bd3786"
             ],
             [
              0.5555555555555556,
              "#d8576b"
             ],
             [
              0.6666666666666666,
              "#ed7953"
             ],
             [
              0.7777777777777778,
              "#fb9f3a"
             ],
             [
              0.8888888888888888,
              "#fdca26"
             ],
             [
              1,
              "#f0f921"
             ]
            ],
            "type": "histogram2dcontour"
           }
          ],
          "mesh3d": [
           {
            "colorbar": {
             "outlinewidth": 0,
             "ticks": ""
            },
            "type": "mesh3d"
           }
          ],
          "parcoords": [
           {
            "line": {
             "colorbar": {
              "outlinewidth": 0,
              "ticks": ""
             }
            },
            "type": "parcoords"
           }
          ],
          "pie": [
           {
            "automargin": true,
            "type": "pie"
           }
          ],
          "scatter": [
           {
            "marker": {
             "colorbar": {
              "outlinewidth": 0,
              "ticks": ""
             }
            },
            "type": "scatter"
           }
          ],
          "scatter3d": [
           {
            "line": {
             "colorbar": {
              "outlinewidth": 0,
              "ticks": ""
             }
            },
            "marker": {
             "colorbar": {
              "outlinewidth": 0,
              "ticks": ""
             }
            },
            "type": "scatter3d"
           }
          ],
          "scattercarpet": [
           {
            "marker": {
             "colorbar": {
              "outlinewidth": 0,
              "ticks": ""
             }
            },
            "type": "scattercarpet"
           }
          ],
          "scattergeo": [
           {
            "marker": {
             "colorbar": {
              "outlinewidth": 0,
              "ticks": ""
             }
            },
            "type": "scattergeo"
           }
          ],
          "scattergl": [
           {
            "marker": {
             "colorbar": {
              "outlinewidth": 0,
              "ticks": ""
             }
            },
            "type": "scattergl"
           }
          ],
          "scattermapbox": [
           {
            "marker": {
             "colorbar": {
              "outlinewidth": 0,
              "ticks": ""
             }
            },
            "type": "scattermapbox"
           }
          ],
          "scatterpolar": [
           {
            "marker": {
             "colorbar": {
              "outlinewidth": 0,
              "ticks": ""
             }
            },
            "type": "scatterpolar"
           }
          ],
          "scatterpolargl": [
           {
            "marker": {
             "colorbar": {
              "outlinewidth": 0,
              "ticks": ""
             }
            },
            "type": "scatterpolargl"
           }
          ],
          "scatterternary": [
           {
            "marker": {
             "colorbar": {
              "outlinewidth": 0,
              "ticks": ""
             }
            },
            "type": "scatterternary"
           }
          ],
          "surface": [
           {
            "colorbar": {
             "outlinewidth": 0,
             "ticks": ""
            },
            "colorscale": [
             [
              0,
              "#0d0887"
             ],
             [
              0.1111111111111111,
              "#46039f"
             ],
             [
              0.2222222222222222,
              "#7201a8"
             ],
             [
              0.3333333333333333,
              "#9c179e"
             ],
             [
              0.4444444444444444,
              "#bd3786"
             ],
             [
              0.5555555555555556,
              "#d8576b"
             ],
             [
              0.6666666666666666,
              "#ed7953"
             ],
             [
              0.7777777777777778,
              "#fb9f3a"
             ],
             [
              0.8888888888888888,
              "#fdca26"
             ],
             [
              1,
              "#f0f921"
             ]
            ],
            "type": "surface"
           }
          ],
          "table": [
           {
            "cells": {
             "fill": {
              "color": "#EBF0F8"
             },
             "line": {
              "color": "white"
             }
            },
            "header": {
             "fill": {
              "color": "#C8D4E3"
             },
             "line": {
              "color": "white"
             }
            },
            "type": "table"
           }
          ]
         },
         "layout": {
          "annotationdefaults": {
           "arrowcolor": "#2a3f5f",
           "arrowhead": 0,
           "arrowwidth": 1
          },
          "coloraxis": {
           "colorbar": {
            "outlinewidth": 0,
            "ticks": ""
           }
          },
          "colorscale": {
           "diverging": [
            [
             0,
             "#8e0152"
            ],
            [
             0.1,
             "#c51b7d"
            ],
            [
             0.2,
             "#de77ae"
            ],
            [
             0.3,
             "#f1b6da"
            ],
            [
             0.4,
             "#fde0ef"
            ],
            [
             0.5,
             "#f7f7f7"
            ],
            [
             0.6,
             "#e6f5d0"
            ],
            [
             0.7,
             "#b8e186"
            ],
            [
             0.8,
             "#7fbc41"
            ],
            [
             0.9,
             "#4d9221"
            ],
            [
             1,
             "#276419"
            ]
           ],
           "sequential": [
            [
             0,
             "#0d0887"
            ],
            [
             0.1111111111111111,
             "#46039f"
            ],
            [
             0.2222222222222222,
             "#7201a8"
            ],
            [
             0.3333333333333333,
             "#9c179e"
            ],
            [
             0.4444444444444444,
             "#bd3786"
            ],
            [
             0.5555555555555556,
             "#d8576b"
            ],
            [
             0.6666666666666666,
             "#ed7953"
            ],
            [
             0.7777777777777778,
             "#fb9f3a"
            ],
            [
             0.8888888888888888,
             "#fdca26"
            ],
            [
             1,
             "#f0f921"
            ]
           ],
           "sequentialminus": [
            [
             0,
             "#0d0887"
            ],
            [
             0.1111111111111111,
             "#46039f"
            ],
            [
             0.2222222222222222,
             "#7201a8"
            ],
            [
             0.3333333333333333,
             "#9c179e"
            ],
            [
             0.4444444444444444,
             "#bd3786"
            ],
            [
             0.5555555555555556,
             "#d8576b"
            ],
            [
             0.6666666666666666,
             "#ed7953"
            ],
            [
             0.7777777777777778,
             "#fb9f3a"
            ],
            [
             0.8888888888888888,
             "#fdca26"
            ],
            [
             1,
             "#f0f921"
            ]
           ]
          },
          "colorway": [
           "#636efa",
           "#EF553B",
           "#00cc96",
           "#ab63fa",
           "#FFA15A",
           "#19d3f3",
           "#FF6692",
           "#B6E880",
           "#FF97FF",
           "#FECB52"
          ],
          "font": {
           "color": "#2a3f5f"
          },
          "geo": {
           "bgcolor": "white",
           "lakecolor": "white",
           "landcolor": "#E5ECF6",
           "showlakes": true,
           "showland": true,
           "subunitcolor": "white"
          },
          "hoverlabel": {
           "align": "left"
          },
          "hovermode": "closest",
          "mapbox": {
           "style": "light"
          },
          "paper_bgcolor": "white",
          "plot_bgcolor": "#E5ECF6",
          "polar": {
           "angularaxis": {
            "gridcolor": "white",
            "linecolor": "white",
            "ticks": ""
           },
           "bgcolor": "#E5ECF6",
           "radialaxis": {
            "gridcolor": "white",
            "linecolor": "white",
            "ticks": ""
           }
          },
          "scene": {
           "xaxis": {
            "backgroundcolor": "#E5ECF6",
            "gridcolor": "white",
            "gridwidth": 2,
            "linecolor": "white",
            "showbackground": true,
            "ticks": "",
            "zerolinecolor": "white"
           },
           "yaxis": {
            "backgroundcolor": "#E5ECF6",
            "gridcolor": "white",
            "gridwidth": 2,
            "linecolor": "white",
            "showbackground": true,
            "ticks": "",
            "zerolinecolor": "white"
           },
           "zaxis": {
            "backgroundcolor": "#E5ECF6",
            "gridcolor": "white",
            "gridwidth": 2,
            "linecolor": "white",
            "showbackground": true,
            "ticks": "",
            "zerolinecolor": "white"
           }
          },
          "shapedefaults": {
           "line": {
            "color": "#2a3f5f"
           }
          },
          "ternary": {
           "aaxis": {
            "gridcolor": "white",
            "linecolor": "white",
            "ticks": ""
           },
           "baxis": {
            "gridcolor": "white",
            "linecolor": "white",
            "ticks": ""
           },
           "bgcolor": "#E5ECF6",
           "caxis": {
            "gridcolor": "white",
            "linecolor": "white",
            "ticks": ""
           }
          },
          "title": {
           "x": 0.05
          },
          "xaxis": {
           "automargin": true,
           "gridcolor": "white",
           "linecolor": "white",
           "ticks": "",
           "title": {
            "standoff": 15
           },
           "zerolinecolor": "white",
           "zerolinewidth": 2
          },
          "yaxis": {
           "automargin": true,
           "gridcolor": "white",
           "linecolor": "white",
           "ticks": "",
           "title": {
            "standoff": 15
           },
           "zerolinecolor": "white",
           "zerolinewidth": 2
          }
         }
        },
        "title": {
         "text": "Countries with Confirmed Cases"
        }
       }
      },
      "text/html": [
       "<div>\n",
       "        \n",
       "        \n",
       "            <div id=\"2847b4fc-1aca-449e-880d-d847cfdb394b\" class=\"plotly-graph-div\" style=\"height:525px; width:100%;\"></div>\n",
       "            <script type=\"text/javascript\">\n",
       "                require([\"plotly\"], function(Plotly) {\n",
       "                    window.PLOTLYENV=window.PLOTLYENV || {};\n",
       "                    \n",
       "                if (document.getElementById(\"2847b4fc-1aca-449e-880d-d847cfdb394b\")) {\n",
       "                    Plotly.newPlot(\n",
       "                        '2847b4fc-1aca-449e-880d-d847cfdb394b',\n",
       "                        [{\"coloraxis\": \"coloraxis\", \"geo\": \"geo\", \"hoverlabel\": {\"namelength\": 0}, \"hovertemplate\": \"<b>%{hovertext}</b><br><br>Country/Region=%{location}<br>Confirmed=%{z}\", \"hovertext\": [\"Australia\", \"Belgium\", \"Cambodia\", \"Canada\", \"China\", \"Egypt\", \"Finland\", \"France\", \"Germany\", \"Hong Kong\", \"India\", \"Italy\", \"Japan\", \"Macau\", \"Malaysia\", \"Nepal\", \"Philippines\", \"Russia\", \"Singapore\", \"South Korea\", \"Spain\", \"Sri Lanka\", \"Sweden\", \"Taiwan\", \"Thailand\", \"UK\", \"US\", \"United Arab Emirates\", \"Vietnam\"], \"locationmode\": \"country names\", \"locations\": [\"Australia\", \"Belgium\", \"Cambodia\", \"Canada\", \"China\", \"Egypt\", \"Finland\", \"France\", \"Germany\", \"Hong Kong\", \"India\", \"Italy\", \"Japan\", \"Macau\", \"Malaysia\", \"Nepal\", \"Philippines\", \"Russia\", \"Singapore\", \"South Korea\", \"Spain\", \"Sri Lanka\", \"Sweden\", \"Taiwan\", \"Thailand\", \"UK\", \"US\", \"United Arab Emirates\", \"Vietnam\"], \"name\": \"\", \"type\": \"choropleth\", \"z\": [15, 1, 1, 7, 70446, 1, 1, 12, 16, 57, 3, 3, 59, 10, 22, 1, 3, 2, 75, 29, 2, 1, 1, 20, 34, 9, 15, 9, 16]}],\n",
       "                        {\"coloraxis\": {\"cmax\": 50, \"cmin\": 1, \"colorbar\": {\"title\": {\"text\": \"Confirmed\"}}, \"colorscale\": [[0.0, \"rgb(252, 222, 156)\"], [0.16666666666666666, \"rgb(250, 164, 118)\"], [0.3333333333333333, \"rgb(240, 116, 110)\"], [0.5, \"rgb(227, 79, 111)\"], [0.6666666666666666, \"rgb(220, 57, 119)\"], [0.8333333333333334, \"rgb(185, 37, 122)\"], [1.0, \"rgb(124, 29, 111)\"]], \"showscale\": false}, \"geo\": {\"center\": {}, \"domain\": {\"x\": [0.0, 1.0], \"y\": [0.0, 1.0]}}, \"legend\": {\"tracegroupgap\": 0}, \"template\": {\"data\": {\"bar\": [{\"error_x\": {\"color\": \"#2a3f5f\"}, \"error_y\": {\"color\": \"#2a3f5f\"}, \"marker\": {\"line\": {\"color\": \"#E5ECF6\", \"width\": 0.5}}, \"type\": \"bar\"}], \"barpolar\": [{\"marker\": {\"line\": {\"color\": \"#E5ECF6\", \"width\": 0.5}}, \"type\": \"barpolar\"}], \"carpet\": [{\"aaxis\": {\"endlinecolor\": \"#2a3f5f\", \"gridcolor\": \"white\", \"linecolor\": \"white\", \"minorgridcolor\": \"white\", \"startlinecolor\": \"#2a3f5f\"}, \"baxis\": {\"endlinecolor\": \"#2a3f5f\", \"gridcolor\": \"white\", \"linecolor\": \"white\", \"minorgridcolor\": \"white\", \"startlinecolor\": \"#2a3f5f\"}, \"type\": \"carpet\"}], \"choropleth\": [{\"colorbar\": {\"outlinewidth\": 0, \"ticks\": \"\"}, \"type\": \"choropleth\"}], \"contour\": [{\"colorbar\": {\"outlinewidth\": 0, \"ticks\": \"\"}, \"colorscale\": [[0.0, \"#0d0887\"], [0.1111111111111111, \"#46039f\"], [0.2222222222222222, \"#7201a8\"], [0.3333333333333333, \"#9c179e\"], [0.4444444444444444, \"#bd3786\"], [0.5555555555555556, \"#d8576b\"], [0.6666666666666666, \"#ed7953\"], [0.7777777777777778, \"#fb9f3a\"], [0.8888888888888888, \"#fdca26\"], [1.0, \"#f0f921\"]], \"type\": \"contour\"}], \"contourcarpet\": [{\"colorbar\": {\"outlinewidth\": 0, \"ticks\": \"\"}, \"type\": \"contourcarpet\"}], \"heatmap\": [{\"colorbar\": {\"outlinewidth\": 0, \"ticks\": \"\"}, \"colorscale\": [[0.0, \"#0d0887\"], [0.1111111111111111, \"#46039f\"], [0.2222222222222222, \"#7201a8\"], [0.3333333333333333, \"#9c179e\"], [0.4444444444444444, \"#bd3786\"], [0.5555555555555556, \"#d8576b\"], [0.6666666666666666, \"#ed7953\"], [0.7777777777777778, \"#fb9f3a\"], [0.8888888888888888, \"#fdca26\"], [1.0, \"#f0f921\"]], \"type\": \"heatmap\"}], \"heatmapgl\": [{\"colorbar\": {\"outlinewidth\": 0, \"ticks\": \"\"}, \"colorscale\": [[0.0, \"#0d0887\"], [0.1111111111111111, \"#46039f\"], [0.2222222222222222, \"#7201a8\"], [0.3333333333333333, \"#9c179e\"], [0.4444444444444444, \"#bd3786\"], [0.5555555555555556, \"#d8576b\"], [0.6666666666666666, \"#ed7953\"], [0.7777777777777778, \"#fb9f3a\"], [0.8888888888888888, \"#fdca26\"], [1.0, \"#f0f921\"]], \"type\": \"heatmapgl\"}], \"histogram\": [{\"marker\": {\"colorbar\": {\"outlinewidth\": 0, \"ticks\": \"\"}}, \"type\": \"histogram\"}], \"histogram2d\": [{\"colorbar\": {\"outlinewidth\": 0, \"ticks\": \"\"}, \"colorscale\": [[0.0, \"#0d0887\"], [0.1111111111111111, \"#46039f\"], [0.2222222222222222, \"#7201a8\"], [0.3333333333333333, \"#9c179e\"], [0.4444444444444444, \"#bd3786\"], [0.5555555555555556, \"#d8576b\"], [0.6666666666666666, \"#ed7953\"], [0.7777777777777778, \"#fb9f3a\"], [0.8888888888888888, \"#fdca26\"], [1.0, \"#f0f921\"]], \"type\": \"histogram2d\"}], \"histogram2dcontour\": [{\"colorbar\": {\"outlinewidth\": 0, \"ticks\": \"\"}, \"colorscale\": [[0.0, \"#0d0887\"], [0.1111111111111111, \"#46039f\"], [0.2222222222222222, \"#7201a8\"], [0.3333333333333333, \"#9c179e\"], [0.4444444444444444, \"#bd3786\"], [0.5555555555555556, \"#d8576b\"], [0.6666666666666666, \"#ed7953\"], [0.7777777777777778, \"#fb9f3a\"], [0.8888888888888888, \"#fdca26\"], [1.0, \"#f0f921\"]], \"type\": \"histogram2dcontour\"}], \"mesh3d\": [{\"colorbar\": {\"outlinewidth\": 0, \"ticks\": \"\"}, \"type\": \"mesh3d\"}], \"parcoords\": [{\"line\": {\"colorbar\": {\"outlinewidth\": 0, \"ticks\": \"\"}}, \"type\": \"parcoords\"}], \"pie\": [{\"automargin\": true, \"type\": \"pie\"}], \"scatter\": [{\"marker\": {\"colorbar\": {\"outlinewidth\": 0, \"ticks\": \"\"}}, \"type\": \"scatter\"}], \"scatter3d\": [{\"line\": {\"colorbar\": {\"outlinewidth\": 0, \"ticks\": \"\"}}, \"marker\": {\"colorbar\": {\"outlinewidth\": 0, \"ticks\": \"\"}}, \"type\": \"scatter3d\"}], \"scattercarpet\": [{\"marker\": {\"colorbar\": {\"outlinewidth\": 0, \"ticks\": \"\"}}, \"type\": \"scattercarpet\"}], \"scattergeo\": [{\"marker\": {\"colorbar\": {\"outlinewidth\": 0, \"ticks\": \"\"}}, \"type\": \"scattergeo\"}], \"scattergl\": [{\"marker\": {\"colorbar\": {\"outlinewidth\": 0, \"ticks\": \"\"}}, \"type\": \"scattergl\"}], \"scattermapbox\": [{\"marker\": {\"colorbar\": {\"outlinewidth\": 0, \"ticks\": \"\"}}, \"type\": \"scattermapbox\"}], \"scatterpolar\": [{\"marker\": {\"colorbar\": {\"outlinewidth\": 0, \"ticks\": \"\"}}, \"type\": \"scatterpolar\"}], \"scatterpolargl\": [{\"marker\": {\"colorbar\": {\"outlinewidth\": 0, \"ticks\": \"\"}}, \"type\": \"scatterpolargl\"}], \"scatterternary\": [{\"marker\": {\"colorbar\": {\"outlinewidth\": 0, \"ticks\": \"\"}}, \"type\": \"scatterternary\"}], \"surface\": [{\"colorbar\": {\"outlinewidth\": 0, \"ticks\": \"\"}, \"colorscale\": [[0.0, \"#0d0887\"], [0.1111111111111111, \"#46039f\"], [0.2222222222222222, \"#7201a8\"], [0.3333333333333333, \"#9c179e\"], [0.4444444444444444, \"#bd3786\"], [0.5555555555555556, \"#d8576b\"], [0.6666666666666666, \"#ed7953\"], [0.7777777777777778, \"#fb9f3a\"], [0.8888888888888888, \"#fdca26\"], [1.0, \"#f0f921\"]], \"type\": \"surface\"}], \"table\": [{\"cells\": {\"fill\": {\"color\": \"#EBF0F8\"}, \"line\": {\"color\": \"white\"}}, \"header\": {\"fill\": {\"color\": \"#C8D4E3\"}, \"line\": {\"color\": \"white\"}}, \"type\": \"table\"}]}, \"layout\": {\"annotationdefaults\": {\"arrowcolor\": \"#2a3f5f\", \"arrowhead\": 0, \"arrowwidth\": 1}, \"coloraxis\": {\"colorbar\": {\"outlinewidth\": 0, \"ticks\": \"\"}}, \"colorscale\": {\"diverging\": [[0, \"#8e0152\"], [0.1, \"#c51b7d\"], [0.2, \"#de77ae\"], [0.3, \"#f1b6da\"], [0.4, \"#fde0ef\"], [0.5, \"#f7f7f7\"], [0.6, \"#e6f5d0\"], [0.7, \"#b8e186\"], [0.8, \"#7fbc41\"], [0.9, \"#4d9221\"], [1, \"#276419\"]], \"sequential\": [[0.0, \"#0d0887\"], [0.1111111111111111, \"#46039f\"], [0.2222222222222222, \"#7201a8\"], [0.3333333333333333, \"#9c179e\"], [0.4444444444444444, \"#bd3786\"], [0.5555555555555556, \"#d8576b\"], [0.6666666666666666, \"#ed7953\"], [0.7777777777777778, \"#fb9f3a\"], [0.8888888888888888, \"#fdca26\"], [1.0, \"#f0f921\"]], \"sequentialminus\": [[0.0, \"#0d0887\"], [0.1111111111111111, \"#46039f\"], [0.2222222222222222, \"#7201a8\"], [0.3333333333333333, \"#9c179e\"], [0.4444444444444444, \"#bd3786\"], [0.5555555555555556, \"#d8576b\"], [0.6666666666666666, \"#ed7953\"], [0.7777777777777778, \"#fb9f3a\"], [0.8888888888888888, \"#fdca26\"], [1.0, \"#f0f921\"]]}, \"colorway\": [\"#636efa\", \"#EF553B\", \"#00cc96\", \"#ab63fa\", \"#FFA15A\", \"#19d3f3\", \"#FF6692\", \"#B6E880\", \"#FF97FF\", \"#FECB52\"], \"font\": {\"color\": \"#2a3f5f\"}, \"geo\": {\"bgcolor\": \"white\", \"lakecolor\": \"white\", \"landcolor\": \"#E5ECF6\", \"showlakes\": true, \"showland\": true, \"subunitcolor\": \"white\"}, \"hoverlabel\": {\"align\": \"left\"}, \"hovermode\": \"closest\", \"mapbox\": {\"style\": \"light\"}, \"paper_bgcolor\": \"white\", \"plot_bgcolor\": \"#E5ECF6\", \"polar\": {\"angularaxis\": {\"gridcolor\": \"white\", \"linecolor\": \"white\", \"ticks\": \"\"}, \"bgcolor\": \"#E5ECF6\", \"radialaxis\": {\"gridcolor\": \"white\", \"linecolor\": \"white\", \"ticks\": \"\"}}, \"scene\": {\"xaxis\": {\"backgroundcolor\": \"#E5ECF6\", \"gridcolor\": \"white\", \"gridwidth\": 2, \"linecolor\": \"white\", \"showbackground\": true, \"ticks\": \"\", \"zerolinecolor\": \"white\"}, \"yaxis\": {\"backgroundcolor\": \"#E5ECF6\", \"gridcolor\": \"white\", \"gridwidth\": 2, \"linecolor\": \"white\", \"showbackground\": true, \"ticks\": \"\", \"zerolinecolor\": \"white\"}, \"zaxis\": {\"backgroundcolor\": \"#E5ECF6\", \"gridcolor\": \"white\", \"gridwidth\": 2, \"linecolor\": \"white\", \"showbackground\": true, \"ticks\": \"\", \"zerolinecolor\": \"white\"}}, \"shapedefaults\": {\"line\": {\"color\": \"#2a3f5f\"}}, \"ternary\": {\"aaxis\": {\"gridcolor\": \"white\", \"linecolor\": \"white\", \"ticks\": \"\"}, \"baxis\": {\"gridcolor\": \"white\", \"linecolor\": \"white\", \"ticks\": \"\"}, \"bgcolor\": \"#E5ECF6\", \"caxis\": {\"gridcolor\": \"white\", \"linecolor\": \"white\", \"ticks\": \"\"}}, \"title\": {\"x\": 0.05}, \"xaxis\": {\"automargin\": true, \"gridcolor\": \"white\", \"linecolor\": \"white\", \"ticks\": \"\", \"title\": {\"standoff\": 15}, \"zerolinecolor\": \"white\", \"zerolinewidth\": 2}, \"yaxis\": {\"automargin\": true, \"gridcolor\": \"white\", \"linecolor\": \"white\", \"ticks\": \"\", \"title\": {\"standoff\": 15}, \"zerolinecolor\": \"white\", \"zerolinewidth\": 2}}}, \"title\": {\"text\": \"Countries with Confirmed Cases\"}},\n",
       "                        {\"responsive\": true}\n",
       "                    ).then(function(){\n",
       "                            \n",
       "var gd = document.getElementById('2847b4fc-1aca-449e-880d-d847cfdb394b');\n",
       "var x = new MutationObserver(function (mutations, observer) {{\n",
       "        var display = window.getComputedStyle(gd).display;\n",
       "        if (!display || display === 'none') {{\n",
       "            console.log([gd, 'removed!']);\n",
       "            Plotly.purge(gd);\n",
       "            observer.disconnect();\n",
       "        }}\n",
       "}});\n",
       "\n",
       "// Listen for the removal of the full notebook cells\n",
       "var notebookContainer = gd.closest('#notebook-container');\n",
       "if (notebookContainer) {{\n",
       "    x.observe(notebookContainer, {childList: true});\n",
       "}}\n",
       "\n",
       "// Listen for the clearing of the current output cell\n",
       "var outputEl = gd.closest('.output');\n",
       "if (outputEl) {{\n",
       "    x.observe(outputEl, {childList: true});\n",
       "}}\n",
       "\n",
       "                        })\n",
       "                };\n",
       "                });\n",
       "            </script>\n",
       "        </div>"
      ]
     },
     "metadata": {},
     "output_type": "display_data"
    },
    {
     "data": {
      "application/vnd.plotly.v1+json": {
       "config": {
        "plotlyServerURL": "https://plot.ly"
       },
       "data": [
        {
         "coloraxis": "coloraxis",
         "geo": "geo",
         "hoverlabel": {
          "namelength": 0
         },
         "hovertemplate": "<b>%{hovertext}</b><br><br>Country/Region=%{location}<br>Deaths=%{z}",
         "hovertext": [
          "China",
          "France",
          "Hong Kong",
          "Japan",
          "Philippines",
          "Taiwan"
         ],
         "locationmode": "country names",
         "locations": [
          "China",
          "France",
          "Hong Kong",
          "Japan",
          "Philippines",
          "Taiwan"
         ],
         "name": "",
         "type": "choropleth",
         "z": [
          1765,
          1,
          1,
          1,
          1,
          1
         ]
        }
       ],
       "layout": {
        "coloraxis": {
         "cmax": 50,
         "cmin": 1,
         "colorbar": {
          "title": {
           "text": "Deaths"
          }
         },
         "colorscale": [
          [
           0,
           "rgb(253, 224, 197)"
          ],
          [
           0.16666666666666666,
           "rgb(250, 203, 166)"
          ],
          [
           0.3333333333333333,
           "rgb(248, 181, 139)"
          ],
          [
           0.5,
           "rgb(245, 158, 114)"
          ],
          [
           0.6666666666666666,
           "rgb(242, 133, 93)"
          ],
          [
           0.8333333333333334,
           "rgb(239, 106, 76)"
          ],
          [
           1,
           "rgb(235, 74, 64)"
          ]
         ],
         "showscale": false
        },
        "geo": {
         "center": {},
         "domain": {
          "x": [
           0,
           1
          ],
          "y": [
           0,
           1
          ]
         }
        },
        "legend": {
         "tracegroupgap": 0
        },
        "template": {
         "data": {
          "bar": [
           {
            "error_x": {
             "color": "#2a3f5f"
            },
            "error_y": {
             "color": "#2a3f5f"
            },
            "marker": {
             "line": {
              "color": "#E5ECF6",
              "width": 0.5
             }
            },
            "type": "bar"
           }
          ],
          "barpolar": [
           {
            "marker": {
             "line": {
              "color": "#E5ECF6",
              "width": 0.5
             }
            },
            "type": "barpolar"
           }
          ],
          "carpet": [
           {
            "aaxis": {
             "endlinecolor": "#2a3f5f",
             "gridcolor": "white",
             "linecolor": "white",
             "minorgridcolor": "white",
             "startlinecolor": "#2a3f5f"
            },
            "baxis": {
             "endlinecolor": "#2a3f5f",
             "gridcolor": "white",
             "linecolor": "white",
             "minorgridcolor": "white",
             "startlinecolor": "#2a3f5f"
            },
            "type": "carpet"
           }
          ],
          "choropleth": [
           {
            "colorbar": {
             "outlinewidth": 0,
             "ticks": ""
            },
            "type": "choropleth"
           }
          ],
          "contour": [
           {
            "colorbar": {
             "outlinewidth": 0,
             "ticks": ""
            },
            "colorscale": [
             [
              0,
              "#0d0887"
             ],
             [
              0.1111111111111111,
              "#46039f"
             ],
             [
              0.2222222222222222,
              "#7201a8"
             ],
             [
              0.3333333333333333,
              "#9c179e"
             ],
             [
              0.4444444444444444,
              "#bd3786"
             ],
             [
              0.5555555555555556,
              "#d8576b"
             ],
             [
              0.6666666666666666,
              "#ed7953"
             ],
             [
              0.7777777777777778,
              "#fb9f3a"
             ],
             [
              0.8888888888888888,
              "#fdca26"
             ],
             [
              1,
              "#f0f921"
             ]
            ],
            "type": "contour"
           }
          ],
          "contourcarpet": [
           {
            "colorbar": {
             "outlinewidth": 0,
             "ticks": ""
            },
            "type": "contourcarpet"
           }
          ],
          "heatmap": [
           {
            "colorbar": {
             "outlinewidth": 0,
             "ticks": ""
            },
            "colorscale": [
             [
              0,
              "#0d0887"
             ],
             [
              0.1111111111111111,
              "#46039f"
             ],
             [
              0.2222222222222222,
              "#7201a8"
             ],
             [
              0.3333333333333333,
              "#9c179e"
             ],
             [
              0.4444444444444444,
              "#bd3786"
             ],
             [
              0.5555555555555556,
              "#d8576b"
             ],
             [
              0.6666666666666666,
              "#ed7953"
             ],
             [
              0.7777777777777778,
              "#fb9f3a"
             ],
             [
              0.8888888888888888,
              "#fdca26"
             ],
             [
              1,
              "#f0f921"
             ]
            ],
            "type": "heatmap"
           }
          ],
          "heatmapgl": [
           {
            "colorbar": {
             "outlinewidth": 0,
             "ticks": ""
            },
            "colorscale": [
             [
              0,
              "#0d0887"
             ],
             [
              0.1111111111111111,
              "#46039f"
             ],
             [
              0.2222222222222222,
              "#7201a8"
             ],
             [
              0.3333333333333333,
              "#9c179e"
             ],
             [
              0.4444444444444444,
              "#bd3786"
             ],
             [
              0.5555555555555556,
              "#d8576b"
             ],
             [
              0.6666666666666666,
              "#ed7953"
             ],
             [
              0.7777777777777778,
              "#fb9f3a"
             ],
             [
              0.8888888888888888,
              "#fdca26"
             ],
             [
              1,
              "#f0f921"
             ]
            ],
            "type": "heatmapgl"
           }
          ],
          "histogram": [
           {
            "marker": {
             "colorbar": {
              "outlinewidth": 0,
              "ticks": ""
             }
            },
            "type": "histogram"
           }
          ],
          "histogram2d": [
           {
            "colorbar": {
             "outlinewidth": 0,
             "ticks": ""
            },
            "colorscale": [
             [
              0,
              "#0d0887"
             ],
             [
              0.1111111111111111,
              "#46039f"
             ],
             [
              0.2222222222222222,
              "#7201a8"
             ],
             [
              0.3333333333333333,
              "#9c179e"
             ],
             [
              0.4444444444444444,
              "#bd3786"
             ],
             [
              0.5555555555555556,
              "#d8576b"
             ],
             [
              0.6666666666666666,
              "#ed7953"
             ],
             [
              0.7777777777777778,
              "#fb9f3a"
             ],
             [
              0.8888888888888888,
              "#fdca26"
             ],
             [
              1,
              "#f0f921"
             ]
            ],
            "type": "histogram2d"
           }
          ],
          "histogram2dcontour": [
           {
            "colorbar": {
             "outlinewidth": 0,
             "ticks": ""
            },
            "colorscale": [
             [
              0,
              "#0d0887"
             ],
             [
              0.1111111111111111,
              "#46039f"
             ],
             [
              0.2222222222222222,
              "#7201a8"
             ],
             [
              0.3333333333333333,
              "#9c179e"
             ],
             [
              0.4444444444444444,
              "#bd3786"
             ],
             [
              0.5555555555555556,
              "#d8576b"
             ],
             [
              0.6666666666666666,
              "#ed7953"
             ],
             [
              0.7777777777777778,
              "#fb9f3a"
             ],
             [
              0.8888888888888888,
              "#fdca26"
             ],
             [
              1,
              "#f0f921"
             ]
            ],
            "type": "histogram2dcontour"
           }
          ],
          "mesh3d": [
           {
            "colorbar": {
             "outlinewidth": 0,
             "ticks": ""
            },
            "type": "mesh3d"
           }
          ],
          "parcoords": [
           {
            "line": {
             "colorbar": {
              "outlinewidth": 0,
              "ticks": ""
             }
            },
            "type": "parcoords"
           }
          ],
          "pie": [
           {
            "automargin": true,
            "type": "pie"
           }
          ],
          "scatter": [
           {
            "marker": {
             "colorbar": {
              "outlinewidth": 0,
              "ticks": ""
             }
            },
            "type": "scatter"
           }
          ],
          "scatter3d": [
           {
            "line": {
             "colorbar": {
              "outlinewidth": 0,
              "ticks": ""
             }
            },
            "marker": {
             "colorbar": {
              "outlinewidth": 0,
              "ticks": ""
             }
            },
            "type": "scatter3d"
           }
          ],
          "scattercarpet": [
           {
            "marker": {
             "colorbar": {
              "outlinewidth": 0,
              "ticks": ""
             }
            },
            "type": "scattercarpet"
           }
          ],
          "scattergeo": [
           {
            "marker": {
             "colorbar": {
              "outlinewidth": 0,
              "ticks": ""
             }
            },
            "type": "scattergeo"
           }
          ],
          "scattergl": [
           {
            "marker": {
             "colorbar": {
              "outlinewidth": 0,
              "ticks": ""
             }
            },
            "type": "scattergl"
           }
          ],
          "scattermapbox": [
           {
            "marker": {
             "colorbar": {
              "outlinewidth": 0,
              "ticks": ""
             }
            },
            "type": "scattermapbox"
           }
          ],
          "scatterpolar": [
           {
            "marker": {
             "colorbar": {
              "outlinewidth": 0,
              "ticks": ""
             }
            },
            "type": "scatterpolar"
           }
          ],
          "scatterpolargl": [
           {
            "marker": {
             "colorbar": {
              "outlinewidth": 0,
              "ticks": ""
             }
            },
            "type": "scatterpolargl"
           }
          ],
          "scatterternary": [
           {
            "marker": {
             "colorbar": {
              "outlinewidth": 0,
              "ticks": ""
             }
            },
            "type": "scatterternary"
           }
          ],
          "surface": [
           {
            "colorbar": {
             "outlinewidth": 0,
             "ticks": ""
            },
            "colorscale": [
             [
              0,
              "#0d0887"
             ],
             [
              0.1111111111111111,
              "#46039f"
             ],
             [
              0.2222222222222222,
              "#7201a8"
             ],
             [
              0.3333333333333333,
              "#9c179e"
             ],
             [
              0.4444444444444444,
              "#bd3786"
             ],
             [
              0.5555555555555556,
              "#d8576b"
             ],
             [
              0.6666666666666666,
              "#ed7953"
             ],
             [
              0.7777777777777778,
              "#fb9f3a"
             ],
             [
              0.8888888888888888,
              "#fdca26"
             ],
             [
              1,
              "#f0f921"
             ]
            ],
            "type": "surface"
           }
          ],
          "table": [
           {
            "cells": {
             "fill": {
              "color": "#EBF0F8"
             },
             "line": {
              "color": "white"
             }
            },
            "header": {
             "fill": {
              "color": "#C8D4E3"
             },
             "line": {
              "color": "white"
             }
            },
            "type": "table"
           }
          ]
         },
         "layout": {
          "annotationdefaults": {
           "arrowcolor": "#2a3f5f",
           "arrowhead": 0,
           "arrowwidth": 1
          },
          "coloraxis": {
           "colorbar": {
            "outlinewidth": 0,
            "ticks": ""
           }
          },
          "colorscale": {
           "diverging": [
            [
             0,
             "#8e0152"
            ],
            [
             0.1,
             "#c51b7d"
            ],
            [
             0.2,
             "#de77ae"
            ],
            [
             0.3,
             "#f1b6da"
            ],
            [
             0.4,
             "#fde0ef"
            ],
            [
             0.5,
             "#f7f7f7"
            ],
            [
             0.6,
             "#e6f5d0"
            ],
            [
             0.7,
             "#b8e186"
            ],
            [
             0.8,
             "#7fbc41"
            ],
            [
             0.9,
             "#4d9221"
            ],
            [
             1,
             "#276419"
            ]
           ],
           "sequential": [
            [
             0,
             "#0d0887"
            ],
            [
             0.1111111111111111,
             "#46039f"
            ],
            [
             0.2222222222222222,
             "#7201a8"
            ],
            [
             0.3333333333333333,
             "#9c179e"
            ],
            [
             0.4444444444444444,
             "#bd3786"
            ],
            [
             0.5555555555555556,
             "#d8576b"
            ],
            [
             0.6666666666666666,
             "#ed7953"
            ],
            [
             0.7777777777777778,
             "#fb9f3a"
            ],
            [
             0.8888888888888888,
             "#fdca26"
            ],
            [
             1,
             "#f0f921"
            ]
           ],
           "sequentialminus": [
            [
             0,
             "#0d0887"
            ],
            [
             0.1111111111111111,
             "#46039f"
            ],
            [
             0.2222222222222222,
             "#7201a8"
            ],
            [
             0.3333333333333333,
             "#9c179e"
            ],
            [
             0.4444444444444444,
             "#bd3786"
            ],
            [
             0.5555555555555556,
             "#d8576b"
            ],
            [
             0.6666666666666666,
             "#ed7953"
            ],
            [
             0.7777777777777778,
             "#fb9f3a"
            ],
            [
             0.8888888888888888,
             "#fdca26"
            ],
            [
             1,
             "#f0f921"
            ]
           ]
          },
          "colorway": [
           "#636efa",
           "#EF553B",
           "#00cc96",
           "#ab63fa",
           "#FFA15A",
           "#19d3f3",
           "#FF6692",
           "#B6E880",
           "#FF97FF",
           "#FECB52"
          ],
          "font": {
           "color": "#2a3f5f"
          },
          "geo": {
           "bgcolor": "white",
           "lakecolor": "white",
           "landcolor": "#E5ECF6",
           "showlakes": true,
           "showland": true,
           "subunitcolor": "white"
          },
          "hoverlabel": {
           "align": "left"
          },
          "hovermode": "closest",
          "mapbox": {
           "style": "light"
          },
          "paper_bgcolor": "white",
          "plot_bgcolor": "#E5ECF6",
          "polar": {
           "angularaxis": {
            "gridcolor": "white",
            "linecolor": "white",
            "ticks": ""
           },
           "bgcolor": "#E5ECF6",
           "radialaxis": {
            "gridcolor": "white",
            "linecolor": "white",
            "ticks": ""
           }
          },
          "scene": {
           "xaxis": {
            "backgroundcolor": "#E5ECF6",
            "gridcolor": "white",
            "gridwidth": 2,
            "linecolor": "white",
            "showbackground": true,
            "ticks": "",
            "zerolinecolor": "white"
           },
           "yaxis": {
            "backgroundcolor": "#E5ECF6",
            "gridcolor": "white",
            "gridwidth": 2,
            "linecolor": "white",
            "showbackground": true,
            "ticks": "",
            "zerolinecolor": "white"
           },
           "zaxis": {
            "backgroundcolor": "#E5ECF6",
            "gridcolor": "white",
            "gridwidth": 2,
            "linecolor": "white",
            "showbackground": true,
            "ticks": "",
            "zerolinecolor": "white"
           }
          },
          "shapedefaults": {
           "line": {
            "color": "#2a3f5f"
           }
          },
          "ternary": {
           "aaxis": {
            "gridcolor": "white",
            "linecolor": "white",
            "ticks": ""
           },
           "baxis": {
            "gridcolor": "white",
            "linecolor": "white",
            "ticks": ""
           },
           "bgcolor": "#E5ECF6",
           "caxis": {
            "gridcolor": "white",
            "linecolor": "white",
            "ticks": ""
           }
          },
          "title": {
           "x": 0.05
          },
          "xaxis": {
           "automargin": true,
           "gridcolor": "white",
           "linecolor": "white",
           "ticks": "",
           "title": {
            "standoff": 15
           },
           "zerolinecolor": "white",
           "zerolinewidth": 2
          },
          "yaxis": {
           "automargin": true,
           "gridcolor": "white",
           "linecolor": "white",
           "ticks": "",
           "title": {
            "standoff": 15
           },
           "zerolinecolor": "white",
           "zerolinewidth": 2
          }
         }
        },
        "title": {
         "text": "Countries with Deaths Reported"
        }
       }
      },
      "text/html": [
       "<div>\n",
       "        \n",
       "        \n",
       "            <div id=\"0e2b85a7-c00c-4888-8bc2-bde98e4d9fb4\" class=\"plotly-graph-div\" style=\"height:525px; width:100%;\"></div>\n",
       "            <script type=\"text/javascript\">\n",
       "                require([\"plotly\"], function(Plotly) {\n",
       "                    window.PLOTLYENV=window.PLOTLYENV || {};\n",
       "                    \n",
       "                if (document.getElementById(\"0e2b85a7-c00c-4888-8bc2-bde98e4d9fb4\")) {\n",
       "                    Plotly.newPlot(\n",
       "                        '0e2b85a7-c00c-4888-8bc2-bde98e4d9fb4',\n",
       "                        [{\"coloraxis\": \"coloraxis\", \"geo\": \"geo\", \"hoverlabel\": {\"namelength\": 0}, \"hovertemplate\": \"<b>%{hovertext}</b><br><br>Country/Region=%{location}<br>Deaths=%{z}\", \"hovertext\": [\"China\", \"France\", \"Hong Kong\", \"Japan\", \"Philippines\", \"Taiwan\"], \"locationmode\": \"country names\", \"locations\": [\"China\", \"France\", \"Hong Kong\", \"Japan\", \"Philippines\", \"Taiwan\"], \"name\": \"\", \"type\": \"choropleth\", \"z\": [1765, 1, 1, 1, 1, 1]}],\n",
       "                        {\"coloraxis\": {\"cmax\": 50, \"cmin\": 1, \"colorbar\": {\"title\": {\"text\": \"Deaths\"}}, \"colorscale\": [[0.0, \"rgb(253, 224, 197)\"], [0.16666666666666666, \"rgb(250, 203, 166)\"], [0.3333333333333333, \"rgb(248, 181, 139)\"], [0.5, \"rgb(245, 158, 114)\"], [0.6666666666666666, \"rgb(242, 133, 93)\"], [0.8333333333333334, \"rgb(239, 106, 76)\"], [1.0, \"rgb(235, 74, 64)\"]], \"showscale\": false}, \"geo\": {\"center\": {}, \"domain\": {\"x\": [0.0, 1.0], \"y\": [0.0, 1.0]}}, \"legend\": {\"tracegroupgap\": 0}, \"template\": {\"data\": {\"bar\": [{\"error_x\": {\"color\": \"#2a3f5f\"}, \"error_y\": {\"color\": \"#2a3f5f\"}, \"marker\": {\"line\": {\"color\": \"#E5ECF6\", \"width\": 0.5}}, \"type\": \"bar\"}], \"barpolar\": [{\"marker\": {\"line\": {\"color\": \"#E5ECF6\", \"width\": 0.5}}, \"type\": \"barpolar\"}], \"carpet\": [{\"aaxis\": {\"endlinecolor\": \"#2a3f5f\", \"gridcolor\": \"white\", \"linecolor\": \"white\", \"minorgridcolor\": \"white\", \"startlinecolor\": \"#2a3f5f\"}, \"baxis\": {\"endlinecolor\": \"#2a3f5f\", \"gridcolor\": \"white\", \"linecolor\": \"white\", \"minorgridcolor\": \"white\", \"startlinecolor\": \"#2a3f5f\"}, \"type\": \"carpet\"}], \"choropleth\": [{\"colorbar\": {\"outlinewidth\": 0, \"ticks\": \"\"}, \"type\": \"choropleth\"}], \"contour\": [{\"colorbar\": {\"outlinewidth\": 0, \"ticks\": \"\"}, \"colorscale\": [[0.0, \"#0d0887\"], [0.1111111111111111, \"#46039f\"], [0.2222222222222222, \"#7201a8\"], [0.3333333333333333, \"#9c179e\"], [0.4444444444444444, \"#bd3786\"], [0.5555555555555556, \"#d8576b\"], [0.6666666666666666, \"#ed7953\"], [0.7777777777777778, \"#fb9f3a\"], [0.8888888888888888, \"#fdca26\"], [1.0, \"#f0f921\"]], \"type\": \"contour\"}], \"contourcarpet\": [{\"colorbar\": {\"outlinewidth\": 0, \"ticks\": \"\"}, \"type\": \"contourcarpet\"}], \"heatmap\": [{\"colorbar\": {\"outlinewidth\": 0, \"ticks\": \"\"}, \"colorscale\": [[0.0, \"#0d0887\"], [0.1111111111111111, \"#46039f\"], [0.2222222222222222, \"#7201a8\"], [0.3333333333333333, \"#9c179e\"], [0.4444444444444444, \"#bd3786\"], [0.5555555555555556, \"#d8576b\"], [0.6666666666666666, \"#ed7953\"], [0.7777777777777778, \"#fb9f3a\"], [0.8888888888888888, \"#fdca26\"], [1.0, \"#f0f921\"]], \"type\": \"heatmap\"}], \"heatmapgl\": [{\"colorbar\": {\"outlinewidth\": 0, \"ticks\": \"\"}, \"colorscale\": [[0.0, \"#0d0887\"], [0.1111111111111111, \"#46039f\"], [0.2222222222222222, \"#7201a8\"], [0.3333333333333333, \"#9c179e\"], [0.4444444444444444, \"#bd3786\"], [0.5555555555555556, \"#d8576b\"], [0.6666666666666666, \"#ed7953\"], [0.7777777777777778, \"#fb9f3a\"], [0.8888888888888888, \"#fdca26\"], [1.0, \"#f0f921\"]], \"type\": \"heatmapgl\"}], \"histogram\": [{\"marker\": {\"colorbar\": {\"outlinewidth\": 0, \"ticks\": \"\"}}, \"type\": \"histogram\"}], \"histogram2d\": [{\"colorbar\": {\"outlinewidth\": 0, \"ticks\": \"\"}, \"colorscale\": [[0.0, \"#0d0887\"], [0.1111111111111111, \"#46039f\"], [0.2222222222222222, \"#7201a8\"], [0.3333333333333333, \"#9c179e\"], [0.4444444444444444, \"#bd3786\"], [0.5555555555555556, \"#d8576b\"], [0.6666666666666666, \"#ed7953\"], [0.7777777777777778, \"#fb9f3a\"], [0.8888888888888888, \"#fdca26\"], [1.0, \"#f0f921\"]], \"type\": \"histogram2d\"}], \"histogram2dcontour\": [{\"colorbar\": {\"outlinewidth\": 0, \"ticks\": \"\"}, \"colorscale\": [[0.0, \"#0d0887\"], [0.1111111111111111, \"#46039f\"], [0.2222222222222222, \"#7201a8\"], [0.3333333333333333, \"#9c179e\"], [0.4444444444444444, \"#bd3786\"], [0.5555555555555556, \"#d8576b\"], [0.6666666666666666, \"#ed7953\"], [0.7777777777777778, \"#fb9f3a\"], [0.8888888888888888, \"#fdca26\"], [1.0, \"#f0f921\"]], \"type\": \"histogram2dcontour\"}], \"mesh3d\": [{\"colorbar\": {\"outlinewidth\": 0, \"ticks\": \"\"}, \"type\": \"mesh3d\"}], \"parcoords\": [{\"line\": {\"colorbar\": {\"outlinewidth\": 0, \"ticks\": \"\"}}, \"type\": \"parcoords\"}], \"pie\": [{\"automargin\": true, \"type\": \"pie\"}], \"scatter\": [{\"marker\": {\"colorbar\": {\"outlinewidth\": 0, \"ticks\": \"\"}}, \"type\": \"scatter\"}], \"scatter3d\": [{\"line\": {\"colorbar\": {\"outlinewidth\": 0, \"ticks\": \"\"}}, \"marker\": {\"colorbar\": {\"outlinewidth\": 0, \"ticks\": \"\"}}, \"type\": \"scatter3d\"}], \"scattercarpet\": [{\"marker\": {\"colorbar\": {\"outlinewidth\": 0, \"ticks\": \"\"}}, \"type\": \"scattercarpet\"}], \"scattergeo\": [{\"marker\": {\"colorbar\": {\"outlinewidth\": 0, \"ticks\": \"\"}}, \"type\": \"scattergeo\"}], \"scattergl\": [{\"marker\": {\"colorbar\": {\"outlinewidth\": 0, \"ticks\": \"\"}}, \"type\": \"scattergl\"}], \"scattermapbox\": [{\"marker\": {\"colorbar\": {\"outlinewidth\": 0, \"ticks\": \"\"}}, \"type\": \"scattermapbox\"}], \"scatterpolar\": [{\"marker\": {\"colorbar\": {\"outlinewidth\": 0, \"ticks\": \"\"}}, \"type\": \"scatterpolar\"}], \"scatterpolargl\": [{\"marker\": {\"colorbar\": {\"outlinewidth\": 0, \"ticks\": \"\"}}, \"type\": \"scatterpolargl\"}], \"scatterternary\": [{\"marker\": {\"colorbar\": {\"outlinewidth\": 0, \"ticks\": \"\"}}, \"type\": \"scatterternary\"}], \"surface\": [{\"colorbar\": {\"outlinewidth\": 0, \"ticks\": \"\"}, \"colorscale\": [[0.0, \"#0d0887\"], [0.1111111111111111, \"#46039f\"], [0.2222222222222222, \"#7201a8\"], [0.3333333333333333, \"#9c179e\"], [0.4444444444444444, \"#bd3786\"], [0.5555555555555556, \"#d8576b\"], [0.6666666666666666, \"#ed7953\"], [0.7777777777777778, \"#fb9f3a\"], [0.8888888888888888, \"#fdca26\"], [1.0, \"#f0f921\"]], \"type\": \"surface\"}], \"table\": [{\"cells\": {\"fill\": {\"color\": \"#EBF0F8\"}, \"line\": {\"color\": \"white\"}}, \"header\": {\"fill\": {\"color\": \"#C8D4E3\"}, \"line\": {\"color\": \"white\"}}, \"type\": \"table\"}]}, \"layout\": {\"annotationdefaults\": {\"arrowcolor\": \"#2a3f5f\", \"arrowhead\": 0, \"arrowwidth\": 1}, \"coloraxis\": {\"colorbar\": {\"outlinewidth\": 0, \"ticks\": \"\"}}, \"colorscale\": {\"diverging\": [[0, \"#8e0152\"], [0.1, \"#c51b7d\"], [0.2, \"#de77ae\"], [0.3, \"#f1b6da\"], [0.4, \"#fde0ef\"], [0.5, \"#f7f7f7\"], [0.6, \"#e6f5d0\"], [0.7, \"#b8e186\"], [0.8, \"#7fbc41\"], [0.9, \"#4d9221\"], [1, \"#276419\"]], \"sequential\": [[0.0, \"#0d0887\"], [0.1111111111111111, \"#46039f\"], [0.2222222222222222, \"#7201a8\"], [0.3333333333333333, \"#9c179e\"], [0.4444444444444444, \"#bd3786\"], [0.5555555555555556, \"#d8576b\"], [0.6666666666666666, \"#ed7953\"], [0.7777777777777778, \"#fb9f3a\"], [0.8888888888888888, \"#fdca26\"], [1.0, \"#f0f921\"]], \"sequentialminus\": [[0.0, \"#0d0887\"], [0.1111111111111111, \"#46039f\"], [0.2222222222222222, \"#7201a8\"], [0.3333333333333333, \"#9c179e\"], [0.4444444444444444, \"#bd3786\"], [0.5555555555555556, \"#d8576b\"], [0.6666666666666666, \"#ed7953\"], [0.7777777777777778, \"#fb9f3a\"], [0.8888888888888888, \"#fdca26\"], [1.0, \"#f0f921\"]]}, \"colorway\": [\"#636efa\", \"#EF553B\", \"#00cc96\", \"#ab63fa\", \"#FFA15A\", \"#19d3f3\", \"#FF6692\", \"#B6E880\", \"#FF97FF\", \"#FECB52\"], \"font\": {\"color\": \"#2a3f5f\"}, \"geo\": {\"bgcolor\": \"white\", \"lakecolor\": \"white\", \"landcolor\": \"#E5ECF6\", \"showlakes\": true, \"showland\": true, \"subunitcolor\": \"white\"}, \"hoverlabel\": {\"align\": \"left\"}, \"hovermode\": \"closest\", \"mapbox\": {\"style\": \"light\"}, \"paper_bgcolor\": \"white\", \"plot_bgcolor\": \"#E5ECF6\", \"polar\": {\"angularaxis\": {\"gridcolor\": \"white\", \"linecolor\": \"white\", \"ticks\": \"\"}, \"bgcolor\": \"#E5ECF6\", \"radialaxis\": {\"gridcolor\": \"white\", \"linecolor\": \"white\", \"ticks\": \"\"}}, \"scene\": {\"xaxis\": {\"backgroundcolor\": \"#E5ECF6\", \"gridcolor\": \"white\", \"gridwidth\": 2, \"linecolor\": \"white\", \"showbackground\": true, \"ticks\": \"\", \"zerolinecolor\": \"white\"}, \"yaxis\": {\"backgroundcolor\": \"#E5ECF6\", \"gridcolor\": \"white\", \"gridwidth\": 2, \"linecolor\": \"white\", \"showbackground\": true, \"ticks\": \"\", \"zerolinecolor\": \"white\"}, \"zaxis\": {\"backgroundcolor\": \"#E5ECF6\", \"gridcolor\": \"white\", \"gridwidth\": 2, \"linecolor\": \"white\", \"showbackground\": true, \"ticks\": \"\", \"zerolinecolor\": \"white\"}}, \"shapedefaults\": {\"line\": {\"color\": \"#2a3f5f\"}}, \"ternary\": {\"aaxis\": {\"gridcolor\": \"white\", \"linecolor\": \"white\", \"ticks\": \"\"}, \"baxis\": {\"gridcolor\": \"white\", \"linecolor\": \"white\", \"ticks\": \"\"}, \"bgcolor\": \"#E5ECF6\", \"caxis\": {\"gridcolor\": \"white\", \"linecolor\": \"white\", \"ticks\": \"\"}}, \"title\": {\"x\": 0.05}, \"xaxis\": {\"automargin\": true, \"gridcolor\": \"white\", \"linecolor\": \"white\", \"ticks\": \"\", \"title\": {\"standoff\": 15}, \"zerolinecolor\": \"white\", \"zerolinewidth\": 2}, \"yaxis\": {\"automargin\": true, \"gridcolor\": \"white\", \"linecolor\": \"white\", \"ticks\": \"\", \"title\": {\"standoff\": 15}, \"zerolinecolor\": \"white\", \"zerolinewidth\": 2}}}, \"title\": {\"text\": \"Countries with Deaths Reported\"}},\n",
       "                        {\"responsive\": true}\n",
       "                    ).then(function(){\n",
       "                            \n",
       "var gd = document.getElementById('0e2b85a7-c00c-4888-8bc2-bde98e4d9fb4');\n",
       "var x = new MutationObserver(function (mutations, observer) {{\n",
       "        var display = window.getComputedStyle(gd).display;\n",
       "        if (!display || display === 'none') {{\n",
       "            console.log([gd, 'removed!']);\n",
       "            Plotly.purge(gd);\n",
       "            observer.disconnect();\n",
       "        }}\n",
       "}});\n",
       "\n",
       "// Listen for the removal of the full notebook cells\n",
       "var notebookContainer = gd.closest('#notebook-container');\n",
       "if (notebookContainer) {{\n",
       "    x.observe(notebookContainer, {childList: true});\n",
       "}}\n",
       "\n",
       "// Listen for the clearing of the current output cell\n",
       "var outputEl = gd.closest('.output');\n",
       "if (outputEl) {{\n",
       "    x.observe(outputEl, {childList: true});\n",
       "}}\n",
       "\n",
       "                        })\n",
       "                };\n",
       "                });\n",
       "            </script>\n",
       "        </div>"
      ]
     },
     "metadata": {},
     "output_type": "display_data"
    }
   ],
   "source": [
    "# px.choropleth(full_latest_grouped, locations='Country/Region', color='Confirmed',color_continuous_scale=\"Viridis\")\n",
    "\n",
    "fig = px.choropleth(full_latest_grouped, locations=\"Country/Region\", locationmode='country names', \n",
    "                    color=\"Confirmed\", hover_name=\"Country/Region\", range_color=[1,50], color_continuous_scale=\"Sunsetdark\", \n",
    "                    title='Countries with Confirmed Cases')\n",
    "fig.update(layout_coloraxis_showscale=False)\n",
    "fig.show()\n",
    "\n",
    "fig = px.choropleth(full_latest_grouped[full_latest_grouped['Deaths']>0], locations=\"Country/Region\", locationmode='country names',\n",
    "                    color=\"Deaths\", hover_name=\"Country/Region\", range_color=[1,50], color_continuous_scale=\"Peach\",\n",
    "                    title='Countries with Deaths Reported')\n",
    "fig.update(layout_coloraxis_showscale=False)\n",
    "fig.show()"
   ]
  },
  {
   "cell_type": "code",
   "execution_count": 50,
   "metadata": {
    "scrolled": true
   },
   "outputs": [
    {
     "data": {
      "application/vnd.plotly.v1+json": {
       "config": {
        "plotlyServerURL": "https://plot.ly"
       },
       "data": [
        {
         "geo": "geo",
         "hoverlabel": {
          "namelength": 0
         },
         "hovertemplate": "<b>%{hovertext}</b><br><br>Date=01/22/2020<br>Confirmed=%{marker.color}<br>Country/Region=%{location}",
         "hovertext": [
          "Australia",
          "Belgium",
          "Cambodia",
          "Canada",
          "Egypt",
          "Finland",
          "France",
          "Germany",
          "Hong Kong",
          "India",
          "Italy",
          "Japan",
          "Macau",
          "Malaysia",
          "Nepal",
          "Philippines",
          "Russia",
          "Singapore",
          "South Korea",
          "Spain",
          "Sri Lanka",
          "Sweden",
          "Taiwan",
          "Thailand",
          "UK",
          "US",
          "United Arab Emirates",
          "Vietnam"
         ],
         "legendgroup": "",
         "locationmode": "country names",
         "locations": [
          "Australia",
          "Belgium",
          "Cambodia",
          "Canada",
          "Egypt",
          "Finland",
          "France",
          "Germany",
          "Hong Kong",
          "India",
          "Italy",
          "Japan",
          "Macau",
          "Malaysia",
          "Nepal",
          "Philippines",
          "Russia",
          "Singapore",
          "South Korea",
          "Spain",
          "Sri Lanka",
          "Sweden",
          "Taiwan",
          "Thailand",
          "UK",
          "US",
          "United Arab Emirates",
          "Vietnam"
         ],
         "marker": {
          "color": [
           0,
           0,
           0,
           0,
           0,
           0,
           0,
           0,
           0,
           0,
           0,
           2,
           1,
           0,
           0,
           0,
           0,
           0,
           1,
           0,
           0,
           0,
           1,
           2,
           0,
           1,
           0,
           0
          ],
          "coloraxis": "coloraxis",
          "size": [
           0,
           0,
           0,
           0,
           0,
           0,
           0,
           0,
           0,
           0,
           0,
           2,
           1,
           0,
           0,
           0,
           0,
           0,
           1,
           0,
           0,
           0,
           1,
           2,
           0,
           1,
           0,
           0
          ],
          "sizemode": "area",
          "sizeref": 0.1875
         },
         "name": "",
         "showlegend": false,
         "type": "scattergeo"
        }
       ],
       "frames": [
        {
         "data": [
          {
           "geo": "geo",
           "hoverlabel": {
            "namelength": 0
           },
           "hovertemplate": "<b>%{hovertext}</b><br><br>Date=01/22/2020<br>Confirmed=%{marker.color}<br>Country/Region=%{location}",
           "hovertext": [
            "Australia",
            "Belgium",
            "Cambodia",
            "Canada",
            "Egypt",
            "Finland",
            "France",
            "Germany",
            "Hong Kong",
            "India",
            "Italy",
            "Japan",
            "Macau",
            "Malaysia",
            "Nepal",
            "Philippines",
            "Russia",
            "Singapore",
            "South Korea",
            "Spain",
            "Sri Lanka",
            "Sweden",
            "Taiwan",
            "Thailand",
            "UK",
            "US",
            "United Arab Emirates",
            "Vietnam"
           ],
           "legendgroup": "",
           "locationmode": "country names",
           "locations": [
            "Australia",
            "Belgium",
            "Cambodia",
            "Canada",
            "Egypt",
            "Finland",
            "France",
            "Germany",
            "Hong Kong",
            "India",
            "Italy",
            "Japan",
            "Macau",
            "Malaysia",
            "Nepal",
            "Philippines",
            "Russia",
            "Singapore",
            "South Korea",
            "Spain",
            "Sri Lanka",
            "Sweden",
            "Taiwan",
            "Thailand",
            "UK",
            "US",
            "United Arab Emirates",
            "Vietnam"
           ],
           "marker": {
            "color": [
             0,
             0,
             0,
             0,
             0,
             0,
             0,
             0,
             0,
             0,
             0,
             2,
             1,
             0,
             0,
             0,
             0,
             0,
             1,
             0,
             0,
             0,
             1,
             2,
             0,
             1,
             0,
             0
            ],
            "coloraxis": "coloraxis",
            "size": [
             0,
             0,
             0,
             0,
             0,
             0,
             0,
             0,
             0,
             0,
             0,
             2,
             1,
             0,
             0,
             0,
             0,
             0,
             1,
             0,
             0,
             0,
             1,
             2,
             0,
             1,
             0,
             0
            ],
            "sizemode": "area",
            "sizeref": 0.1875
           },
           "name": "",
           "showlegend": false,
           "type": "scattergeo"
          }
         ],
         "name": "01/22/2020"
        },
        {
         "data": [
          {
           "geo": "geo",
           "hoverlabel": {
            "namelength": 0
           },
           "hovertemplate": "<b>%{hovertext}</b><br><br>Date=01/23/2020<br>Confirmed=%{marker.color}<br>Country/Region=%{location}",
           "hovertext": [
            "Australia",
            "Belgium",
            "Cambodia",
            "Canada",
            "Egypt",
            "Finland",
            "France",
            "Germany",
            "Hong Kong",
            "India",
            "Italy",
            "Japan",
            "Macau",
            "Malaysia",
            "Nepal",
            "Philippines",
            "Russia",
            "Singapore",
            "South Korea",
            "Spain",
            "Sri Lanka",
            "Sweden",
            "Taiwan",
            "Thailand",
            "UK",
            "US",
            "United Arab Emirates",
            "Vietnam"
           ],
           "legendgroup": "",
           "locationmode": "country names",
           "locations": [
            "Australia",
            "Belgium",
            "Cambodia",
            "Canada",
            "Egypt",
            "Finland",
            "France",
            "Germany",
            "Hong Kong",
            "India",
            "Italy",
            "Japan",
            "Macau",
            "Malaysia",
            "Nepal",
            "Philippines",
            "Russia",
            "Singapore",
            "South Korea",
            "Spain",
            "Sri Lanka",
            "Sweden",
            "Taiwan",
            "Thailand",
            "UK",
            "US",
            "United Arab Emirates",
            "Vietnam"
           ],
           "marker": {
            "color": [
             0,
             0,
             0,
             0,
             0,
             0,
             0,
             0,
             2,
             0,
             0,
             1,
             2,
             0,
             0,
             0,
             0,
             1,
             1,
             0,
             0,
             0,
             1,
             3,
             0,
             1,
             0,
             2
            ],
            "coloraxis": "coloraxis",
            "size": [
             0,
             0,
             0,
             0,
             0,
             0,
             0,
             0,
             2,
             0,
             0,
             1,
             2,
             0,
             0,
             0,
             0,
             1,
             1,
             0,
             0,
             0,
             1,
             3,
             0,
             1,
             0,
             2
            ],
            "sizemode": "area",
            "sizeref": 0.1875
           },
           "name": "",
           "showlegend": false,
           "type": "scattergeo"
          }
         ],
         "name": "01/23/2020"
        },
        {
         "data": [
          {
           "geo": "geo",
           "hoverlabel": {
            "namelength": 0
           },
           "hovertemplate": "<b>%{hovertext}</b><br><br>Date=01/24/2020<br>Confirmed=%{marker.color}<br>Country/Region=%{location}",
           "hovertext": [
            "Australia",
            "Belgium",
            "Cambodia",
            "Canada",
            "Egypt",
            "Finland",
            "France",
            "Germany",
            "Hong Kong",
            "India",
            "Italy",
            "Japan",
            "Macau",
            "Malaysia",
            "Nepal",
            "Philippines",
            "Russia",
            "Singapore",
            "South Korea",
            "Spain",
            "Sri Lanka",
            "Sweden",
            "Taiwan",
            "Thailand",
            "UK",
            "US",
            "United Arab Emirates",
            "Vietnam"
           ],
           "legendgroup": "",
           "locationmode": "country names",
           "locations": [
            "Australia",
            "Belgium",
            "Cambodia",
            "Canada",
            "Egypt",
            "Finland",
            "France",
            "Germany",
            "Hong Kong",
            "India",
            "Italy",
            "Japan",
            "Macau",
            "Malaysia",
            "Nepal",
            "Philippines",
            "Russia",
            "Singapore",
            "South Korea",
            "Spain",
            "Sri Lanka",
            "Sweden",
            "Taiwan",
            "Thailand",
            "UK",
            "US",
            "United Arab Emirates",
            "Vietnam"
           ],
           "marker": {
            "color": [
             0,
             0,
             0,
             0,
             0,
             0,
             2,
             0,
             2,
             0,
             0,
             2,
             2,
             0,
             0,
             0,
             0,
             3,
             2,
             0,
             0,
             0,
             3,
             5,
             0,
             1,
             0,
             2
            ],
            "coloraxis": "coloraxis",
            "size": [
             0,
             0,
             0,
             0,
             0,
             0,
             2,
             0,
             2,
             0,
             0,
             2,
             2,
             0,
             0,
             0,
             0,
             3,
             2,
             0,
             0,
             0,
             3,
             5,
             0,
             1,
             0,
             2
            ],
            "sizemode": "area",
            "sizeref": 0.1875
           },
           "name": "",
           "showlegend": false,
           "type": "scattergeo"
          }
         ],
         "name": "01/24/2020"
        },
        {
         "data": [
          {
           "geo": "geo",
           "hoverlabel": {
            "namelength": 0
           },
           "hovertemplate": "<b>%{hovertext}</b><br><br>Date=01/25/2020<br>Confirmed=%{marker.color}<br>Country/Region=%{location}",
           "hovertext": [
            "Australia",
            "Belgium",
            "Cambodia",
            "Canada",
            "Egypt",
            "Finland",
            "France",
            "Germany",
            "Hong Kong",
            "India",
            "Italy",
            "Japan",
            "Macau",
            "Malaysia",
            "Nepal",
            "Philippines",
            "Russia",
            "Singapore",
            "South Korea",
            "Spain",
            "Sri Lanka",
            "Sweden",
            "Taiwan",
            "Thailand",
            "UK",
            "US",
            "United Arab Emirates",
            "Vietnam"
           ],
           "legendgroup": "",
           "locationmode": "country names",
           "locations": [
            "Australia",
            "Belgium",
            "Cambodia",
            "Canada",
            "Egypt",
            "Finland",
            "France",
            "Germany",
            "Hong Kong",
            "India",
            "Italy",
            "Japan",
            "Macau",
            "Malaysia",
            "Nepal",
            "Philippines",
            "Russia",
            "Singapore",
            "South Korea",
            "Spain",
            "Sri Lanka",
            "Sweden",
            "Taiwan",
            "Thailand",
            "UK",
            "US",
            "United Arab Emirates",
            "Vietnam"
           ],
           "marker": {
            "color": [
             0,
             0,
             0,
             0,
             0,
             0,
             3,
             0,
             5,
             0,
             0,
             2,
             2,
             3,
             1,
             0,
             0,
             3,
             2,
             0,
             0,
             0,
             3,
             7,
             0,
             1,
             0,
             2
            ],
            "coloraxis": "coloraxis",
            "size": [
             0,
             0,
             0,
             0,
             0,
             0,
             3,
             0,
             5,
             0,
             0,
             2,
             2,
             3,
             1,
             0,
             0,
             3,
             2,
             0,
             0,
             0,
             3,
             7,
             0,
             1,
             0,
             2
            ],
            "sizemode": "area",
            "sizeref": 0.1875
           },
           "name": "",
           "showlegend": false,
           "type": "scattergeo"
          }
         ],
         "name": "01/25/2020"
        },
        {
         "data": [
          {
           "geo": "geo",
           "hoverlabel": {
            "namelength": 0
           },
           "hovertemplate": "<b>%{hovertext}</b><br><br>Date=01/26/2020<br>Confirmed=%{marker.color}<br>Country/Region=%{location}",
           "hovertext": [
            "Australia",
            "Belgium",
            "Cambodia",
            "Canada",
            "Egypt",
            "Finland",
            "France",
            "Germany",
            "Hong Kong",
            "India",
            "Italy",
            "Japan",
            "Macau",
            "Malaysia",
            "Nepal",
            "Philippines",
            "Russia",
            "Singapore",
            "South Korea",
            "Spain",
            "Sri Lanka",
            "Sweden",
            "Taiwan",
            "Thailand",
            "UK",
            "US",
            "United Arab Emirates",
            "Vietnam"
           ],
           "legendgroup": "",
           "locationmode": "country names",
           "locations": [
            "Australia",
            "Belgium",
            "Cambodia",
            "Canada",
            "Egypt",
            "Finland",
            "France",
            "Germany",
            "Hong Kong",
            "India",
            "Italy",
            "Japan",
            "Macau",
            "Malaysia",
            "Nepal",
            "Philippines",
            "Russia",
            "Singapore",
            "South Korea",
            "Spain",
            "Sri Lanka",
            "Sweden",
            "Taiwan",
            "Thailand",
            "UK",
            "US",
            "United Arab Emirates",
            "Vietnam"
           ],
           "marker": {
            "color": [
             3,
             0,
             0,
             1,
             0,
             0,
             3,
             0,
             8,
             0,
             0,
             4,
             5,
             4,
             1,
             0,
             0,
             4,
             3,
             0,
             0,
             0,
             4,
             8,
             0,
             1,
             0,
             2
            ],
            "coloraxis": "coloraxis",
            "size": [
             3,
             0,
             0,
             1,
             0,
             0,
             3,
             0,
             8,
             0,
             0,
             4,
             5,
             4,
             1,
             0,
             0,
             4,
             3,
             0,
             0,
             0,
             4,
             8,
             0,
             1,
             0,
             2
            ],
            "sizemode": "area",
            "sizeref": 0.1875
           },
           "name": "",
           "showlegend": false,
           "type": "scattergeo"
          }
         ],
         "name": "01/26/2020"
        },
        {
         "data": [
          {
           "geo": "geo",
           "hoverlabel": {
            "namelength": 0
           },
           "hovertemplate": "<b>%{hovertext}</b><br><br>Date=01/27/2020<br>Confirmed=%{marker.color}<br>Country/Region=%{location}",
           "hovertext": [
            "Australia",
            "Belgium",
            "Cambodia",
            "Canada",
            "Egypt",
            "Finland",
            "France",
            "Germany",
            "Hong Kong",
            "India",
            "Italy",
            "Japan",
            "Macau",
            "Malaysia",
            "Nepal",
            "Philippines",
            "Russia",
            "Singapore",
            "South Korea",
            "Spain",
            "Sri Lanka",
            "Sweden",
            "Taiwan",
            "Thailand",
            "UK",
            "US",
            "United Arab Emirates",
            "Vietnam"
           ],
           "legendgroup": "",
           "locationmode": "country names",
           "locations": [
            "Australia",
            "Belgium",
            "Cambodia",
            "Canada",
            "Egypt",
            "Finland",
            "France",
            "Germany",
            "Hong Kong",
            "India",
            "Italy",
            "Japan",
            "Macau",
            "Malaysia",
            "Nepal",
            "Philippines",
            "Russia",
            "Singapore",
            "South Korea",
            "Spain",
            "Sri Lanka",
            "Sweden",
            "Taiwan",
            "Thailand",
            "UK",
            "US",
            "United Arab Emirates",
            "Vietnam"
           ],
           "marker": {
            "color": [
             4,
             0,
             1,
             1,
             0,
             0,
             3,
             1,
             8,
             0,
             0,
             4,
             6,
             4,
             1,
             0,
             0,
             5,
             4,
             0,
             1,
             0,
             5,
             8,
             0,
             1,
             0,
             2
            ],
            "coloraxis": "coloraxis",
            "size": [
             4,
             0,
             1,
             1,
             0,
             0,
             3,
             1,
             8,
             0,
             0,
             4,
             6,
             4,
             1,
             0,
             0,
             5,
             4,
             0,
             1,
             0,
             5,
             8,
             0,
             1,
             0,
             2
            ],
            "sizemode": "area",
            "sizeref": 0.1875
           },
           "name": "",
           "showlegend": false,
           "type": "scattergeo"
          }
         ],
         "name": "01/27/2020"
        },
        {
         "data": [
          {
           "geo": "geo",
           "hoverlabel": {
            "namelength": 0
           },
           "hovertemplate": "<b>%{hovertext}</b><br><br>Date=01/28/2020<br>Confirmed=%{marker.color}<br>Country/Region=%{location}",
           "hovertext": [
            "Australia",
            "Belgium",
            "Cambodia",
            "Canada",
            "Egypt",
            "Finland",
            "France",
            "Germany",
            "Hong Kong",
            "India",
            "Italy",
            "Japan",
            "Macau",
            "Malaysia",
            "Nepal",
            "Philippines",
            "Russia",
            "Singapore",
            "South Korea",
            "Spain",
            "Sri Lanka",
            "Sweden",
            "Taiwan",
            "Thailand",
            "UK",
            "US",
            "United Arab Emirates",
            "Vietnam"
           ],
           "legendgroup": "",
           "locationmode": "country names",
           "locations": [
            "Australia",
            "Belgium",
            "Cambodia",
            "Canada",
            "Egypt",
            "Finland",
            "France",
            "Germany",
            "Hong Kong",
            "India",
            "Italy",
            "Japan",
            "Macau",
            "Malaysia",
            "Nepal",
            "Philippines",
            "Russia",
            "Singapore",
            "South Korea",
            "Spain",
            "Sri Lanka",
            "Sweden",
            "Taiwan",
            "Thailand",
            "UK",
            "US",
            "United Arab Emirates",
            "Vietnam"
           ],
           "marker": {
            "color": [
             4,
             0,
             1,
             1,
             0,
             0,
             4,
             4,
             8,
             0,
             0,
             7,
             7,
             4,
             1,
             0,
             0,
             7,
             4,
             0,
             1,
             0,
             8,
             14,
             0,
             1,
             0,
             2
            ],
            "coloraxis": "coloraxis",
            "size": [
             4,
             0,
             1,
             1,
             0,
             0,
             4,
             4,
             8,
             0,
             0,
             7,
             7,
             4,
             1,
             0,
             0,
             7,
             4,
             0,
             1,
             0,
             8,
             14,
             0,
             1,
             0,
             2
            ],
            "sizemode": "area",
            "sizeref": 0.1875
           },
           "name": "",
           "showlegend": false,
           "type": "scattergeo"
          }
         ],
         "name": "01/28/2020"
        },
        {
         "data": [
          {
           "geo": "geo",
           "hoverlabel": {
            "namelength": 0
           },
           "hovertemplate": "<b>%{hovertext}</b><br><br>Date=01/29/2020<br>Confirmed=%{marker.color}<br>Country/Region=%{location}",
           "hovertext": [
            "Australia",
            "Belgium",
            "Cambodia",
            "Canada",
            "Egypt",
            "Finland",
            "France",
            "Germany",
            "Hong Kong",
            "India",
            "Italy",
            "Japan",
            "Macau",
            "Malaysia",
            "Nepal",
            "Philippines",
            "Russia",
            "Singapore",
            "South Korea",
            "Spain",
            "Sri Lanka",
            "Sweden",
            "Taiwan",
            "Thailand",
            "UK",
            "US",
            "United Arab Emirates",
            "Vietnam"
           ],
           "legendgroup": "",
           "locationmode": "country names",
           "locations": [
            "Australia",
            "Belgium",
            "Cambodia",
            "Canada",
            "Egypt",
            "Finland",
            "France",
            "Germany",
            "Hong Kong",
            "India",
            "Italy",
            "Japan",
            "Macau",
            "Malaysia",
            "Nepal",
            "Philippines",
            "Russia",
            "Singapore",
            "South Korea",
            "Spain",
            "Sri Lanka",
            "Sweden",
            "Taiwan",
            "Thailand",
            "UK",
            "US",
            "United Arab Emirates",
            "Vietnam"
           ],
           "marker": {
            "color": [
             4,
             0,
             1,
             1,
             0,
             1,
             5,
             4,
             10,
             0,
             0,
             7,
             7,
             7,
             1,
             0,
             0,
             7,
             4,
             0,
             1,
             0,
             8,
             14,
             0,
             1,
             4,
             2
            ],
            "coloraxis": "coloraxis",
            "size": [
             4,
             0,
             1,
             1,
             0,
             1,
             5,
             4,
             10,
             0,
             0,
             7,
             7,
             7,
             1,
             0,
             0,
             7,
             4,
             0,
             1,
             0,
             8,
             14,
             0,
             1,
             4,
             2
            ],
            "sizemode": "area",
            "sizeref": 0.1875
           },
           "name": "",
           "showlegend": false,
           "type": "scattergeo"
          }
         ],
         "name": "01/29/2020"
        },
        {
         "data": [
          {
           "geo": "geo",
           "hoverlabel": {
            "namelength": 0
           },
           "hovertemplate": "<b>%{hovertext}</b><br><br>Date=01/30/2020<br>Confirmed=%{marker.color}<br>Country/Region=%{location}",
           "hovertext": [
            "Australia",
            "Belgium",
            "Cambodia",
            "Canada",
            "Egypt",
            "Finland",
            "France",
            "Germany",
            "Hong Kong",
            "India",
            "Italy",
            "Japan",
            "Macau",
            "Malaysia",
            "Nepal",
            "Philippines",
            "Russia",
            "Singapore",
            "South Korea",
            "Spain",
            "Sri Lanka",
            "Sweden",
            "Taiwan",
            "Thailand",
            "UK",
            "US",
            "United Arab Emirates",
            "Vietnam"
           ],
           "legendgroup": "",
           "locationmode": "country names",
           "locations": [
            "Australia",
            "Belgium",
            "Cambodia",
            "Canada",
            "Egypt",
            "Finland",
            "France",
            "Germany",
            "Hong Kong",
            "India",
            "Italy",
            "Japan",
            "Macau",
            "Malaysia",
            "Nepal",
            "Philippines",
            "Russia",
            "Singapore",
            "South Korea",
            "Spain",
            "Sri Lanka",
            "Sweden",
            "Taiwan",
            "Thailand",
            "UK",
            "US",
            "United Arab Emirates",
            "Vietnam"
           ],
           "marker": {
            "color": [
             4,
             0,
             1,
             1,
             0,
             1,
             5,
             4,
             10,
             1,
             0,
             11,
             7,
             8,
             1,
             1,
             0,
             10,
             4,
             0,
             1,
             0,
             9,
             14,
             0,
             1,
             4,
             2
            ],
            "coloraxis": "coloraxis",
            "size": [
             4,
             0,
             1,
             1,
             0,
             1,
             5,
             4,
             10,
             1,
             0,
             11,
             7,
             8,
             1,
             1,
             0,
             10,
             4,
             0,
             1,
             0,
             9,
             14,
             0,
             1,
             4,
             2
            ],
            "sizemode": "area",
            "sizeref": 0.1875
           },
           "name": "",
           "showlegend": false,
           "type": "scattergeo"
          }
         ],
         "name": "01/30/2020"
        },
        {
         "data": [
          {
           "geo": "geo",
           "hoverlabel": {
            "namelength": 0
           },
           "hovertemplate": "<b>%{hovertext}</b><br><br>Date=01/31/2020<br>Confirmed=%{marker.color}<br>Country/Region=%{location}",
           "hovertext": [
            "Australia",
            "Belgium",
            "Cambodia",
            "Canada",
            "Egypt",
            "Finland",
            "France",
            "Germany",
            "Hong Kong",
            "India",
            "Italy",
            "Japan",
            "Macau",
            "Malaysia",
            "Nepal",
            "Philippines",
            "Russia",
            "Singapore",
            "South Korea",
            "Spain",
            "Sri Lanka",
            "Sweden",
            "Taiwan",
            "Thailand",
            "UK",
            "US",
            "United Arab Emirates",
            "Vietnam"
           ],
           "legendgroup": "",
           "locationmode": "country names",
           "locations": [
            "Australia",
            "Belgium",
            "Cambodia",
            "Canada",
            "Egypt",
            "Finland",
            "France",
            "Germany",
            "Hong Kong",
            "India",
            "Italy",
            "Japan",
            "Macau",
            "Malaysia",
            "Nepal",
            "Philippines",
            "Russia",
            "Singapore",
            "South Korea",
            "Spain",
            "Sri Lanka",
            "Sweden",
            "Taiwan",
            "Thailand",
            "UK",
            "US",
            "United Arab Emirates",
            "Vietnam"
           ],
           "marker": {
            "color": [
             4,
             0,
             1,
             2,
             0,
             1,
             5,
             5,
             12,
             1,
             2,
             15,
             7,
             8,
             1,
             1,
             2,
             13,
             11,
             0,
             1,
             1,
             10,
             19,
             2,
             2,
             4,
             2
            ],
            "coloraxis": "coloraxis",
            "size": [
             4,
             0,
             1,
             2,
             0,
             1,
             5,
             5,
             12,
             1,
             2,
             15,
             7,
             8,
             1,
             1,
             2,
             13,
             11,
             0,
             1,
             1,
             10,
             19,
             2,
             2,
             4,
             2
            ],
            "sizemode": "area",
            "sizeref": 0.1875
           },
           "name": "",
           "showlegend": false,
           "type": "scattergeo"
          }
         ],
         "name": "01/31/2020"
        },
        {
         "data": [
          {
           "geo": "geo",
           "hoverlabel": {
            "namelength": 0
           },
           "hovertemplate": "<b>%{hovertext}</b><br><br>Date=02/01/2020<br>Confirmed=%{marker.color}<br>Country/Region=%{location}",
           "hovertext": [
            "Australia",
            "Belgium",
            "Cambodia",
            "Canada",
            "Egypt",
            "Finland",
            "France",
            "Germany",
            "Hong Kong",
            "India",
            "Italy",
            "Japan",
            "Macau",
            "Malaysia",
            "Nepal",
            "Philippines",
            "Russia",
            "Singapore",
            "South Korea",
            "Spain",
            "Sri Lanka",
            "Sweden",
            "Taiwan",
            "Thailand",
            "UK",
            "US",
            "United Arab Emirates",
            "Vietnam"
           ],
           "legendgroup": "",
           "locationmode": "country names",
           "locations": [
            "Australia",
            "Belgium",
            "Cambodia",
            "Canada",
            "Egypt",
            "Finland",
            "France",
            "Germany",
            "Hong Kong",
            "India",
            "Italy",
            "Japan",
            "Macau",
            "Malaysia",
            "Nepal",
            "Philippines",
            "Russia",
            "Singapore",
            "South Korea",
            "Spain",
            "Sri Lanka",
            "Sweden",
            "Taiwan",
            "Thailand",
            "UK",
            "US",
            "United Arab Emirates",
            "Vietnam"
           ],
           "marker": {
            "color": [
             4,
             0,
             1,
             2,
             0,
             1,
             6,
             8,
             13,
             1,
             2,
             20,
             7,
             8,
             1,
             1,
             2,
             16,
             12,
             1,
             1,
             1,
             10,
             19,
             2,
             2,
             4,
             6
            ],
            "coloraxis": "coloraxis",
            "size": [
             4,
             0,
             1,
             2,
             0,
             1,
             6,
             8,
             13,
             1,
             2,
             20,
             7,
             8,
             1,
             1,
             2,
             16,
             12,
             1,
             1,
             1,
             10,
             19,
             2,
             2,
             4,
             6
            ],
            "sizemode": "area",
            "sizeref": 0.1875
           },
           "name": "",
           "showlegend": false,
           "type": "scattergeo"
          }
         ],
         "name": "02/01/2020"
        },
        {
         "data": [
          {
           "geo": "geo",
           "hoverlabel": {
            "namelength": 0
           },
           "hovertemplate": "<b>%{hovertext}</b><br><br>Date=02/02/2020<br>Confirmed=%{marker.color}<br>Country/Region=%{location}",
           "hovertext": [
            "Australia",
            "Belgium",
            "Cambodia",
            "Canada",
            "Egypt",
            "Finland",
            "France",
            "Germany",
            "Hong Kong",
            "India",
            "Italy",
            "Japan",
            "Macau",
            "Malaysia",
            "Nepal",
            "Philippines",
            "Russia",
            "Singapore",
            "South Korea",
            "Spain",
            "Sri Lanka",
            "Sweden",
            "Taiwan",
            "Thailand",
            "UK",
            "US",
            "United Arab Emirates",
            "Vietnam"
           ],
           "legendgroup": "",
           "locationmode": "country names",
           "locations": [
            "Australia",
            "Belgium",
            "Cambodia",
            "Canada",
            "Egypt",
            "Finland",
            "France",
            "Germany",
            "Hong Kong",
            "India",
            "Italy",
            "Japan",
            "Macau",
            "Malaysia",
            "Nepal",
            "Philippines",
            "Russia",
            "Singapore",
            "South Korea",
            "Spain",
            "Sri Lanka",
            "Sweden",
            "Taiwan",
            "Thailand",
            "UK",
            "US",
            "United Arab Emirates",
            "Vietnam"
           ],
           "marker": {
            "color": [
             4,
             0,
             1,
             2,
             0,
             1,
             6,
             10,
             15,
             2,
             2,
             20,
             8,
             8,
             1,
             2,
             2,
             18,
             15,
             1,
             1,
             1,
             10,
             19,
             2,
             2,
             5,
             6
            ],
            "coloraxis": "coloraxis",
            "size": [
             4,
             0,
             1,
             2,
             0,
             1,
             6,
             10,
             15,
             2,
             2,
             20,
             8,
             8,
             1,
             2,
             2,
             18,
             15,
             1,
             1,
             1,
             10,
             19,
             2,
             2,
             5,
             6
            ],
            "sizemode": "area",
            "sizeref": 0.1875
           },
           "name": "",
           "showlegend": false,
           "type": "scattergeo"
          }
         ],
         "name": "02/02/2020"
        },
        {
         "data": [
          {
           "geo": "geo",
           "hoverlabel": {
            "namelength": 0
           },
           "hovertemplate": "<b>%{hovertext}</b><br><br>Date=02/03/2020<br>Confirmed=%{marker.color}<br>Country/Region=%{location}",
           "hovertext": [
            "Australia",
            "Belgium",
            "Cambodia",
            "Canada",
            "Egypt",
            "Finland",
            "France",
            "Germany",
            "Hong Kong",
            "India",
            "Italy",
            "Japan",
            "Macau",
            "Malaysia",
            "Nepal",
            "Philippines",
            "Russia",
            "Singapore",
            "South Korea",
            "Spain",
            "Sri Lanka",
            "Sweden",
            "Taiwan",
            "Thailand",
            "UK",
            "US",
            "United Arab Emirates",
            "Vietnam"
           ],
           "legendgroup": "",
           "locationmode": "country names",
           "locations": [
            "Australia",
            "Belgium",
            "Cambodia",
            "Canada",
            "Egypt",
            "Finland",
            "France",
            "Germany",
            "Hong Kong",
            "India",
            "Italy",
            "Japan",
            "Macau",
            "Malaysia",
            "Nepal",
            "Philippines",
            "Russia",
            "Singapore",
            "South Korea",
            "Spain",
            "Sri Lanka",
            "Sweden",
            "Taiwan",
            "Thailand",
            "UK",
            "US",
            "United Arab Emirates",
            "Vietnam"
           ],
           "marker": {
            "color": [
             4,
             0,
             1,
             2,
             0,
             1,
             6,
             12,
             15,
             3,
             2,
             20,
             8,
             8,
             1,
             2,
             2,
             18,
             15,
             1,
             1,
             1,
             10,
             19,
             2,
             2,
             5,
             8
            ],
            "coloraxis": "coloraxis",
            "size": [
             4,
             0,
             1,
             2,
             0,
             1,
             6,
             12,
             15,
             3,
             2,
             20,
             8,
             8,
             1,
             2,
             2,
             18,
             15,
             1,
             1,
             1,
             10,
             19,
             2,
             2,
             5,
             8
            ],
            "sizemode": "area",
            "sizeref": 0.1875
           },
           "name": "",
           "showlegend": false,
           "type": "scattergeo"
          }
         ],
         "name": "02/03/2020"
        },
        {
         "data": [
          {
           "geo": "geo",
           "hoverlabel": {
            "namelength": 0
           },
           "hovertemplate": "<b>%{hovertext}</b><br><br>Date=02/04/2020<br>Confirmed=%{marker.color}<br>Country/Region=%{location}",
           "hovertext": [
            "Australia",
            "Belgium",
            "Cambodia",
            "Canada",
            "Egypt",
            "Finland",
            "France",
            "Germany",
            "Hong Kong",
            "India",
            "Italy",
            "Japan",
            "Macau",
            "Malaysia",
            "Nepal",
            "Philippines",
            "Russia",
            "Singapore",
            "South Korea",
            "Spain",
            "Sri Lanka",
            "Sweden",
            "Taiwan",
            "Thailand",
            "UK",
            "US",
            "United Arab Emirates",
            "Vietnam"
           ],
           "legendgroup": "",
           "locationmode": "country names",
           "locations": [
            "Australia",
            "Belgium",
            "Cambodia",
            "Canada",
            "Egypt",
            "Finland",
            "France",
            "Germany",
            "Hong Kong",
            "India",
            "Italy",
            "Japan",
            "Macau",
            "Malaysia",
            "Nepal",
            "Philippines",
            "Russia",
            "Singapore",
            "South Korea",
            "Spain",
            "Sri Lanka",
            "Sweden",
            "Taiwan",
            "Thailand",
            "UK",
            "US",
            "United Arab Emirates",
            "Vietnam"
           ],
           "marker": {
            "color": [
             4,
             1,
             1,
             2,
             0,
             1,
             6,
             12,
             17,
             3,
             2,
             22,
             10,
             10,
             1,
             2,
             2,
             24,
             16,
             1,
             1,
             1,
             11,
             25,
             2,
             2,
             5,
             8
            ],
            "coloraxis": "coloraxis",
            "size": [
             4,
             1,
             1,
             2,
             0,
             1,
             6,
             12,
             17,
             3,
             2,
             22,
             10,
             10,
             1,
             2,
             2,
             24,
             16,
             1,
             1,
             1,
             11,
             25,
             2,
             2,
             5,
             8
            ],
            "sizemode": "area",
            "sizeref": 0.1875
           },
           "name": "",
           "showlegend": false,
           "type": "scattergeo"
          }
         ],
         "name": "02/04/2020"
        },
        {
         "data": [
          {
           "geo": "geo",
           "hoverlabel": {
            "namelength": 0
           },
           "hovertemplate": "<b>%{hovertext}</b><br><br>Date=02/05/2020<br>Confirmed=%{marker.color}<br>Country/Region=%{location}",
           "hovertext": [
            "Australia",
            "Belgium",
            "Cambodia",
            "Canada",
            "Egypt",
            "Finland",
            "France",
            "Germany",
            "Hong Kong",
            "India",
            "Italy",
            "Japan",
            "Macau",
            "Malaysia",
            "Nepal",
            "Philippines",
            "Russia",
            "Singapore",
            "South Korea",
            "Spain",
            "Sri Lanka",
            "Sweden",
            "Taiwan",
            "Thailand",
            "UK",
            "US",
            "United Arab Emirates",
            "Vietnam"
           ],
           "legendgroup": "",
           "locationmode": "country names",
           "locations": [
            "Australia",
            "Belgium",
            "Cambodia",
            "Canada",
            "Egypt",
            "Finland",
            "France",
            "Germany",
            "Hong Kong",
            "India",
            "Italy",
            "Japan",
            "Macau",
            "Malaysia",
            "Nepal",
            "Philippines",
            "Russia",
            "Singapore",
            "South Korea",
            "Spain",
            "Sri Lanka",
            "Sweden",
            "Taiwan",
            "Thailand",
            "UK",
            "US",
            "United Arab Emirates",
            "Vietnam"
           ],
           "marker": {
            "color": [
             4,
             1,
             1,
             2,
             0,
             1,
             6,
             12,
             21,
             3,
             2,
             22,
             10,
             12,
             1,
             2,
             2,
             28,
             19,
             1,
             1,
             1,
             11,
             25,
             2,
             2,
             5,
             8
            ],
            "coloraxis": "coloraxis",
            "size": [
             4,
             1,
             1,
             2,
             0,
             1,
             6,
             12,
             21,
             3,
             2,
             22,
             10,
             12,
             1,
             2,
             2,
             28,
             19,
             1,
             1,
             1,
             11,
             25,
             2,
             2,
             5,
             8
            ],
            "sizemode": "area",
            "sizeref": 0.1875
           },
           "name": "",
           "showlegend": false,
           "type": "scattergeo"
          }
         ],
         "name": "02/05/2020"
        },
        {
         "data": [
          {
           "geo": "geo",
           "hoverlabel": {
            "namelength": 0
           },
           "hovertemplate": "<b>%{hovertext}</b><br><br>Date=02/06/2020<br>Confirmed=%{marker.color}<br>Country/Region=%{location}",
           "hovertext": [
            "Australia",
            "Belgium",
            "Cambodia",
            "Canada",
            "Egypt",
            "Finland",
            "France",
            "Germany",
            "Hong Kong",
            "India",
            "Italy",
            "Japan",
            "Macau",
            "Malaysia",
            "Nepal",
            "Philippines",
            "Russia",
            "Singapore",
            "South Korea",
            "Spain",
            "Sri Lanka",
            "Sweden",
            "Taiwan",
            "Thailand",
            "UK",
            "US",
            "United Arab Emirates",
            "Vietnam"
           ],
           "legendgroup": "",
           "locationmode": "country names",
           "locations": [
            "Australia",
            "Belgium",
            "Cambodia",
            "Canada",
            "Egypt",
            "Finland",
            "France",
            "Germany",
            "Hong Kong",
            "India",
            "Italy",
            "Japan",
            "Macau",
            "Malaysia",
            "Nepal",
            "Philippines",
            "Russia",
            "Singapore",
            "South Korea",
            "Spain",
            "Sri Lanka",
            "Sweden",
            "Taiwan",
            "Thailand",
            "UK",
            "US",
            "United Arab Emirates",
            "Vietnam"
           ],
           "marker": {
            "color": [
             4,
             1,
             1,
             2,
             0,
             1,
             6,
             12,
             24,
             3,
             2,
             45,
             10,
             12,
             1,
             2,
             2,
             28,
             23,
             1,
             1,
             1,
             16,
             25,
             2,
             2,
             5,
             10
            ],
            "coloraxis": "coloraxis",
            "size": [
             4,
             1,
             1,
             2,
             0,
             1,
             6,
             12,
             24,
             3,
             2,
             45,
             10,
             12,
             1,
             2,
             2,
             28,
             23,
             1,
             1,
             1,
             16,
             25,
             2,
             2,
             5,
             10
            ],
            "sizemode": "area",
            "sizeref": 0.1875
           },
           "name": "",
           "showlegend": false,
           "type": "scattergeo"
          }
         ],
         "name": "02/06/2020"
        },
        {
         "data": [
          {
           "geo": "geo",
           "hoverlabel": {
            "namelength": 0
           },
           "hovertemplate": "<b>%{hovertext}</b><br><br>Date=02/07/2020<br>Confirmed=%{marker.color}<br>Country/Region=%{location}",
           "hovertext": [
            "Australia",
            "Belgium",
            "Cambodia",
            "Canada",
            "Egypt",
            "Finland",
            "France",
            "Germany",
            "Hong Kong",
            "India",
            "Italy",
            "Japan",
            "Macau",
            "Malaysia",
            "Nepal",
            "Philippines",
            "Russia",
            "Singapore",
            "South Korea",
            "Spain",
            "Sri Lanka",
            "Sweden",
            "Taiwan",
            "Thailand",
            "UK",
            "US",
            "United Arab Emirates",
            "Vietnam"
           ],
           "legendgroup": "",
           "locationmode": "country names",
           "locations": [
            "Australia",
            "Belgium",
            "Cambodia",
            "Canada",
            "Egypt",
            "Finland",
            "France",
            "Germany",
            "Hong Kong",
            "India",
            "Italy",
            "Japan",
            "Macau",
            "Malaysia",
            "Nepal",
            "Philippines",
            "Russia",
            "Singapore",
            "South Korea",
            "Spain",
            "Sri Lanka",
            "Sweden",
            "Taiwan",
            "Thailand",
            "UK",
            "US",
            "United Arab Emirates",
            "Vietnam"
           ],
           "marker": {
            "color": [
             5,
             1,
             1,
             4,
             0,
             1,
             6,
             13,
             25,
             3,
             3,
             25,
             10,
             12,
             1,
             3,
             2,
             30,
             24,
             1,
             1,
             1,
             16,
             25,
             3,
             2,
             5,
             10
            ],
            "coloraxis": "coloraxis",
            "size": [
             5,
             1,
             1,
             4,
             0,
             1,
             6,
             13,
             25,
             3,
             3,
             25,
             10,
             12,
             1,
             3,
             2,
             30,
             24,
             1,
             1,
             1,
             16,
             25,
             3,
             2,
             5,
             10
            ],
            "sizemode": "area",
            "sizeref": 0.1875
           },
           "name": "",
           "showlegend": false,
           "type": "scattergeo"
          }
         ],
         "name": "02/07/2020"
        },
        {
         "data": [
          {
           "geo": "geo",
           "hoverlabel": {
            "namelength": 0
           },
           "hovertemplate": "<b>%{hovertext}</b><br><br>Date=02/08/2020<br>Confirmed=%{marker.color}<br>Country/Region=%{location}",
           "hovertext": [
            "Australia",
            "Belgium",
            "Cambodia",
            "Canada",
            "Egypt",
            "Finland",
            "France",
            "Germany",
            "Hong Kong",
            "India",
            "Italy",
            "Japan",
            "Macau",
            "Malaysia",
            "Nepal",
            "Philippines",
            "Russia",
            "Singapore",
            "South Korea",
            "Spain",
            "Sri Lanka",
            "Sweden",
            "Taiwan",
            "Thailand",
            "UK",
            "US",
            "United Arab Emirates",
            "Vietnam"
           ],
           "legendgroup": "",
           "locationmode": "country names",
           "locations": [
            "Australia",
            "Belgium",
            "Cambodia",
            "Canada",
            "Egypt",
            "Finland",
            "France",
            "Germany",
            "Hong Kong",
            "India",
            "Italy",
            "Japan",
            "Macau",
            "Malaysia",
            "Nepal",
            "Philippines",
            "Russia",
            "Singapore",
            "South Korea",
            "Spain",
            "Sri Lanka",
            "Sweden",
            "Taiwan",
            "Thailand",
            "UK",
            "US",
            "United Arab Emirates",
            "Vietnam"
           ],
           "marker": {
            "color": [
             5,
             1,
             1,
             4,
             0,
             1,
             11,
             13,
             26,
             3,
             3,
             25,
             10,
             16,
             1,
             3,
             2,
             33,
             24,
             1,
             1,
             1,
             17,
             32,
             3,
             2,
             7,
             13
            ],
            "coloraxis": "coloraxis",
            "size": [
             5,
             1,
             1,
             4,
             0,
             1,
             11,
             13,
             26,
             3,
             3,
             25,
             10,
             16,
             1,
             3,
             2,
             33,
             24,
             1,
             1,
             1,
             17,
             32,
             3,
             2,
             7,
             13
            ],
            "sizemode": "area",
            "sizeref": 0.1875
           },
           "name": "",
           "showlegend": false,
           "type": "scattergeo"
          }
         ],
         "name": "02/08/2020"
        },
        {
         "data": [
          {
           "geo": "geo",
           "hoverlabel": {
            "namelength": 0
           },
           "hovertemplate": "<b>%{hovertext}</b><br><br>Date=02/09/2020<br>Confirmed=%{marker.color}<br>Country/Region=%{location}",
           "hovertext": [
            "Australia",
            "Belgium",
            "Cambodia",
            "Canada",
            "Egypt",
            "Finland",
            "France",
            "Germany",
            "Hong Kong",
            "India",
            "Italy",
            "Japan",
            "Macau",
            "Malaysia",
            "Nepal",
            "Philippines",
            "Russia",
            "Singapore",
            "South Korea",
            "Spain",
            "Sri Lanka",
            "Sweden",
            "Taiwan",
            "Thailand",
            "UK",
            "US",
            "United Arab Emirates",
            "Vietnam"
           ],
           "legendgroup": "",
           "locationmode": "country names",
           "locations": [
            "Australia",
            "Belgium",
            "Cambodia",
            "Canada",
            "Egypt",
            "Finland",
            "France",
            "Germany",
            "Hong Kong",
            "India",
            "Italy",
            "Japan",
            "Macau",
            "Malaysia",
            "Nepal",
            "Philippines",
            "Russia",
            "Singapore",
            "South Korea",
            "Spain",
            "Sri Lanka",
            "Sweden",
            "Taiwan",
            "Thailand",
            "UK",
            "US",
            "United Arab Emirates",
            "Vietnam"
           ],
           "marker": {
            "color": [
             5,
             1,
             1,
             4,
             0,
             1,
             11,
             14,
             29,
             3,
             3,
             26,
             10,
             16,
             1,
             3,
             2,
             40,
             25,
             2,
             1,
             1,
             18,
             32,
             3,
             2,
             7,
             13
            ],
            "coloraxis": "coloraxis",
            "size": [
             5,
             1,
             1,
             4,
             0,
             1,
             11,
             14,
             29,
             3,
             3,
             26,
             10,
             16,
             1,
             3,
             2,
             40,
             25,
             2,
             1,
             1,
             18,
             32,
             3,
             2,
             7,
             13
            ],
            "sizemode": "area",
            "sizeref": 0.1875
           },
           "name": "",
           "showlegend": false,
           "type": "scattergeo"
          }
         ],
         "name": "02/09/2020"
        },
        {
         "data": [
          {
           "geo": "geo",
           "hoverlabel": {
            "namelength": 0
           },
           "hovertemplate": "<b>%{hovertext}</b><br><br>Date=02/10/2020<br>Confirmed=%{marker.color}<br>Country/Region=%{location}",
           "hovertext": [
            "Australia",
            "Belgium",
            "Cambodia",
            "Canada",
            "Egypt",
            "Finland",
            "France",
            "Germany",
            "Hong Kong",
            "India",
            "Italy",
            "Japan",
            "Macau",
            "Malaysia",
            "Nepal",
            "Philippines",
            "Russia",
            "Singapore",
            "South Korea",
            "Spain",
            "Sri Lanka",
            "Sweden",
            "Taiwan",
            "Thailand",
            "UK",
            "US",
            "United Arab Emirates",
            "Vietnam"
           ],
           "legendgroup": "",
           "locationmode": "country names",
           "locations": [
            "Australia",
            "Belgium",
            "Cambodia",
            "Canada",
            "Egypt",
            "Finland",
            "France",
            "Germany",
            "Hong Kong",
            "India",
            "Italy",
            "Japan",
            "Macau",
            "Malaysia",
            "Nepal",
            "Philippines",
            "Russia",
            "Singapore",
            "South Korea",
            "Spain",
            "Sri Lanka",
            "Sweden",
            "Taiwan",
            "Thailand",
            "UK",
            "US",
            "United Arab Emirates",
            "Vietnam"
           ],
           "marker": {
            "color": [
             5,
             1,
             1,
             4,
             0,
             1,
             11,
             14,
             38,
             3,
             3,
             26,
             10,
             18,
             1,
             3,
             2,
             45,
             27,
             2,
             1,
             1,
             18,
             32,
             8,
             2,
             8,
             14
            ],
            "coloraxis": "coloraxis",
            "size": [
             5,
             1,
             1,
             4,
             0,
             1,
             11,
             14,
             38,
             3,
             3,
             26,
             10,
             18,
             1,
             3,
             2,
             45,
             27,
             2,
             1,
             1,
             18,
             32,
             8,
             2,
             8,
             14
            ],
            "sizemode": "area",
            "sizeref": 0.1875
           },
           "name": "",
           "showlegend": false,
           "type": "scattergeo"
          }
         ],
         "name": "02/10/2020"
        },
        {
         "data": [
          {
           "geo": "geo",
           "hoverlabel": {
            "namelength": 0
           },
           "hovertemplate": "<b>%{hovertext}</b><br><br>Date=02/11/2020<br>Confirmed=%{marker.color}<br>Country/Region=%{location}",
           "hovertext": [
            "Australia",
            "Belgium",
            "Cambodia",
            "Canada",
            "Egypt",
            "Finland",
            "France",
            "Germany",
            "Hong Kong",
            "India",
            "Italy",
            "Japan",
            "Macau",
            "Malaysia",
            "Nepal",
            "Philippines",
            "Russia",
            "Singapore",
            "South Korea",
            "Spain",
            "Sri Lanka",
            "Sweden",
            "Taiwan",
            "Thailand",
            "UK",
            "US",
            "United Arab Emirates",
            "Vietnam"
           ],
           "legendgroup": "",
           "locationmode": "country names",
           "locations": [
            "Australia",
            "Belgium",
            "Cambodia",
            "Canada",
            "Egypt",
            "Finland",
            "France",
            "Germany",
            "Hong Kong",
            "India",
            "Italy",
            "Japan",
            "Macau",
            "Malaysia",
            "Nepal",
            "Philippines",
            "Russia",
            "Singapore",
            "South Korea",
            "Spain",
            "Sri Lanka",
            "Sweden",
            "Taiwan",
            "Thailand",
            "UK",
            "US",
            "United Arab Emirates",
            "Vietnam"
           ],
           "marker": {
            "color": [
             5,
             1,
             1,
             4,
             0,
             1,
             11,
             16,
             49,
             3,
             3,
             26,
             10,
             18,
             1,
             3,
             2,
             47,
             28,
             2,
             1,
             1,
             18,
             33,
             8,
             2,
             8,
             15
            ],
            "coloraxis": "coloraxis",
            "size": [
             5,
             1,
             1,
             4,
             0,
             1,
             11,
             16,
             49,
             3,
             3,
             26,
             10,
             18,
             1,
             3,
             2,
             47,
             28,
             2,
             1,
             1,
             18,
             33,
             8,
             2,
             8,
             15
            ],
            "sizemode": "area",
            "sizeref": 0.1875
           },
           "name": "",
           "showlegend": false,
           "type": "scattergeo"
          }
         ],
         "name": "02/11/2020"
        },
        {
         "data": [
          {
           "geo": "geo",
           "hoverlabel": {
            "namelength": 0
           },
           "hovertemplate": "<b>%{hovertext}</b><br><br>Date=02/12/2020<br>Confirmed=%{marker.color}<br>Country/Region=%{location}",
           "hovertext": [
            "Australia",
            "Belgium",
            "Cambodia",
            "Canada",
            "Egypt",
            "Finland",
            "France",
            "Germany",
            "Hong Kong",
            "India",
            "Italy",
            "Japan",
            "Macau",
            "Malaysia",
            "Nepal",
            "Philippines",
            "Russia",
            "Singapore",
            "South Korea",
            "Spain",
            "Sri Lanka",
            "Sweden",
            "Taiwan",
            "Thailand",
            "UK",
            "US",
            "United Arab Emirates",
            "Vietnam"
           ],
           "legendgroup": "",
           "locationmode": "country names",
           "locations": [
            "Australia",
            "Belgium",
            "Cambodia",
            "Canada",
            "Egypt",
            "Finland",
            "France",
            "Germany",
            "Hong Kong",
            "India",
            "Italy",
            "Japan",
            "Macau",
            "Malaysia",
            "Nepal",
            "Philippines",
            "Russia",
            "Singapore",
            "South Korea",
            "Spain",
            "Sri Lanka",
            "Sweden",
            "Taiwan",
            "Thailand",
            "UK",
            "US",
            "United Arab Emirates",
            "Vietnam"
           ],
           "marker": {
            "color": [
             5,
             1,
             1,
             4,
             0,
             1,
             11,
             16,
             50,
             3,
             3,
             28,
             10,
             18,
             1,
             3,
             2,
             50,
             28,
             2,
             1,
             1,
             18,
             33,
             9,
             2,
             8,
             15
            ],
            "coloraxis": "coloraxis",
            "size": [
             5,
             1,
             1,
             4,
             0,
             1,
             11,
             16,
             50,
             3,
             3,
             28,
             10,
             18,
             1,
             3,
             2,
             50,
             28,
             2,
             1,
             1,
             18,
             33,
             9,
             2,
             8,
             15
            ],
            "sizemode": "area",
            "sizeref": 0.1875
           },
           "name": "",
           "showlegend": false,
           "type": "scattergeo"
          }
         ],
         "name": "02/12/2020"
        },
        {
         "data": [
          {
           "geo": "geo",
           "hoverlabel": {
            "namelength": 0
           },
           "hovertemplate": "<b>%{hovertext}</b><br><br>Date=02/13/2020<br>Confirmed=%{marker.color}<br>Country/Region=%{location}",
           "hovertext": [
            "Australia",
            "Belgium",
            "Cambodia",
            "Canada",
            "Egypt",
            "Finland",
            "France",
            "Germany",
            "Hong Kong",
            "India",
            "Italy",
            "Japan",
            "Macau",
            "Malaysia",
            "Nepal",
            "Philippines",
            "Russia",
            "Singapore",
            "South Korea",
            "Spain",
            "Sri Lanka",
            "Sweden",
            "Taiwan",
            "Thailand",
            "UK",
            "US",
            "United Arab Emirates",
            "Vietnam"
           ],
           "legendgroup": "",
           "locationmode": "country names",
           "locations": [
            "Australia",
            "Belgium",
            "Cambodia",
            "Canada",
            "Egypt",
            "Finland",
            "France",
            "Germany",
            "Hong Kong",
            "India",
            "Italy",
            "Japan",
            "Macau",
            "Malaysia",
            "Nepal",
            "Philippines",
            "Russia",
            "Singapore",
            "South Korea",
            "Spain",
            "Sri Lanka",
            "Sweden",
            "Taiwan",
            "Thailand",
            "UK",
            "US",
            "United Arab Emirates",
            "Vietnam"
           ],
           "marker": {
            "color": [
             5,
             1,
             1,
             4,
             0,
             1,
             11,
             16,
             53,
             3,
             3,
             28,
             10,
             19,
             1,
             3,
             2,
             58,
             28,
             2,
             1,
             1,
             18,
             33,
             9,
             2,
             8,
             16
            ],
            "coloraxis": "coloraxis",
            "size": [
             5,
             1,
             1,
             4,
             0,
             1,
             11,
             16,
             53,
             3,
             3,
             28,
             10,
             19,
             1,
             3,
             2,
             58,
             28,
             2,
             1,
             1,
             18,
             33,
             9,
             2,
             8,
             16
            ],
            "sizemode": "area",
            "sizeref": 0.1875
           },
           "name": "",
           "showlegend": false,
           "type": "scattergeo"
          }
         ],
         "name": "02/13/2020"
        },
        {
         "data": [
          {
           "geo": "geo",
           "hoverlabel": {
            "namelength": 0
           },
           "hovertemplate": "<b>%{hovertext}</b><br><br>Date=02/14/2020<br>Confirmed=%{marker.color}<br>Country/Region=%{location}",
           "hovertext": [
            "Australia",
            "Belgium",
            "Cambodia",
            "Canada",
            "Egypt",
            "Finland",
            "France",
            "Germany",
            "Hong Kong",
            "India",
            "Italy",
            "Japan",
            "Macau",
            "Malaysia",
            "Nepal",
            "Philippines",
            "Russia",
            "Singapore",
            "South Korea",
            "Spain",
            "Sri Lanka",
            "Sweden",
            "Taiwan",
            "Thailand",
            "UK",
            "US",
            "United Arab Emirates",
            "Vietnam"
           ],
           "legendgroup": "",
           "locationmode": "country names",
           "locations": [
            "Australia",
            "Belgium",
            "Cambodia",
            "Canada",
            "Egypt",
            "Finland",
            "France",
            "Germany",
            "Hong Kong",
            "India",
            "Italy",
            "Japan",
            "Macau",
            "Malaysia",
            "Nepal",
            "Philippines",
            "Russia",
            "Singapore",
            "South Korea",
            "Spain",
            "Sri Lanka",
            "Sweden",
            "Taiwan",
            "Thailand",
            "UK",
            "US",
            "United Arab Emirates",
            "Vietnam"
           ],
           "marker": {
            "color": [
             5,
             1,
             1,
             4,
             1,
             1,
             11,
             16,
             56,
             3,
             3,
             29,
             10,
             19,
             1,
             3,
             2,
             67,
             28,
             2,
             1,
             1,
             18,
             33,
             9,
             2,
             8,
             16
            ],
            "coloraxis": "coloraxis",
            "size": [
             5,
             1,
             1,
             4,
             1,
             1,
             11,
             16,
             56,
             3,
             3,
             29,
             10,
             19,
             1,
             3,
             2,
             67,
             28,
             2,
             1,
             1,
             18,
             33,
             9,
             2,
             8,
             16
            ],
            "sizemode": "area",
            "sizeref": 0.1875
           },
           "name": "",
           "showlegend": false,
           "type": "scattergeo"
          }
         ],
         "name": "02/14/2020"
        },
        {
         "data": [
          {
           "geo": "geo",
           "hoverlabel": {
            "namelength": 0
           },
           "hovertemplate": "<b>%{hovertext}</b><br><br>Date=02/15/2020<br>Confirmed=%{marker.color}<br>Country/Region=%{location}",
           "hovertext": [
            "Australia",
            "Belgium",
            "Cambodia",
            "Canada",
            "Egypt",
            "Finland",
            "France",
            "Germany",
            "Hong Kong",
            "India",
            "Italy",
            "Japan",
            "Macau",
            "Malaysia",
            "Nepal",
            "Philippines",
            "Russia",
            "Singapore",
            "South Korea",
            "Spain",
            "Sri Lanka",
            "Sweden",
            "Taiwan",
            "Thailand",
            "UK",
            "US",
            "United Arab Emirates",
            "Vietnam"
           ],
           "legendgroup": "",
           "locationmode": "country names",
           "locations": [
            "Australia",
            "Belgium",
            "Cambodia",
            "Canada",
            "Egypt",
            "Finland",
            "France",
            "Germany",
            "Hong Kong",
            "India",
            "Italy",
            "Japan",
            "Macau",
            "Malaysia",
            "Nepal",
            "Philippines",
            "Russia",
            "Singapore",
            "South Korea",
            "Spain",
            "Sri Lanka",
            "Sweden",
            "Taiwan",
            "Thailand",
            "UK",
            "US",
            "United Arab Emirates",
            "Vietnam"
           ],
           "marker": {
            "color": [
             5,
             1,
             1,
             4,
             1,
             1,
             12,
             16,
             56,
             3,
             3,
             43,
             10,
             22,
             1,
             3,
             2,
             72,
             28,
             2,
             1,
             1,
             18,
             33,
             9,
             2,
             8,
             16
            ],
            "coloraxis": "coloraxis",
            "size": [
             5,
             1,
             1,
             4,
             1,
             1,
             12,
             16,
             56,
             3,
             3,
             43,
             10,
             22,
             1,
             3,
             2,
             72,
             28,
             2,
             1,
             1,
             18,
             33,
             9,
             2,
             8,
             16
            ],
            "sizemode": "area",
            "sizeref": 0.1875
           },
           "name": "",
           "showlegend": false,
           "type": "scattergeo"
          }
         ],
         "name": "02/15/2020"
        },
        {
         "data": [
          {
           "geo": "geo",
           "hoverlabel": {
            "namelength": 0
           },
           "hovertemplate": "<b>%{hovertext}</b><br><br>Date=02/16/2020<br>Confirmed=%{marker.color}<br>Country/Region=%{location}",
           "hovertext": [
            "Australia",
            "Belgium",
            "Cambodia",
            "Canada",
            "Egypt",
            "Finland",
            "France",
            "Germany",
            "Hong Kong",
            "India",
            "Italy",
            "Japan",
            "Macau",
            "Malaysia",
            "Nepal",
            "Philippines",
            "Russia",
            "Singapore",
            "South Korea",
            "Spain",
            "Sri Lanka",
            "Sweden",
            "Taiwan",
            "Thailand",
            "UK",
            "US",
            "United Arab Emirates",
            "Vietnam"
           ],
           "legendgroup": "",
           "locationmode": "country names",
           "locations": [
            "Australia",
            "Belgium",
            "Cambodia",
            "Canada",
            "Egypt",
            "Finland",
            "France",
            "Germany",
            "Hong Kong",
            "India",
            "Italy",
            "Japan",
            "Macau",
            "Malaysia",
            "Nepal",
            "Philippines",
            "Russia",
            "Singapore",
            "South Korea",
            "Spain",
            "Sri Lanka",
            "Sweden",
            "Taiwan",
            "Thailand",
            "UK",
            "US",
            "United Arab Emirates",
            "Vietnam"
           ],
           "marker": {
            "color": [
             5,
             1,
             1,
             4,
             1,
             1,
             12,
             16,
             57,
             3,
             3,
             59,
             10,
             22,
             1,
             3,
             2,
             75,
             29,
             2,
             1,
             1,
             20,
             34,
             9,
             2,
             9,
             16
            ],
            "coloraxis": "coloraxis",
            "size": [
             5,
             1,
             1,
             4,
             1,
             1,
             12,
             16,
             57,
             3,
             3,
             59,
             10,
             22,
             1,
             3,
             2,
             75,
             29,
             2,
             1,
             1,
             20,
             34,
             9,
             2,
             9,
             16
            ],
            "sizemode": "area",
            "sizeref": 0.1875
           },
           "name": "",
           "showlegend": false,
           "type": "scattergeo"
          }
         ],
         "name": "02/16/2020"
        }
       ],
       "layout": {
        "coloraxis": {
         "cmax": 77,
         "cmin": 0,
         "colorbar": {
          "title": {
           "text": "Confirmed"
          }
         },
         "colorscale": [
          [
           0,
           "#0d0887"
          ],
          [
           0.1111111111111111,
           "#46039f"
          ],
          [
           0.2222222222222222,
           "#7201a8"
          ],
          [
           0.3333333333333333,
           "#9c179e"
          ],
          [
           0.4444444444444444,
           "#bd3786"
          ],
          [
           0.5555555555555556,
           "#d8576b"
          ],
          [
           0.6666666666666666,
           "#ed7953"
          ],
          [
           0.7777777777777778,
           "#fb9f3a"
          ],
          [
           0.8888888888888888,
           "#fdca26"
          ],
          [
           1,
           "#f0f921"
          ]
         ],
         "showscale": false
        },
        "geo": {
         "center": {},
         "domain": {
          "x": [
           0,
           1
          ],
          "y": [
           0,
           1
          ]
         },
         "projection": {
          "type": "natural earth"
         }
        },
        "legend": {
         "itemsizing": "constant",
         "tracegroupgap": 0
        },
        "sliders": [
         {
          "active": 0,
          "currentvalue": {
           "prefix": "Date="
          },
          "len": 0.9,
          "pad": {
           "b": 10,
           "t": 60
          },
          "steps": [
           {
            "args": [
             [
              "01/22/2020"
             ],
             {
              "frame": {
               "duration": 0,
               "redraw": true
              },
              "fromcurrent": true,
              "mode": "immediate",
              "transition": {
               "duration": 0,
               "easing": "linear"
              }
             }
            ],
            "label": "01/22/2020",
            "method": "animate"
           },
           {
            "args": [
             [
              "01/23/2020"
             ],
             {
              "frame": {
               "duration": 0,
               "redraw": true
              },
              "fromcurrent": true,
              "mode": "immediate",
              "transition": {
               "duration": 0,
               "easing": "linear"
              }
             }
            ],
            "label": "01/23/2020",
            "method": "animate"
           },
           {
            "args": [
             [
              "01/24/2020"
             ],
             {
              "frame": {
               "duration": 0,
               "redraw": true
              },
              "fromcurrent": true,
              "mode": "immediate",
              "transition": {
               "duration": 0,
               "easing": "linear"
              }
             }
            ],
            "label": "01/24/2020",
            "method": "animate"
           },
           {
            "args": [
             [
              "01/25/2020"
             ],
             {
              "frame": {
               "duration": 0,
               "redraw": true
              },
              "fromcurrent": true,
              "mode": "immediate",
              "transition": {
               "duration": 0,
               "easing": "linear"
              }
             }
            ],
            "label": "01/25/2020",
            "method": "animate"
           },
           {
            "args": [
             [
              "01/26/2020"
             ],
             {
              "frame": {
               "duration": 0,
               "redraw": true
              },
              "fromcurrent": true,
              "mode": "immediate",
              "transition": {
               "duration": 0,
               "easing": "linear"
              }
             }
            ],
            "label": "01/26/2020",
            "method": "animate"
           },
           {
            "args": [
             [
              "01/27/2020"
             ],
             {
              "frame": {
               "duration": 0,
               "redraw": true
              },
              "fromcurrent": true,
              "mode": "immediate",
              "transition": {
               "duration": 0,
               "easing": "linear"
              }
             }
            ],
            "label": "01/27/2020",
            "method": "animate"
           },
           {
            "args": [
             [
              "01/28/2020"
             ],
             {
              "frame": {
               "duration": 0,
               "redraw": true
              },
              "fromcurrent": true,
              "mode": "immediate",
              "transition": {
               "duration": 0,
               "easing": "linear"
              }
             }
            ],
            "label": "01/28/2020",
            "method": "animate"
           },
           {
            "args": [
             [
              "01/29/2020"
             ],
             {
              "frame": {
               "duration": 0,
               "redraw": true
              },
              "fromcurrent": true,
              "mode": "immediate",
              "transition": {
               "duration": 0,
               "easing": "linear"
              }
             }
            ],
            "label": "01/29/2020",
            "method": "animate"
           },
           {
            "args": [
             [
              "01/30/2020"
             ],
             {
              "frame": {
               "duration": 0,
               "redraw": true
              },
              "fromcurrent": true,
              "mode": "immediate",
              "transition": {
               "duration": 0,
               "easing": "linear"
              }
             }
            ],
            "label": "01/30/2020",
            "method": "animate"
           },
           {
            "args": [
             [
              "01/31/2020"
             ],
             {
              "frame": {
               "duration": 0,
               "redraw": true
              },
              "fromcurrent": true,
              "mode": "immediate",
              "transition": {
               "duration": 0,
               "easing": "linear"
              }
             }
            ],
            "label": "01/31/2020",
            "method": "animate"
           },
           {
            "args": [
             [
              "02/01/2020"
             ],
             {
              "frame": {
               "duration": 0,
               "redraw": true
              },
              "fromcurrent": true,
              "mode": "immediate",
              "transition": {
               "duration": 0,
               "easing": "linear"
              }
             }
            ],
            "label": "02/01/2020",
            "method": "animate"
           },
           {
            "args": [
             [
              "02/02/2020"
             ],
             {
              "frame": {
               "duration": 0,
               "redraw": true
              },
              "fromcurrent": true,
              "mode": "immediate",
              "transition": {
               "duration": 0,
               "easing": "linear"
              }
             }
            ],
            "label": "02/02/2020",
            "method": "animate"
           },
           {
            "args": [
             [
              "02/03/2020"
             ],
             {
              "frame": {
               "duration": 0,
               "redraw": true
              },
              "fromcurrent": true,
              "mode": "immediate",
              "transition": {
               "duration": 0,
               "easing": "linear"
              }
             }
            ],
            "label": "02/03/2020",
            "method": "animate"
           },
           {
            "args": [
             [
              "02/04/2020"
             ],
             {
              "frame": {
               "duration": 0,
               "redraw": true
              },
              "fromcurrent": true,
              "mode": "immediate",
              "transition": {
               "duration": 0,
               "easing": "linear"
              }
             }
            ],
            "label": "02/04/2020",
            "method": "animate"
           },
           {
            "args": [
             [
              "02/05/2020"
             ],
             {
              "frame": {
               "duration": 0,
               "redraw": true
              },
              "fromcurrent": true,
              "mode": "immediate",
              "transition": {
               "duration": 0,
               "easing": "linear"
              }
             }
            ],
            "label": "02/05/2020",
            "method": "animate"
           },
           {
            "args": [
             [
              "02/06/2020"
             ],
             {
              "frame": {
               "duration": 0,
               "redraw": true
              },
              "fromcurrent": true,
              "mode": "immediate",
              "transition": {
               "duration": 0,
               "easing": "linear"
              }
             }
            ],
            "label": "02/06/2020",
            "method": "animate"
           },
           {
            "args": [
             [
              "02/07/2020"
             ],
             {
              "frame": {
               "duration": 0,
               "redraw": true
              },
              "fromcurrent": true,
              "mode": "immediate",
              "transition": {
               "duration": 0,
               "easing": "linear"
              }
             }
            ],
            "label": "02/07/2020",
            "method": "animate"
           },
           {
            "args": [
             [
              "02/08/2020"
             ],
             {
              "frame": {
               "duration": 0,
               "redraw": true
              },
              "fromcurrent": true,
              "mode": "immediate",
              "transition": {
               "duration": 0,
               "easing": "linear"
              }
             }
            ],
            "label": "02/08/2020",
            "method": "animate"
           },
           {
            "args": [
             [
              "02/09/2020"
             ],
             {
              "frame": {
               "duration": 0,
               "redraw": true
              },
              "fromcurrent": true,
              "mode": "immediate",
              "transition": {
               "duration": 0,
               "easing": "linear"
              }
             }
            ],
            "label": "02/09/2020",
            "method": "animate"
           },
           {
            "args": [
             [
              "02/10/2020"
             ],
             {
              "frame": {
               "duration": 0,
               "redraw": true
              },
              "fromcurrent": true,
              "mode": "immediate",
              "transition": {
               "duration": 0,
               "easing": "linear"
              }
             }
            ],
            "label": "02/10/2020",
            "method": "animate"
           },
           {
            "args": [
             [
              "02/11/2020"
             ],
             {
              "frame": {
               "duration": 0,
               "redraw": true
              },
              "fromcurrent": true,
              "mode": "immediate",
              "transition": {
               "duration": 0,
               "easing": "linear"
              }
             }
            ],
            "label": "02/11/2020",
            "method": "animate"
           },
           {
            "args": [
             [
              "02/12/2020"
             ],
             {
              "frame": {
               "duration": 0,
               "redraw": true
              },
              "fromcurrent": true,
              "mode": "immediate",
              "transition": {
               "duration": 0,
               "easing": "linear"
              }
             }
            ],
            "label": "02/12/2020",
            "method": "animate"
           },
           {
            "args": [
             [
              "02/13/2020"
             ],
             {
              "frame": {
               "duration": 0,
               "redraw": true
              },
              "fromcurrent": true,
              "mode": "immediate",
              "transition": {
               "duration": 0,
               "easing": "linear"
              }
             }
            ],
            "label": "02/13/2020",
            "method": "animate"
           },
           {
            "args": [
             [
              "02/14/2020"
             ],
             {
              "frame": {
               "duration": 0,
               "redraw": true
              },
              "fromcurrent": true,
              "mode": "immediate",
              "transition": {
               "duration": 0,
               "easing": "linear"
              }
             }
            ],
            "label": "02/14/2020",
            "method": "animate"
           },
           {
            "args": [
             [
              "02/15/2020"
             ],
             {
              "frame": {
               "duration": 0,
               "redraw": true
              },
              "fromcurrent": true,
              "mode": "immediate",
              "transition": {
               "duration": 0,
               "easing": "linear"
              }
             }
            ],
            "label": "02/15/2020",
            "method": "animate"
           },
           {
            "args": [
             [
              "02/16/2020"
             ],
             {
              "frame": {
               "duration": 0,
               "redraw": true
              },
              "fromcurrent": true,
              "mode": "immediate",
              "transition": {
               "duration": 0,
               "easing": "linear"
              }
             }
            ],
            "label": "02/16/2020",
            "method": "animate"
           }
          ],
          "x": 0.1,
          "xanchor": "left",
          "y": 0,
          "yanchor": "top"
         }
        ],
        "template": {
         "data": {
          "bar": [
           {
            "error_x": {
             "color": "#2a3f5f"
            },
            "error_y": {
             "color": "#2a3f5f"
            },
            "marker": {
             "line": {
              "color": "#E5ECF6",
              "width": 0.5
             }
            },
            "type": "bar"
           }
          ],
          "barpolar": [
           {
            "marker": {
             "line": {
              "color": "#E5ECF6",
              "width": 0.5
             }
            },
            "type": "barpolar"
           }
          ],
          "carpet": [
           {
            "aaxis": {
             "endlinecolor": "#2a3f5f",
             "gridcolor": "white",
             "linecolor": "white",
             "minorgridcolor": "white",
             "startlinecolor": "#2a3f5f"
            },
            "baxis": {
             "endlinecolor": "#2a3f5f",
             "gridcolor": "white",
             "linecolor": "white",
             "minorgridcolor": "white",
             "startlinecolor": "#2a3f5f"
            },
            "type": "carpet"
           }
          ],
          "choropleth": [
           {
            "colorbar": {
             "outlinewidth": 0,
             "ticks": ""
            },
            "type": "choropleth"
           }
          ],
          "contour": [
           {
            "colorbar": {
             "outlinewidth": 0,
             "ticks": ""
            },
            "colorscale": [
             [
              0,
              "#0d0887"
             ],
             [
              0.1111111111111111,
              "#46039f"
             ],
             [
              0.2222222222222222,
              "#7201a8"
             ],
             [
              0.3333333333333333,
              "#9c179e"
             ],
             [
              0.4444444444444444,
              "#bd3786"
             ],
             [
              0.5555555555555556,
              "#d8576b"
             ],
             [
              0.6666666666666666,
              "#ed7953"
             ],
             [
              0.7777777777777778,
              "#fb9f3a"
             ],
             [
              0.8888888888888888,
              "#fdca26"
             ],
             [
              1,
              "#f0f921"
             ]
            ],
            "type": "contour"
           }
          ],
          "contourcarpet": [
           {
            "colorbar": {
             "outlinewidth": 0,
             "ticks": ""
            },
            "type": "contourcarpet"
           }
          ],
          "heatmap": [
           {
            "colorbar": {
             "outlinewidth": 0,
             "ticks": ""
            },
            "colorscale": [
             [
              0,
              "#0d0887"
             ],
             [
              0.1111111111111111,
              "#46039f"
             ],
             [
              0.2222222222222222,
              "#7201a8"
             ],
             [
              0.3333333333333333,
              "#9c179e"
             ],
             [
              0.4444444444444444,
              "#bd3786"
             ],
             [
              0.5555555555555556,
              "#d8576b"
             ],
             [
              0.6666666666666666,
              "#ed7953"
             ],
             [
              0.7777777777777778,
              "#fb9f3a"
             ],
             [
              0.8888888888888888,
              "#fdca26"
             ],
             [
              1,
              "#f0f921"
             ]
            ],
            "type": "heatmap"
           }
          ],
          "heatmapgl": [
           {
            "colorbar": {
             "outlinewidth": 0,
             "ticks": ""
            },
            "colorscale": [
             [
              0,
              "#0d0887"
             ],
             [
              0.1111111111111111,
              "#46039f"
             ],
             [
              0.2222222222222222,
              "#7201a8"
             ],
             [
              0.3333333333333333,
              "#9c179e"
             ],
             [
              0.4444444444444444,
              "#bd3786"
             ],
             [
              0.5555555555555556,
              "#d8576b"
             ],
             [
              0.6666666666666666,
              "#ed7953"
             ],
             [
              0.7777777777777778,
              "#fb9f3a"
             ],
             [
              0.8888888888888888,
              "#fdca26"
             ],
             [
              1,
              "#f0f921"
             ]
            ],
            "type": "heatmapgl"
           }
          ],
          "histogram": [
           {
            "marker": {
             "colorbar": {
              "outlinewidth": 0,
              "ticks": ""
             }
            },
            "type": "histogram"
           }
          ],
          "histogram2d": [
           {
            "colorbar": {
             "outlinewidth": 0,
             "ticks": ""
            },
            "colorscale": [
             [
              0,
              "#0d0887"
             ],
             [
              0.1111111111111111,
              "#46039f"
             ],
             [
              0.2222222222222222,
              "#7201a8"
             ],
             [
              0.3333333333333333,
              "#9c179e"
             ],
             [
              0.4444444444444444,
              "#bd3786"
             ],
             [
              0.5555555555555556,
              "#d8576b"
             ],
             [
              0.6666666666666666,
              "#ed7953"
             ],
             [
              0.7777777777777778,
              "#fb9f3a"
             ],
             [
              0.8888888888888888,
              "#fdca26"
             ],
             [
              1,
              "#f0f921"
             ]
            ],
            "type": "histogram2d"
           }
          ],
          "histogram2dcontour": [
           {
            "colorbar": {
             "outlinewidth": 0,
             "ticks": ""
            },
            "colorscale": [
             [
              0,
              "#0d0887"
             ],
             [
              0.1111111111111111,
              "#46039f"
             ],
             [
              0.2222222222222222,
              "#7201a8"
             ],
             [
              0.3333333333333333,
              "#9c179e"
             ],
             [
              0.4444444444444444,
              "#bd3786"
             ],
             [
              0.5555555555555556,
              "#d8576b"
             ],
             [
              0.6666666666666666,
              "#ed7953"
             ],
             [
              0.7777777777777778,
              "#fb9f3a"
             ],
             [
              0.8888888888888888,
              "#fdca26"
             ],
             [
              1,
              "#f0f921"
             ]
            ],
            "type": "histogram2dcontour"
           }
          ],
          "mesh3d": [
           {
            "colorbar": {
             "outlinewidth": 0,
             "ticks": ""
            },
            "type": "mesh3d"
           }
          ],
          "parcoords": [
           {
            "line": {
             "colorbar": {
              "outlinewidth": 0,
              "ticks": ""
             }
            },
            "type": "parcoords"
           }
          ],
          "pie": [
           {
            "automargin": true,
            "type": "pie"
           }
          ],
          "scatter": [
           {
            "marker": {
             "colorbar": {
              "outlinewidth": 0,
              "ticks": ""
             }
            },
            "type": "scatter"
           }
          ],
          "scatter3d": [
           {
            "line": {
             "colorbar": {
              "outlinewidth": 0,
              "ticks": ""
             }
            },
            "marker": {
             "colorbar": {
              "outlinewidth": 0,
              "ticks": ""
             }
            },
            "type": "scatter3d"
           }
          ],
          "scattercarpet": [
           {
            "marker": {
             "colorbar": {
              "outlinewidth": 0,
              "ticks": ""
             }
            },
            "type": "scattercarpet"
           }
          ],
          "scattergeo": [
           {
            "marker": {
             "colorbar": {
              "outlinewidth": 0,
              "ticks": ""
             }
            },
            "type": "scattergeo"
           }
          ],
          "scattergl": [
           {
            "marker": {
             "colorbar": {
              "outlinewidth": 0,
              "ticks": ""
             }
            },
            "type": "scattergl"
           }
          ],
          "scattermapbox": [
           {
            "marker": {
             "colorbar": {
              "outlinewidth": 0,
              "ticks": ""
             }
            },
            "type": "scattermapbox"
           }
          ],
          "scatterpolar": [
           {
            "marker": {
             "colorbar": {
              "outlinewidth": 0,
              "ticks": ""
             }
            },
            "type": "scatterpolar"
           }
          ],
          "scatterpolargl": [
           {
            "marker": {
             "colorbar": {
              "outlinewidth": 0,
              "ticks": ""
             }
            },
            "type": "scatterpolargl"
           }
          ],
          "scatterternary": [
           {
            "marker": {
             "colorbar": {
              "outlinewidth": 0,
              "ticks": ""
             }
            },
            "type": "scatterternary"
           }
          ],
          "surface": [
           {
            "colorbar": {
             "outlinewidth": 0,
             "ticks": ""
            },
            "colorscale": [
             [
              0,
              "#0d0887"
             ],
             [
              0.1111111111111111,
              "#46039f"
             ],
             [
              0.2222222222222222,
              "#7201a8"
             ],
             [
              0.3333333333333333,
              "#9c179e"
             ],
             [
              0.4444444444444444,
              "#bd3786"
             ],
             [
              0.5555555555555556,
              "#d8576b"
             ],
             [
              0.6666666666666666,
              "#ed7953"
             ],
             [
              0.7777777777777778,
              "#fb9f3a"
             ],
             [
              0.8888888888888888,
              "#fdca26"
             ],
             [
              1,
              "#f0f921"
             ]
            ],
            "type": "surface"
           }
          ],
          "table": [
           {
            "cells": {
             "fill": {
              "color": "#EBF0F8"
             },
             "line": {
              "color": "white"
             }
            },
            "header": {
             "fill": {
              "color": "#C8D4E3"
             },
             "line": {
              "color": "white"
             }
            },
            "type": "table"
           }
          ]
         },
         "layout": {
          "annotationdefaults": {
           "arrowcolor": "#2a3f5f",
           "arrowhead": 0,
           "arrowwidth": 1
          },
          "coloraxis": {
           "colorbar": {
            "outlinewidth": 0,
            "ticks": ""
           }
          },
          "colorscale": {
           "diverging": [
            [
             0,
             "#8e0152"
            ],
            [
             0.1,
             "#c51b7d"
            ],
            [
             0.2,
             "#de77ae"
            ],
            [
             0.3,
             "#f1b6da"
            ],
            [
             0.4,
             "#fde0ef"
            ],
            [
             0.5,
             "#f7f7f7"
            ],
            [
             0.6,
             "#e6f5d0"
            ],
            [
             0.7,
             "#b8e186"
            ],
            [
             0.8,
             "#7fbc41"
            ],
            [
             0.9,
             "#4d9221"
            ],
            [
             1,
             "#276419"
            ]
           ],
           "sequential": [
            [
             0,
             "#0d0887"
            ],
            [
             0.1111111111111111,
             "#46039f"
            ],
            [
             0.2222222222222222,
             "#7201a8"
            ],
            [
             0.3333333333333333,
             "#9c179e"
            ],
            [
             0.4444444444444444,
             "#bd3786"
            ],
            [
             0.5555555555555556,
             "#d8576b"
            ],
            [
             0.6666666666666666,
             "#ed7953"
            ],
            [
             0.7777777777777778,
             "#fb9f3a"
            ],
            [
             0.8888888888888888,
             "#fdca26"
            ],
            [
             1,
             "#f0f921"
            ]
           ],
           "sequentialminus": [
            [
             0,
             "#0d0887"
            ],
            [
             0.1111111111111111,
             "#46039f"
            ],
            [
             0.2222222222222222,
             "#7201a8"
            ],
            [
             0.3333333333333333,
             "#9c179e"
            ],
            [
             0.4444444444444444,
             "#bd3786"
            ],
            [
             0.5555555555555556,
             "#d8576b"
            ],
            [
             0.6666666666666666,
             "#ed7953"
            ],
            [
             0.7777777777777778,
             "#fb9f3a"
            ],
            [
             0.8888888888888888,
             "#fdca26"
            ],
            [
             1,
             "#f0f921"
            ]
           ]
          },
          "colorway": [
           "#636efa",
           "#EF553B",
           "#00cc96",
           "#ab63fa",
           "#FFA15A",
           "#19d3f3",
           "#FF6692",
           "#B6E880",
           "#FF97FF",
           "#FECB52"
          ],
          "font": {
           "color": "#2a3f5f"
          },
          "geo": {
           "bgcolor": "white",
           "lakecolor": "white",
           "landcolor": "#E5ECF6",
           "showlakes": true,
           "showland": true,
           "subunitcolor": "white"
          },
          "hoverlabel": {
           "align": "left"
          },
          "hovermode": "closest",
          "mapbox": {
           "style": "light"
          },
          "paper_bgcolor": "white",
          "plot_bgcolor": "#E5ECF6",
          "polar": {
           "angularaxis": {
            "gridcolor": "white",
            "linecolor": "white",
            "ticks": ""
           },
           "bgcolor": "#E5ECF6",
           "radialaxis": {
            "gridcolor": "white",
            "linecolor": "white",
            "ticks": ""
           }
          },
          "scene": {
           "xaxis": {
            "backgroundcolor": "#E5ECF6",
            "gridcolor": "white",
            "gridwidth": 2,
            "linecolor": "white",
            "showbackground": true,
            "ticks": "",
            "zerolinecolor": "white"
           },
           "yaxis": {
            "backgroundcolor": "#E5ECF6",
            "gridcolor": "white",
            "gridwidth": 2,
            "linecolor": "white",
            "showbackground": true,
            "ticks": "",
            "zerolinecolor": "white"
           },
           "zaxis": {
            "backgroundcolor": "#E5ECF6",
            "gridcolor": "white",
            "gridwidth": 2,
            "linecolor": "white",
            "showbackground": true,
            "ticks": "",
            "zerolinecolor": "white"
           }
          },
          "shapedefaults": {
           "line": {
            "color": "#2a3f5f"
           }
          },
          "ternary": {
           "aaxis": {
            "gridcolor": "white",
            "linecolor": "white",
            "ticks": ""
           },
           "baxis": {
            "gridcolor": "white",
            "linecolor": "white",
            "ticks": ""
           },
           "bgcolor": "#E5ECF6",
           "caxis": {
            "gridcolor": "white",
            "linecolor": "white",
            "ticks": ""
           }
          },
          "title": {
           "x": 0.05
          },
          "xaxis": {
           "automargin": true,
           "gridcolor": "white",
           "linecolor": "white",
           "ticks": "",
           "title": {
            "standoff": 15
           },
           "zerolinecolor": "white",
           "zerolinewidth": 2
          },
          "yaxis": {
           "automargin": true,
           "gridcolor": "white",
           "linecolor": "white",
           "ticks": "",
           "title": {
            "standoff": 15
           },
           "zerolinecolor": "white",
           "zerolinewidth": 2
          }
         }
        },
        "title": {
         "text": "Spread outside China over time"
        },
        "updatemenus": [
         {
          "buttons": [
           {
            "args": [
             null,
             {
              "frame": {
               "duration": 500,
               "redraw": true
              },
              "fromcurrent": true,
              "mode": "immediate",
              "transition": {
               "duration": 500,
               "easing": "linear"
              }
             }
            ],
            "label": "&#9654;",
            "method": "animate"
           },
           {
            "args": [
             [
              null
             ],
             {
              "frame": {
               "duration": 0,
               "redraw": true
              },
              "fromcurrent": true,
              "mode": "immediate",
              "transition": {
               "duration": 0,
               "easing": "linear"
              }
             }
            ],
            "label": "&#9724;",
            "method": "animate"
           }
          ],
          "direction": "left",
          "pad": {
           "r": 10,
           "t": 70
          },
          "showactive": false,
          "type": "buttons",
          "x": 0.1,
          "xanchor": "right",
          "y": 0,
          "yanchor": "top"
         }
        ]
       }
      },
      "text/html": [
       "<div>\n",
       "        \n",
       "        \n",
       "            <div id=\"19431ce8-dba5-476f-8b33-51877f694c0f\" class=\"plotly-graph-div\" style=\"height:525px; width:100%;\"></div>\n",
       "            <script type=\"text/javascript\">\n",
       "                require([\"plotly\"], function(Plotly) {\n",
       "                    window.PLOTLYENV=window.PLOTLYENV || {};\n",
       "                    \n",
       "                if (document.getElementById(\"19431ce8-dba5-476f-8b33-51877f694c0f\")) {\n",
       "                    Plotly.newPlot(\n",
       "                        '19431ce8-dba5-476f-8b33-51877f694c0f',\n",
       "                        [{\"geo\": \"geo\", \"hoverlabel\": {\"namelength\": 0}, \"hovertemplate\": \"<b>%{hovertext}</b><br><br>Date=01/22/2020<br>Confirmed=%{marker.color}<br>Country/Region=%{location}\", \"hovertext\": [\"Australia\", \"Belgium\", \"Cambodia\", \"Canada\", \"Egypt\", \"Finland\", \"France\", \"Germany\", \"Hong Kong\", \"India\", \"Italy\", \"Japan\", \"Macau\", \"Malaysia\", \"Nepal\", \"Philippines\", \"Russia\", \"Singapore\", \"South Korea\", \"Spain\", \"Sri Lanka\", \"Sweden\", \"Taiwan\", \"Thailand\", \"UK\", \"US\", \"United Arab Emirates\", \"Vietnam\"], \"legendgroup\": \"\", \"locationmode\": \"country names\", \"locations\": [\"Australia\", \"Belgium\", \"Cambodia\", \"Canada\", \"Egypt\", \"Finland\", \"France\", \"Germany\", \"Hong Kong\", \"India\", \"Italy\", \"Japan\", \"Macau\", \"Malaysia\", \"Nepal\", \"Philippines\", \"Russia\", \"Singapore\", \"South Korea\", \"Spain\", \"Sri Lanka\", \"Sweden\", \"Taiwan\", \"Thailand\", \"UK\", \"US\", \"United Arab Emirates\", \"Vietnam\"], \"marker\": {\"color\": [0, 0, 0, 0, 0, 0, 0, 0, 0, 0, 0, 2, 1, 0, 0, 0, 0, 0, 1, 0, 0, 0, 1, 2, 0, 1, 0, 0], \"coloraxis\": \"coloraxis\", \"size\": [0, 0, 0, 0, 0, 0, 0, 0, 0, 0, 0, 2, 1, 0, 0, 0, 0, 0, 1, 0, 0, 0, 1, 2, 0, 1, 0, 0], \"sizemode\": \"area\", \"sizeref\": 0.1875}, \"name\": \"\", \"showlegend\": false, \"type\": \"scattergeo\"}],\n",
       "                        {\"coloraxis\": {\"cmax\": 77, \"cmin\": 0, \"colorbar\": {\"title\": {\"text\": \"Confirmed\"}}, \"colorscale\": [[0.0, \"#0d0887\"], [0.1111111111111111, \"#46039f\"], [0.2222222222222222, \"#7201a8\"], [0.3333333333333333, \"#9c179e\"], [0.4444444444444444, \"#bd3786\"], [0.5555555555555556, \"#d8576b\"], [0.6666666666666666, \"#ed7953\"], [0.7777777777777778, \"#fb9f3a\"], [0.8888888888888888, \"#fdca26\"], [1.0, \"#f0f921\"]], \"showscale\": false}, \"geo\": {\"center\": {}, \"domain\": {\"x\": [0.0, 1.0], \"y\": [0.0, 1.0]}, \"projection\": {\"type\": \"natural earth\"}}, \"legend\": {\"itemsizing\": \"constant\", \"tracegroupgap\": 0}, \"sliders\": [{\"active\": 0, \"currentvalue\": {\"prefix\": \"Date=\"}, \"len\": 0.9, \"pad\": {\"b\": 10, \"t\": 60}, \"steps\": [{\"args\": [[\"01/22/2020\"], {\"frame\": {\"duration\": 0, \"redraw\": true}, \"fromcurrent\": true, \"mode\": \"immediate\", \"transition\": {\"duration\": 0, \"easing\": \"linear\"}}], \"label\": \"01/22/2020\", \"method\": \"animate\"}, {\"args\": [[\"01/23/2020\"], {\"frame\": {\"duration\": 0, \"redraw\": true}, \"fromcurrent\": true, \"mode\": \"immediate\", \"transition\": {\"duration\": 0, \"easing\": \"linear\"}}], \"label\": \"01/23/2020\", \"method\": \"animate\"}, {\"args\": [[\"01/24/2020\"], {\"frame\": {\"duration\": 0, \"redraw\": true}, \"fromcurrent\": true, \"mode\": \"immediate\", \"transition\": {\"duration\": 0, \"easing\": \"linear\"}}], \"label\": \"01/24/2020\", \"method\": \"animate\"}, {\"args\": [[\"01/25/2020\"], {\"frame\": {\"duration\": 0, \"redraw\": true}, \"fromcurrent\": true, \"mode\": \"immediate\", \"transition\": {\"duration\": 0, \"easing\": \"linear\"}}], \"label\": \"01/25/2020\", \"method\": \"animate\"}, {\"args\": [[\"01/26/2020\"], {\"frame\": {\"duration\": 0, \"redraw\": true}, \"fromcurrent\": true, \"mode\": \"immediate\", \"transition\": {\"duration\": 0, \"easing\": \"linear\"}}], \"label\": \"01/26/2020\", \"method\": \"animate\"}, {\"args\": [[\"01/27/2020\"], {\"frame\": {\"duration\": 0, \"redraw\": true}, \"fromcurrent\": true, \"mode\": \"immediate\", \"transition\": {\"duration\": 0, \"easing\": \"linear\"}}], \"label\": \"01/27/2020\", \"method\": \"animate\"}, {\"args\": [[\"01/28/2020\"], {\"frame\": {\"duration\": 0, \"redraw\": true}, \"fromcurrent\": true, \"mode\": \"immediate\", \"transition\": {\"duration\": 0, \"easing\": \"linear\"}}], \"label\": \"01/28/2020\", \"method\": \"animate\"}, {\"args\": [[\"01/29/2020\"], {\"frame\": {\"duration\": 0, \"redraw\": true}, \"fromcurrent\": true, \"mode\": \"immediate\", \"transition\": {\"duration\": 0, \"easing\": \"linear\"}}], \"label\": \"01/29/2020\", \"method\": \"animate\"}, {\"args\": [[\"01/30/2020\"], {\"frame\": {\"duration\": 0, \"redraw\": true}, \"fromcurrent\": true, \"mode\": \"immediate\", \"transition\": {\"duration\": 0, \"easing\": \"linear\"}}], \"label\": \"01/30/2020\", \"method\": \"animate\"}, {\"args\": [[\"01/31/2020\"], {\"frame\": {\"duration\": 0, \"redraw\": true}, \"fromcurrent\": true, \"mode\": \"immediate\", \"transition\": {\"duration\": 0, \"easing\": \"linear\"}}], \"label\": \"01/31/2020\", \"method\": \"animate\"}, {\"args\": [[\"02/01/2020\"], {\"frame\": {\"duration\": 0, \"redraw\": true}, \"fromcurrent\": true, \"mode\": \"immediate\", \"transition\": {\"duration\": 0, \"easing\": \"linear\"}}], \"label\": \"02/01/2020\", \"method\": \"animate\"}, {\"args\": [[\"02/02/2020\"], {\"frame\": {\"duration\": 0, \"redraw\": true}, \"fromcurrent\": true, \"mode\": \"immediate\", \"transition\": {\"duration\": 0, \"easing\": \"linear\"}}], \"label\": \"02/02/2020\", \"method\": \"animate\"}, {\"args\": [[\"02/03/2020\"], {\"frame\": {\"duration\": 0, \"redraw\": true}, \"fromcurrent\": true, \"mode\": \"immediate\", \"transition\": {\"duration\": 0, \"easing\": \"linear\"}}], \"label\": \"02/03/2020\", \"method\": \"animate\"}, {\"args\": [[\"02/04/2020\"], {\"frame\": {\"duration\": 0, \"redraw\": true}, \"fromcurrent\": true, \"mode\": \"immediate\", \"transition\": {\"duration\": 0, \"easing\": \"linear\"}}], \"label\": \"02/04/2020\", \"method\": \"animate\"}, {\"args\": [[\"02/05/2020\"], {\"frame\": {\"duration\": 0, \"redraw\": true}, \"fromcurrent\": true, \"mode\": \"immediate\", \"transition\": {\"duration\": 0, \"easing\": \"linear\"}}], \"label\": \"02/05/2020\", \"method\": \"animate\"}, {\"args\": [[\"02/06/2020\"], {\"frame\": {\"duration\": 0, \"redraw\": true}, \"fromcurrent\": true, \"mode\": \"immediate\", \"transition\": {\"duration\": 0, \"easing\": \"linear\"}}], \"label\": \"02/06/2020\", \"method\": \"animate\"}, {\"args\": [[\"02/07/2020\"], {\"frame\": {\"duration\": 0, \"redraw\": true}, \"fromcurrent\": true, \"mode\": \"immediate\", \"transition\": {\"duration\": 0, \"easing\": \"linear\"}}], \"label\": \"02/07/2020\", \"method\": \"animate\"}, {\"args\": [[\"02/08/2020\"], {\"frame\": {\"duration\": 0, \"redraw\": true}, \"fromcurrent\": true, \"mode\": \"immediate\", \"transition\": {\"duration\": 0, \"easing\": \"linear\"}}], \"label\": \"02/08/2020\", \"method\": \"animate\"}, {\"args\": [[\"02/09/2020\"], {\"frame\": {\"duration\": 0, \"redraw\": true}, \"fromcurrent\": true, \"mode\": \"immediate\", \"transition\": {\"duration\": 0, \"easing\": \"linear\"}}], \"label\": \"02/09/2020\", \"method\": \"animate\"}, {\"args\": [[\"02/10/2020\"], {\"frame\": {\"duration\": 0, \"redraw\": true}, \"fromcurrent\": true, \"mode\": \"immediate\", \"transition\": {\"duration\": 0, \"easing\": \"linear\"}}], \"label\": \"02/10/2020\", \"method\": \"animate\"}, {\"args\": [[\"02/11/2020\"], {\"frame\": {\"duration\": 0, \"redraw\": true}, \"fromcurrent\": true, \"mode\": \"immediate\", \"transition\": {\"duration\": 0, \"easing\": \"linear\"}}], \"label\": \"02/11/2020\", \"method\": \"animate\"}, {\"args\": [[\"02/12/2020\"], {\"frame\": {\"duration\": 0, \"redraw\": true}, \"fromcurrent\": true, \"mode\": \"immediate\", \"transition\": {\"duration\": 0, \"easing\": \"linear\"}}], \"label\": \"02/12/2020\", \"method\": \"animate\"}, {\"args\": [[\"02/13/2020\"], {\"frame\": {\"duration\": 0, \"redraw\": true}, \"fromcurrent\": true, \"mode\": \"immediate\", \"transition\": {\"duration\": 0, \"easing\": \"linear\"}}], \"label\": \"02/13/2020\", \"method\": \"animate\"}, {\"args\": [[\"02/14/2020\"], {\"frame\": {\"duration\": 0, \"redraw\": true}, \"fromcurrent\": true, \"mode\": \"immediate\", \"transition\": {\"duration\": 0, \"easing\": \"linear\"}}], \"label\": \"02/14/2020\", \"method\": \"animate\"}, {\"args\": [[\"02/15/2020\"], {\"frame\": {\"duration\": 0, \"redraw\": true}, \"fromcurrent\": true, \"mode\": \"immediate\", \"transition\": {\"duration\": 0, \"easing\": \"linear\"}}], \"label\": \"02/15/2020\", \"method\": \"animate\"}, {\"args\": [[\"02/16/2020\"], {\"frame\": {\"duration\": 0, \"redraw\": true}, \"fromcurrent\": true, \"mode\": \"immediate\", \"transition\": {\"duration\": 0, \"easing\": \"linear\"}}], \"label\": \"02/16/2020\", \"method\": \"animate\"}], \"x\": 0.1, \"xanchor\": \"left\", \"y\": 0, \"yanchor\": \"top\"}], \"template\": {\"data\": {\"bar\": [{\"error_x\": {\"color\": \"#2a3f5f\"}, \"error_y\": {\"color\": \"#2a3f5f\"}, \"marker\": {\"line\": {\"color\": \"#E5ECF6\", \"width\": 0.5}}, \"type\": \"bar\"}], \"barpolar\": [{\"marker\": {\"line\": {\"color\": \"#E5ECF6\", \"width\": 0.5}}, \"type\": \"barpolar\"}], \"carpet\": [{\"aaxis\": {\"endlinecolor\": \"#2a3f5f\", \"gridcolor\": \"white\", \"linecolor\": \"white\", \"minorgridcolor\": \"white\", \"startlinecolor\": \"#2a3f5f\"}, \"baxis\": {\"endlinecolor\": \"#2a3f5f\", \"gridcolor\": \"white\", \"linecolor\": \"white\", \"minorgridcolor\": \"white\", \"startlinecolor\": \"#2a3f5f\"}, \"type\": \"carpet\"}], \"choropleth\": [{\"colorbar\": {\"outlinewidth\": 0, \"ticks\": \"\"}, \"type\": \"choropleth\"}], \"contour\": [{\"colorbar\": {\"outlinewidth\": 0, \"ticks\": \"\"}, \"colorscale\": [[0.0, \"#0d0887\"], [0.1111111111111111, \"#46039f\"], [0.2222222222222222, \"#7201a8\"], [0.3333333333333333, \"#9c179e\"], [0.4444444444444444, \"#bd3786\"], [0.5555555555555556, \"#d8576b\"], [0.6666666666666666, \"#ed7953\"], [0.7777777777777778, \"#fb9f3a\"], [0.8888888888888888, \"#fdca26\"], [1.0, \"#f0f921\"]], \"type\": \"contour\"}], \"contourcarpet\": [{\"colorbar\": {\"outlinewidth\": 0, \"ticks\": \"\"}, \"type\": \"contourcarpet\"}], \"heatmap\": [{\"colorbar\": {\"outlinewidth\": 0, \"ticks\": \"\"}, \"colorscale\": [[0.0, \"#0d0887\"], [0.1111111111111111, \"#46039f\"], [0.2222222222222222, \"#7201a8\"], [0.3333333333333333, \"#9c179e\"], [0.4444444444444444, \"#bd3786\"], [0.5555555555555556, \"#d8576b\"], [0.6666666666666666, \"#ed7953\"], [0.7777777777777778, \"#fb9f3a\"], [0.8888888888888888, \"#fdca26\"], [1.0, \"#f0f921\"]], \"type\": \"heatmap\"}], \"heatmapgl\": [{\"colorbar\": {\"outlinewidth\": 0, \"ticks\": \"\"}, \"colorscale\": [[0.0, \"#0d0887\"], [0.1111111111111111, \"#46039f\"], [0.2222222222222222, \"#7201a8\"], [0.3333333333333333, \"#9c179e\"], [0.4444444444444444, \"#bd3786\"], [0.5555555555555556, \"#d8576b\"], [0.6666666666666666, \"#ed7953\"], [0.7777777777777778, \"#fb9f3a\"], [0.8888888888888888, \"#fdca26\"], [1.0, \"#f0f921\"]], \"type\": \"heatmapgl\"}], \"histogram\": [{\"marker\": {\"colorbar\": {\"outlinewidth\": 0, \"ticks\": \"\"}}, \"type\": \"histogram\"}], \"histogram2d\": [{\"colorbar\": {\"outlinewidth\": 0, \"ticks\": \"\"}, \"colorscale\": [[0.0, \"#0d0887\"], [0.1111111111111111, \"#46039f\"], [0.2222222222222222, \"#7201a8\"], [0.3333333333333333, \"#9c179e\"], [0.4444444444444444, \"#bd3786\"], [0.5555555555555556, \"#d8576b\"], [0.6666666666666666, \"#ed7953\"], [0.7777777777777778, \"#fb9f3a\"], [0.8888888888888888, \"#fdca26\"], [1.0, \"#f0f921\"]], \"type\": \"histogram2d\"}], \"histogram2dcontour\": [{\"colorbar\": {\"outlinewidth\": 0, \"ticks\": \"\"}, \"colorscale\": [[0.0, \"#0d0887\"], [0.1111111111111111, \"#46039f\"], [0.2222222222222222, \"#7201a8\"], [0.3333333333333333, \"#9c179e\"], [0.4444444444444444, \"#bd3786\"], [0.5555555555555556, \"#d8576b\"], [0.6666666666666666, \"#ed7953\"], [0.7777777777777778, \"#fb9f3a\"], [0.8888888888888888, \"#fdca26\"], [1.0, \"#f0f921\"]], \"type\": \"histogram2dcontour\"}], \"mesh3d\": [{\"colorbar\": {\"outlinewidth\": 0, \"ticks\": \"\"}, \"type\": \"mesh3d\"}], \"parcoords\": [{\"line\": {\"colorbar\": {\"outlinewidth\": 0, \"ticks\": \"\"}}, \"type\": \"parcoords\"}], \"pie\": [{\"automargin\": true, \"type\": \"pie\"}], \"scatter\": [{\"marker\": {\"colorbar\": {\"outlinewidth\": 0, \"ticks\": \"\"}}, \"type\": \"scatter\"}], \"scatter3d\": [{\"line\": {\"colorbar\": {\"outlinewidth\": 0, \"ticks\": \"\"}}, \"marker\": {\"colorbar\": {\"outlinewidth\": 0, \"ticks\": \"\"}}, \"type\": \"scatter3d\"}], \"scattercarpet\": [{\"marker\": {\"colorbar\": {\"outlinewidth\": 0, \"ticks\": \"\"}}, \"type\": \"scattercarpet\"}], \"scattergeo\": [{\"marker\": {\"colorbar\": {\"outlinewidth\": 0, \"ticks\": \"\"}}, \"type\": \"scattergeo\"}], \"scattergl\": [{\"marker\": {\"colorbar\": {\"outlinewidth\": 0, \"ticks\": \"\"}}, \"type\": \"scattergl\"}], \"scattermapbox\": [{\"marker\": {\"colorbar\": {\"outlinewidth\": 0, \"ticks\": \"\"}}, \"type\": \"scattermapbox\"}], \"scatterpolar\": [{\"marker\": {\"colorbar\": {\"outlinewidth\": 0, \"ticks\": \"\"}}, \"type\": \"scatterpolar\"}], \"scatterpolargl\": [{\"marker\": {\"colorbar\": {\"outlinewidth\": 0, \"ticks\": \"\"}}, \"type\": \"scatterpolargl\"}], \"scatterternary\": [{\"marker\": {\"colorbar\": {\"outlinewidth\": 0, \"ticks\": \"\"}}, \"type\": \"scatterternary\"}], \"surface\": [{\"colorbar\": {\"outlinewidth\": 0, \"ticks\": \"\"}, \"colorscale\": [[0.0, \"#0d0887\"], [0.1111111111111111, \"#46039f\"], [0.2222222222222222, \"#7201a8\"], [0.3333333333333333, \"#9c179e\"], [0.4444444444444444, \"#bd3786\"], [0.5555555555555556, \"#d8576b\"], [0.6666666666666666, \"#ed7953\"], [0.7777777777777778, \"#fb9f3a\"], [0.8888888888888888, \"#fdca26\"], [1.0, \"#f0f921\"]], \"type\": \"surface\"}], \"table\": [{\"cells\": {\"fill\": {\"color\": \"#EBF0F8\"}, \"line\": {\"color\": \"white\"}}, \"header\": {\"fill\": {\"color\": \"#C8D4E3\"}, \"line\": {\"color\": \"white\"}}, \"type\": \"table\"}]}, \"layout\": {\"annotationdefaults\": {\"arrowcolor\": \"#2a3f5f\", \"arrowhead\": 0, \"arrowwidth\": 1}, \"coloraxis\": {\"colorbar\": {\"outlinewidth\": 0, \"ticks\": \"\"}}, \"colorscale\": {\"diverging\": [[0, \"#8e0152\"], [0.1, \"#c51b7d\"], [0.2, \"#de77ae\"], [0.3, \"#f1b6da\"], [0.4, \"#fde0ef\"], [0.5, \"#f7f7f7\"], [0.6, \"#e6f5d0\"], [0.7, \"#b8e186\"], [0.8, \"#7fbc41\"], [0.9, \"#4d9221\"], [1, \"#276419\"]], \"sequential\": [[0.0, \"#0d0887\"], [0.1111111111111111, \"#46039f\"], [0.2222222222222222, \"#7201a8\"], [0.3333333333333333, \"#9c179e\"], [0.4444444444444444, \"#bd3786\"], [0.5555555555555556, \"#d8576b\"], [0.6666666666666666, \"#ed7953\"], [0.7777777777777778, \"#fb9f3a\"], [0.8888888888888888, \"#fdca26\"], [1.0, \"#f0f921\"]], \"sequentialminus\": [[0.0, \"#0d0887\"], [0.1111111111111111, \"#46039f\"], [0.2222222222222222, \"#7201a8\"], [0.3333333333333333, \"#9c179e\"], [0.4444444444444444, \"#bd3786\"], [0.5555555555555556, \"#d8576b\"], [0.6666666666666666, \"#ed7953\"], [0.7777777777777778, \"#fb9f3a\"], [0.8888888888888888, \"#fdca26\"], [1.0, \"#f0f921\"]]}, \"colorway\": [\"#636efa\", \"#EF553B\", \"#00cc96\", \"#ab63fa\", \"#FFA15A\", \"#19d3f3\", \"#FF6692\", \"#B6E880\", \"#FF97FF\", \"#FECB52\"], \"font\": {\"color\": \"#2a3f5f\"}, \"geo\": {\"bgcolor\": \"white\", \"lakecolor\": \"white\", \"landcolor\": \"#E5ECF6\", \"showlakes\": true, \"showland\": true, \"subunitcolor\": \"white\"}, \"hoverlabel\": {\"align\": \"left\"}, \"hovermode\": \"closest\", \"mapbox\": {\"style\": \"light\"}, \"paper_bgcolor\": \"white\", \"plot_bgcolor\": \"#E5ECF6\", \"polar\": {\"angularaxis\": {\"gridcolor\": \"white\", \"linecolor\": \"white\", \"ticks\": \"\"}, \"bgcolor\": \"#E5ECF6\", \"radialaxis\": {\"gridcolor\": \"white\", \"linecolor\": \"white\", \"ticks\": \"\"}}, \"scene\": {\"xaxis\": {\"backgroundcolor\": \"#E5ECF6\", \"gridcolor\": \"white\", \"gridwidth\": 2, \"linecolor\": \"white\", \"showbackground\": true, \"ticks\": \"\", \"zerolinecolor\": \"white\"}, \"yaxis\": {\"backgroundcolor\": \"#E5ECF6\", \"gridcolor\": \"white\", \"gridwidth\": 2, \"linecolor\": \"white\", \"showbackground\": true, \"ticks\": \"\", \"zerolinecolor\": \"white\"}, \"zaxis\": {\"backgroundcolor\": \"#E5ECF6\", \"gridcolor\": \"white\", \"gridwidth\": 2, \"linecolor\": \"white\", \"showbackground\": true, \"ticks\": \"\", \"zerolinecolor\": \"white\"}}, \"shapedefaults\": {\"line\": {\"color\": \"#2a3f5f\"}}, \"ternary\": {\"aaxis\": {\"gridcolor\": \"white\", \"linecolor\": \"white\", \"ticks\": \"\"}, \"baxis\": {\"gridcolor\": \"white\", \"linecolor\": \"white\", \"ticks\": \"\"}, \"bgcolor\": \"#E5ECF6\", \"caxis\": {\"gridcolor\": \"white\", \"linecolor\": \"white\", \"ticks\": \"\"}}, \"title\": {\"x\": 0.05}, \"xaxis\": {\"automargin\": true, \"gridcolor\": \"white\", \"linecolor\": \"white\", \"ticks\": \"\", \"title\": {\"standoff\": 15}, \"zerolinecolor\": \"white\", \"zerolinewidth\": 2}, \"yaxis\": {\"automargin\": true, \"gridcolor\": \"white\", \"linecolor\": \"white\", \"ticks\": \"\", \"title\": {\"standoff\": 15}, \"zerolinecolor\": \"white\", \"zerolinewidth\": 2}}}, \"title\": {\"text\": \"Spread outside China over time\"}, \"updatemenus\": [{\"buttons\": [{\"args\": [null, {\"frame\": {\"duration\": 500, \"redraw\": true}, \"fromcurrent\": true, \"mode\": \"immediate\", \"transition\": {\"duration\": 500, \"easing\": \"linear\"}}], \"label\": \"&#9654;\", \"method\": \"animate\"}, {\"args\": [[null], {\"frame\": {\"duration\": 0, \"redraw\": true}, \"fromcurrent\": true, \"mode\": \"immediate\", \"transition\": {\"duration\": 0, \"easing\": \"linear\"}}], \"label\": \"&#9724;\", \"method\": \"animate\"}], \"direction\": \"left\", \"pad\": {\"r\": 10, \"t\": 70}, \"showactive\": false, \"type\": \"buttons\", \"x\": 0.1, \"xanchor\": \"right\", \"y\": 0, \"yanchor\": \"top\"}]},\n",
       "                        {\"responsive\": true}\n",
       "                    ).then(function(){\n",
       "                            Plotly.addFrames('19431ce8-dba5-476f-8b33-51877f694c0f', [{\"data\": [{\"geo\": \"geo\", \"hoverlabel\": {\"namelength\": 0}, \"hovertemplate\": \"<b>%{hovertext}</b><br><br>Date=01/22/2020<br>Confirmed=%{marker.color}<br>Country/Region=%{location}\", \"hovertext\": [\"Australia\", \"Belgium\", \"Cambodia\", \"Canada\", \"Egypt\", \"Finland\", \"France\", \"Germany\", \"Hong Kong\", \"India\", \"Italy\", \"Japan\", \"Macau\", \"Malaysia\", \"Nepal\", \"Philippines\", \"Russia\", \"Singapore\", \"South Korea\", \"Spain\", \"Sri Lanka\", \"Sweden\", \"Taiwan\", \"Thailand\", \"UK\", \"US\", \"United Arab Emirates\", \"Vietnam\"], \"legendgroup\": \"\", \"locationmode\": \"country names\", \"locations\": [\"Australia\", \"Belgium\", \"Cambodia\", \"Canada\", \"Egypt\", \"Finland\", \"France\", \"Germany\", \"Hong Kong\", \"India\", \"Italy\", \"Japan\", \"Macau\", \"Malaysia\", \"Nepal\", \"Philippines\", \"Russia\", \"Singapore\", \"South Korea\", \"Spain\", \"Sri Lanka\", \"Sweden\", \"Taiwan\", \"Thailand\", \"UK\", \"US\", \"United Arab Emirates\", \"Vietnam\"], \"marker\": {\"color\": [0, 0, 0, 0, 0, 0, 0, 0, 0, 0, 0, 2, 1, 0, 0, 0, 0, 0, 1, 0, 0, 0, 1, 2, 0, 1, 0, 0], \"coloraxis\": \"coloraxis\", \"size\": [0, 0, 0, 0, 0, 0, 0, 0, 0, 0, 0, 2, 1, 0, 0, 0, 0, 0, 1, 0, 0, 0, 1, 2, 0, 1, 0, 0], \"sizemode\": \"area\", \"sizeref\": 0.1875}, \"name\": \"\", \"showlegend\": false, \"type\": \"scattergeo\"}], \"name\": \"01/22/2020\"}, {\"data\": [{\"geo\": \"geo\", \"hoverlabel\": {\"namelength\": 0}, \"hovertemplate\": \"<b>%{hovertext}</b><br><br>Date=01/23/2020<br>Confirmed=%{marker.color}<br>Country/Region=%{location}\", \"hovertext\": [\"Australia\", \"Belgium\", \"Cambodia\", \"Canada\", \"Egypt\", \"Finland\", \"France\", \"Germany\", \"Hong Kong\", \"India\", \"Italy\", \"Japan\", \"Macau\", \"Malaysia\", \"Nepal\", \"Philippines\", \"Russia\", \"Singapore\", \"South Korea\", \"Spain\", \"Sri Lanka\", \"Sweden\", \"Taiwan\", \"Thailand\", \"UK\", \"US\", \"United Arab Emirates\", \"Vietnam\"], \"legendgroup\": \"\", \"locationmode\": \"country names\", \"locations\": [\"Australia\", \"Belgium\", \"Cambodia\", \"Canada\", \"Egypt\", \"Finland\", \"France\", \"Germany\", \"Hong Kong\", \"India\", \"Italy\", \"Japan\", \"Macau\", \"Malaysia\", \"Nepal\", \"Philippines\", \"Russia\", \"Singapore\", \"South Korea\", \"Spain\", \"Sri Lanka\", \"Sweden\", \"Taiwan\", \"Thailand\", \"UK\", \"US\", \"United Arab Emirates\", \"Vietnam\"], \"marker\": {\"color\": [0, 0, 0, 0, 0, 0, 0, 0, 2, 0, 0, 1, 2, 0, 0, 0, 0, 1, 1, 0, 0, 0, 1, 3, 0, 1, 0, 2], \"coloraxis\": \"coloraxis\", \"size\": [0, 0, 0, 0, 0, 0, 0, 0, 2, 0, 0, 1, 2, 0, 0, 0, 0, 1, 1, 0, 0, 0, 1, 3, 0, 1, 0, 2], \"sizemode\": \"area\", \"sizeref\": 0.1875}, \"name\": \"\", \"showlegend\": false, \"type\": \"scattergeo\"}], \"name\": \"01/23/2020\"}, {\"data\": [{\"geo\": \"geo\", \"hoverlabel\": {\"namelength\": 0}, \"hovertemplate\": \"<b>%{hovertext}</b><br><br>Date=01/24/2020<br>Confirmed=%{marker.color}<br>Country/Region=%{location}\", \"hovertext\": [\"Australia\", \"Belgium\", \"Cambodia\", \"Canada\", \"Egypt\", \"Finland\", \"France\", \"Germany\", \"Hong Kong\", \"India\", \"Italy\", \"Japan\", \"Macau\", \"Malaysia\", \"Nepal\", \"Philippines\", \"Russia\", \"Singapore\", \"South Korea\", \"Spain\", \"Sri Lanka\", \"Sweden\", \"Taiwan\", \"Thailand\", \"UK\", \"US\", \"United Arab Emirates\", \"Vietnam\"], \"legendgroup\": \"\", \"locationmode\": \"country names\", \"locations\": [\"Australia\", \"Belgium\", \"Cambodia\", \"Canada\", \"Egypt\", \"Finland\", \"France\", \"Germany\", \"Hong Kong\", \"India\", \"Italy\", \"Japan\", \"Macau\", \"Malaysia\", \"Nepal\", \"Philippines\", \"Russia\", \"Singapore\", \"South Korea\", \"Spain\", \"Sri Lanka\", \"Sweden\", \"Taiwan\", \"Thailand\", \"UK\", \"US\", \"United Arab Emirates\", \"Vietnam\"], \"marker\": {\"color\": [0, 0, 0, 0, 0, 0, 2, 0, 2, 0, 0, 2, 2, 0, 0, 0, 0, 3, 2, 0, 0, 0, 3, 5, 0, 1, 0, 2], \"coloraxis\": \"coloraxis\", \"size\": [0, 0, 0, 0, 0, 0, 2, 0, 2, 0, 0, 2, 2, 0, 0, 0, 0, 3, 2, 0, 0, 0, 3, 5, 0, 1, 0, 2], \"sizemode\": \"area\", \"sizeref\": 0.1875}, \"name\": \"\", \"showlegend\": false, \"type\": \"scattergeo\"}], \"name\": \"01/24/2020\"}, {\"data\": [{\"geo\": \"geo\", \"hoverlabel\": {\"namelength\": 0}, \"hovertemplate\": \"<b>%{hovertext}</b><br><br>Date=01/25/2020<br>Confirmed=%{marker.color}<br>Country/Region=%{location}\", \"hovertext\": [\"Australia\", \"Belgium\", \"Cambodia\", \"Canada\", \"Egypt\", \"Finland\", \"France\", \"Germany\", \"Hong Kong\", \"India\", \"Italy\", \"Japan\", \"Macau\", \"Malaysia\", \"Nepal\", \"Philippines\", \"Russia\", \"Singapore\", \"South Korea\", \"Spain\", \"Sri Lanka\", \"Sweden\", \"Taiwan\", \"Thailand\", \"UK\", \"US\", \"United Arab Emirates\", \"Vietnam\"], \"legendgroup\": \"\", \"locationmode\": \"country names\", \"locations\": [\"Australia\", \"Belgium\", \"Cambodia\", \"Canada\", \"Egypt\", \"Finland\", \"France\", \"Germany\", \"Hong Kong\", \"India\", \"Italy\", \"Japan\", \"Macau\", \"Malaysia\", \"Nepal\", \"Philippines\", \"Russia\", \"Singapore\", \"South Korea\", \"Spain\", \"Sri Lanka\", \"Sweden\", \"Taiwan\", \"Thailand\", \"UK\", \"US\", \"United Arab Emirates\", \"Vietnam\"], \"marker\": {\"color\": [0, 0, 0, 0, 0, 0, 3, 0, 5, 0, 0, 2, 2, 3, 1, 0, 0, 3, 2, 0, 0, 0, 3, 7, 0, 1, 0, 2], \"coloraxis\": \"coloraxis\", \"size\": [0, 0, 0, 0, 0, 0, 3, 0, 5, 0, 0, 2, 2, 3, 1, 0, 0, 3, 2, 0, 0, 0, 3, 7, 0, 1, 0, 2], \"sizemode\": \"area\", \"sizeref\": 0.1875}, \"name\": \"\", \"showlegend\": false, \"type\": \"scattergeo\"}], \"name\": \"01/25/2020\"}, {\"data\": [{\"geo\": \"geo\", \"hoverlabel\": {\"namelength\": 0}, \"hovertemplate\": \"<b>%{hovertext}</b><br><br>Date=01/26/2020<br>Confirmed=%{marker.color}<br>Country/Region=%{location}\", \"hovertext\": [\"Australia\", \"Belgium\", \"Cambodia\", \"Canada\", \"Egypt\", \"Finland\", \"France\", \"Germany\", \"Hong Kong\", \"India\", \"Italy\", \"Japan\", \"Macau\", \"Malaysia\", \"Nepal\", \"Philippines\", \"Russia\", \"Singapore\", \"South Korea\", \"Spain\", \"Sri Lanka\", \"Sweden\", \"Taiwan\", \"Thailand\", \"UK\", \"US\", \"United Arab Emirates\", \"Vietnam\"], \"legendgroup\": \"\", \"locationmode\": \"country names\", \"locations\": [\"Australia\", \"Belgium\", \"Cambodia\", \"Canada\", \"Egypt\", \"Finland\", \"France\", \"Germany\", \"Hong Kong\", \"India\", \"Italy\", \"Japan\", \"Macau\", \"Malaysia\", \"Nepal\", \"Philippines\", \"Russia\", \"Singapore\", \"South Korea\", \"Spain\", \"Sri Lanka\", \"Sweden\", \"Taiwan\", \"Thailand\", \"UK\", \"US\", \"United Arab Emirates\", \"Vietnam\"], \"marker\": {\"color\": [3, 0, 0, 1, 0, 0, 3, 0, 8, 0, 0, 4, 5, 4, 1, 0, 0, 4, 3, 0, 0, 0, 4, 8, 0, 1, 0, 2], \"coloraxis\": \"coloraxis\", \"size\": [3, 0, 0, 1, 0, 0, 3, 0, 8, 0, 0, 4, 5, 4, 1, 0, 0, 4, 3, 0, 0, 0, 4, 8, 0, 1, 0, 2], \"sizemode\": \"area\", \"sizeref\": 0.1875}, \"name\": \"\", \"showlegend\": false, \"type\": \"scattergeo\"}], \"name\": \"01/26/2020\"}, {\"data\": [{\"geo\": \"geo\", \"hoverlabel\": {\"namelength\": 0}, \"hovertemplate\": \"<b>%{hovertext}</b><br><br>Date=01/27/2020<br>Confirmed=%{marker.color}<br>Country/Region=%{location}\", \"hovertext\": [\"Australia\", \"Belgium\", \"Cambodia\", \"Canada\", \"Egypt\", \"Finland\", \"France\", \"Germany\", \"Hong Kong\", \"India\", \"Italy\", \"Japan\", \"Macau\", \"Malaysia\", \"Nepal\", \"Philippines\", \"Russia\", \"Singapore\", \"South Korea\", \"Spain\", \"Sri Lanka\", \"Sweden\", \"Taiwan\", \"Thailand\", \"UK\", \"US\", \"United Arab Emirates\", \"Vietnam\"], \"legendgroup\": \"\", \"locationmode\": \"country names\", \"locations\": [\"Australia\", \"Belgium\", \"Cambodia\", \"Canada\", \"Egypt\", \"Finland\", \"France\", \"Germany\", \"Hong Kong\", \"India\", \"Italy\", \"Japan\", \"Macau\", \"Malaysia\", \"Nepal\", \"Philippines\", \"Russia\", \"Singapore\", \"South Korea\", \"Spain\", \"Sri Lanka\", \"Sweden\", \"Taiwan\", \"Thailand\", \"UK\", \"US\", \"United Arab Emirates\", \"Vietnam\"], \"marker\": {\"color\": [4, 0, 1, 1, 0, 0, 3, 1, 8, 0, 0, 4, 6, 4, 1, 0, 0, 5, 4, 0, 1, 0, 5, 8, 0, 1, 0, 2], \"coloraxis\": \"coloraxis\", \"size\": [4, 0, 1, 1, 0, 0, 3, 1, 8, 0, 0, 4, 6, 4, 1, 0, 0, 5, 4, 0, 1, 0, 5, 8, 0, 1, 0, 2], \"sizemode\": \"area\", \"sizeref\": 0.1875}, \"name\": \"\", \"showlegend\": false, \"type\": \"scattergeo\"}], \"name\": \"01/27/2020\"}, {\"data\": [{\"geo\": \"geo\", \"hoverlabel\": {\"namelength\": 0}, \"hovertemplate\": \"<b>%{hovertext}</b><br><br>Date=01/28/2020<br>Confirmed=%{marker.color}<br>Country/Region=%{location}\", \"hovertext\": [\"Australia\", \"Belgium\", \"Cambodia\", \"Canada\", \"Egypt\", \"Finland\", \"France\", \"Germany\", \"Hong Kong\", \"India\", \"Italy\", \"Japan\", \"Macau\", \"Malaysia\", \"Nepal\", \"Philippines\", \"Russia\", \"Singapore\", \"South Korea\", \"Spain\", \"Sri Lanka\", \"Sweden\", \"Taiwan\", \"Thailand\", \"UK\", \"US\", \"United Arab Emirates\", \"Vietnam\"], \"legendgroup\": \"\", \"locationmode\": \"country names\", \"locations\": [\"Australia\", \"Belgium\", \"Cambodia\", \"Canada\", \"Egypt\", \"Finland\", \"France\", \"Germany\", \"Hong Kong\", \"India\", \"Italy\", \"Japan\", \"Macau\", \"Malaysia\", \"Nepal\", \"Philippines\", \"Russia\", \"Singapore\", \"South Korea\", \"Spain\", \"Sri Lanka\", \"Sweden\", \"Taiwan\", \"Thailand\", \"UK\", \"US\", \"United Arab Emirates\", \"Vietnam\"], \"marker\": {\"color\": [4, 0, 1, 1, 0, 0, 4, 4, 8, 0, 0, 7, 7, 4, 1, 0, 0, 7, 4, 0, 1, 0, 8, 14, 0, 1, 0, 2], \"coloraxis\": \"coloraxis\", \"size\": [4, 0, 1, 1, 0, 0, 4, 4, 8, 0, 0, 7, 7, 4, 1, 0, 0, 7, 4, 0, 1, 0, 8, 14, 0, 1, 0, 2], \"sizemode\": \"area\", \"sizeref\": 0.1875}, \"name\": \"\", \"showlegend\": false, \"type\": \"scattergeo\"}], \"name\": \"01/28/2020\"}, {\"data\": [{\"geo\": \"geo\", \"hoverlabel\": {\"namelength\": 0}, \"hovertemplate\": \"<b>%{hovertext}</b><br><br>Date=01/29/2020<br>Confirmed=%{marker.color}<br>Country/Region=%{location}\", \"hovertext\": [\"Australia\", \"Belgium\", \"Cambodia\", \"Canada\", \"Egypt\", \"Finland\", \"France\", \"Germany\", \"Hong Kong\", \"India\", \"Italy\", \"Japan\", \"Macau\", \"Malaysia\", \"Nepal\", \"Philippines\", \"Russia\", \"Singapore\", \"South Korea\", \"Spain\", \"Sri Lanka\", \"Sweden\", \"Taiwan\", \"Thailand\", \"UK\", \"US\", \"United Arab Emirates\", \"Vietnam\"], \"legendgroup\": \"\", \"locationmode\": \"country names\", \"locations\": [\"Australia\", \"Belgium\", \"Cambodia\", \"Canada\", \"Egypt\", \"Finland\", \"France\", \"Germany\", \"Hong Kong\", \"India\", \"Italy\", \"Japan\", \"Macau\", \"Malaysia\", \"Nepal\", \"Philippines\", \"Russia\", \"Singapore\", \"South Korea\", \"Spain\", \"Sri Lanka\", \"Sweden\", \"Taiwan\", \"Thailand\", \"UK\", \"US\", \"United Arab Emirates\", \"Vietnam\"], \"marker\": {\"color\": [4, 0, 1, 1, 0, 1, 5, 4, 10, 0, 0, 7, 7, 7, 1, 0, 0, 7, 4, 0, 1, 0, 8, 14, 0, 1, 4, 2], \"coloraxis\": \"coloraxis\", \"size\": [4, 0, 1, 1, 0, 1, 5, 4, 10, 0, 0, 7, 7, 7, 1, 0, 0, 7, 4, 0, 1, 0, 8, 14, 0, 1, 4, 2], \"sizemode\": \"area\", \"sizeref\": 0.1875}, \"name\": \"\", \"showlegend\": false, \"type\": \"scattergeo\"}], \"name\": \"01/29/2020\"}, {\"data\": [{\"geo\": \"geo\", \"hoverlabel\": {\"namelength\": 0}, \"hovertemplate\": \"<b>%{hovertext}</b><br><br>Date=01/30/2020<br>Confirmed=%{marker.color}<br>Country/Region=%{location}\", \"hovertext\": [\"Australia\", \"Belgium\", \"Cambodia\", \"Canada\", \"Egypt\", \"Finland\", \"France\", \"Germany\", \"Hong Kong\", \"India\", \"Italy\", \"Japan\", \"Macau\", \"Malaysia\", \"Nepal\", \"Philippines\", \"Russia\", \"Singapore\", \"South Korea\", \"Spain\", \"Sri Lanka\", \"Sweden\", \"Taiwan\", \"Thailand\", \"UK\", \"US\", \"United Arab Emirates\", \"Vietnam\"], \"legendgroup\": \"\", \"locationmode\": \"country names\", \"locations\": [\"Australia\", \"Belgium\", \"Cambodia\", \"Canada\", \"Egypt\", \"Finland\", \"France\", \"Germany\", \"Hong Kong\", \"India\", \"Italy\", \"Japan\", \"Macau\", \"Malaysia\", \"Nepal\", \"Philippines\", \"Russia\", \"Singapore\", \"South Korea\", \"Spain\", \"Sri Lanka\", \"Sweden\", \"Taiwan\", \"Thailand\", \"UK\", \"US\", \"United Arab Emirates\", \"Vietnam\"], \"marker\": {\"color\": [4, 0, 1, 1, 0, 1, 5, 4, 10, 1, 0, 11, 7, 8, 1, 1, 0, 10, 4, 0, 1, 0, 9, 14, 0, 1, 4, 2], \"coloraxis\": \"coloraxis\", \"size\": [4, 0, 1, 1, 0, 1, 5, 4, 10, 1, 0, 11, 7, 8, 1, 1, 0, 10, 4, 0, 1, 0, 9, 14, 0, 1, 4, 2], \"sizemode\": \"area\", \"sizeref\": 0.1875}, \"name\": \"\", \"showlegend\": false, \"type\": \"scattergeo\"}], \"name\": \"01/30/2020\"}, {\"data\": [{\"geo\": \"geo\", \"hoverlabel\": {\"namelength\": 0}, \"hovertemplate\": \"<b>%{hovertext}</b><br><br>Date=01/31/2020<br>Confirmed=%{marker.color}<br>Country/Region=%{location}\", \"hovertext\": [\"Australia\", \"Belgium\", \"Cambodia\", \"Canada\", \"Egypt\", \"Finland\", \"France\", \"Germany\", \"Hong Kong\", \"India\", \"Italy\", \"Japan\", \"Macau\", \"Malaysia\", \"Nepal\", \"Philippines\", \"Russia\", \"Singapore\", \"South Korea\", \"Spain\", \"Sri Lanka\", \"Sweden\", \"Taiwan\", \"Thailand\", \"UK\", \"US\", \"United Arab Emirates\", \"Vietnam\"], \"legendgroup\": \"\", \"locationmode\": \"country names\", \"locations\": [\"Australia\", \"Belgium\", \"Cambodia\", \"Canada\", \"Egypt\", \"Finland\", \"France\", \"Germany\", \"Hong Kong\", \"India\", \"Italy\", \"Japan\", \"Macau\", \"Malaysia\", \"Nepal\", \"Philippines\", \"Russia\", \"Singapore\", \"South Korea\", \"Spain\", \"Sri Lanka\", \"Sweden\", \"Taiwan\", \"Thailand\", \"UK\", \"US\", \"United Arab Emirates\", \"Vietnam\"], \"marker\": {\"color\": [4, 0, 1, 2, 0, 1, 5, 5, 12, 1, 2, 15, 7, 8, 1, 1, 2, 13, 11, 0, 1, 1, 10, 19, 2, 2, 4, 2], \"coloraxis\": \"coloraxis\", \"size\": [4, 0, 1, 2, 0, 1, 5, 5, 12, 1, 2, 15, 7, 8, 1, 1, 2, 13, 11, 0, 1, 1, 10, 19, 2, 2, 4, 2], \"sizemode\": \"area\", \"sizeref\": 0.1875}, \"name\": \"\", \"showlegend\": false, \"type\": \"scattergeo\"}], \"name\": \"01/31/2020\"}, {\"data\": [{\"geo\": \"geo\", \"hoverlabel\": {\"namelength\": 0}, \"hovertemplate\": \"<b>%{hovertext}</b><br><br>Date=02/01/2020<br>Confirmed=%{marker.color}<br>Country/Region=%{location}\", \"hovertext\": [\"Australia\", \"Belgium\", \"Cambodia\", \"Canada\", \"Egypt\", \"Finland\", \"France\", \"Germany\", \"Hong Kong\", \"India\", \"Italy\", \"Japan\", \"Macau\", \"Malaysia\", \"Nepal\", \"Philippines\", \"Russia\", \"Singapore\", \"South Korea\", \"Spain\", \"Sri Lanka\", \"Sweden\", \"Taiwan\", \"Thailand\", \"UK\", \"US\", \"United Arab Emirates\", \"Vietnam\"], \"legendgroup\": \"\", \"locationmode\": \"country names\", \"locations\": [\"Australia\", \"Belgium\", \"Cambodia\", \"Canada\", \"Egypt\", \"Finland\", \"France\", \"Germany\", \"Hong Kong\", \"India\", \"Italy\", \"Japan\", \"Macau\", \"Malaysia\", \"Nepal\", \"Philippines\", \"Russia\", \"Singapore\", \"South Korea\", \"Spain\", \"Sri Lanka\", \"Sweden\", \"Taiwan\", \"Thailand\", \"UK\", \"US\", \"United Arab Emirates\", \"Vietnam\"], \"marker\": {\"color\": [4, 0, 1, 2, 0, 1, 6, 8, 13, 1, 2, 20, 7, 8, 1, 1, 2, 16, 12, 1, 1, 1, 10, 19, 2, 2, 4, 6], \"coloraxis\": \"coloraxis\", \"size\": [4, 0, 1, 2, 0, 1, 6, 8, 13, 1, 2, 20, 7, 8, 1, 1, 2, 16, 12, 1, 1, 1, 10, 19, 2, 2, 4, 6], \"sizemode\": \"area\", \"sizeref\": 0.1875}, \"name\": \"\", \"showlegend\": false, \"type\": \"scattergeo\"}], \"name\": \"02/01/2020\"}, {\"data\": [{\"geo\": \"geo\", \"hoverlabel\": {\"namelength\": 0}, \"hovertemplate\": \"<b>%{hovertext}</b><br><br>Date=02/02/2020<br>Confirmed=%{marker.color}<br>Country/Region=%{location}\", \"hovertext\": [\"Australia\", \"Belgium\", \"Cambodia\", \"Canada\", \"Egypt\", \"Finland\", \"France\", \"Germany\", \"Hong Kong\", \"India\", \"Italy\", \"Japan\", \"Macau\", \"Malaysia\", \"Nepal\", \"Philippines\", \"Russia\", \"Singapore\", \"South Korea\", \"Spain\", \"Sri Lanka\", \"Sweden\", \"Taiwan\", \"Thailand\", \"UK\", \"US\", \"United Arab Emirates\", \"Vietnam\"], \"legendgroup\": \"\", \"locationmode\": \"country names\", \"locations\": [\"Australia\", \"Belgium\", \"Cambodia\", \"Canada\", \"Egypt\", \"Finland\", \"France\", \"Germany\", \"Hong Kong\", \"India\", \"Italy\", \"Japan\", \"Macau\", \"Malaysia\", \"Nepal\", \"Philippines\", \"Russia\", \"Singapore\", \"South Korea\", \"Spain\", \"Sri Lanka\", \"Sweden\", \"Taiwan\", \"Thailand\", \"UK\", \"US\", \"United Arab Emirates\", \"Vietnam\"], \"marker\": {\"color\": [4, 0, 1, 2, 0, 1, 6, 10, 15, 2, 2, 20, 8, 8, 1, 2, 2, 18, 15, 1, 1, 1, 10, 19, 2, 2, 5, 6], \"coloraxis\": \"coloraxis\", \"size\": [4, 0, 1, 2, 0, 1, 6, 10, 15, 2, 2, 20, 8, 8, 1, 2, 2, 18, 15, 1, 1, 1, 10, 19, 2, 2, 5, 6], \"sizemode\": \"area\", \"sizeref\": 0.1875}, \"name\": \"\", \"showlegend\": false, \"type\": \"scattergeo\"}], \"name\": \"02/02/2020\"}, {\"data\": [{\"geo\": \"geo\", \"hoverlabel\": {\"namelength\": 0}, \"hovertemplate\": \"<b>%{hovertext}</b><br><br>Date=02/03/2020<br>Confirmed=%{marker.color}<br>Country/Region=%{location}\", \"hovertext\": [\"Australia\", \"Belgium\", \"Cambodia\", \"Canada\", \"Egypt\", \"Finland\", \"France\", \"Germany\", \"Hong Kong\", \"India\", \"Italy\", \"Japan\", \"Macau\", \"Malaysia\", \"Nepal\", \"Philippines\", \"Russia\", \"Singapore\", \"South Korea\", \"Spain\", \"Sri Lanka\", \"Sweden\", \"Taiwan\", \"Thailand\", \"UK\", \"US\", \"United Arab Emirates\", \"Vietnam\"], \"legendgroup\": \"\", \"locationmode\": \"country names\", \"locations\": [\"Australia\", \"Belgium\", \"Cambodia\", \"Canada\", \"Egypt\", \"Finland\", \"France\", \"Germany\", \"Hong Kong\", \"India\", \"Italy\", \"Japan\", \"Macau\", \"Malaysia\", \"Nepal\", \"Philippines\", \"Russia\", \"Singapore\", \"South Korea\", \"Spain\", \"Sri Lanka\", \"Sweden\", \"Taiwan\", \"Thailand\", \"UK\", \"US\", \"United Arab Emirates\", \"Vietnam\"], \"marker\": {\"color\": [4, 0, 1, 2, 0, 1, 6, 12, 15, 3, 2, 20, 8, 8, 1, 2, 2, 18, 15, 1, 1, 1, 10, 19, 2, 2, 5, 8], \"coloraxis\": \"coloraxis\", \"size\": [4, 0, 1, 2, 0, 1, 6, 12, 15, 3, 2, 20, 8, 8, 1, 2, 2, 18, 15, 1, 1, 1, 10, 19, 2, 2, 5, 8], \"sizemode\": \"area\", \"sizeref\": 0.1875}, \"name\": \"\", \"showlegend\": false, \"type\": \"scattergeo\"}], \"name\": \"02/03/2020\"}, {\"data\": [{\"geo\": \"geo\", \"hoverlabel\": {\"namelength\": 0}, \"hovertemplate\": \"<b>%{hovertext}</b><br><br>Date=02/04/2020<br>Confirmed=%{marker.color}<br>Country/Region=%{location}\", \"hovertext\": [\"Australia\", \"Belgium\", \"Cambodia\", \"Canada\", \"Egypt\", \"Finland\", \"France\", \"Germany\", \"Hong Kong\", \"India\", \"Italy\", \"Japan\", \"Macau\", \"Malaysia\", \"Nepal\", \"Philippines\", \"Russia\", \"Singapore\", \"South Korea\", \"Spain\", \"Sri Lanka\", \"Sweden\", \"Taiwan\", \"Thailand\", \"UK\", \"US\", \"United Arab Emirates\", \"Vietnam\"], \"legendgroup\": \"\", \"locationmode\": \"country names\", \"locations\": [\"Australia\", \"Belgium\", \"Cambodia\", \"Canada\", \"Egypt\", \"Finland\", \"France\", \"Germany\", \"Hong Kong\", \"India\", \"Italy\", \"Japan\", \"Macau\", \"Malaysia\", \"Nepal\", \"Philippines\", \"Russia\", \"Singapore\", \"South Korea\", \"Spain\", \"Sri Lanka\", \"Sweden\", \"Taiwan\", \"Thailand\", \"UK\", \"US\", \"United Arab Emirates\", \"Vietnam\"], \"marker\": {\"color\": [4, 1, 1, 2, 0, 1, 6, 12, 17, 3, 2, 22, 10, 10, 1, 2, 2, 24, 16, 1, 1, 1, 11, 25, 2, 2, 5, 8], \"coloraxis\": \"coloraxis\", \"size\": [4, 1, 1, 2, 0, 1, 6, 12, 17, 3, 2, 22, 10, 10, 1, 2, 2, 24, 16, 1, 1, 1, 11, 25, 2, 2, 5, 8], \"sizemode\": \"area\", \"sizeref\": 0.1875}, \"name\": \"\", \"showlegend\": false, \"type\": \"scattergeo\"}], \"name\": \"02/04/2020\"}, {\"data\": [{\"geo\": \"geo\", \"hoverlabel\": {\"namelength\": 0}, \"hovertemplate\": \"<b>%{hovertext}</b><br><br>Date=02/05/2020<br>Confirmed=%{marker.color}<br>Country/Region=%{location}\", \"hovertext\": [\"Australia\", \"Belgium\", \"Cambodia\", \"Canada\", \"Egypt\", \"Finland\", \"France\", \"Germany\", \"Hong Kong\", \"India\", \"Italy\", \"Japan\", \"Macau\", \"Malaysia\", \"Nepal\", \"Philippines\", \"Russia\", \"Singapore\", \"South Korea\", \"Spain\", \"Sri Lanka\", \"Sweden\", \"Taiwan\", \"Thailand\", \"UK\", \"US\", \"United Arab Emirates\", \"Vietnam\"], \"legendgroup\": \"\", \"locationmode\": \"country names\", \"locations\": [\"Australia\", \"Belgium\", \"Cambodia\", \"Canada\", \"Egypt\", \"Finland\", \"France\", \"Germany\", \"Hong Kong\", \"India\", \"Italy\", \"Japan\", \"Macau\", \"Malaysia\", \"Nepal\", \"Philippines\", \"Russia\", \"Singapore\", \"South Korea\", \"Spain\", \"Sri Lanka\", \"Sweden\", \"Taiwan\", \"Thailand\", \"UK\", \"US\", \"United Arab Emirates\", \"Vietnam\"], \"marker\": {\"color\": [4, 1, 1, 2, 0, 1, 6, 12, 21, 3, 2, 22, 10, 12, 1, 2, 2, 28, 19, 1, 1, 1, 11, 25, 2, 2, 5, 8], \"coloraxis\": \"coloraxis\", \"size\": [4, 1, 1, 2, 0, 1, 6, 12, 21, 3, 2, 22, 10, 12, 1, 2, 2, 28, 19, 1, 1, 1, 11, 25, 2, 2, 5, 8], \"sizemode\": \"area\", \"sizeref\": 0.1875}, \"name\": \"\", \"showlegend\": false, \"type\": \"scattergeo\"}], \"name\": \"02/05/2020\"}, {\"data\": [{\"geo\": \"geo\", \"hoverlabel\": {\"namelength\": 0}, \"hovertemplate\": \"<b>%{hovertext}</b><br><br>Date=02/06/2020<br>Confirmed=%{marker.color}<br>Country/Region=%{location}\", \"hovertext\": [\"Australia\", \"Belgium\", \"Cambodia\", \"Canada\", \"Egypt\", \"Finland\", \"France\", \"Germany\", \"Hong Kong\", \"India\", \"Italy\", \"Japan\", \"Macau\", \"Malaysia\", \"Nepal\", \"Philippines\", \"Russia\", \"Singapore\", \"South Korea\", \"Spain\", \"Sri Lanka\", \"Sweden\", \"Taiwan\", \"Thailand\", \"UK\", \"US\", \"United Arab Emirates\", \"Vietnam\"], \"legendgroup\": \"\", \"locationmode\": \"country names\", \"locations\": [\"Australia\", \"Belgium\", \"Cambodia\", \"Canada\", \"Egypt\", \"Finland\", \"France\", \"Germany\", \"Hong Kong\", \"India\", \"Italy\", \"Japan\", \"Macau\", \"Malaysia\", \"Nepal\", \"Philippines\", \"Russia\", \"Singapore\", \"South Korea\", \"Spain\", \"Sri Lanka\", \"Sweden\", \"Taiwan\", \"Thailand\", \"UK\", \"US\", \"United Arab Emirates\", \"Vietnam\"], \"marker\": {\"color\": [4, 1, 1, 2, 0, 1, 6, 12, 24, 3, 2, 45, 10, 12, 1, 2, 2, 28, 23, 1, 1, 1, 16, 25, 2, 2, 5, 10], \"coloraxis\": \"coloraxis\", \"size\": [4, 1, 1, 2, 0, 1, 6, 12, 24, 3, 2, 45, 10, 12, 1, 2, 2, 28, 23, 1, 1, 1, 16, 25, 2, 2, 5, 10], \"sizemode\": \"area\", \"sizeref\": 0.1875}, \"name\": \"\", \"showlegend\": false, \"type\": \"scattergeo\"}], \"name\": \"02/06/2020\"}, {\"data\": [{\"geo\": \"geo\", \"hoverlabel\": {\"namelength\": 0}, \"hovertemplate\": \"<b>%{hovertext}</b><br><br>Date=02/07/2020<br>Confirmed=%{marker.color}<br>Country/Region=%{location}\", \"hovertext\": [\"Australia\", \"Belgium\", \"Cambodia\", \"Canada\", \"Egypt\", \"Finland\", \"France\", \"Germany\", \"Hong Kong\", \"India\", \"Italy\", \"Japan\", \"Macau\", \"Malaysia\", \"Nepal\", \"Philippines\", \"Russia\", \"Singapore\", \"South Korea\", \"Spain\", \"Sri Lanka\", \"Sweden\", \"Taiwan\", \"Thailand\", \"UK\", \"US\", \"United Arab Emirates\", \"Vietnam\"], \"legendgroup\": \"\", \"locationmode\": \"country names\", \"locations\": [\"Australia\", \"Belgium\", \"Cambodia\", \"Canada\", \"Egypt\", \"Finland\", \"France\", \"Germany\", \"Hong Kong\", \"India\", \"Italy\", \"Japan\", \"Macau\", \"Malaysia\", \"Nepal\", \"Philippines\", \"Russia\", \"Singapore\", \"South Korea\", \"Spain\", \"Sri Lanka\", \"Sweden\", \"Taiwan\", \"Thailand\", \"UK\", \"US\", \"United Arab Emirates\", \"Vietnam\"], \"marker\": {\"color\": [5, 1, 1, 4, 0, 1, 6, 13, 25, 3, 3, 25, 10, 12, 1, 3, 2, 30, 24, 1, 1, 1, 16, 25, 3, 2, 5, 10], \"coloraxis\": \"coloraxis\", \"size\": [5, 1, 1, 4, 0, 1, 6, 13, 25, 3, 3, 25, 10, 12, 1, 3, 2, 30, 24, 1, 1, 1, 16, 25, 3, 2, 5, 10], \"sizemode\": \"area\", \"sizeref\": 0.1875}, \"name\": \"\", \"showlegend\": false, \"type\": \"scattergeo\"}], \"name\": \"02/07/2020\"}, {\"data\": [{\"geo\": \"geo\", \"hoverlabel\": {\"namelength\": 0}, \"hovertemplate\": \"<b>%{hovertext}</b><br><br>Date=02/08/2020<br>Confirmed=%{marker.color}<br>Country/Region=%{location}\", \"hovertext\": [\"Australia\", \"Belgium\", \"Cambodia\", \"Canada\", \"Egypt\", \"Finland\", \"France\", \"Germany\", \"Hong Kong\", \"India\", \"Italy\", \"Japan\", \"Macau\", \"Malaysia\", \"Nepal\", \"Philippines\", \"Russia\", \"Singapore\", \"South Korea\", \"Spain\", \"Sri Lanka\", \"Sweden\", \"Taiwan\", \"Thailand\", \"UK\", \"US\", \"United Arab Emirates\", \"Vietnam\"], \"legendgroup\": \"\", \"locationmode\": \"country names\", \"locations\": [\"Australia\", \"Belgium\", \"Cambodia\", \"Canada\", \"Egypt\", \"Finland\", \"France\", \"Germany\", \"Hong Kong\", \"India\", \"Italy\", \"Japan\", \"Macau\", \"Malaysia\", \"Nepal\", \"Philippines\", \"Russia\", \"Singapore\", \"South Korea\", \"Spain\", \"Sri Lanka\", \"Sweden\", \"Taiwan\", \"Thailand\", \"UK\", \"US\", \"United Arab Emirates\", \"Vietnam\"], \"marker\": {\"color\": [5, 1, 1, 4, 0, 1, 11, 13, 26, 3, 3, 25, 10, 16, 1, 3, 2, 33, 24, 1, 1, 1, 17, 32, 3, 2, 7, 13], \"coloraxis\": \"coloraxis\", \"size\": [5, 1, 1, 4, 0, 1, 11, 13, 26, 3, 3, 25, 10, 16, 1, 3, 2, 33, 24, 1, 1, 1, 17, 32, 3, 2, 7, 13], \"sizemode\": \"area\", \"sizeref\": 0.1875}, \"name\": \"\", \"showlegend\": false, \"type\": \"scattergeo\"}], \"name\": \"02/08/2020\"}, {\"data\": [{\"geo\": \"geo\", \"hoverlabel\": {\"namelength\": 0}, \"hovertemplate\": \"<b>%{hovertext}</b><br><br>Date=02/09/2020<br>Confirmed=%{marker.color}<br>Country/Region=%{location}\", \"hovertext\": [\"Australia\", \"Belgium\", \"Cambodia\", \"Canada\", \"Egypt\", \"Finland\", \"France\", \"Germany\", \"Hong Kong\", \"India\", \"Italy\", \"Japan\", \"Macau\", \"Malaysia\", \"Nepal\", \"Philippines\", \"Russia\", \"Singapore\", \"South Korea\", \"Spain\", \"Sri Lanka\", \"Sweden\", \"Taiwan\", \"Thailand\", \"UK\", \"US\", \"United Arab Emirates\", \"Vietnam\"], \"legendgroup\": \"\", \"locationmode\": \"country names\", \"locations\": [\"Australia\", \"Belgium\", \"Cambodia\", \"Canada\", \"Egypt\", \"Finland\", \"France\", \"Germany\", \"Hong Kong\", \"India\", \"Italy\", \"Japan\", \"Macau\", \"Malaysia\", \"Nepal\", \"Philippines\", \"Russia\", \"Singapore\", \"South Korea\", \"Spain\", \"Sri Lanka\", \"Sweden\", \"Taiwan\", \"Thailand\", \"UK\", \"US\", \"United Arab Emirates\", \"Vietnam\"], \"marker\": {\"color\": [5, 1, 1, 4, 0, 1, 11, 14, 29, 3, 3, 26, 10, 16, 1, 3, 2, 40, 25, 2, 1, 1, 18, 32, 3, 2, 7, 13], \"coloraxis\": \"coloraxis\", \"size\": [5, 1, 1, 4, 0, 1, 11, 14, 29, 3, 3, 26, 10, 16, 1, 3, 2, 40, 25, 2, 1, 1, 18, 32, 3, 2, 7, 13], \"sizemode\": \"area\", \"sizeref\": 0.1875}, \"name\": \"\", \"showlegend\": false, \"type\": \"scattergeo\"}], \"name\": \"02/09/2020\"}, {\"data\": [{\"geo\": \"geo\", \"hoverlabel\": {\"namelength\": 0}, \"hovertemplate\": \"<b>%{hovertext}</b><br><br>Date=02/10/2020<br>Confirmed=%{marker.color}<br>Country/Region=%{location}\", \"hovertext\": [\"Australia\", \"Belgium\", \"Cambodia\", \"Canada\", \"Egypt\", \"Finland\", \"France\", \"Germany\", \"Hong Kong\", \"India\", \"Italy\", \"Japan\", \"Macau\", \"Malaysia\", \"Nepal\", \"Philippines\", \"Russia\", \"Singapore\", \"South Korea\", \"Spain\", \"Sri Lanka\", \"Sweden\", \"Taiwan\", \"Thailand\", \"UK\", \"US\", \"United Arab Emirates\", \"Vietnam\"], \"legendgroup\": \"\", \"locationmode\": \"country names\", \"locations\": [\"Australia\", \"Belgium\", \"Cambodia\", \"Canada\", \"Egypt\", \"Finland\", \"France\", \"Germany\", \"Hong Kong\", \"India\", \"Italy\", \"Japan\", \"Macau\", \"Malaysia\", \"Nepal\", \"Philippines\", \"Russia\", \"Singapore\", \"South Korea\", \"Spain\", \"Sri Lanka\", \"Sweden\", \"Taiwan\", \"Thailand\", \"UK\", \"US\", \"United Arab Emirates\", \"Vietnam\"], \"marker\": {\"color\": [5, 1, 1, 4, 0, 1, 11, 14, 38, 3, 3, 26, 10, 18, 1, 3, 2, 45, 27, 2, 1, 1, 18, 32, 8, 2, 8, 14], \"coloraxis\": \"coloraxis\", \"size\": [5, 1, 1, 4, 0, 1, 11, 14, 38, 3, 3, 26, 10, 18, 1, 3, 2, 45, 27, 2, 1, 1, 18, 32, 8, 2, 8, 14], \"sizemode\": \"area\", \"sizeref\": 0.1875}, \"name\": \"\", \"showlegend\": false, \"type\": \"scattergeo\"}], \"name\": \"02/10/2020\"}, {\"data\": [{\"geo\": \"geo\", \"hoverlabel\": {\"namelength\": 0}, \"hovertemplate\": \"<b>%{hovertext}</b><br><br>Date=02/11/2020<br>Confirmed=%{marker.color}<br>Country/Region=%{location}\", \"hovertext\": [\"Australia\", \"Belgium\", \"Cambodia\", \"Canada\", \"Egypt\", \"Finland\", \"France\", \"Germany\", \"Hong Kong\", \"India\", \"Italy\", \"Japan\", \"Macau\", \"Malaysia\", \"Nepal\", \"Philippines\", \"Russia\", \"Singapore\", \"South Korea\", \"Spain\", \"Sri Lanka\", \"Sweden\", \"Taiwan\", \"Thailand\", \"UK\", \"US\", \"United Arab Emirates\", \"Vietnam\"], \"legendgroup\": \"\", \"locationmode\": \"country names\", \"locations\": [\"Australia\", \"Belgium\", \"Cambodia\", \"Canada\", \"Egypt\", \"Finland\", \"France\", \"Germany\", \"Hong Kong\", \"India\", \"Italy\", \"Japan\", \"Macau\", \"Malaysia\", \"Nepal\", \"Philippines\", \"Russia\", \"Singapore\", \"South Korea\", \"Spain\", \"Sri Lanka\", \"Sweden\", \"Taiwan\", \"Thailand\", \"UK\", \"US\", \"United Arab Emirates\", \"Vietnam\"], \"marker\": {\"color\": [5, 1, 1, 4, 0, 1, 11, 16, 49, 3, 3, 26, 10, 18, 1, 3, 2, 47, 28, 2, 1, 1, 18, 33, 8, 2, 8, 15], \"coloraxis\": \"coloraxis\", \"size\": [5, 1, 1, 4, 0, 1, 11, 16, 49, 3, 3, 26, 10, 18, 1, 3, 2, 47, 28, 2, 1, 1, 18, 33, 8, 2, 8, 15], \"sizemode\": \"area\", \"sizeref\": 0.1875}, \"name\": \"\", \"showlegend\": false, \"type\": \"scattergeo\"}], \"name\": \"02/11/2020\"}, {\"data\": [{\"geo\": \"geo\", \"hoverlabel\": {\"namelength\": 0}, \"hovertemplate\": \"<b>%{hovertext}</b><br><br>Date=02/12/2020<br>Confirmed=%{marker.color}<br>Country/Region=%{location}\", \"hovertext\": [\"Australia\", \"Belgium\", \"Cambodia\", \"Canada\", \"Egypt\", \"Finland\", \"France\", \"Germany\", \"Hong Kong\", \"India\", \"Italy\", \"Japan\", \"Macau\", \"Malaysia\", \"Nepal\", \"Philippines\", \"Russia\", \"Singapore\", \"South Korea\", \"Spain\", \"Sri Lanka\", \"Sweden\", \"Taiwan\", \"Thailand\", \"UK\", \"US\", \"United Arab Emirates\", \"Vietnam\"], \"legendgroup\": \"\", \"locationmode\": \"country names\", \"locations\": [\"Australia\", \"Belgium\", \"Cambodia\", \"Canada\", \"Egypt\", \"Finland\", \"France\", \"Germany\", \"Hong Kong\", \"India\", \"Italy\", \"Japan\", \"Macau\", \"Malaysia\", \"Nepal\", \"Philippines\", \"Russia\", \"Singapore\", \"South Korea\", \"Spain\", \"Sri Lanka\", \"Sweden\", \"Taiwan\", \"Thailand\", \"UK\", \"US\", \"United Arab Emirates\", \"Vietnam\"], \"marker\": {\"color\": [5, 1, 1, 4, 0, 1, 11, 16, 50, 3, 3, 28, 10, 18, 1, 3, 2, 50, 28, 2, 1, 1, 18, 33, 9, 2, 8, 15], \"coloraxis\": \"coloraxis\", \"size\": [5, 1, 1, 4, 0, 1, 11, 16, 50, 3, 3, 28, 10, 18, 1, 3, 2, 50, 28, 2, 1, 1, 18, 33, 9, 2, 8, 15], \"sizemode\": \"area\", \"sizeref\": 0.1875}, \"name\": \"\", \"showlegend\": false, \"type\": \"scattergeo\"}], \"name\": \"02/12/2020\"}, {\"data\": [{\"geo\": \"geo\", \"hoverlabel\": {\"namelength\": 0}, \"hovertemplate\": \"<b>%{hovertext}</b><br><br>Date=02/13/2020<br>Confirmed=%{marker.color}<br>Country/Region=%{location}\", \"hovertext\": [\"Australia\", \"Belgium\", \"Cambodia\", \"Canada\", \"Egypt\", \"Finland\", \"France\", \"Germany\", \"Hong Kong\", \"India\", \"Italy\", \"Japan\", \"Macau\", \"Malaysia\", \"Nepal\", \"Philippines\", \"Russia\", \"Singapore\", \"South Korea\", \"Spain\", \"Sri Lanka\", \"Sweden\", \"Taiwan\", \"Thailand\", \"UK\", \"US\", \"United Arab Emirates\", \"Vietnam\"], \"legendgroup\": \"\", \"locationmode\": \"country names\", \"locations\": [\"Australia\", \"Belgium\", \"Cambodia\", \"Canada\", \"Egypt\", \"Finland\", \"France\", \"Germany\", \"Hong Kong\", \"India\", \"Italy\", \"Japan\", \"Macau\", \"Malaysia\", \"Nepal\", \"Philippines\", \"Russia\", \"Singapore\", \"South Korea\", \"Spain\", \"Sri Lanka\", \"Sweden\", \"Taiwan\", \"Thailand\", \"UK\", \"US\", \"United Arab Emirates\", \"Vietnam\"], \"marker\": {\"color\": [5, 1, 1, 4, 0, 1, 11, 16, 53, 3, 3, 28, 10, 19, 1, 3, 2, 58, 28, 2, 1, 1, 18, 33, 9, 2, 8, 16], \"coloraxis\": \"coloraxis\", \"size\": [5, 1, 1, 4, 0, 1, 11, 16, 53, 3, 3, 28, 10, 19, 1, 3, 2, 58, 28, 2, 1, 1, 18, 33, 9, 2, 8, 16], \"sizemode\": \"area\", \"sizeref\": 0.1875}, \"name\": \"\", \"showlegend\": false, \"type\": \"scattergeo\"}], \"name\": \"02/13/2020\"}, {\"data\": [{\"geo\": \"geo\", \"hoverlabel\": {\"namelength\": 0}, \"hovertemplate\": \"<b>%{hovertext}</b><br><br>Date=02/14/2020<br>Confirmed=%{marker.color}<br>Country/Region=%{location}\", \"hovertext\": [\"Australia\", \"Belgium\", \"Cambodia\", \"Canada\", \"Egypt\", \"Finland\", \"France\", \"Germany\", \"Hong Kong\", \"India\", \"Italy\", \"Japan\", \"Macau\", \"Malaysia\", \"Nepal\", \"Philippines\", \"Russia\", \"Singapore\", \"South Korea\", \"Spain\", \"Sri Lanka\", \"Sweden\", \"Taiwan\", \"Thailand\", \"UK\", \"US\", \"United Arab Emirates\", \"Vietnam\"], \"legendgroup\": \"\", \"locationmode\": \"country names\", \"locations\": [\"Australia\", \"Belgium\", \"Cambodia\", \"Canada\", \"Egypt\", \"Finland\", \"France\", \"Germany\", \"Hong Kong\", \"India\", \"Italy\", \"Japan\", \"Macau\", \"Malaysia\", \"Nepal\", \"Philippines\", \"Russia\", \"Singapore\", \"South Korea\", \"Spain\", \"Sri Lanka\", \"Sweden\", \"Taiwan\", \"Thailand\", \"UK\", \"US\", \"United Arab Emirates\", \"Vietnam\"], \"marker\": {\"color\": [5, 1, 1, 4, 1, 1, 11, 16, 56, 3, 3, 29, 10, 19, 1, 3, 2, 67, 28, 2, 1, 1, 18, 33, 9, 2, 8, 16], \"coloraxis\": \"coloraxis\", \"size\": [5, 1, 1, 4, 1, 1, 11, 16, 56, 3, 3, 29, 10, 19, 1, 3, 2, 67, 28, 2, 1, 1, 18, 33, 9, 2, 8, 16], \"sizemode\": \"area\", \"sizeref\": 0.1875}, \"name\": \"\", \"showlegend\": false, \"type\": \"scattergeo\"}], \"name\": \"02/14/2020\"}, {\"data\": [{\"geo\": \"geo\", \"hoverlabel\": {\"namelength\": 0}, \"hovertemplate\": \"<b>%{hovertext}</b><br><br>Date=02/15/2020<br>Confirmed=%{marker.color}<br>Country/Region=%{location}\", \"hovertext\": [\"Australia\", \"Belgium\", \"Cambodia\", \"Canada\", \"Egypt\", \"Finland\", \"France\", \"Germany\", \"Hong Kong\", \"India\", \"Italy\", \"Japan\", \"Macau\", \"Malaysia\", \"Nepal\", \"Philippines\", \"Russia\", \"Singapore\", \"South Korea\", \"Spain\", \"Sri Lanka\", \"Sweden\", \"Taiwan\", \"Thailand\", \"UK\", \"US\", \"United Arab Emirates\", \"Vietnam\"], \"legendgroup\": \"\", \"locationmode\": \"country names\", \"locations\": [\"Australia\", \"Belgium\", \"Cambodia\", \"Canada\", \"Egypt\", \"Finland\", \"France\", \"Germany\", \"Hong Kong\", \"India\", \"Italy\", \"Japan\", \"Macau\", \"Malaysia\", \"Nepal\", \"Philippines\", \"Russia\", \"Singapore\", \"South Korea\", \"Spain\", \"Sri Lanka\", \"Sweden\", \"Taiwan\", \"Thailand\", \"UK\", \"US\", \"United Arab Emirates\", \"Vietnam\"], \"marker\": {\"color\": [5, 1, 1, 4, 1, 1, 12, 16, 56, 3, 3, 43, 10, 22, 1, 3, 2, 72, 28, 2, 1, 1, 18, 33, 9, 2, 8, 16], \"coloraxis\": \"coloraxis\", \"size\": [5, 1, 1, 4, 1, 1, 12, 16, 56, 3, 3, 43, 10, 22, 1, 3, 2, 72, 28, 2, 1, 1, 18, 33, 9, 2, 8, 16], \"sizemode\": \"area\", \"sizeref\": 0.1875}, \"name\": \"\", \"showlegend\": false, \"type\": \"scattergeo\"}], \"name\": \"02/15/2020\"}, {\"data\": [{\"geo\": \"geo\", \"hoverlabel\": {\"namelength\": 0}, \"hovertemplate\": \"<b>%{hovertext}</b><br><br>Date=02/16/2020<br>Confirmed=%{marker.color}<br>Country/Region=%{location}\", \"hovertext\": [\"Australia\", \"Belgium\", \"Cambodia\", \"Canada\", \"Egypt\", \"Finland\", \"France\", \"Germany\", \"Hong Kong\", \"India\", \"Italy\", \"Japan\", \"Macau\", \"Malaysia\", \"Nepal\", \"Philippines\", \"Russia\", \"Singapore\", \"South Korea\", \"Spain\", \"Sri Lanka\", \"Sweden\", \"Taiwan\", \"Thailand\", \"UK\", \"US\", \"United Arab Emirates\", \"Vietnam\"], \"legendgroup\": \"\", \"locationmode\": \"country names\", \"locations\": [\"Australia\", \"Belgium\", \"Cambodia\", \"Canada\", \"Egypt\", \"Finland\", \"France\", \"Germany\", \"Hong Kong\", \"India\", \"Italy\", \"Japan\", \"Macau\", \"Malaysia\", \"Nepal\", \"Philippines\", \"Russia\", \"Singapore\", \"South Korea\", \"Spain\", \"Sri Lanka\", \"Sweden\", \"Taiwan\", \"Thailand\", \"UK\", \"US\", \"United Arab Emirates\", \"Vietnam\"], \"marker\": {\"color\": [5, 1, 1, 4, 1, 1, 12, 16, 57, 3, 3, 59, 10, 22, 1, 3, 2, 75, 29, 2, 1, 1, 20, 34, 9, 2, 9, 16], \"coloraxis\": \"coloraxis\", \"size\": [5, 1, 1, 4, 1, 1, 12, 16, 57, 3, 3, 59, 10, 22, 1, 3, 2, 75, 29, 2, 1, 1, 20, 34, 9, 2, 9, 16], \"sizemode\": \"area\", \"sizeref\": 0.1875}, \"name\": \"\", \"showlegend\": false, \"type\": \"scattergeo\"}], \"name\": \"02/16/2020\"}]);\n",
       "                        }).then(function(){\n",
       "                            \n",
       "var gd = document.getElementById('19431ce8-dba5-476f-8b33-51877f694c0f');\n",
       "var x = new MutationObserver(function (mutations, observer) {{\n",
       "        var display = window.getComputedStyle(gd).display;\n",
       "        if (!display || display === 'none') {{\n",
       "            console.log([gd, 'removed!']);\n",
       "            Plotly.purge(gd);\n",
       "            observer.disconnect();\n",
       "        }}\n",
       "}});\n",
       "\n",
       "// Listen for the removal of the full notebook cells\n",
       "var notebookContainer = gd.closest('#notebook-container');\n",
       "if (notebookContainer) {{\n",
       "    x.observe(notebookContainer, {childList: true});\n",
       "}}\n",
       "\n",
       "// Listen for the clearing of the current output cell\n",
       "var outputEl = gd.closest('.output');\n",
       "if (outputEl) {{\n",
       "    x.observe(outputEl, {childList: true});\n",
       "}}\n",
       "\n",
       "                        })\n",
       "                };\n",
       "                });\n",
       "            </script>\n",
       "        </div>"
      ]
     },
     "metadata": {},
     "output_type": "display_data"
    },
    {
     "data": {
      "application/vnd.plotly.v1+json": {
       "config": {
        "plotlyServerURL": "https://plot.ly"
       },
       "data": [
        {
         "customdata": [
          [
           1,
           0,
           0
          ],
          [
           14,
           0,
           0
          ],
          [
           6,
           0,
           0
          ],
          [
           1,
           0,
           0
          ],
          [
           0,
           0,
           0
          ],
          [
           26,
           0,
           0
          ],
          [
           2,
           0,
           0
          ],
          [
           1,
           0,
           0
          ],
          [
           4,
           0,
           0
          ],
          [
           1,
           0,
           0
          ],
          [
           0,
           0,
           0
          ],
          [
           5,
           0,
           0
          ],
          [
           444,
           17,
           28
          ],
          [
           4,
           0,
           0
          ],
          [
           0,
           0,
           0
          ],
          [
           1,
           0,
           0
          ],
          [
           2,
           0,
           0
          ],
          [
           0,
           0,
           0
          ],
          [
           2,
           0,
           0
          ],
          [
           1,
           0,
           0
          ],
          [
           0,
           0,
           0
          ],
          [
           0,
           0,
           0
          ],
          [
           2,
           0,
           0
          ],
          [
           9,
           0,
           0
          ],
          [
           1,
           0,
           0
          ],
          [
           5,
           0,
           0
          ],
          [
           4,
           0,
           0
          ],
          [
           0,
           0,
           0
          ],
          [
           0,
           0,
           0
          ],
          [
           1,
           0,
           0
          ],
          [
           10,
           0,
           0
          ]
         ],
         "geo": "geo",
         "hoverlabel": {
          "namelength": 0
         },
         "hovertemplate": "<b>%{hovertext}</b><br><br>Date=01/22/2020<br>size=%{marker.color}<br>Confirmed=%{customdata[0]}<br>Deaths=%{customdata[1]}<br>Recovered=%{customdata[2]}<br>Lat=%{lat}<br>Long=%{lon}",
         "hovertext": [
          "Anhui",
          "Beijing",
          "Chongqing",
          "Fujian",
          "Gansu",
          "Guangdong",
          "Guangxi",
          "Guizhou",
          "Hainan",
          "Hebei",
          "Heilongjiang",
          "Henan",
          "Hubei",
          "Hunan",
          "Inner Mongolia",
          "Jiangsu",
          "Jiangxi",
          "Jilin",
          "Liaoning",
          "Ningxia",
          "Qinghai",
          "Shaanxi",
          "Shandong",
          "Shanghai",
          "Shanxi",
          "Sichuan",
          "Tianjin",
          "Tibet",
          "Xinjiang",
          "Yunnan",
          "Zhejiang"
         ],
         "lat": [
          31.82571,
          40.18238,
          30.05718,
          26.07783,
          36.0611,
          23.33841,
          23.82908,
          26.81536,
          19.19673,
          38.0428,
          47.862,
          33.882020000000004,
          30.97564,
          27.61041,
          44.09448,
          32.97027,
          27.61401,
          43.66657,
          41.29284000000001,
          37.26923,
          35.65945,
          35.19165,
          36.34377,
          31.20327,
          37.57769,
          30.617140000000006,
          39.29362,
          30.1534,
          41.11981,
          24.97411,
          29.18251
         ],
         "legendgroup": "",
         "lon": [
          117.2264,
          116.4142,
          107.874,
          117.9895,
          103.8343,
          113.422,
          108.7881,
          106.8748,
          109.7455,
          114.5149,
          127.7622,
          113.614,
          112.2707,
          111.7088,
          113.9456,
          119.464,
          115.7221,
          126.1917,
          122.6086,
          106.1655,
          96.02564,
          108.8701,
          118.1529,
          121.4554,
          112.2922,
          102.7103,
          117.333,
          88.7879,
          85.17822,
          101.4868,
          120.0985
         ],
         "marker": {
          "color": [
           1,
           3.7416573867739413,
           2.449489742783178,
           1,
           0,
           5.0990195135927845,
           1.4142135623730951,
           1,
           2,
           1,
           0,
           2.23606797749979,
           21.071307505705477,
           2,
           0,
           1,
           1.4142135623730951,
           0,
           1.4142135623730951,
           1,
           0,
           0,
           1.4142135623730951,
           3,
           1,
           2.23606797749979,
           2,
           0,
           0,
           1,
           3.1622776601683795
          ],
          "coloraxis": "coloraxis",
          "size": [
           1,
           3.7416573867739413,
           2.449489742783178,
           1,
           0,
           5.0990195135927845,
           1.4142135623730951,
           1,
           2,
           1,
           0,
           2.23606797749979,
           21.071307505705477,
           2,
           0,
           1,
           1.4142135623730951,
           0,
           1.4142135623730951,
           1,
           0,
           0,
           1.4142135623730951,
           3,
           1,
           2.23606797749979,
           2,
           0,
           0,
           1,
           3.1622776601683795
          ],
          "sizemode": "area",
          "sizeref": 0.603023631377743
         },
         "name": "",
         "showlegend": false,
         "type": "scattergeo"
        }
       ],
       "frames": [
        {
         "data": [
          {
           "customdata": [
            [
             1,
             0,
             0
            ],
            [
             14,
             0,
             0
            ],
            [
             6,
             0,
             0
            ],
            [
             1,
             0,
             0
            ],
            [
             0,
             0,
             0
            ],
            [
             26,
             0,
             0
            ],
            [
             2,
             0,
             0
            ],
            [
             1,
             0,
             0
            ],
            [
             4,
             0,
             0
            ],
            [
             1,
             0,
             0
            ],
            [
             0,
             0,
             0
            ],
            [
             5,
             0,
             0
            ],
            [
             444,
             17,
             28
            ],
            [
             4,
             0,
             0
            ],
            [
             0,
             0,
             0
            ],
            [
             1,
             0,
             0
            ],
            [
             2,
             0,
             0
            ],
            [
             0,
             0,
             0
            ],
            [
             2,
             0,
             0
            ],
            [
             1,
             0,
             0
            ],
            [
             0,
             0,
             0
            ],
            [
             0,
             0,
             0
            ],
            [
             2,
             0,
             0
            ],
            [
             9,
             0,
             0
            ],
            [
             1,
             0,
             0
            ],
            [
             5,
             0,
             0
            ],
            [
             4,
             0,
             0
            ],
            [
             0,
             0,
             0
            ],
            [
             0,
             0,
             0
            ],
            [
             1,
             0,
             0
            ],
            [
             10,
             0,
             0
            ]
           ],
           "geo": "geo",
           "hoverlabel": {
            "namelength": 0
           },
           "hovertemplate": "<b>%{hovertext}</b><br><br>Date=01/22/2020<br>size=%{marker.color}<br>Confirmed=%{customdata[0]}<br>Deaths=%{customdata[1]}<br>Recovered=%{customdata[2]}<br>Lat=%{lat}<br>Long=%{lon}",
           "hovertext": [
            "Anhui",
            "Beijing",
            "Chongqing",
            "Fujian",
            "Gansu",
            "Guangdong",
            "Guangxi",
            "Guizhou",
            "Hainan",
            "Hebei",
            "Heilongjiang",
            "Henan",
            "Hubei",
            "Hunan",
            "Inner Mongolia",
            "Jiangsu",
            "Jiangxi",
            "Jilin",
            "Liaoning",
            "Ningxia",
            "Qinghai",
            "Shaanxi",
            "Shandong",
            "Shanghai",
            "Shanxi",
            "Sichuan",
            "Tianjin",
            "Tibet",
            "Xinjiang",
            "Yunnan",
            "Zhejiang"
           ],
           "lat": [
            31.82571,
            40.18238,
            30.05718,
            26.07783,
            36.0611,
            23.33841,
            23.82908,
            26.81536,
            19.19673,
            38.0428,
            47.862,
            33.882020000000004,
            30.97564,
            27.61041,
            44.09448,
            32.97027,
            27.61401,
            43.66657,
            41.29284000000001,
            37.26923,
            35.65945,
            35.19165,
            36.34377,
            31.20327,
            37.57769,
            30.617140000000006,
            39.29362,
            30.1534,
            41.11981,
            24.97411,
            29.18251
           ],
           "legendgroup": "",
           "lon": [
            117.2264,
            116.4142,
            107.874,
            117.9895,
            103.8343,
            113.422,
            108.7881,
            106.8748,
            109.7455,
            114.5149,
            127.7622,
            113.614,
            112.2707,
            111.7088,
            113.9456,
            119.464,
            115.7221,
            126.1917,
            122.6086,
            106.1655,
            96.02564,
            108.8701,
            118.1529,
            121.4554,
            112.2922,
            102.7103,
            117.333,
            88.7879,
            85.17822,
            101.4868,
            120.0985
           ],
           "marker": {
            "color": [
             1,
             3.7416573867739413,
             2.449489742783178,
             1,
             0,
             5.0990195135927845,
             1.4142135623730951,
             1,
             2,
             1,
             0,
             2.23606797749979,
             21.071307505705477,
             2,
             0,
             1,
             1.4142135623730951,
             0,
             1.4142135623730951,
             1,
             0,
             0,
             1.4142135623730951,
             3,
             1,
             2.23606797749979,
             2,
             0,
             0,
             1,
             3.1622776601683795
            ],
            "coloraxis": "coloraxis",
            "size": [
             1,
             3.7416573867739413,
             2.449489742783178,
             1,
             0,
             5.0990195135927845,
             1.4142135623730951,
             1,
             2,
             1,
             0,
             2.23606797749979,
             21.071307505705477,
             2,
             0,
             1,
             1.4142135623730951,
             0,
             1.4142135623730951,
             1,
             0,
             0,
             1.4142135623730951,
             3,
             1,
             2.23606797749979,
             2,
             0,
             0,
             1,
             3.1622776601683795
            ],
            "sizemode": "area",
            "sizeref": 0.603023631377743
           },
           "name": "",
           "showlegend": false,
           "type": "scattergeo"
          }
         ],
         "name": "01/22/2020"
        },
        {
         "data": [
          {
           "customdata": [
            [
             9,
             0,
             0
            ],
            [
             22,
             0,
             0
            ],
            [
             9,
             0,
             0
            ],
            [
             5,
             0,
             0
            ],
            [
             2,
             0,
             0
            ],
            [
             32,
             0,
             2
            ],
            [
             5,
             0,
             0
            ],
            [
             3,
             0,
             0
            ],
            [
             5,
             0,
             0
            ],
            [
             1,
             1,
             0
            ],
            [
             2,
             0,
             0
            ],
            [
             5,
             0,
             0
            ],
            [
             444,
             17,
             28
            ],
            [
             9,
             0,
             0
            ],
            [
             0,
             0,
             0
            ],
            [
             5,
             0,
             0
            ],
            [
             7,
             0,
             0
            ],
            [
             1,
             0,
             0
            ],
            [
             3,
             0,
             0
            ],
            [
             1,
             0,
             0
            ],
            [
             0,
             0,
             0
            ],
            [
             3,
             0,
             0
            ],
            [
             6,
             0,
             0
            ],
            [
             16,
             0,
             0
            ],
            [
             1,
             0,
             0
            ],
            [
             8,
             0,
             0
            ],
            [
             4,
             0,
             0
            ],
            [
             0,
             0,
             0
            ],
            [
             2,
             0,
             0
            ],
            [
             2,
             0,
             0
            ],
            [
             27,
             0,
             0
            ]
           ],
           "geo": "geo",
           "hoverlabel": {
            "namelength": 0
           },
           "hovertemplate": "<b>%{hovertext}</b><br><br>Date=01/23/2020<br>size=%{marker.color}<br>Confirmed=%{customdata[0]}<br>Deaths=%{customdata[1]}<br>Recovered=%{customdata[2]}<br>Lat=%{lat}<br>Long=%{lon}",
           "hovertext": [
            "Anhui",
            "Beijing",
            "Chongqing",
            "Fujian",
            "Gansu",
            "Guangdong",
            "Guangxi",
            "Guizhou",
            "Hainan",
            "Hebei",
            "Heilongjiang",
            "Henan",
            "Hubei",
            "Hunan",
            "Inner Mongolia",
            "Jiangsu",
            "Jiangxi",
            "Jilin",
            "Liaoning",
            "Ningxia",
            "Qinghai",
            "Shaanxi",
            "Shandong",
            "Shanghai",
            "Shanxi",
            "Sichuan",
            "Tianjin",
            "Tibet",
            "Xinjiang",
            "Yunnan",
            "Zhejiang"
           ],
           "lat": [
            31.82571,
            40.18238,
            30.05718,
            26.07783,
            36.0611,
            23.33841,
            23.82908,
            26.81536,
            19.19673,
            38.0428,
            47.862,
            33.882020000000004,
            30.97564,
            27.61041,
            44.09448,
            32.97027,
            27.61401,
            43.66657,
            41.29284000000001,
            37.26923,
            35.65945,
            35.19165,
            36.34377,
            31.20327,
            37.57769,
            30.617140000000006,
            39.29362,
            30.1534,
            41.11981,
            24.97411,
            29.18251
           ],
           "legendgroup": "",
           "lon": [
            117.2264,
            116.4142,
            107.874,
            117.9895,
            103.8343,
            113.422,
            108.7881,
            106.8748,
            109.7455,
            114.5149,
            127.7622,
            113.614,
            112.2707,
            111.7088,
            113.9456,
            119.464,
            115.7221,
            126.1917,
            122.6086,
            106.1655,
            96.02564,
            108.8701,
            118.1529,
            121.4554,
            112.2922,
            102.7103,
            117.333,
            88.7879,
            85.17822,
            101.4868,
            120.0985
           ],
           "marker": {
            "color": [
             3,
             4.69041575982343,
             3,
             2.23606797749979,
             1.4142135623730951,
             5.656854249492381,
             2.23606797749979,
             1.7320508075688772,
             2.23606797749979,
             1,
             1.4142135623730951,
             2.23606797749979,
             21.071307505705477,
             3,
             0,
             2.23606797749979,
             2.6457513110645907,
             1,
             1.7320508075688772,
             1,
             0,
             1.7320508075688772,
             2.449489742783178,
             4,
             1,
             2.8284271247461903,
             2,
             0,
             1.4142135623730951,
             1.4142135623730951,
             5.196152422706632
            ],
            "coloraxis": "coloraxis",
            "size": [
             3,
             4.69041575982343,
             3,
             2.23606797749979,
             1.4142135623730951,
             5.656854249492381,
             2.23606797749979,
             1.7320508075688772,
             2.23606797749979,
             1,
             1.4142135623730951,
             2.23606797749979,
             21.071307505705477,
             3,
             0,
             2.23606797749979,
             2.6457513110645907,
             1,
             1.7320508075688772,
             1,
             0,
             1.7320508075688772,
             2.449489742783178,
             4,
             1,
             2.8284271247461903,
             2,
             0,
             1.4142135623730951,
             1.4142135623730951,
             5.196152422706632
            ],
            "sizemode": "area",
            "sizeref": 0.603023631377743
           },
           "name": "",
           "showlegend": false,
           "type": "scattergeo"
          }
         ],
         "name": "01/23/2020"
        },
        {
         "data": [
          {
           "customdata": [
            [
             15,
             0,
             0
            ],
            [
             36,
             0,
             1
            ],
            [
             27,
             0,
             0
            ],
            [
             10,
             0,
             0
            ],
            [
             2,
             0,
             0
            ],
            [
             53,
             0,
             2
            ],
            [
             23,
             0,
             0
            ],
            [
             3,
             0,
             0
            ],
            [
             8,
             0,
             0
            ],
            [
             2,
             1,
             0
            ],
            [
             4,
             1,
             0
            ],
            [
             9,
             0,
             0
            ],
            [
             549,
             24,
             31
            ],
            [
             24,
             0,
             0
            ],
            [
             1,
             0,
             0
            ],
            [
             9,
             0,
             0
            ],
            [
             18,
             0,
             0
            ],
            [
             3,
             0,
             0
            ],
            [
             4,
             0,
             0
            ],
            [
             2,
             0,
             0
            ],
            [
             0,
             0,
             0
            ],
            [
             5,
             0,
             0
            ],
            [
             15,
             0,
             0
            ],
            [
             20,
             0,
             1
            ],
            [
             1,
             0,
             0
            ],
            [
             15,
             0,
             0
            ],
            [
             8,
             0,
             0
            ],
            [
             0,
             0,
             0
            ],
            [
             2,
             0,
             0
            ],
            [
             5,
             0,
             0
            ],
            [
             43,
             0,
             1
            ]
           ],
           "geo": "geo",
           "hoverlabel": {
            "namelength": 0
           },
           "hovertemplate": "<b>%{hovertext}</b><br><br>Date=01/24/2020<br>size=%{marker.color}<br>Confirmed=%{customdata[0]}<br>Deaths=%{customdata[1]}<br>Recovered=%{customdata[2]}<br>Lat=%{lat}<br>Long=%{lon}",
           "hovertext": [
            "Anhui",
            "Beijing",
            "Chongqing",
            "Fujian",
            "Gansu",
            "Guangdong",
            "Guangxi",
            "Guizhou",
            "Hainan",
            "Hebei",
            "Heilongjiang",
            "Henan",
            "Hubei",
            "Hunan",
            "Inner Mongolia",
            "Jiangsu",
            "Jiangxi",
            "Jilin",
            "Liaoning",
            "Ningxia",
            "Qinghai",
            "Shaanxi",
            "Shandong",
            "Shanghai",
            "Shanxi",
            "Sichuan",
            "Tianjin",
            "Tibet",
            "Xinjiang",
            "Yunnan",
            "Zhejiang"
           ],
           "lat": [
            31.82571,
            40.18238,
            30.05718,
            26.07783,
            36.0611,
            23.33841,
            23.82908,
            26.81536,
            19.19673,
            38.0428,
            47.862,
            33.882020000000004,
            30.97564,
            27.61041,
            44.09448,
            32.97027,
            27.61401,
            43.66657,
            41.29284000000001,
            37.26923,
            35.65945,
            35.19165,
            36.34377,
            31.20327,
            37.57769,
            30.617140000000006,
            39.29362,
            30.1534,
            41.11981,
            24.97411,
            29.18251
           ],
           "legendgroup": "",
           "lon": [
            117.2264,
            116.4142,
            107.874,
            117.9895,
            103.8343,
            113.422,
            108.7881,
            106.8748,
            109.7455,
            114.5149,
            127.7622,
            113.614,
            112.2707,
            111.7088,
            113.9456,
            119.464,
            115.7221,
            126.1917,
            122.6086,
            106.1655,
            96.02564,
            108.8701,
            118.1529,
            121.4554,
            112.2922,
            102.7103,
            117.333,
            88.7879,
            85.17822,
            101.4868,
            120.0985
           ],
           "marker": {
            "color": [
             3.872983346207417,
             6,
             5.196152422706632,
             3.1622776601683795,
             1.4142135623730951,
             7.280109889280518,
             4.795831523312719,
             1.7320508075688772,
             2.8284271247461903,
             1.4142135623730951,
             2,
             3,
             23.430749027719962,
             4.898979485566356,
             1,
             3,
             4.242640687119285,
             1.7320508075688772,
             2,
             1.4142135623730951,
             0,
             2.23606797749979,
             3.872983346207417,
             4.47213595499958,
             1,
             3.872983346207417,
             2.8284271247461903,
             0,
             1.4142135623730951,
             2.23606797749979,
             6.557438524302
            ],
            "coloraxis": "coloraxis",
            "size": [
             3.872983346207417,
             6,
             5.196152422706632,
             3.1622776601683795,
             1.4142135623730951,
             7.280109889280518,
             4.795831523312719,
             1.7320508075688772,
             2.8284271247461903,
             1.4142135623730951,
             2,
             3,
             23.430749027719962,
             4.898979485566356,
             1,
             3,
             4.242640687119285,
             1.7320508075688772,
             2,
             1.4142135623730951,
             0,
             2.23606797749979,
             3.872983346207417,
             4.47213595499958,
             1,
             3.872983346207417,
             2.8284271247461903,
             0,
             1.4142135623730951,
             2.23606797749979,
             6.557438524302
            ],
            "sizemode": "area",
            "sizeref": 0.603023631377743
           },
           "name": "",
           "showlegend": false,
           "type": "scattergeo"
          }
         ],
         "name": "01/24/2020"
        },
        {
         "data": [
          {
           "customdata": [
            [
             39,
             0,
             0
            ],
            [
             41,
             0,
             2
            ],
            [
             57,
             0,
             0
            ],
            [
             18,
             0,
             0
            ],
            [
             4,
             0,
             0
            ],
            [
             78,
             0,
             2
            ],
            [
             23,
             0,
             0
            ],
            [
             4,
             0,
             0
            ],
            [
             19,
             0,
             0
            ],
            [
             8,
             1,
             0
            ],
            [
             9,
             1,
             0
            ],
            [
             32,
             0,
             0
            ],
            [
             761,
             40,
             32
            ],
            [
             43,
             0,
             0
            ],
            [
             7,
             0,
             0
            ],
            [
             18,
             0,
             1
            ],
            [
             18,
             0,
             0
            ],
            [
             4,
             0,
             0
            ],
            [
             17,
             0,
             0
            ],
            [
             3,
             0,
             0
            ],
            [
             1,
             0,
             0
            ],
            [
             15,
             0,
             0
            ],
            [
             27,
             0,
             0
            ],
            [
             33,
             0,
             1
            ],
            [
             6,
             0,
             0
            ],
            [
             28,
             0,
             0
            ],
            [
             10,
             0,
             0
            ],
            [
             0,
             0,
             0
            ],
            [
             3,
             0,
             0
            ],
            [
             11,
             0,
             0
            ],
            [
             62,
             0,
             1
            ]
           ],
           "geo": "geo",
           "hoverlabel": {
            "namelength": 0
           },
           "hovertemplate": "<b>%{hovertext}</b><br><br>Date=01/25/2020<br>size=%{marker.color}<br>Confirmed=%{customdata[0]}<br>Deaths=%{customdata[1]}<br>Recovered=%{customdata[2]}<br>Lat=%{lat}<br>Long=%{lon}",
           "hovertext": [
            "Anhui",
            "Beijing",
            "Chongqing",
            "Fujian",
            "Gansu",
            "Guangdong",
            "Guangxi",
            "Guizhou",
            "Hainan",
            "Hebei",
            "Heilongjiang",
            "Henan",
            "Hubei",
            "Hunan",
            "Inner Mongolia",
            "Jiangsu",
            "Jiangxi",
            "Jilin",
            "Liaoning",
            "Ningxia",
            "Qinghai",
            "Shaanxi",
            "Shandong",
            "Shanghai",
            "Shanxi",
            "Sichuan",
            "Tianjin",
            "Tibet",
            "Xinjiang",
            "Yunnan",
            "Zhejiang"
           ],
           "lat": [
            31.82571,
            40.18238,
            30.05718,
            26.07783,
            36.0611,
            23.33841,
            23.82908,
            26.81536,
            19.19673,
            38.0428,
            47.862,
            33.882020000000004,
            30.97564,
            27.61041,
            44.09448,
            32.97027,
            27.61401,
            43.66657,
            41.29284000000001,
            37.26923,
            35.65945,
            35.19165,
            36.34377,
            31.20327,
            37.57769,
            30.617140000000006,
            39.29362,
            30.1534,
            41.11981,
            24.97411,
            29.18251
           ],
           "legendgroup": "",
           "lon": [
            117.2264,
            116.4142,
            107.874,
            117.9895,
            103.8343,
            113.422,
            108.7881,
            106.8748,
            109.7455,
            114.5149,
            127.7622,
            113.614,
            112.2707,
            111.7088,
            113.9456,
            119.464,
            115.7221,
            126.1917,
            122.6086,
            106.1655,
            96.02564,
            108.8701,
            118.1529,
            121.4554,
            112.2922,
            102.7103,
            117.333,
            88.7879,
            85.17822,
            101.4868,
            120.0985
           ],
           "marker": {
            "color": [
             6.244997998398398,
             6.4031242374328485,
             7.54983443527075,
             4.242640687119285,
             2,
             8.831760866327848,
             4.795831523312719,
             2,
             4.358898943540674,
             2.8284271247461903,
             3,
             5.656854249492381,
             27.586228448267445,
             6.557438524302,
             2.6457513110645907,
             4.242640687119285,
             4.242640687119285,
             2,
             4.123105625617661,
             1.7320508075688772,
             1,
             3.872983346207417,
             5.196152422706632,
             5.744562646538029,
             2.449489742783178,
             5.291502622129181,
             3.1622776601683795,
             0,
             1.7320508075688772,
             3.3166247903554,
             7.874007874011811
            ],
            "coloraxis": "coloraxis",
            "size": [
             6.244997998398398,
             6.4031242374328485,
             7.54983443527075,
             4.242640687119285,
             2,
             8.831760866327848,
             4.795831523312719,
             2,
             4.358898943540674,
             2.8284271247461903,
             3,
             5.656854249492381,
             27.586228448267445,
             6.557438524302,
             2.6457513110645907,
             4.242640687119285,
             4.242640687119285,
             2,
             4.123105625617661,
             1.7320508075688772,
             1,
             3.872983346207417,
             5.196152422706632,
             5.744562646538029,
             2.449489742783178,
             5.291502622129181,
             3.1622776601683795,
             0,
             1.7320508075688772,
             3.3166247903554,
             7.874007874011811
            ],
            "sizemode": "area",
            "sizeref": 0.603023631377743
           },
           "name": "",
           "showlegend": false,
           "type": "scattergeo"
          }
         ],
         "name": "01/25/2020"
        },
        {
         "data": [
          {
           "customdata": [
            [
             60,
             0,
             0
            ],
            [
             68,
             0,
             2
            ],
            [
             75,
             0,
             0
            ],
            [
             35,
             0,
             0
            ],
            [
             7,
             0,
             0
            ],
            [
             111,
             0,
             2
            ],
            [
             36,
             0,
             0
            ],
            [
             5,
             0,
             0
            ],
            [
             22,
             0,
             0
            ],
            [
             13,
             1,
             0
            ],
            [
             15,
             1,
             0
            ],
            [
             83,
             1,
             0
            ],
            [
             1058,
             52,
             42
            ],
            [
             69,
             0,
             0
            ],
            [
             7,
             0,
             0
            ],
            [
             33,
             0,
             1
            ],
            [
             36,
             0,
             0
            ],
            [
             4,
             0,
             0
            ],
            [
             21,
             0,
             0
            ],
            [
             4,
             0,
             0
            ],
            [
             1,
             0,
             0
            ],
            [
             22,
             0,
             0
            ],
            [
             46,
             0,
             0
            ],
            [
             40,
             1,
             1
            ],
            [
             9,
             0,
             0
            ],
            [
             44,
             0,
             0
            ],
            [
             14,
             0,
             0
            ],
            [
             0,
             0,
             0
            ],
            [
             4,
             0,
             0
            ],
            [
             16,
             0,
             0
            ],
            [
             104,
             0,
             1
            ]
           ],
           "geo": "geo",
           "hoverlabel": {
            "namelength": 0
           },
           "hovertemplate": "<b>%{hovertext}</b><br><br>Date=01/26/2020<br>size=%{marker.color}<br>Confirmed=%{customdata[0]}<br>Deaths=%{customdata[1]}<br>Recovered=%{customdata[2]}<br>Lat=%{lat}<br>Long=%{lon}",
           "hovertext": [
            "Anhui",
            "Beijing",
            "Chongqing",
            "Fujian",
            "Gansu",
            "Guangdong",
            "Guangxi",
            "Guizhou",
            "Hainan",
            "Hebei",
            "Heilongjiang",
            "Henan",
            "Hubei",
            "Hunan",
            "Inner Mongolia",
            "Jiangsu",
            "Jiangxi",
            "Jilin",
            "Liaoning",
            "Ningxia",
            "Qinghai",
            "Shaanxi",
            "Shandong",
            "Shanghai",
            "Shanxi",
            "Sichuan",
            "Tianjin",
            "Tibet",
            "Xinjiang",
            "Yunnan",
            "Zhejiang"
           ],
           "lat": [
            31.82571,
            40.18238,
            30.05718,
            26.07783,
            36.0611,
            23.33841,
            23.82908,
            26.81536,
            19.19673,
            38.0428,
            47.862,
            33.882020000000004,
            30.97564,
            27.61041,
            44.09448,
            32.97027,
            27.61401,
            43.66657,
            41.29284000000001,
            37.26923,
            35.65945,
            35.19165,
            36.34377,
            31.20327,
            37.57769,
            30.617140000000006,
            39.29362,
            30.1534,
            41.11981,
            24.97411,
            29.18251
           ],
           "legendgroup": "",
           "lon": [
            117.2264,
            116.4142,
            107.874,
            117.9895,
            103.8343,
            113.422,
            108.7881,
            106.8748,
            109.7455,
            114.5149,
            127.7622,
            113.614,
            112.2707,
            111.7088,
            113.9456,
            119.464,
            115.7221,
            126.1917,
            122.6086,
            106.1655,
            96.02564,
            108.8701,
            118.1529,
            121.4554,
            112.2922,
            102.7103,
            117.333,
            88.7879,
            85.17822,
            101.4868,
            120.0985
           ],
           "marker": {
            "color": [
             7.745966692414834,
             8.246211251235321,
             8.660254037844387,
             5.916079783099616,
             2.6457513110645907,
             10.535653752852738,
             6,
             2.23606797749979,
             4.69041575982343,
             3.605551275463989,
             3.872983346207417,
             9.1104335791443,
             32.526911934581186,
             8.306623862918075,
             2.6457513110645907,
             5.744562646538029,
             6,
             2,
             4.58257569495584,
             2,
             1,
             4.69041575982343,
             6.782329983125268,
             6.324555320336759,
             3,
             6.6332495807108,
             3.7416573867739413,
             0,
             2,
             4,
             10.198039027185569
            ],
            "coloraxis": "coloraxis",
            "size": [
             7.745966692414834,
             8.246211251235321,
             8.660254037844387,
             5.916079783099616,
             2.6457513110645907,
             10.535653752852738,
             6,
             2.23606797749979,
             4.69041575982343,
             3.605551275463989,
             3.872983346207417,
             9.1104335791443,
             32.526911934581186,
             8.306623862918075,
             2.6457513110645907,
             5.744562646538029,
             6,
             2,
             4.58257569495584,
             2,
             1,
             4.69041575982343,
             6.782329983125268,
             6.324555320336759,
             3,
             6.6332495807108,
             3.7416573867739413,
             0,
             2,
             4,
             10.198039027185569
            ],
            "sizemode": "area",
            "sizeref": 0.603023631377743
           },
           "name": "",
           "showlegend": false,
           "type": "scattergeo"
          }
         ],
         "name": "01/26/2020"
        },
        {
         "data": [
          {
           "customdata": [
            [
             70,
             0,
             0
            ],
            [
             80,
             1,
             2
            ],
            [
             110,
             0,
             0
            ],
            [
             59,
             0,
             0
            ],
            [
             14,
             0,
             0
            ],
            [
             151,
             0,
             4
            ],
            [
             46,
             0,
             0
            ],
            [
             7,
             0,
             0
            ],
            [
             33,
             1,
             0
            ],
            [
             18,
             1,
             0
            ],
            [
             21,
             1,
             0
            ],
            [
             128,
             1,
             0
            ],
            [
             1423,
             76,
             45
            ],
            [
             100,
             0,
             0
            ],
            [
             11,
             0,
             0
            ],
            [
             47,
             0,
             1
            ],
            [
             72,
             0,
             2
            ],
            [
             6,
             0,
             0
            ],
            [
             27,
             0,
             0
            ],
            [
             7,
             0,
             0
            ],
            [
             6,
             0,
             0
            ],
            [
             35,
             0,
             0
            ],
            [
             75,
             0,
             0
            ],
            [
             53,
             1,
             3
            ],
            [
             13,
             0,
             0
            ],
            [
             69,
             0,
             0
            ],
            [
             23,
             0,
             0
            ],
            [
             0,
             0,
             0
            ],
            [
             5,
             0,
             0
            ],
            [
             26,
             0,
             0
            ],
            [
             128,
             0,
             1
            ]
           ],
           "geo": "geo",
           "hoverlabel": {
            "namelength": 0
           },
           "hovertemplate": "<b>%{hovertext}</b><br><br>Date=01/27/2020<br>size=%{marker.color}<br>Confirmed=%{customdata[0]}<br>Deaths=%{customdata[1]}<br>Recovered=%{customdata[2]}<br>Lat=%{lat}<br>Long=%{lon}",
           "hovertext": [
            "Anhui",
            "Beijing",
            "Chongqing",
            "Fujian",
            "Gansu",
            "Guangdong",
            "Guangxi",
            "Guizhou",
            "Hainan",
            "Hebei",
            "Heilongjiang",
            "Henan",
            "Hubei",
            "Hunan",
            "Inner Mongolia",
            "Jiangsu",
            "Jiangxi",
            "Jilin",
            "Liaoning",
            "Ningxia",
            "Qinghai",
            "Shaanxi",
            "Shandong",
            "Shanghai",
            "Shanxi",
            "Sichuan",
            "Tianjin",
            "Tibet",
            "Xinjiang",
            "Yunnan",
            "Zhejiang"
           ],
           "lat": [
            31.82571,
            40.18238,
            30.05718,
            26.07783,
            36.0611,
            23.33841,
            23.82908,
            26.81536,
            19.19673,
            38.0428,
            47.862,
            33.882020000000004,
            30.97564,
            27.61041,
            44.09448,
            32.97027,
            27.61401,
            43.66657,
            41.29284000000001,
            37.26923,
            35.65945,
            35.19165,
            36.34377,
            31.20327,
            37.57769,
            30.617140000000006,
            39.29362,
            30.1534,
            41.11981,
            24.97411,
            29.18251
           ],
           "legendgroup": "",
           "lon": [
            117.2264,
            116.4142,
            107.874,
            117.9895,
            103.8343,
            113.422,
            108.7881,
            106.8748,
            109.7455,
            114.5149,
            127.7622,
            113.614,
            112.2707,
            111.7088,
            113.9456,
            119.464,
            115.7221,
            126.1917,
            122.6086,
            106.1655,
            96.02564,
            108.8701,
            118.1529,
            121.4554,
            112.2922,
            102.7103,
            117.333,
            88.7879,
            85.17822,
            101.4868,
            120.0985
           ],
           "marker": {
            "color": [
             8.366600265340756,
             8.94427190999916,
             10.488088481701515,
             7.681145747868608,
             3.7416573867739413,
             12.288205727444508,
             6.782329983125268,
             2.6457513110645907,
             5.744562646538029,
             4.242640687119285,
             4.58257569495584,
             11.313708498984761,
             37.72267222772003,
             10,
             3.3166247903554,
             6.855654600401044,
             8.48528137423857,
             2.449489742783178,
             5.196152422706632,
             2.6457513110645907,
             2.449489742783178,
             5.916079783099616,
             8.660254037844387,
             7.280109889280518,
             3.605551275463989,
             8.306623862918075,
             4.795831523312719,
             0,
             2.23606797749979,
             5.0990195135927845,
             11.313708498984761
            ],
            "coloraxis": "coloraxis",
            "size": [
             8.366600265340756,
             8.94427190999916,
             10.488088481701515,
             7.681145747868608,
             3.7416573867739413,
             12.288205727444508,
             6.782329983125268,
             2.6457513110645907,
             5.744562646538029,
             4.242640687119285,
             4.58257569495584,
             11.313708498984761,
             37.72267222772003,
             10,
             3.3166247903554,
             6.855654600401044,
             8.48528137423857,
             2.449489742783178,
             5.196152422706632,
             2.6457513110645907,
             2.449489742783178,
             5.916079783099616,
             8.660254037844387,
             7.280109889280518,
             3.605551275463989,
             8.306623862918075,
             4.795831523312719,
             0,
             2.23606797749979,
             5.0990195135927845,
             11.313708498984761
            ],
            "sizemode": "area",
            "sizeref": 0.603023631377743
           },
           "name": "",
           "showlegend": false,
           "type": "scattergeo"
          }
         ],
         "name": "01/27/2020"
        },
        {
         "data": [
          {
           "customdata": [
            [
             106,
             0,
             0
            ],
            [
             91,
             1,
             4
            ],
            [
             132,
             0,
             0
            ],
            [
             80,
             0,
             0
            ],
            [
             19,
             0,
             0
            ],
            [
             207,
             0,
             4
            ],
            [
             51,
             0,
             2
            ],
            [
             9,
             0,
             0
            ],
            [
             40,
             1,
             0
            ],
            [
             33,
             1,
             0
            ],
            [
             33,
             1,
             0
            ],
            [
             168,
             1,
             0
            ],
            [
             3554,
             125,
             80
            ],
            [
             143,
             0,
             0
            ],
            [
             15,
             0,
             0
            ],
            [
             70,
             0,
             1
            ],
            [
             109,
             0,
             3
            ],
            [
             8,
             0,
             0
            ],
            [
             34,
             0,
             0
            ],
            [
             11,
             0,
             0
            ],
            [
             6,
             0,
             0
            ],
            [
             46,
             0,
             0
            ],
            [
             95,
             0,
             0
            ],
            [
             66,
             1,
             4
            ],
            [
             27,
             0,
             0
            ],
            [
             90,
             0,
             0
            ],
            [
             24,
             0,
             0
            ],
            [
             0,
             0,
             0
            ],
            [
             10,
             0,
             0
            ],
            [
             44,
             0,
             0
            ],
            [
             173,
             0,
             3
            ]
           ],
           "geo": "geo",
           "hoverlabel": {
            "namelength": 0
           },
           "hovertemplate": "<b>%{hovertext}</b><br><br>Date=01/28/2020<br>size=%{marker.color}<br>Confirmed=%{customdata[0]}<br>Deaths=%{customdata[1]}<br>Recovered=%{customdata[2]}<br>Lat=%{lat}<br>Long=%{lon}",
           "hovertext": [
            "Anhui",
            "Beijing",
            "Chongqing",
            "Fujian",
            "Gansu",
            "Guangdong",
            "Guangxi",
            "Guizhou",
            "Hainan",
            "Hebei",
            "Heilongjiang",
            "Henan",
            "Hubei",
            "Hunan",
            "Inner Mongolia",
            "Jiangsu",
            "Jiangxi",
            "Jilin",
            "Liaoning",
            "Ningxia",
            "Qinghai",
            "Shaanxi",
            "Shandong",
            "Shanghai",
            "Shanxi",
            "Sichuan",
            "Tianjin",
            "Tibet",
            "Xinjiang",
            "Yunnan",
            "Zhejiang"
           ],
           "lat": [
            31.82571,
            40.18238,
            30.05718,
            26.07783,
            36.0611,
            23.33841,
            23.82908,
            26.81536,
            19.19673,
            38.0428,
            47.862,
            33.882020000000004,
            30.97564,
            27.61041,
            44.09448,
            32.97027,
            27.61401,
            43.66657,
            41.29284000000001,
            37.26923,
            35.65945,
            35.19165,
            36.34377,
            31.20327,
            37.57769,
            30.617140000000006,
            39.29362,
            30.1534,
            41.11981,
            24.97411,
            29.18251
           ],
           "legendgroup": "",
           "lon": [
            117.2264,
            116.4142,
            107.874,
            117.9895,
            103.8343,
            113.422,
            108.7881,
            106.8748,
            109.7455,
            114.5149,
            127.7622,
            113.614,
            112.2707,
            111.7088,
            113.9456,
            119.464,
            115.7221,
            126.1917,
            122.6086,
            106.1655,
            96.02564,
            108.8701,
            118.1529,
            121.4554,
            112.2922,
            102.7103,
            117.333,
            88.7879,
            85.17822,
            101.4868,
            120.0985
           ],
           "marker": {
            "color": [
             10.295630140987,
             9.539392014169456,
             11.489125293076057,
             8.94427190999916,
             4.358898943540674,
             14.38749456993816,
             7.14142842854285,
             3,
             6.324555320336759,
             5.744562646538029,
             5.744562646538029,
             12.96148139681572,
             59.61543424315552,
             11.958260743101398,
             3.872983346207417,
             8.366600265340756,
             10.44030650891055,
             2.8284271247461903,
             5.830951894845301,
             3.3166247903554,
             2.449489742783178,
             6.782329983125268,
             9.746794344808963,
             8.12403840463596,
             5.196152422706632,
             9.486832980505138,
             4.898979485566356,
             0,
             3.1622776601683795,
             6.6332495807108,
             13.152946437965905
            ],
            "coloraxis": "coloraxis",
            "size": [
             10.295630140987,
             9.539392014169456,
             11.489125293076057,
             8.94427190999916,
             4.358898943540674,
             14.38749456993816,
             7.14142842854285,
             3,
             6.324555320336759,
             5.744562646538029,
             5.744562646538029,
             12.96148139681572,
             59.61543424315552,
             11.958260743101398,
             3.872983346207417,
             8.366600265340756,
             10.44030650891055,
             2.8284271247461903,
             5.830951894845301,
             3.3166247903554,
             2.449489742783178,
             6.782329983125268,
             9.746794344808963,
             8.12403840463596,
             5.196152422706632,
             9.486832980505138,
             4.898979485566356,
             0,
             3.1622776601683795,
             6.6332495807108,
             13.152946437965905
            ],
            "sizemode": "area",
            "sizeref": 0.603023631377743
           },
           "name": "",
           "showlegend": false,
           "type": "scattergeo"
          }
         ],
         "name": "01/28/2020"
        },
        {
         "data": [
          {
           "customdata": [
            [
             152,
             0,
             2
            ],
            [
             111,
             1,
             4
            ],
            [
             147,
             0,
             1
            ],
            [
             84,
             0,
             0
            ],
            [
             24,
             0,
             0
            ],
            [
             277,
             0,
             5
            ],
            [
             58,
             0,
             2
            ],
            [
             9,
             0,
             1
            ],
            [
             43,
             1,
             0
            ],
            [
             48,
             1,
             0
            ],
            [
             38,
             1,
             0
            ],
            [
             206,
             2,
             1
            ],
            [
             3554,
             125,
             88
            ],
            [
             221,
             0,
             0
            ],
            [
             16,
             0,
             0
            ],
            [
             99,
             0,
             1
            ],
            [
             109,
             0,
             3
            ],
            [
             9,
             0,
             0
            ],
            [
             39,
             0,
             1
            ],
            [
             12,
             0,
             0
            ],
            [
             6,
             0,
             0
            ],
            [
             56,
             0,
             0
            ],
            [
             130,
             0,
             1
            ],
            [
             96,
             1,
             5
            ],
            [
             27,
             0,
             1
            ],
            [
             108,
             1,
             1
            ],
            [
             27,
             0,
             0
            ],
            [
             0,
             0,
             0
            ],
            [
             13,
             0,
             0
            ],
            [
             55,
             0,
             0
            ],
            [
             296,
             0,
             3
            ]
           ],
           "geo": "geo",
           "hoverlabel": {
            "namelength": 0
           },
           "hovertemplate": "<b>%{hovertext}</b><br><br>Date=01/29/2020<br>size=%{marker.color}<br>Confirmed=%{customdata[0]}<br>Deaths=%{customdata[1]}<br>Recovered=%{customdata[2]}<br>Lat=%{lat}<br>Long=%{lon}",
           "hovertext": [
            "Anhui",
            "Beijing",
            "Chongqing",
            "Fujian",
            "Gansu",
            "Guangdong",
            "Guangxi",
            "Guizhou",
            "Hainan",
            "Hebei",
            "Heilongjiang",
            "Henan",
            "Hubei",
            "Hunan",
            "Inner Mongolia",
            "Jiangsu",
            "Jiangxi",
            "Jilin",
            "Liaoning",
            "Ningxia",
            "Qinghai",
            "Shaanxi",
            "Shandong",
            "Shanghai",
            "Shanxi",
            "Sichuan",
            "Tianjin",
            "Tibet",
            "Xinjiang",
            "Yunnan",
            "Zhejiang"
           ],
           "lat": [
            31.82571,
            40.18238,
            30.05718,
            26.07783,
            36.0611,
            23.33841,
            23.82908,
            26.81536,
            19.19673,
            38.0428,
            47.862,
            33.882020000000004,
            30.97564,
            27.61041,
            44.09448,
            32.97027,
            27.61401,
            43.66657,
            41.29284000000001,
            37.26923,
            35.65945,
            35.19165,
            36.34377,
            31.20327,
            37.57769,
            30.617140000000006,
            39.29362,
            30.1534,
            41.11981,
            24.97411,
            29.18251
           ],
           "legendgroup": "",
           "lon": [
            117.2264,
            116.4142,
            107.874,
            117.9895,
            103.8343,
            113.422,
            108.7881,
            106.8748,
            109.7455,
            114.5149,
            127.7622,
            113.614,
            112.2707,
            111.7088,
            113.9456,
            119.464,
            115.7221,
            126.1917,
            122.6086,
            106.1655,
            96.02564,
            108.8701,
            118.1529,
            121.4554,
            112.2922,
            102.7103,
            117.333,
            88.7879,
            85.17822,
            101.4868,
            120.0985
           ],
           "marker": {
            "color": [
             12.328828005937952,
             10.535653752852738,
             12.12435565298214,
             9.16515138991168,
             4.898979485566356,
             16.64331697709324,
             7.615773105863909,
             3,
             6.557438524302,
             6.928203230275509,
             6.164414002968976,
             14.352700094407323,
             59.61543424315552,
             14.866068747318506,
             4,
             9.9498743710662,
             10.44030650891055,
             3,
             6.244997998398398,
             3.4641016151377544,
             2.449489742783178,
             7.483314773547883,
             11.40175425099138,
             9.797958971132712,
             5.196152422706632,
             10.392304845413264,
             5.196152422706632,
             0,
             3.605551275463989,
             7.416198487095663,
             17.204650534085253
            ],
            "coloraxis": "coloraxis",
            "size": [
             12.328828005937952,
             10.535653752852738,
             12.12435565298214,
             9.16515138991168,
             4.898979485566356,
             16.64331697709324,
             7.615773105863909,
             3,
             6.557438524302,
             6.928203230275509,
             6.164414002968976,
             14.352700094407323,
             59.61543424315552,
             14.866068747318506,
             4,
             9.9498743710662,
             10.44030650891055,
             3,
             6.244997998398398,
             3.4641016151377544,
             2.449489742783178,
             7.483314773547883,
             11.40175425099138,
             9.797958971132712,
             5.196152422706632,
             10.392304845413264,
             5.196152422706632,
             0,
             3.605551275463989,
             7.416198487095663,
             17.204650534085253
            ],
            "sizemode": "area",
            "sizeref": 0.603023631377743
           },
           "name": "",
           "showlegend": false,
           "type": "scattergeo"
          }
         ],
         "name": "01/29/2020"
        },
        {
         "data": [
          {
           "customdata": [
            [
             200,
             0,
             2
            ],
            [
             114,
             1,
             4
            ],
            [
             182,
             0,
             1
            ],
            [
             101,
             0,
             0
            ],
            [
             26,
             0,
             0
            ],
            [
             354,
             0,
             10
            ],
            [
             78,
             0,
             2
            ],
            [
             12,
             0,
             1
            ],
            [
             46,
             1,
             1
            ],
            [
             65,
             1,
             0
            ],
            [
             44,
             2,
             0
            ],
            [
             278,
             2,
             2
            ],
            [
             4903,
             162,
             90
            ],
            [
             277,
             0,
             2
            ],
            [
             19,
             0,
             0
            ],
            [
             129,
             0,
             1
            ],
            [
             162,
             0,
             5
            ],
            [
             14,
             0,
             1
            ],
            [
             41,
             0,
             1
            ],
            [
             17,
             0,
             0
            ],
            [
             8,
             0,
             0
            ],
            [
             63,
             0,
             0
            ],
            [
             158,
             0,
             1
            ],
            [
             112,
             1,
             5
            ],
            [
             35,
             0,
             1
            ],
            [
             142,
             1,
             1
            ],
            [
             31,
             0,
             0
            ],
            [
             1,
             0,
             0
            ],
            [
             14,
             0,
             0
            ],
            [
             70,
             0,
             0
            ],
            [
             428,
             0,
             4
            ]
           ],
           "geo": "geo",
           "hoverlabel": {
            "namelength": 0
           },
           "hovertemplate": "<b>%{hovertext}</b><br><br>Date=01/30/2020<br>size=%{marker.color}<br>Confirmed=%{customdata[0]}<br>Deaths=%{customdata[1]}<br>Recovered=%{customdata[2]}<br>Lat=%{lat}<br>Long=%{lon}",
           "hovertext": [
            "Anhui",
            "Beijing",
            "Chongqing",
            "Fujian",
            "Gansu",
            "Guangdong",
            "Guangxi",
            "Guizhou",
            "Hainan",
            "Hebei",
            "Heilongjiang",
            "Henan",
            "Hubei",
            "Hunan",
            "Inner Mongolia",
            "Jiangsu",
            "Jiangxi",
            "Jilin",
            "Liaoning",
            "Ningxia",
            "Qinghai",
            "Shaanxi",
            "Shandong",
            "Shanghai",
            "Shanxi",
            "Sichuan",
            "Tianjin",
            "Tibet",
            "Xinjiang",
            "Yunnan",
            "Zhejiang"
           ],
           "lat": [
            31.82571,
            40.18238,
            30.05718,
            26.07783,
            36.0611,
            23.33841,
            23.82908,
            26.81536,
            19.19673,
            38.0428,
            47.862,
            33.882020000000004,
            30.97564,
            27.61041,
            44.09448,
            32.97027,
            27.61401,
            43.66657,
            41.29284000000001,
            37.26923,
            35.65945,
            35.19165,
            36.34377,
            31.20327,
            37.57769,
            30.617140000000006,
            39.29362,
            30.1534,
            41.11981,
            24.97411,
            29.18251
           ],
           "legendgroup": "",
           "lon": [
            117.2264,
            116.4142,
            107.874,
            117.9895,
            103.8343,
            113.422,
            108.7881,
            106.8748,
            109.7455,
            114.5149,
            127.7622,
            113.614,
            112.2707,
            111.7088,
            113.9456,
            119.464,
            115.7221,
            126.1917,
            122.6086,
            106.1655,
            96.02564,
            108.8701,
            118.1529,
            121.4554,
            112.2922,
            102.7103,
            117.333,
            88.7879,
            85.17822,
            101.4868,
            120.0985
           ],
           "marker": {
            "color": [
             14.142135623730951,
             10.677078252031311,
             13.490737563232042,
             10.04987562112089,
             5.0990195135927845,
             18.81488772222678,
             8.831760866327848,
             3.4641016151377544,
             6.782329983125268,
             8.06225774829855,
             6.6332495807108,
             16.673332000533065,
             70.02142529254886,
             16.64331697709324,
             4.358898943540674,
             11.357816691600547,
             12.727922061357855,
             3.7416573867739413,
             6.4031242374328485,
             4.123105625617661,
             2.8284271247461903,
             7.937253933193772,
             12.569805089976535,
             10.583005244258363,
             5.916079783099616,
             11.916375287812984,
             5.5677643628300215,
             1,
             3.7416573867739413,
             8.366600265340756,
             20.688160865577203
            ],
            "coloraxis": "coloraxis",
            "size": [
             14.142135623730951,
             10.677078252031311,
             13.490737563232042,
             10.04987562112089,
             5.0990195135927845,
             18.81488772222678,
             8.831760866327848,
             3.4641016151377544,
             6.782329983125268,
             8.06225774829855,
             6.6332495807108,
             16.673332000533065,
             70.02142529254886,
             16.64331697709324,
             4.358898943540674,
             11.357816691600547,
             12.727922061357855,
             3.7416573867739413,
             6.4031242374328485,
             4.123105625617661,
             2.8284271247461903,
             7.937253933193772,
             12.569805089976535,
             10.583005244258363,
             5.916079783099616,
             11.916375287812984,
             5.5677643628300215,
             1,
             3.7416573867739413,
             8.366600265340756,
             20.688160865577203
            ],
            "sizemode": "area",
            "sizeref": 0.603023631377743
           },
           "name": "",
           "showlegend": false,
           "type": "scattergeo"
          }
         ],
         "name": "01/30/2020"
        },
        {
         "data": [
          {
           "customdata": [
            [
             237,
             0,
             3
            ],
            [
             139,
             1,
             5
            ],
            [
             211,
             0,
             1
            ],
            [
             120,
             0,
             0
            ],
            [
             29,
             0,
             0
            ],
            [
             436,
             0,
             11
            ],
            [
             87,
             0,
             2
            ],
            [
             29,
             0,
             2
            ],
            [
             52,
             1,
             1
            ],
            [
             82,
             1,
             0
            ],
            [
             59,
             2,
             0
            ],
            [
             352,
             2,
             3
            ],
            [
             5806,
             204,
             141
            ],
            [
             332,
             0,
             2
            ],
            [
             20,
             0,
             1
            ],
            [
             168,
             0,
             5
            ],
            [
             240,
             0,
             7
            ],
            [
             14,
             0,
             1
            ],
            [
             48,
             0,
             1
            ],
            [
             21,
             0,
             0
            ],
            [
             8,
             0,
             0
            ],
            [
             87,
             0,
             0
            ],
            [
             184,
             0,
             2
            ],
            [
             135,
             1,
             9
            ],
            [
             39,
             0,
             1
            ],
            [
             177,
             1,
             1
            ],
            [
             32,
             0,
             0
            ],
            [
             1,
             0,
             0
            ],
            [
             17,
             0,
             0
            ],
            [
             83,
             0,
             1
            ],
            [
             538,
             0,
             14
            ]
           ],
           "geo": "geo",
           "hoverlabel": {
            "namelength": 0
           },
           "hovertemplate": "<b>%{hovertext}</b><br><br>Date=01/31/2020<br>size=%{marker.color}<br>Confirmed=%{customdata[0]}<br>Deaths=%{customdata[1]}<br>Recovered=%{customdata[2]}<br>Lat=%{lat}<br>Long=%{lon}",
           "hovertext": [
            "Anhui",
            "Beijing",
            "Chongqing",
            "Fujian",
            "Gansu",
            "Guangdong",
            "Guangxi",
            "Guizhou",
            "Hainan",
            "Hebei",
            "Heilongjiang",
            "Henan",
            "Hubei",
            "Hunan",
            "Inner Mongolia",
            "Jiangsu",
            "Jiangxi",
            "Jilin",
            "Liaoning",
            "Ningxia",
            "Qinghai",
            "Shaanxi",
            "Shandong",
            "Shanghai",
            "Shanxi",
            "Sichuan",
            "Tianjin",
            "Tibet",
            "Xinjiang",
            "Yunnan",
            "Zhejiang"
           ],
           "lat": [
            31.82571,
            40.18238,
            30.05718,
            26.07783,
            36.0611,
            23.33841,
            23.82908,
            26.81536,
            19.19673,
            38.0428,
            47.862,
            33.882020000000004,
            30.97564,
            27.61041,
            44.09448,
            32.97027,
            27.61401,
            43.66657,
            41.29284000000001,
            37.26923,
            35.65945,
            35.19165,
            36.34377,
            31.20327,
            37.57769,
            30.617140000000006,
            39.29362,
            30.1534,
            41.11981,
            24.97411,
            29.18251
           ],
           "legendgroup": "",
           "lon": [
            117.2264,
            116.4142,
            107.874,
            117.9895,
            103.8343,
            113.422,
            108.7881,
            106.8748,
            109.7455,
            114.5149,
            127.7622,
            113.614,
            112.2707,
            111.7088,
            113.9456,
            119.464,
            115.7221,
            126.1917,
            122.6086,
            106.1655,
            96.02564,
            108.8701,
            118.1529,
            121.4554,
            112.2922,
            102.7103,
            117.333,
            88.7879,
            85.17822,
            101.4868,
            120.0985
           ],
           "marker": {
            "color": [
             15.394804318340652,
             11.789826122551595,
             14.52583904633395,
             10.954451150103322,
             5.385164807134504,
             20.8806130178211,
             9.327379053088816,
             5.385164807134504,
             7.211102550927978,
             9.055385138137417,
             7.681145747868608,
             18.76166303929372,
             76.19711280619497,
             18.2208671582886,
             4.47213595499958,
             12.96148139681572,
             15.491933384829668,
             3.7416573867739413,
             6.928203230275509,
             4.58257569495584,
             2.8284271247461903,
             9.327379053088816,
             13.564659966250536,
             11.61895003862225,
             6.244997998398398,
             13.30413469565007,
             5.656854249492381,
             1,
             4.123105625617661,
             9.1104335791443,
             23.194827009486403
            ],
            "coloraxis": "coloraxis",
            "size": [
             15.394804318340652,
             11.789826122551595,
             14.52583904633395,
             10.954451150103322,
             5.385164807134504,
             20.8806130178211,
             9.327379053088816,
             5.385164807134504,
             7.211102550927978,
             9.055385138137417,
             7.681145747868608,
             18.76166303929372,
             76.19711280619497,
             18.2208671582886,
             4.47213595499958,
             12.96148139681572,
             15.491933384829668,
             3.7416573867739413,
             6.928203230275509,
             4.58257569495584,
             2.8284271247461903,
             9.327379053088816,
             13.564659966250536,
             11.61895003862225,
             6.244997998398398,
             13.30413469565007,
             5.656854249492381,
             1,
             4.123105625617661,
             9.1104335791443,
             23.194827009486403
            ],
            "sizemode": "area",
            "sizeref": 0.603023631377743
           },
           "name": "",
           "showlegend": false,
           "type": "scattergeo"
          }
         ],
         "name": "01/31/2020"
        },
        {
         "data": [
          {
           "customdata": [
            [
             297,
             0,
             5
            ],
            [
             168,
             1,
             9
            ],
            [
             247,
             1,
             3
            ],
            [
             144,
             0,
             0
            ],
            [
             40,
             0,
             0
            ],
            [
             535,
             0,
             14
            ],
            [
             100,
             0,
             2
            ],
            [
             29,
             0,
             2
            ],
            [
             62,
             1,
             1
            ],
            [
             96,
             1,
             0
            ],
            [
             80,
             2,
             2
            ],
            [
             422,
             2,
             3
            ],
            [
             7153,
             249,
             168
            ],
            [
             389,
             0,
             8
            ],
            [
             23,
             0,
             1
            ],
            [
             202,
             0,
             6
            ],
            [
             286,
             0,
             9
            ],
            [
             17,
             0,
             1
            ],
            [
             64,
             0,
             1
            ],
            [
             26,
             0,
             0
            ],
            [
             9,
             0,
             0
            ],
            [
             101,
             0,
             0
            ],
            [
             206,
             0,
             3
            ],
            [
             169,
             1,
             10
            ],
            [
             47,
             0,
             1
            ],
            [
             207,
             1,
             3
            ],
            [
             41,
             0,
             0
            ],
            [
             1,
             0,
             0
            ],
            [
             18,
             0,
             0
            ],
            [
             93,
             0,
             2
            ],
            [
             599,
             0,
             21
            ]
           ],
           "geo": "geo",
           "hoverlabel": {
            "namelength": 0
           },
           "hovertemplate": "<b>%{hovertext}</b><br><br>Date=02/01/2020<br>size=%{marker.color}<br>Confirmed=%{customdata[0]}<br>Deaths=%{customdata[1]}<br>Recovered=%{customdata[2]}<br>Lat=%{lat}<br>Long=%{lon}",
           "hovertext": [
            "Anhui",
            "Beijing",
            "Chongqing",
            "Fujian",
            "Gansu",
            "Guangdong",
            "Guangxi",
            "Guizhou",
            "Hainan",
            "Hebei",
            "Heilongjiang",
            "Henan",
            "Hubei",
            "Hunan",
            "Inner Mongolia",
            "Jiangsu",
            "Jiangxi",
            "Jilin",
            "Liaoning",
            "Ningxia",
            "Qinghai",
            "Shaanxi",
            "Shandong",
            "Shanghai",
            "Shanxi",
            "Sichuan",
            "Tianjin",
            "Tibet",
            "Xinjiang",
            "Yunnan",
            "Zhejiang"
           ],
           "lat": [
            31.82571,
            40.18238,
            30.05718,
            26.07783,
            36.0611,
            23.33841,
            23.82908,
            26.81536,
            19.19673,
            38.0428,
            47.862,
            33.882020000000004,
            30.97564,
            27.61041,
            44.09448,
            32.97027,
            27.61401,
            43.66657,
            41.29284000000001,
            37.26923,
            35.65945,
            35.19165,
            36.34377,
            31.20327,
            37.57769,
            30.617140000000006,
            39.29362,
            30.1534,
            41.11981,
            24.97411,
            29.18251
           ],
           "legendgroup": "",
           "lon": [
            117.2264,
            116.4142,
            107.874,
            117.9895,
            103.8343,
            113.422,
            108.7881,
            106.8748,
            109.7455,
            114.5149,
            127.7622,
            113.614,
            112.2707,
            111.7088,
            113.9456,
            119.464,
            115.7221,
            126.1917,
            122.6086,
            106.1655,
            96.02564,
            108.8701,
            118.1529,
            121.4554,
            112.2922,
            102.7103,
            117.333,
            88.7879,
            85.17822,
            101.4868,
            120.0985
           ],
           "marker": {
            "color": [
             17.233687939614086,
             12.96148139681572,
             15.716233645501712,
             12,
             6.324555320336759,
             23.130067012440755,
             10,
             5.385164807134504,
             7.874007874011811,
             9.797958971132712,
             8.94427190999916,
             20.54263858417414,
             84.57541013793548,
             19.72308292331602,
             4.795831523312719,
             14.212670403551895,
             16.911534525287763,
             4.123105625617661,
             8,
             5.0990195135927845,
             3,
             10.04987562112089,
             14.352700094407323,
             13,
             6.855654600401044,
             14.38749456993816,
             6.4031242374328485,
             1,
             4.242640687119285,
             9.643650760992955,
             24.474476501040833
            ],
            "coloraxis": "coloraxis",
            "size": [
             17.233687939614086,
             12.96148139681572,
             15.716233645501712,
             12,
             6.324555320336759,
             23.130067012440755,
             10,
             5.385164807134504,
             7.874007874011811,
             9.797958971132712,
             8.94427190999916,
             20.54263858417414,
             84.57541013793548,
             19.72308292331602,
             4.795831523312719,
             14.212670403551895,
             16.911534525287763,
             4.123105625617661,
             8,
             5.0990195135927845,
             3,
             10.04987562112089,
             14.352700094407323,
             13,
             6.855654600401044,
             14.38749456993816,
             6.4031242374328485,
             1,
             4.242640687119285,
             9.643650760992955,
             24.474476501040833
            ],
            "sizemode": "area",
            "sizeref": 0.603023631377743
           },
           "name": "",
           "showlegend": false,
           "type": "scattergeo"
          }
         ],
         "name": "02/01/2020"
        },
        {
         "data": [
          {
           "customdata": [
            [
             340,
             0,
             7
            ],
            [
             191,
             1,
             9
            ],
            [
             300,
             2,
             7
            ],
            [
             159,
             0,
             0
            ],
            [
             51,
             0,
             3
            ],
            [
             632,
             0,
             15
            ],
            [
             111,
             0,
             2
            ],
            [
             38,
             0,
             2
            ],
            [
             64,
             1,
             4
            ],
            [
             104,
             1,
             3
            ],
            [
             95,
             2,
             2
            ],
            [
             493,
             2,
             10
            ],
            [
             11177,
             350,
             295
            ],
            [
             463,
             0,
             16
            ],
            [
             27,
             0,
             1
            ],
            [
             236,
             0,
             7
            ],
            [
             333,
             0,
             12
            ],
            [
             23,
             0,
             1
            ],
            [
             70,
             0,
             1
            ],
            [
             28,
             0,
             0
            ],
            [
             11,
             0,
             0
            ],
            [
             116,
             0,
             0
            ],
            [
             230,
             0,
             6
            ],
            [
             182,
             1,
             10
            ],
            [
             66,
             0,
             3
            ],
            [
             231,
             1,
             11
            ],
            [
             48,
             0,
             1
            ],
            [
             1,
             0,
             0
            ],
            [
             21,
             0,
             0
            ],
            [
             105,
             0,
             3
            ],
            [
             661,
             0,
             32
            ]
           ],
           "geo": "geo",
           "hoverlabel": {
            "namelength": 0
           },
           "hovertemplate": "<b>%{hovertext}</b><br><br>Date=02/02/2020<br>size=%{marker.color}<br>Confirmed=%{customdata[0]}<br>Deaths=%{customdata[1]}<br>Recovered=%{customdata[2]}<br>Lat=%{lat}<br>Long=%{lon}",
           "hovertext": [
            "Anhui",
            "Beijing",
            "Chongqing",
            "Fujian",
            "Gansu",
            "Guangdong",
            "Guangxi",
            "Guizhou",
            "Hainan",
            "Hebei",
            "Heilongjiang",
            "Henan",
            "Hubei",
            "Hunan",
            "Inner Mongolia",
            "Jiangsu",
            "Jiangxi",
            "Jilin",
            "Liaoning",
            "Ningxia",
            "Qinghai",
            "Shaanxi",
            "Shandong",
            "Shanghai",
            "Shanxi",
            "Sichuan",
            "Tianjin",
            "Tibet",
            "Xinjiang",
            "Yunnan",
            "Zhejiang"
           ],
           "lat": [
            31.82571,
            40.18238,
            30.05718,
            26.07783,
            36.0611,
            23.33841,
            23.82908,
            26.81536,
            19.19673,
            38.0428,
            47.862,
            33.882020000000004,
            30.97564,
            27.61041,
            44.09448,
            32.97027,
            27.61401,
            43.66657,
            41.29284000000001,
            37.26923,
            35.65945,
            35.19165,
            36.34377,
            31.20327,
            37.57769,
            30.617140000000006,
            39.29362,
            30.1534,
            41.11981,
            24.97411,
            29.18251
           ],
           "legendgroup": "",
           "lon": [
            117.2264,
            116.4142,
            107.874,
            117.9895,
            103.8343,
            113.422,
            108.7881,
            106.8748,
            109.7455,
            114.5149,
            127.7622,
            113.614,
            112.2707,
            111.7088,
            113.9456,
            119.464,
            115.7221,
            126.1917,
            122.6086,
            106.1655,
            96.02564,
            108.8701,
            118.1529,
            121.4554,
            112.2922,
            102.7103,
            117.333,
            88.7879,
            85.17822,
            101.4868,
            120.0985
           ],
           "marker": {
            "color": [
             18.439088914585774,
             13.820274961085254,
             17.320508075688775,
             12.609520212918492,
             7.14142842854285,
             25.13961017995307,
             10.535653752852738,
             6.164414002968976,
             8,
             10.198039027185569,
             9.746794344808963,
             22.20360331117452,
             105.72133181151285,
             21.517434791350013,
             5.196152422706632,
             15.362291495737216,
             18.24828759089466,
             4.795831523312719,
             8.366600265340756,
             5.291502622129181,
             3.3166247903554,
             10.770329614269007,
             15.165750888103101,
             13.490737563232042,
             8.12403840463596,
             15.198684153570664,
             6.928203230275509,
             1,
             4.58257569495584,
             10.246950765959598,
             25.709920264364882
            ],
            "coloraxis": "coloraxis",
            "size": [
             18.439088914585774,
             13.820274961085254,
             17.320508075688775,
             12.609520212918492,
             7.14142842854285,
             25.13961017995307,
             10.535653752852738,
             6.164414002968976,
             8,
             10.198039027185569,
             9.746794344808963,
             22.20360331117452,
             105.72133181151285,
             21.517434791350013,
             5.196152422706632,
             15.362291495737216,
             18.24828759089466,
             4.795831523312719,
             8.366600265340756,
             5.291502622129181,
             3.3166247903554,
             10.770329614269007,
             15.165750888103101,
             13.490737563232042,
             8.12403840463596,
             15.198684153570664,
             6.928203230275509,
             1,
             4.58257569495584,
             10.246950765959598,
             25.709920264364882
            ],
            "sizemode": "area",
            "sizeref": 0.603023631377743
           },
           "name": "",
           "showlegend": false,
           "type": "scattergeo"
          }
         ],
         "name": "02/02/2020"
        },
        {
         "data": [
          {
           "customdata": [
            [
             408,
             0,
             14
            ],
            [
             212,
             1,
             12
            ],
            [
             337,
             2,
             9
            ],
            [
             179,
             0,
             1
            ],
            [
             55,
             0,
             3
            ],
            [
             725,
             0,
             21
            ],
            [
             127,
             0,
             7
            ],
            [
             46,
             0,
             2
            ],
            [
             72,
             1,
             4
            ],
            [
             113,
             1,
             3
            ],
            [
             121,
             2,
             2
            ],
            [
             566,
             2,
             16
            ],
            [
             13522,
             414,
             386
            ],
            [
             521,
             0,
             22
            ],
            [
             34,
             0,
             1
            ],
            [
             271,
             0,
             8
            ],
            [
             391,
             0,
             18
            ],
            [
             31,
             0,
             1
            ],
            [
             74,
             0,
             1
            ],
            [
             31,
             0,
             1
            ],
            [
             13,
             0,
             0
            ],
            [
             128,
             0,
             0
            ],
            [
             259,
             0,
             7
            ],
            [
             203,
             1,
             10
            ],
            [
             74,
             0,
             2
            ],
            [
             254,
             1,
             14
            ],
            [
             60,
             0,
             1
            ],
            [
             1,
             0,
             0
            ],
            [
             24,
             0,
             0
            ],
            [
             117,
             0,
             5
            ],
            [
             724,
             0,
             43
            ]
           ],
           "geo": "geo",
           "hoverlabel": {
            "namelength": 0
           },
           "hovertemplate": "<b>%{hovertext}</b><br><br>Date=02/03/2020<br>size=%{marker.color}<br>Confirmed=%{customdata[0]}<br>Deaths=%{customdata[1]}<br>Recovered=%{customdata[2]}<br>Lat=%{lat}<br>Long=%{lon}",
           "hovertext": [
            "Anhui",
            "Beijing",
            "Chongqing",
            "Fujian",
            "Gansu",
            "Guangdong",
            "Guangxi",
            "Guizhou",
            "Hainan",
            "Hebei",
            "Heilongjiang",
            "Henan",
            "Hubei",
            "Hunan",
            "Inner Mongolia",
            "Jiangsu",
            "Jiangxi",
            "Jilin",
            "Liaoning",
            "Ningxia",
            "Qinghai",
            "Shaanxi",
            "Shandong",
            "Shanghai",
            "Shanxi",
            "Sichuan",
            "Tianjin",
            "Tibet",
            "Xinjiang",
            "Yunnan",
            "Zhejiang"
           ],
           "lat": [
            31.82571,
            40.18238,
            30.05718,
            26.07783,
            36.0611,
            23.33841,
            23.82908,
            26.81536,
            19.19673,
            38.0428,
            47.862,
            33.882020000000004,
            30.97564,
            27.61041,
            44.09448,
            32.97027,
            27.61401,
            43.66657,
            41.29284000000001,
            37.26923,
            35.65945,
            35.19165,
            36.34377,
            31.20327,
            37.57769,
            30.617140000000006,
            39.29362,
            30.1534,
            41.11981,
            24.97411,
            29.18251
           ],
           "legendgroup": "",
           "lon": [
            117.2264,
            116.4142,
            107.874,
            117.9895,
            103.8343,
            113.422,
            108.7881,
            106.8748,
            109.7455,
            114.5149,
            127.7622,
            113.614,
            112.2707,
            111.7088,
            113.9456,
            119.464,
            115.7221,
            126.1917,
            122.6086,
            106.1655,
            96.02564,
            108.8701,
            118.1529,
            121.4554,
            112.2922,
            102.7103,
            117.333,
            88.7879,
            85.17822,
            101.4868,
            120.0985
           ],
           "marker": {
            "color": [
             20.199009876724155,
             14.560219778561036,
             18.35755975068582,
             13.379088160259652,
             7.416198487095663,
             26.92582403567252,
             11.269427669584644,
             6.782329983125268,
             8.48528137423857,
             10.63014581273465,
             11,
             23.790754506740637,
             116.2841347734075,
             22.825424421026653,
             5.830951894845301,
             16.46207763315433,
             19.77371993328519,
             5.5677643628300215,
             8.602325267042627,
             5.5677643628300215,
             3.605551275463989,
             11.313708498984761,
             16.09347693943108,
             14.247806848775006,
             8.602325267042627,
             15.937377450509228,
             7.745966692414834,
             1,
             4.898979485566356,
             10.816653826391969,
             26.90724809414742
            ],
            "coloraxis": "coloraxis",
            "size": [
             20.199009876724155,
             14.560219778561036,
             18.35755975068582,
             13.379088160259652,
             7.416198487095663,
             26.92582403567252,
             11.269427669584644,
             6.782329983125268,
             8.48528137423857,
             10.63014581273465,
             11,
             23.790754506740637,
             116.2841347734075,
             22.825424421026653,
             5.830951894845301,
             16.46207763315433,
             19.77371993328519,
             5.5677643628300215,
             8.602325267042627,
             5.5677643628300215,
             3.605551275463989,
             11.313708498984761,
             16.09347693943108,
             14.247806848775006,
             8.602325267042627,
             15.937377450509228,
             7.745966692414834,
             1,
             4.898979485566356,
             10.816653826391969,
             26.90724809414742
            ],
            "sizemode": "area",
            "sizeref": 0.603023631377743
           },
           "name": "",
           "showlegend": false,
           "type": "scattergeo"
          }
         ],
         "name": "02/03/2020"
        },
        {
         "data": [
          {
           "customdata": [
            [
             480,
             0,
             20
            ],
            [
             228,
             1,
             23
            ],
            [
             366,
             2,
             9
            ],
            [
             194,
             0,
             3
            ],
            [
             57,
             0,
             4
            ],
            [
             813,
             0,
             30
            ],
            [
             139,
             0,
             10
            ],
            [
             58,
             0,
             2
            ],
            [
             80,
             1,
             5
            ],
            [
             126,
             1,
             4
            ],
            [
             155,
             2,
             4
            ],
            [
             675,
             2,
             27
            ],
            [
             16678,
             479,
             522
            ],
            [
             593,
             0,
             31
            ],
            [
             35,
             0,
             1
            ],
            [
             308,
             0,
             12
            ],
            [
             476,
             0,
             20
            ],
            [
             42,
             0,
             1
            ],
            [
             81,
             0,
             2
            ],
            [
             34,
             0,
             1
            ],
            [
             15,
             0,
             0
            ],
            [
             142,
             0,
             2
            ],
            [
             275,
             0,
             11
            ],
            [
             219,
             1,
             12
            ],
            [
             81,
             0,
             4
            ],
            [
             282,
             1,
             14
            ],
            [
             67,
             0,
             2
            ],
            [
             1,
             0,
             0
            ],
            [
             29,
             0,
             0
            ],
            [
             122,
             0,
             5
            ],
            [
             829,
             0,
             62
            ]
           ],
           "geo": "geo",
           "hoverlabel": {
            "namelength": 0
           },
           "hovertemplate": "<b>%{hovertext}</b><br><br>Date=02/04/2020<br>size=%{marker.color}<br>Confirmed=%{customdata[0]}<br>Deaths=%{customdata[1]}<br>Recovered=%{customdata[2]}<br>Lat=%{lat}<br>Long=%{lon}",
           "hovertext": [
            "Anhui",
            "Beijing",
            "Chongqing",
            "Fujian",
            "Gansu",
            "Guangdong",
            "Guangxi",
            "Guizhou",
            "Hainan",
            "Hebei",
            "Heilongjiang",
            "Henan",
            "Hubei",
            "Hunan",
            "Inner Mongolia",
            "Jiangsu",
            "Jiangxi",
            "Jilin",
            "Liaoning",
            "Ningxia",
            "Qinghai",
            "Shaanxi",
            "Shandong",
            "Shanghai",
            "Shanxi",
            "Sichuan",
            "Tianjin",
            "Tibet",
            "Xinjiang",
            "Yunnan",
            "Zhejiang"
           ],
           "lat": [
            31.82571,
            40.18238,
            30.05718,
            26.07783,
            36.0611,
            23.33841,
            23.82908,
            26.81536,
            19.19673,
            38.0428,
            47.862,
            33.882020000000004,
            30.97564,
            27.61041,
            44.09448,
            32.97027,
            27.61401,
            43.66657,
            41.29284000000001,
            37.26923,
            35.65945,
            35.19165,
            36.34377,
            31.20327,
            37.57769,
            30.617140000000006,
            39.29362,
            30.1534,
            41.11981,
            24.97411,
            29.18251
           ],
           "legendgroup": "",
           "lon": [
            117.2264,
            116.4142,
            107.874,
            117.9895,
            103.8343,
            113.422,
            108.7881,
            106.8748,
            109.7455,
            114.5149,
            127.7622,
            113.614,
            112.2707,
            111.7088,
            113.9456,
            119.464,
            115.7221,
            126.1917,
            122.6086,
            106.1655,
            96.02564,
            108.8701,
            118.1529,
            121.4554,
            112.2922,
            102.7103,
            117.333,
            88.7879,
            85.17822,
            101.4868,
            120.0985
           ],
           "marker": {
            "color": [
             21.908902300206645,
             15.0996688705415,
             19.131126469708992,
             13.92838827718412,
             7.54983443527075,
             28.513154858766505,
             11.789826122551595,
             7.615773105863909,
             8.94427190999916,
             11.224972160321824,
             12.449899597988733,
             25.98076211353316,
             129.14333122542564,
             24.351591323771842,
             5.916079783099616,
             17.549928774784245,
             21.817424229271428,
             6.48074069840786,
             9,
             5.830951894845301,
             3.872983346207417,
             11.916375287812984,
             16.583123951777,
             14.798648586948742,
             9,
             16.792855623746664,
             8.18535277187245,
             1,
             5.385164807134504,
             11.045361017187261,
             28.792360097775937
            ],
            "coloraxis": "coloraxis",
            "size": [
             21.908902300206645,
             15.0996688705415,
             19.131126469708992,
             13.92838827718412,
             7.54983443527075,
             28.513154858766505,
             11.789826122551595,
             7.615773105863909,
             8.94427190999916,
             11.224972160321824,
             12.449899597988733,
             25.98076211353316,
             129.14333122542564,
             24.351591323771842,
             5.916079783099616,
             17.549928774784245,
             21.817424229271428,
             6.48074069840786,
             9,
             5.830951894845301,
             3.872983346207417,
             11.916375287812984,
             16.583123951777,
             14.798648586948742,
             9,
             16.792855623746664,
             8.18535277187245,
             1,
             5.385164807134504,
             11.045361017187261,
             28.792360097775937
            ],
            "sizemode": "area",
            "sizeref": 0.603023631377743
           },
           "name": "",
           "showlegend": false,
           "type": "scattergeo"
          }
         ],
         "name": "02/04/2020"
        },
        {
         "data": [
          {
           "customdata": [
            [
             530,
             0,
             23
            ],
            [
             253,
             1,
             24
            ],
            [
             389,
             2,
             15
            ],
            [
             205,
             0,
             11
            ],
            [
             62,
             0,
             6
            ],
            [
             895,
             0,
             49
            ],
            [
             150,
             0,
             13
            ],
            [
             64,
             1,
             9
            ],
            [
             99,
             1,
             5
            ],
            [
             135,
             1,
             6
            ],
            [
             190,
             2,
             7
            ],
            [
             764,
             2,
             47
            ],
            [
             19665,
             549,
             633
            ],
            [
             661,
             0,
             54
            ],
            [
             42,
             0,
             3
            ],
            [
             341,
             0,
             23
            ],
            [
             548,
             0,
             27
            ],
            [
             54,
             0,
             2
            ],
            [
             89,
             0,
             4
            ],
            [
             34,
             0,
             1
            ],
            [
             17,
             0,
             3
            ],
            [
             165,
             0,
             6
            ],
            [
             307,
             0,
             15
            ],
            [
             243,
             1,
             15
            ],
            [
             81,
             0,
             5
            ],
            [
             301,
             1,
             24
            ],
            [
             69,
             1,
             2
            ],
            [
             1,
             0,
             0
            ],
            [
             32,
             0,
             0
            ],
            [
             128,
             0,
             5
            ],
            [
             895,
             0,
             78
            ]
           ],
           "geo": "geo",
           "hoverlabel": {
            "namelength": 0
           },
           "hovertemplate": "<b>%{hovertext}</b><br><br>Date=02/05/2020<br>size=%{marker.color}<br>Confirmed=%{customdata[0]}<br>Deaths=%{customdata[1]}<br>Recovered=%{customdata[2]}<br>Lat=%{lat}<br>Long=%{lon}",
           "hovertext": [
            "Anhui",
            "Beijing",
            "Chongqing",
            "Fujian",
            "Gansu",
            "Guangdong",
            "Guangxi",
            "Guizhou",
            "Hainan",
            "Hebei",
            "Heilongjiang",
            "Henan",
            "Hubei",
            "Hunan",
            "Inner Mongolia",
            "Jiangsu",
            "Jiangxi",
            "Jilin",
            "Liaoning",
            "Ningxia",
            "Qinghai",
            "Shaanxi",
            "Shandong",
            "Shanghai",
            "Shanxi",
            "Sichuan",
            "Tianjin",
            "Tibet",
            "Xinjiang",
            "Yunnan",
            "Zhejiang"
           ],
           "lat": [
            31.82571,
            40.18238,
            30.05718,
            26.07783,
            36.0611,
            23.33841,
            23.82908,
            26.81536,
            19.19673,
            38.0428,
            47.862,
            33.882020000000004,
            30.97564,
            27.61041,
            44.09448,
            32.97027,
            27.61401,
            43.66657,
            41.29284000000001,
            37.26923,
            35.65945,
            35.19165,
            36.34377,
            31.20327,
            37.57769,
            30.617140000000006,
            39.29362,
            30.1534,
            41.11981,
            24.97411,
            29.18251
           ],
           "legendgroup": "",
           "lon": [
            117.2264,
            116.4142,
            107.874,
            117.9895,
            103.8343,
            113.422,
            108.7881,
            106.8748,
            109.7455,
            114.5149,
            127.7622,
            113.614,
            112.2707,
            111.7088,
            113.9456,
            119.464,
            115.7221,
            126.1917,
            122.6086,
            106.1655,
            96.02564,
            108.8701,
            118.1529,
            121.4554,
            112.2922,
            102.7103,
            117.333,
            88.7879,
            85.17822,
            101.4868,
            120.0985
           ],
           "marker": {
            "color": [
             23.021728866442675,
             15.905973720586866,
             19.72308292331602,
             14.317821063276353,
             7.874007874011811,
             29.916550603303182,
             12.24744871391589,
             8,
             9.9498743710662,
             11.61895003862225,
             13.784048752090222,
             27.640549922170507,
             140.23195071024293,
             25.709920264364882,
             6.48074069840786,
             18.466185312619388,
             23.40939982143925,
             7.3484692283495345,
             9.433981132056603,
             5.830951894845301,
             4.123105625617661,
             12.84523257866513,
             17.52141546793523,
             15.588457268119896,
             9,
             17.349351572897472,
             8.306623862918075,
             1,
             5.656854249492381,
             11.313708498984761,
             29.916550603303182
            ],
            "coloraxis": "coloraxis",
            "size": [
             23.021728866442675,
             15.905973720586866,
             19.72308292331602,
             14.317821063276353,
             7.874007874011811,
             29.916550603303182,
             12.24744871391589,
             8,
             9.9498743710662,
             11.61895003862225,
             13.784048752090222,
             27.640549922170507,
             140.23195071024293,
             25.709920264364882,
             6.48074069840786,
             18.466185312619388,
             23.40939982143925,
             7.3484692283495345,
             9.433981132056603,
             5.830951894845301,
             4.123105625617661,
             12.84523257866513,
             17.52141546793523,
             15.588457268119896,
             9,
             17.349351572897472,
             8.306623862918075,
             1,
             5.656854249492381,
             11.313708498984761,
             29.916550603303182
            ],
            "sizemode": "area",
            "sizeref": 0.603023631377743
           },
           "name": "",
           "showlegend": false,
           "type": "scattergeo"
          }
         ],
         "name": "02/05/2020"
        },
        {
         "data": [
          {
           "customdata": [
            [
             591,
             0,
             34
            ],
            [
             274,
             1,
             31
            ],
            [
             411,
             2,
             24
            ],
            [
             215,
             0,
             14
            ],
            [
             62,
             0,
             6
            ],
            [
             970,
             0,
             69
            ],
            [
             168,
             0,
             14
            ],
            [
             71,
             1,
             6
            ],
            [
             106,
             1,
             8
            ],
            [
             157,
             1,
             13
            ],
            [
             227,
             3,
             8
            ],
            [
             851,
             2,
             56
            ],
            [
             22112,
             618,
             817
            ],
            [
             711,
             0,
             81
            ],
            [
             46,
             0,
             4
            ],
            [
             373,
             0,
             34
            ],
            [
             600,
             0,
             37
            ],
            [
             59,
             0,
             4
            ],
            [
             94,
             0,
             5
            ],
            [
             40,
             0,
             1
            ],
            [
             18,
             0,
             3
            ],
            [
             173,
             0,
             9
            ],
            [
             347,
             0,
             27
            ],
            [
             257,
             1,
             25
            ],
            [
             96,
             0,
             12
            ],
            [
             321,
             1,
             31
            ],
            [
             79,
             1,
             2
            ],
            [
             1,
             0,
             0
            ],
            [
             36,
             0,
             0
            ],
            [
             133,
             0,
             7
            ],
            [
             954,
             0,
             94
            ]
           ],
           "geo": "geo",
           "hoverlabel": {
            "namelength": 0
           },
           "hovertemplate": "<b>%{hovertext}</b><br><br>Date=02/06/2020<br>size=%{marker.color}<br>Confirmed=%{customdata[0]}<br>Deaths=%{customdata[1]}<br>Recovered=%{customdata[2]}<br>Lat=%{lat}<br>Long=%{lon}",
           "hovertext": [
            "Anhui",
            "Beijing",
            "Chongqing",
            "Fujian",
            "Gansu",
            "Guangdong",
            "Guangxi",
            "Guizhou",
            "Hainan",
            "Hebei",
            "Heilongjiang",
            "Henan",
            "Hubei",
            "Hunan",
            "Inner Mongolia",
            "Jiangsu",
            "Jiangxi",
            "Jilin",
            "Liaoning",
            "Ningxia",
            "Qinghai",
            "Shaanxi",
            "Shandong",
            "Shanghai",
            "Shanxi",
            "Sichuan",
            "Tianjin",
            "Tibet",
            "Xinjiang",
            "Yunnan",
            "Zhejiang"
           ],
           "lat": [
            31.82571,
            40.18238,
            30.05718,
            26.07783,
            36.0611,
            23.33841,
            23.82908,
            26.81536,
            19.19673,
            38.0428,
            47.862,
            33.882020000000004,
            30.97564,
            27.61041,
            44.09448,
            32.97027,
            27.61401,
            43.66657,
            41.29284000000001,
            37.26923,
            35.65945,
            35.19165,
            36.34377,
            31.20327,
            37.57769,
            30.617140000000006,
            39.29362,
            30.1534,
            41.11981,
            24.97411,
            29.18251
           ],
           "legendgroup": "",
           "lon": [
            117.2264,
            116.4142,
            107.874,
            117.9895,
            103.8343,
            113.422,
            108.7881,
            106.8748,
            109.7455,
            114.5149,
            127.7622,
            113.614,
            112.2707,
            111.7088,
            113.9456,
            119.464,
            115.7221,
            126.1917,
            122.6086,
            106.1655,
            96.02564,
            108.8701,
            118.1529,
            121.4554,
            112.2922,
            102.7103,
            117.333,
            88.7879,
            85.17822,
            101.4868,
            120.0985
           ],
           "marker": {
            "color": [
             24.310491562286437,
             16.55294535724685,
             20.273134932713294,
             14.66287829861518,
             7.874007874011811,
             31.144823004794873,
             12.96148139681572,
             8.426149773176359,
             10.295630140987,
             12.529964086141668,
             15.066519173319364,
             29.171904291629644,
             148.70104236352884,
             26.664583251946766,
             6.782329983125268,
             19.313207915827967,
             24.49489742783178,
             7.681145747868608,
             9.695359714832659,
             6.324555320336759,
             4.242640687119285,
             13.152946437965905,
             18.627936010197157,
             16.0312195418814,
             9.797958971132712,
             17.916472867168917,
             8.888194417315589,
             1,
             6,
             11.532562594670797,
             30.886890422961002
            ],
            "coloraxis": "coloraxis",
            "size": [
             24.310491562286437,
             16.55294535724685,
             20.273134932713294,
             14.66287829861518,
             7.874007874011811,
             31.144823004794873,
             12.96148139681572,
             8.426149773176359,
             10.295630140987,
             12.529964086141668,
             15.066519173319364,
             29.171904291629644,
             148.70104236352884,
             26.664583251946766,
             6.782329983125268,
             19.313207915827967,
             24.49489742783178,
             7.681145747868608,
             9.695359714832659,
             6.324555320336759,
             4.242640687119285,
             13.152946437965905,
             18.627936010197157,
             16.0312195418814,
             9.797958971132712,
             17.916472867168917,
             8.888194417315589,
             1,
             6,
             11.532562594670797,
             30.886890422961002
            ],
            "sizemode": "area",
            "sizeref": 0.603023631377743
           },
           "name": "",
           "showlegend": false,
           "type": "scattergeo"
          }
         ],
         "name": "02/06/2020"
        },
        {
         "data": [
          {
           "customdata": [
            [
             665,
             0,
             47
            ],
            [
             297,
             1,
             33
            ],
            [
             426,
             2,
             31
            ],
            [
             224,
             0,
             20
            ],
            [
             67,
             0,
             9
            ],
            [
             1034,
             1,
             88
            ],
            [
             172,
             0,
             17
            ],
            [
             81,
             1,
             6
            ],
            [
             117,
             2,
             10
            ],
            [
             172,
             1,
             22
            ],
            [
             277,
             3,
             12
            ],
            [
             914,
             3,
             86
            ],
            [
             24953,
             699,
             1115
            ],
            [
             772,
             0,
             112
            ],
            [
             50,
             0,
             5
            ],
            [
             408,
             0,
             43
            ],
            [
             661,
             0,
             45
            ],
            [
             65,
             1,
             4
            ],
            [
             99,
             0,
             7
            ],
            [
             43,
             0,
             5
            ],
            [
             18,
             0,
             3
            ],
            [
             184,
             0,
             17
            ],
            [
             386,
             0,
             37
            ],
            [
             277,
             1,
             30
            ],
            [
             104,
             0,
             15
            ],
            [
             344,
             1,
             42
            ],
            [
             81,
             1,
             2
            ],
            [
             1,
             0,
             0
            ],
            [
             39,
             0,
             0
            ],
            [
             138,
             0,
             12
            ],
            [
             1006,
             0,
             123
            ]
           ],
           "geo": "geo",
           "hoverlabel": {
            "namelength": 0
           },
           "hovertemplate": "<b>%{hovertext}</b><br><br>Date=02/07/2020<br>size=%{marker.color}<br>Confirmed=%{customdata[0]}<br>Deaths=%{customdata[1]}<br>Recovered=%{customdata[2]}<br>Lat=%{lat}<br>Long=%{lon}",
           "hovertext": [
            "Anhui",
            "Beijing",
            "Chongqing",
            "Fujian",
            "Gansu",
            "Guangdong",
            "Guangxi",
            "Guizhou",
            "Hainan",
            "Hebei",
            "Heilongjiang",
            "Henan",
            "Hubei",
            "Hunan",
            "Inner Mongolia",
            "Jiangsu",
            "Jiangxi",
            "Jilin",
            "Liaoning",
            "Ningxia",
            "Qinghai",
            "Shaanxi",
            "Shandong",
            "Shanghai",
            "Shanxi",
            "Sichuan",
            "Tianjin",
            "Tibet",
            "Xinjiang",
            "Yunnan",
            "Zhejiang"
           ],
           "lat": [
            31.82571,
            40.18238,
            30.05718,
            26.07783,
            36.0611,
            23.33841,
            23.82908,
            26.81536,
            19.19673,
            38.0428,
            47.862,
            33.882020000000004,
            30.97564,
            27.61041,
            44.09448,
            32.97027,
            27.61401,
            43.66657,
            41.29284000000001,
            37.26923,
            35.65945,
            35.19165,
            36.34377,
            31.20327,
            37.57769,
            30.617140000000006,
            39.29362,
            30.1534,
            41.11981,
            24.97411,
            29.18251
           ],
           "legendgroup": "",
           "lon": [
            117.2264,
            116.4142,
            107.874,
            117.9895,
            103.8343,
            113.422,
            108.7881,
            106.8748,
            109.7455,
            114.5149,
            127.7622,
            113.614,
            112.2707,
            111.7088,
            113.9456,
            119.464,
            115.7221,
            126.1917,
            122.6086,
            106.1655,
            96.02564,
            108.8701,
            118.1529,
            121.4554,
            112.2922,
            102.7103,
            117.333,
            88.7879,
            85.17822,
            101.4868,
            120.0985
           ],
           "marker": {
            "color": [
             25.787593916455254,
             17.233687939614086,
             20.639767440550294,
             14.966629547095765,
             8.18535277187245,
             32.155870381627054,
             13.114877048604,
             9,
             10.816653826391969,
             13.114877048604,
             16.64331697709324,
             30.23243291566195,
             157.96518603793686,
             27.784887978899608,
             7.0710678118654755,
             20.199009876724155,
             25.709920264364882,
             8.06225774829855,
             9.9498743710662,
             6.557438524302,
             4.242640687119285,
             13.564659966250536,
             19.6468827043885,
             16.64331697709324,
             10.198039027185569,
             18.547236990991408,
             9,
             1,
             6.244997998398398,
             11.74734012447073,
             31.71750305430741
            ],
            "coloraxis": "coloraxis",
            "size": [
             25.787593916455254,
             17.233687939614086,
             20.639767440550294,
             14.966629547095765,
             8.18535277187245,
             32.155870381627054,
             13.114877048604,
             9,
             10.816653826391969,
             13.114877048604,
             16.64331697709324,
             30.23243291566195,
             157.96518603793686,
             27.784887978899608,
             7.0710678118654755,
             20.199009876724155,
             25.709920264364882,
             8.06225774829855,
             9.9498743710662,
             6.557438524302,
             4.242640687119285,
             13.564659966250536,
             19.6468827043885,
             16.64331697709324,
             10.198039027185569,
             18.547236990991408,
             9,
             1,
             6.244997998398398,
             11.74734012447073,
             31.71750305430741
            ],
            "sizemode": "area",
            "sizeref": 0.603023631377743
           },
           "name": "",
           "showlegend": false,
           "type": "scattergeo"
          }
         ],
         "name": "02/07/2020"
        },
        {
         "data": [
          {
           "customdata": [
            [
             733,
             0,
             59
            ],
            [
             315,
             2,
             34
            ],
            [
             428,
             2,
             39
            ],
            [
             239,
             0,
             24
            ],
            [
             79,
             1,
             12
            ],
            [
             1095,
             1,
             112
            ],
            [
             183,
             0,
             17
            ],
            [
             89,
             1,
             7
            ],
            [
             124,
             2,
             14
            ],
            [
             195,
             1,
             30
            ],
            [
             295,
             5,
             13
            ],
            [
             981,
             4,
             116
            ],
            [
             27100,
             780,
             1439
            ],
            [
             803,
             1,
             156
            ],
            [
             52,
             0,
             5
            ],
            [
             439,
             0,
             51
            ],
            [
             698,
             0,
             55
            ],
            [
             69,
             1,
             4
            ],
            [
             105,
             0,
             8
            ],
            [
             45,
             0,
             15
            ],
            [
             18,
             0,
             3
            ],
            [
             195,
             0,
             20
            ],
            [
             416,
             0,
             44
            ],
            [
             286,
             1,
             41
            ],
            [
             115,
             0,
             21
            ],
            [
             364,
             1,
             60
            ],
            [
             88,
             1,
             4
            ],
            [
             1,
             0,
             0
            ],
            [
             42,
             0,
             0
            ],
            [
             138,
             0,
             17
            ],
            [
             1048,
             0,
             175
            ]
           ],
           "geo": "geo",
           "hoverlabel": {
            "namelength": 0
           },
           "hovertemplate": "<b>%{hovertext}</b><br><br>Date=02/08/2020<br>size=%{marker.color}<br>Confirmed=%{customdata[0]}<br>Deaths=%{customdata[1]}<br>Recovered=%{customdata[2]}<br>Lat=%{lat}<br>Long=%{lon}",
           "hovertext": [
            "Anhui",
            "Beijing",
            "Chongqing",
            "Fujian",
            "Gansu",
            "Guangdong",
            "Guangxi",
            "Guizhou",
            "Hainan",
            "Hebei",
            "Heilongjiang",
            "Henan",
            "Hubei",
            "Hunan",
            "Inner Mongolia",
            "Jiangsu",
            "Jiangxi",
            "Jilin",
            "Liaoning",
            "Ningxia",
            "Qinghai",
            "Shaanxi",
            "Shandong",
            "Shanghai",
            "Shanxi",
            "Sichuan",
            "Tianjin",
            "Tibet",
            "Xinjiang",
            "Yunnan",
            "Zhejiang"
           ],
           "lat": [
            31.82571,
            40.18238,
            30.05718,
            26.07783,
            36.0611,
            23.33841,
            23.82908,
            26.81536,
            19.19673,
            38.0428,
            47.862,
            33.882020000000004,
            30.97564,
            27.61041,
            44.09448,
            32.97027,
            27.61401,
            43.66657,
            41.29284000000001,
            37.26923,
            35.65945,
            35.19165,
            36.34377,
            31.20327,
            37.57769,
            30.617140000000006,
            39.29362,
            30.1534,
            41.11981,
            24.97411,
            29.18251
           ],
           "legendgroup": "",
           "lon": [
            117.2264,
            116.4142,
            107.874,
            117.9895,
            103.8343,
            113.422,
            108.7881,
            106.8748,
            109.7455,
            114.5149,
            127.7622,
            113.614,
            112.2707,
            111.7088,
            113.9456,
            119.464,
            115.7221,
            126.1917,
            122.6086,
            106.1655,
            96.02564,
            108.8701,
            118.1529,
            121.4554,
            112.2922,
            102.7103,
            117.333,
            88.7879,
            85.17822,
            101.4868,
            120.0985
           ],
           "marker": {
            "color": [
             27.073972741361768,
             17.74823934929885,
             20.688160865577203,
             15.459624833740307,
             8.888194417315589,
             33.090784215548595,
             13.527749258468683,
             9.433981132056603,
             11.135528725660043,
             13.96424004376894,
             17.175564037317667,
             31.32091952673165,
             164.62077633154328,
             28.337254630609507,
             7.211102550927978,
             20.952326839756964,
             26.419689627245813,
             8.306623862918075,
             10.246950765959598,
             6.708203932499369,
             4.242640687119285,
             13.96424004376894,
             20.396078054371138,
             16.911534525287763,
             10.723805294763608,
             19.078784028338912,
             9.38083151964686,
             1,
             6.48074069840786,
             11.74734012447073,
             32.37282811247729
            ],
            "coloraxis": "coloraxis",
            "size": [
             27.073972741361768,
             17.74823934929885,
             20.688160865577203,
             15.459624833740307,
             8.888194417315589,
             33.090784215548595,
             13.527749258468683,
             9.433981132056603,
             11.135528725660043,
             13.96424004376894,
             17.175564037317667,
             31.32091952673165,
             164.62077633154328,
             28.337254630609507,
             7.211102550927978,
             20.952326839756964,
             26.419689627245813,
             8.306623862918075,
             10.246950765959598,
             6.708203932499369,
             4.242640687119285,
             13.96424004376894,
             20.396078054371138,
             16.911534525287763,
             10.723805294763608,
             19.078784028338912,
             9.38083151964686,
             1,
             6.48074069840786,
             11.74734012447073,
             32.37282811247729
            ],
            "sizemode": "area",
            "sizeref": 0.603023631377743
           },
           "name": "",
           "showlegend": false,
           "type": "scattergeo"
          }
         ],
         "name": "02/08/2020"
        },
        {
         "data": [
          {
           "customdata": [
            [
             779,
             1,
             72
            ],
            [
             326,
             2,
             37
            ],
            [
             468,
             2,
             51
            ],
            [
             250,
             0,
             35
            ],
            [
             83,
             2,
             16
            ],
            [
             1131,
             1,
             141
            ],
            [
             195,
             1,
             18
            ],
            [
             99,
             1,
             7
            ],
            [
             131,
             3,
             19
            ],
            [
             206,
             2,
             34
            ],
            [
             307,
             6,
             14
            ],
            [
             1033,
             6,
             153
            ],
            [
             29631,
             871,
             1795
            ],
            [
             838,
             1,
             186
            ],
            [
             54,
             0,
             5
            ],
            [
             468,
             0,
             71
            ],
            [
             740,
             0,
             73
            ],
            [
             78,
             1,
             12
            ],
            [
             107,
             0,
             12
            ],
            [
             45,
             0,
             13
            ],
            [
             18,
             0,
             3
            ],
            [
             208,
             0,
             25
            ],
            [
             444,
             1,
             63
            ],
            [
             293,
             1,
             44
            ],
            [
             119,
             0,
             25
            ],
            [
             386,
             1,
             71
            ],
            [
             91,
             1,
             4
            ],
            [
             1,
             0,
             0
            ],
            [
             45,
             0,
             0
            ],
            [
             141,
             0,
             18
            ],
            [
             1075,
             0,
             201
            ]
           ],
           "geo": "geo",
           "hoverlabel": {
            "namelength": 0
           },
           "hovertemplate": "<b>%{hovertext}</b><br><br>Date=02/09/2020<br>size=%{marker.color}<br>Confirmed=%{customdata[0]}<br>Deaths=%{customdata[1]}<br>Recovered=%{customdata[2]}<br>Lat=%{lat}<br>Long=%{lon}",
           "hovertext": [
            "Anhui",
            "Beijing",
            "Chongqing",
            "Fujian",
            "Gansu",
            "Guangdong",
            "Guangxi",
            "Guizhou",
            "Hainan",
            "Hebei",
            "Heilongjiang",
            "Henan",
            "Hubei",
            "Hunan",
            "Inner Mongolia",
            "Jiangsu",
            "Jiangxi",
            "Jilin",
            "Liaoning",
            "Ningxia",
            "Qinghai",
            "Shaanxi",
            "Shandong",
            "Shanghai",
            "Shanxi",
            "Sichuan",
            "Tianjin",
            "Tibet",
            "Xinjiang",
            "Yunnan",
            "Zhejiang"
           ],
           "lat": [
            31.82571,
            40.18238,
            30.05718,
            26.07783,
            36.0611,
            23.33841,
            23.82908,
            26.81536,
            19.19673,
            38.0428,
            47.862,
            33.882020000000004,
            30.97564,
            27.61041,
            44.09448,
            32.97027,
            27.61401,
            43.66657,
            41.29284000000001,
            37.26923,
            35.65945,
            35.19165,
            36.34377,
            31.20327,
            37.57769,
            30.617140000000006,
            39.29362,
            30.1534,
            41.11981,
            24.97411,
            29.18251
           ],
           "legendgroup": "",
           "lon": [
            117.2264,
            116.4142,
            107.874,
            117.9895,
            103.8343,
            113.422,
            108.7881,
            106.8748,
            109.7455,
            114.5149,
            127.7622,
            113.614,
            112.2707,
            111.7088,
            113.9456,
            119.464,
            115.7221,
            126.1917,
            122.6086,
            106.1655,
            96.02564,
            108.8701,
            118.1529,
            121.4554,
            112.2922,
            102.7103,
            117.333,
            88.7879,
            85.17822,
            101.4868,
            120.0985
           ],
           "marker": {
            "color": [
             27.910571473905726,
             18.05547008526779,
             21.633307652783937,
             15.811388300841896,
             9.1104335791443,
             33.63034344160047,
             13.96424004376894,
             9.9498743710662,
             11.445523142259598,
             14.352700094407323,
             17.52141546793523,
             32.14031735997639,
             172.13657368496678,
             28.948229652260256,
             7.3484692283495345,
             21.633307652783937,
             27.202941017470888,
             8.831760866327848,
             10.344080432788601,
             6.708203932499369,
             4.242640687119285,
             14.422205101855956,
             21.071307505705477,
             17.11724276862369,
             10.908712114635714,
             19.6468827043885,
             9.539392014169456,
             1,
             6.708203932499369,
             11.874342087037917,
             32.78719262151
            ],
            "coloraxis": "coloraxis",
            "size": [
             27.910571473905726,
             18.05547008526779,
             21.633307652783937,
             15.811388300841896,
             9.1104335791443,
             33.63034344160047,
             13.96424004376894,
             9.9498743710662,
             11.445523142259598,
             14.352700094407323,
             17.52141546793523,
             32.14031735997639,
             172.13657368496678,
             28.948229652260256,
             7.3484692283495345,
             21.633307652783937,
             27.202941017470888,
             8.831760866327848,
             10.344080432788601,
             6.708203932499369,
             4.242640687119285,
             14.422205101855956,
             21.071307505705477,
             17.11724276862369,
             10.908712114635714,
             19.6468827043885,
             9.539392014169456,
             1,
             6.708203932499369,
             11.874342087037917,
             32.78719262151
            ],
            "sizemode": "area",
            "sizeref": 0.603023631377743
           },
           "name": "",
           "showlegend": false,
           "type": "scattergeo"
          }
         ],
         "name": "02/09/2020"
        },
        {
         "data": [
          {
           "customdata": [
            [
             830,
             3,
             88
            ],
            [
             337,
             2,
             44
            ],
            [
             486,
             2,
             66
            ],
            [
             261,
             0,
             39
            ],
            [
             83,
             2,
             17
            ],
            [
             1159,
             1,
             167
            ],
            [
             210,
             1,
             24
            ],
            [
             109,
             1,
             10
            ],
            [
             138,
             3,
             19
            ],
            [
             218,
             2,
             41
            ],
            [
             331,
             7,
             30
            ],
            [
             1073,
             6,
             191
            ],
            [
             31728,
             974,
             2222
            ],
            [
             879,
             1,
             208
            ],
            [
             58,
             0,
             5
            ],
            [
             492,
             0,
             81
            ],
            [
             771,
             1,
             105
            ],
            [
             80,
             1,
             13
            ],
            [
             108,
             0,
             13
            ],
            [
             49,
             0,
             13
            ],
            [
             18,
             0,
             3
            ],
            [
             213,
             0,
             30
            ],
            [
             466,
             1,
             66
            ],
            [
             299,
             1,
             48
            ],
            [
             119,
             0,
             25
            ],
            [
             405,
             1,
             80
            ],
            [
             95,
             1,
             8
            ],
            [
             1,
             0,
             0
            ],
            [
             49,
             0,
             0
            ],
            [
             149,
             0,
             19
            ],
            [
             1092,
             0,
             242
            ]
           ],
           "geo": "geo",
           "hoverlabel": {
            "namelength": 0
           },
           "hovertemplate": "<b>%{hovertext}</b><br><br>Date=02/10/2020<br>size=%{marker.color}<br>Confirmed=%{customdata[0]}<br>Deaths=%{customdata[1]}<br>Recovered=%{customdata[2]}<br>Lat=%{lat}<br>Long=%{lon}",
           "hovertext": [
            "Anhui",
            "Beijing",
            "Chongqing",
            "Fujian",
            "Gansu",
            "Guangdong",
            "Guangxi",
            "Guizhou",
            "Hainan",
            "Hebei",
            "Heilongjiang",
            "Henan",
            "Hubei",
            "Hunan",
            "Inner Mongolia",
            "Jiangsu",
            "Jiangxi",
            "Jilin",
            "Liaoning",
            "Ningxia",
            "Qinghai",
            "Shaanxi",
            "Shandong",
            "Shanghai",
            "Shanxi",
            "Sichuan",
            "Tianjin",
            "Tibet",
            "Xinjiang",
            "Yunnan",
            "Zhejiang"
           ],
           "lat": [
            31.82571,
            40.18238,
            30.05718,
            26.07783,
            36.0611,
            23.33841,
            23.82908,
            26.81536,
            19.19673,
            38.0428,
            47.862,
            33.882020000000004,
            30.97564,
            27.61041,
            44.09448,
            32.97027,
            27.61401,
            43.66657,
            41.29284000000001,
            37.26923,
            35.65945,
            35.19165,
            36.34377,
            31.20327,
            37.57769,
            30.617140000000006,
            39.29362,
            30.1534,
            41.11981,
            24.97411,
            29.18251
           ],
           "legendgroup": "",
           "lon": [
            117.2264,
            116.4142,
            107.874,
            117.9895,
            103.8343,
            113.422,
            108.7881,
            106.8748,
            109.7455,
            114.5149,
            127.7622,
            113.614,
            112.2707,
            111.7088,
            113.9456,
            119.464,
            115.7221,
            126.1917,
            122.6086,
            106.1655,
            96.02564,
            108.8701,
            118.1529,
            121.4554,
            112.2922,
            102.7103,
            117.333,
            88.7879,
            85.17822,
            101.4868,
            120.0985
           ],
           "marker": {
            "color": [
             28.809720581775867,
             18.35755975068582,
             22.045407685048602,
             16.15549442140351,
             9.1104335791443,
             34.044089061098404,
             14.491376746189438,
             10.44030650891055,
             11.74734012447073,
             14.7648230602334,
             18.193405398660254,
             32.7566787083184,
             178.12355262569855,
             29.647934160747187,
             7.615773105863909,
             22.181073012818835,
             27.76688675382964,
             8.94427190999916,
             10.392304845413264,
             7,
             4.242640687119285,
             14.594519519326424,
             21.587033144922902,
             17.291616465790582,
             10.908712114635714,
             20.12461179749811,
             9.746794344808963,
             1,
             7,
             12.206555615733702,
             33.04542328371661
            ],
            "coloraxis": "coloraxis",
            "size": [
             28.809720581775867,
             18.35755975068582,
             22.045407685048602,
             16.15549442140351,
             9.1104335791443,
             34.044089061098404,
             14.491376746189438,
             10.44030650891055,
             11.74734012447073,
             14.7648230602334,
             18.193405398660254,
             32.7566787083184,
             178.12355262569855,
             29.647934160747187,
             7.615773105863909,
             22.181073012818835,
             27.76688675382964,
             8.94427190999916,
             10.392304845413264,
             7,
             4.242640687119285,
             14.594519519326424,
             21.587033144922902,
             17.291616465790582,
             10.908712114635714,
             20.12461179749811,
             9.746794344808963,
             1,
             7,
             12.206555615733702,
             33.04542328371661
            ],
            "sizemode": "area",
            "sizeref": 0.603023631377743
           },
           "name": "",
           "showlegend": false,
           "type": "scattergeo"
          }
         ],
         "name": "02/10/2020"
        },
        {
         "data": [
          {
           "customdata": [
            [
             860,
             4,
             105
            ],
            [
             342,
             3,
             48
            ],
            [
             505,
             3,
             79
            ],
            [
             267,
             0,
             45
            ],
            [
             86,
             2,
             24
            ],
            [
             1177,
             1,
             212
            ],
            [
             215,
             1,
             33
            ],
            [
             127,
             1,
             17
            ],
            [
             144,
             3,
             20
            ],
            [
             239,
             2,
             48
            ],
            [
             360,
             8,
             28
            ],
            [
             1105,
             7,
             218
            ],
            [
             33366,
             1068,
             2639
            ],
            [
             912,
             1,
             247
            ],
            [
             58,
             0,
             5
            ],
            [
             515,
             0,
             93
            ],
            [
             804,
             1,
             128
            ],
            [
             81,
             1,
             18
            ],
            [
             111,
             0,
             19
            ],
            [
             53,
             0,
             22
            ],
            [
             18,
             0,
             5
            ],
            [
             219,
             0,
             32
            ],
            [
             487,
             1,
             80
            ],
            [
             303,
             1,
             52
            ],
            [
             124,
             0,
             30
            ],
            [
             417,
             1,
             85
            ],
            [
             106,
             2,
             10
            ],
            [
             1,
             0,
             0
            ],
            [
             55,
             0,
             3
            ],
            [
             153,
             0,
             20
            ],
            [
             1117,
             0,
             270
            ]
           ],
           "geo": "geo",
           "hoverlabel": {
            "namelength": 0
           },
           "hovertemplate": "<b>%{hovertext}</b><br><br>Date=02/11/2020<br>size=%{marker.color}<br>Confirmed=%{customdata[0]}<br>Deaths=%{customdata[1]}<br>Recovered=%{customdata[2]}<br>Lat=%{lat}<br>Long=%{lon}",
           "hovertext": [
            "Anhui",
            "Beijing",
            "Chongqing",
            "Fujian",
            "Gansu",
            "Guangdong",
            "Guangxi",
            "Guizhou",
            "Hainan",
            "Hebei",
            "Heilongjiang",
            "Henan",
            "Hubei",
            "Hunan",
            "Inner Mongolia",
            "Jiangsu",
            "Jiangxi",
            "Jilin",
            "Liaoning",
            "Ningxia",
            "Qinghai",
            "Shaanxi",
            "Shandong",
            "Shanghai",
            "Shanxi",
            "Sichuan",
            "Tianjin",
            "Tibet",
            "Xinjiang",
            "Yunnan",
            "Zhejiang"
           ],
           "lat": [
            31.82571,
            40.18238,
            30.05718,
            26.07783,
            36.0611,
            23.33841,
            23.82908,
            26.81536,
            19.19673,
            38.0428,
            47.862,
            33.882020000000004,
            30.97564,
            27.61041,
            44.09448,
            32.97027,
            27.61401,
            43.66657,
            41.29284000000001,
            37.26923,
            35.65945,
            35.19165,
            36.34377,
            31.20327,
            37.57769,
            30.617140000000006,
            39.29362,
            30.1534,
            41.11981,
            24.97411,
            29.18251
           ],
           "legendgroup": "",
           "lon": [
            117.2264,
            116.4142,
            107.874,
            117.9895,
            103.8343,
            113.422,
            108.7881,
            106.8748,
            109.7455,
            114.5149,
            127.7622,
            113.614,
            112.2707,
            111.7088,
            113.9456,
            119.464,
            115.7221,
            126.1917,
            122.6086,
            106.1655,
            96.02564,
            108.8701,
            118.1529,
            121.4554,
            112.2922,
            102.7103,
            117.333,
            88.7879,
            85.17822,
            101.4868,
            120.0985
           ],
           "marker": {
            "color": [
             29.32575659723036,
             18.49324200890693,
             22.47220505424423,
             16.34013463836819,
             9.273618495495704,
             34.307433596816885,
             14.66287829861518,
             11.269427669584644,
             12,
             15.459624833740307,
             18.973665961010276,
             33.24154027718932,
             182.6636252788168,
             30.199337741083,
             7.615773105863909,
             22.693611435820433,
             28.35489375751565,
             9,
             10.535653752852738,
             7.280109889280518,
             4.242640687119285,
             14.798648586948742,
             22.06807649071391,
             17.406895185529212,
             11.135528725660043,
             20.42057785666214,
             10.295630140987,
             1,
             7.416198487095663,
             12.36931687685298,
             33.421549934136806
            ],
            "coloraxis": "coloraxis",
            "size": [
             29.32575659723036,
             18.49324200890693,
             22.47220505424423,
             16.34013463836819,
             9.273618495495704,
             34.307433596816885,
             14.66287829861518,
             11.269427669584644,
             12,
             15.459624833740307,
             18.973665961010276,
             33.24154027718932,
             182.6636252788168,
             30.199337741083,
             7.615773105863909,
             22.693611435820433,
             28.35489375751565,
             9,
             10.535653752852738,
             7.280109889280518,
             4.242640687119285,
             14.798648586948742,
             22.06807649071391,
             17.406895185529212,
             11.135528725660043,
             20.42057785666214,
             10.295630140987,
             1,
             7.416198487095663,
             12.36931687685298,
             33.421549934136806
            ],
            "sizemode": "area",
            "sizeref": 0.603023631377743
           },
           "name": "",
           "showlegend": false,
           "type": "scattergeo"
          }
         ],
         "name": "02/11/2020"
        },
        {
         "data": [
          {
           "customdata": [
            [
             889,
             4,
             127
            ],
            [
             352,
             3,
             56
            ],
            [
             518,
             3,
             102
            ],
            [
             272,
             0,
             53
            ],
            [
             87,
             2,
             31
            ],
            [
             1219,
             1,
             275
            ],
            [
             222,
             1,
             32
            ],
            [
             133,
             1,
             18
            ],
            [
             157,
             4,
             27
            ],
            [
             251,
             2,
             54
            ],
            [
             378,
             8,
             31
            ],
            [
             1135,
             8,
             246
            ],
            [
             33366,
             1068,
             2686
            ],
            [
             946,
             2,
             304
            ],
            [
             60,
             0,
             6
            ],
            [
             543,
             0,
             125
            ],
            [
             844,
             1,
             152
            ],
            [
             83,
             1,
             22
            ],
            [
             116,
             1,
             20
            ],
            [
             58,
             0,
             24
            ],
            [
             18,
             0,
             9
            ],
            [
             225,
             0,
             43
            ],
            [
             497,
             2,
             92
            ],
            [
             311,
             1,
             57
            ],
            [
             126,
             0,
             33
            ],
            [
             436,
             1,
             92
            ],
            [
             112,
             2,
             11
            ],
            [
             1,
             0,
             1
            ],
            [
             59,
             0,
             3
            ],
            [
             154,
             0,
             26
            ],
            [
             1131,
             0,
             321
            ]
           ],
           "geo": "geo",
           "hoverlabel": {
            "namelength": 0
           },
           "hovertemplate": "<b>%{hovertext}</b><br><br>Date=02/12/2020<br>size=%{marker.color}<br>Confirmed=%{customdata[0]}<br>Deaths=%{customdata[1]}<br>Recovered=%{customdata[2]}<br>Lat=%{lat}<br>Long=%{lon}",
           "hovertext": [
            "Anhui",
            "Beijing",
            "Chongqing",
            "Fujian",
            "Gansu",
            "Guangdong",
            "Guangxi",
            "Guizhou",
            "Hainan",
            "Hebei",
            "Heilongjiang",
            "Henan",
            "Hubei",
            "Hunan",
            "Inner Mongolia",
            "Jiangsu",
            "Jiangxi",
            "Jilin",
            "Liaoning",
            "Ningxia",
            "Qinghai",
            "Shaanxi",
            "Shandong",
            "Shanghai",
            "Shanxi",
            "Sichuan",
            "Tianjin",
            "Tibet",
            "Xinjiang",
            "Yunnan",
            "Zhejiang"
           ],
           "lat": [
            31.82571,
            40.18238,
            30.05718,
            26.07783,
            36.0611,
            23.33841,
            23.82908,
            26.81536,
            19.19673,
            38.0428,
            47.862,
            33.882020000000004,
            30.97564,
            27.61041,
            44.09448,
            32.97027,
            27.61401,
            43.66657,
            41.29284000000001,
            37.26923,
            35.65945,
            35.19165,
            36.34377,
            31.20327,
            37.57769,
            30.617140000000006,
            39.29362,
            30.1534,
            41.11981,
            24.97411,
            29.18251
           ],
           "legendgroup": "",
           "lon": [
            117.2264,
            116.4142,
            107.874,
            117.9895,
            103.8343,
            113.422,
            108.7881,
            106.8748,
            109.7455,
            114.5149,
            127.7622,
            113.614,
            112.2707,
            111.7088,
            113.9456,
            119.464,
            115.7221,
            126.1917,
            122.6086,
            106.1655,
            96.02564,
            108.8701,
            118.1529,
            121.4554,
            112.2922,
            102.7103,
            117.333,
            88.7879,
            85.17822,
            101.4868,
            120.0985
           ],
           "marker": {
            "color": [
             29.816103031751148,
             18.76166303929372,
             22.759613353482084,
             16.492422502470642,
             9.327379053088816,
             34.91418050019218,
             14.89966442575134,
             11.532562594670797,
             12.529964086141668,
             15.84297951775486,
             19.44222209522358,
             33.689761055846034,
             182.6636252788168,
             30.757112998459398,
             7.745966692414834,
             23.302360395462088,
             29.0516780926679,
             9.1104335791443,
             10.770329614269007,
             7.615773105863909,
             4.242640687119285,
             15,
             22.293496809607955,
             17.635192088548397,
             11.224972160321824,
             20.8806130178211,
             10.583005244258363,
             1,
             7.681145747868608,
             12.409673645990857,
             33.63034344160047
            ],
            "coloraxis": "coloraxis",
            "size": [
             29.816103031751148,
             18.76166303929372,
             22.759613353482084,
             16.492422502470642,
             9.327379053088816,
             34.91418050019218,
             14.89966442575134,
             11.532562594670797,
             12.529964086141668,
             15.84297951775486,
             19.44222209522358,
             33.689761055846034,
             182.6636252788168,
             30.757112998459398,
             7.745966692414834,
             23.302360395462088,
             29.0516780926679,
             9.1104335791443,
             10.770329614269007,
             7.615773105863909,
             4.242640687119285,
             15,
             22.293496809607955,
             17.635192088548397,
             11.224972160321824,
             20.8806130178211,
             10.583005244258363,
             1,
             7.681145747868608,
             12.409673645990857,
             33.63034344160047
            ],
            "sizemode": "area",
            "sizeref": 0.603023631377743
           },
           "name": "",
           "showlegend": false,
           "type": "scattergeo"
          }
         ],
         "name": "02/12/2020"
        },
        {
         "data": [
          {
           "customdata": [
            [
             910,
             5,
             157
            ],
            [
             366,
             3,
             69
            ],
            [
             529,
             4,
             128
            ],
            [
             279,
             0,
             57
            ],
            [
             90,
             2,
             39
            ],
            [
             1241,
             2,
             314
            ],
            [
             222,
             2,
             33
            ],
            [
             135,
             1,
             27
            ],
            [
             157,
             4,
             30
            ],
            [
             265,
             3,
             68
            ],
            [
             395,
             9,
             33
            ],
            [
             1169,
             10,
             296
            ],
            [
             48206,
             1310,
             3459
            ],
            [
             968,
             2,
             339
            ],
            [
             61,
             0,
             6
            ],
            [
             570,
             0,
             139
            ],
            [
             872,
             1,
             170
            ],
            [
             84,
             1,
             24
            ],
            [
             117,
             1,
             22
            ],
            [
             64,
             0,
             24
            ],
            [
             18,
             0,
             11
            ],
            [
             229,
             0,
             46
            ],
            [
             509,
             2,
             105
            ],
            [
             315,
             1,
             62
            ],
            [
             126,
             0,
             36
            ],
            [
             451,
             1,
             104
            ],
            [
             119,
             3,
             21
            ],
            [
             1,
             0,
             1
            ],
            [
             63,
             1,
             6
            ],
            [
             156,
             0,
             27
            ],
            [
             1145,
             0,
             360
            ]
           ],
           "geo": "geo",
           "hoverlabel": {
            "namelength": 0
           },
           "hovertemplate": "<b>%{hovertext}</b><br><br>Date=02/13/2020<br>size=%{marker.color}<br>Confirmed=%{customdata[0]}<br>Deaths=%{customdata[1]}<br>Recovered=%{customdata[2]}<br>Lat=%{lat}<br>Long=%{lon}",
           "hovertext": [
            "Anhui",
            "Beijing",
            "Chongqing",
            "Fujian",
            "Gansu",
            "Guangdong",
            "Guangxi",
            "Guizhou",
            "Hainan",
            "Hebei",
            "Heilongjiang",
            "Henan",
            "Hubei",
            "Hunan",
            "Inner Mongolia",
            "Jiangsu",
            "Jiangxi",
            "Jilin",
            "Liaoning",
            "Ningxia",
            "Qinghai",
            "Shaanxi",
            "Shandong",
            "Shanghai",
            "Shanxi",
            "Sichuan",
            "Tianjin",
            "Tibet",
            "Xinjiang",
            "Yunnan",
            "Zhejiang"
           ],
           "lat": [
            31.82571,
            40.18238,
            30.05718,
            26.07783,
            36.0611,
            23.33841,
            23.82908,
            26.81536,
            19.19673,
            38.0428,
            47.862,
            33.882020000000004,
            30.97564,
            27.61041,
            44.09448,
            32.97027,
            27.61401,
            43.66657,
            41.29284000000001,
            37.26923,
            35.65945,
            35.19165,
            36.34377,
            31.20327,
            37.57769,
            30.617140000000006,
            39.29362,
            30.1534,
            41.11981,
            24.97411,
            29.18251
           ],
           "legendgroup": "",
           "lon": [
            117.2264,
            116.4142,
            107.874,
            117.9895,
            103.8343,
            113.422,
            108.7881,
            106.8748,
            109.7455,
            114.5149,
            127.7622,
            113.614,
            112.2707,
            111.7088,
            113.9456,
            119.464,
            115.7221,
            126.1917,
            122.6086,
            106.1655,
            96.02564,
            108.8701,
            118.1529,
            121.4554,
            112.2922,
            102.7103,
            117.333,
            88.7879,
            85.17822,
            101.4868,
            120.0985
           ],
           "marker": {
            "color": [
             30.166206257996713,
             19.131126469708992,
             23,
             16.703293088490067,
             9.486832980505138,
             35.22782990761707,
             14.89966442575134,
             11.61895003862225,
             12.529964086141668,
             16.278820596099706,
             19.87460691435179,
             34.19064199455752,
             219.5586482013405,
             31.11269837220809,
             7.810249675906654,
             23.874672772626646,
             29.5296461204668,
             9.16515138991168,
             10.816653826391969,
             8,
             4.242640687119285,
             15.132745950421556,
             22.561028345356956,
             17.74823934929885,
             11.224972160321824,
             21.236760581595302,
             10.908712114635714,
             1,
             7.937253933193772,
             12.489995996796797,
             33.83784863137726
            ],
            "coloraxis": "coloraxis",
            "size": [
             30.166206257996713,
             19.131126469708992,
             23,
             16.703293088490067,
             9.486832980505138,
             35.22782990761707,
             14.89966442575134,
             11.61895003862225,
             12.529964086141668,
             16.278820596099706,
             19.87460691435179,
             34.19064199455752,
             219.5586482013405,
             31.11269837220809,
             7.810249675906654,
             23.874672772626646,
             29.5296461204668,
             9.16515138991168,
             10.816653826391969,
             8,
             4.242640687119285,
             15.132745950421556,
             22.561028345356956,
             17.74823934929885,
             11.224972160321824,
             21.236760581595302,
             10.908712114635714,
             1,
             7.937253933193772,
             12.489995996796797,
             33.83784863137726
            ],
            "sizemode": "area",
            "sizeref": 0.603023631377743
           },
           "name": "",
           "showlegend": false,
           "type": "scattergeo"
          }
         ],
         "name": "02/13/2020"
        },
        {
         "data": [
          {
           "customdata": [
            [
             934,
             6,
             193
            ],
            [
             372,
             3,
             80
            ],
            [
             537,
             5,
             152
            ],
            [
             281,
             0,
             63
            ],
            [
             90,
             2,
             39
            ],
            [
             1261,
             2,
             362
            ],
            [
             226,
             2,
             36
            ],
            [
             140,
             1,
             28
            ],
            [
             159,
             4,
             43
            ],
            [
             283,
             3,
             87
            ],
            [
             419,
             11,
             47
            ],
            [
             1184,
             11,
             357
            ],
            [
             54406,
             1457,
             4774
            ],
            [
             988,
             2,
             364
            ],
            [
             65,
             0,
             6
            ],
            [
             593,
             0,
             157
            ],
            [
             900,
             1,
             187
            ],
            [
             86,
             1,
             25
            ],
            [
             119,
             1,
             29
            ],
            [
             67,
             0,
             24
            ],
            [
             18,
             0,
             11
            ],
            [
             230,
             0,
             54
            ],
            [
             523,
             2,
             136
            ],
            [
             318,
             1,
             90
            ],
            [
             127,
             0,
             38
            ],
            [
             463,
             1,
             114
            ],
            [
             120,
             3,
             31
            ],
            [
             1,
             0,
             1
            ],
            [
             65,
             1,
             6
            ],
            [
             162,
             0,
             36
            ],
            [
             1155,
             0,
             403
            ]
           ],
           "geo": "geo",
           "hoverlabel": {
            "namelength": 0
           },
           "hovertemplate": "<b>%{hovertext}</b><br><br>Date=02/14/2020<br>size=%{marker.color}<br>Confirmed=%{customdata[0]}<br>Deaths=%{customdata[1]}<br>Recovered=%{customdata[2]}<br>Lat=%{lat}<br>Long=%{lon}",
           "hovertext": [
            "Anhui",
            "Beijing",
            "Chongqing",
            "Fujian",
            "Gansu",
            "Guangdong",
            "Guangxi",
            "Guizhou",
            "Hainan",
            "Hebei",
            "Heilongjiang",
            "Henan",
            "Hubei",
            "Hunan",
            "Inner Mongolia",
            "Jiangsu",
            "Jiangxi",
            "Jilin",
            "Liaoning",
            "Ningxia",
            "Qinghai",
            "Shaanxi",
            "Shandong",
            "Shanghai",
            "Shanxi",
            "Sichuan",
            "Tianjin",
            "Tibet",
            "Xinjiang",
            "Yunnan",
            "Zhejiang"
           ],
           "lat": [
            31.82571,
            40.18238,
            30.05718,
            26.07783,
            36.0611,
            23.33841,
            23.82908,
            26.81536,
            19.19673,
            38.0428,
            47.862,
            33.882020000000004,
            30.97564,
            27.61041,
            44.09448,
            32.97027,
            27.61401,
            43.66657,
            41.29284000000001,
            37.26923,
            35.65945,
            35.19165,
            36.34377,
            31.20327,
            37.57769,
            30.617140000000006,
            39.29362,
            30.1534,
            41.11981,
            24.97411,
            29.18251
           ],
           "legendgroup": "",
           "lon": [
            117.2264,
            116.4142,
            107.874,
            117.9895,
            103.8343,
            113.422,
            108.7881,
            106.8748,
            109.7455,
            114.5149,
            127.7622,
            113.614,
            112.2707,
            111.7088,
            113.9456,
            119.464,
            115.7221,
            126.1917,
            122.6086,
            106.1655,
            96.02564,
            108.8701,
            118.1529,
            121.4554,
            112.2922,
            102.7103,
            117.333,
            88.7879,
            85.17822,
            101.4868,
            120.0985
           ],
           "marker": {
            "color": [
             30.56141357987225,
             19.28730152198591,
             23.173260452512935,
             16.76305461424021,
             9.486832980505138,
             35.510561809129406,
             15.033296378372908,
             11.832159566199232,
             12.609520212918492,
             16.822603841260722,
             20.46948949045872,
             34.40930106817051,
             233.25093783305567,
             31.432467291003423,
             8.06225774829855,
             24.351591323771842,
             30,
             9.273618495495704,
             10.908712114635714,
             8.18535277187245,
             4.242640687119285,
             15.165750888103101,
             22.869193252058544,
             17.832554500127006,
             11.269427669584644,
             21.517434791350013,
             10.954451150103322,
             1,
             8.06225774829855,
             12.727922061357855,
             33.98529093593286
            ],
            "coloraxis": "coloraxis",
            "size": [
             30.56141357987225,
             19.28730152198591,
             23.173260452512935,
             16.76305461424021,
             9.486832980505138,
             35.510561809129406,
             15.033296378372908,
             11.832159566199232,
             12.609520212918492,
             16.822603841260722,
             20.46948949045872,
             34.40930106817051,
             233.25093783305567,
             31.432467291003423,
             8.06225774829855,
             24.351591323771842,
             30,
             9.273618495495704,
             10.908712114635714,
             8.18535277187245,
             4.242640687119285,
             15.165750888103101,
             22.869193252058544,
             17.832554500127006,
             11.269427669584644,
             21.517434791350013,
             10.954451150103322,
             1,
             8.06225774829855,
             12.727922061357855,
             33.98529093593286
            ],
            "sizemode": "area",
            "sizeref": 0.603023631377743
           },
           "name": "",
           "showlegend": false,
           "type": "scattergeo"
          }
         ],
         "name": "02/14/2020"
        },
        {
         "data": [
          {
           "customdata": [
            [
             950,
             6,
             221
            ],
            [
             375,
             4,
             98
            ],
            [
             544,
             5,
             184
            ],
            [
             285,
             0,
             71
            ],
            [
             90,
             2,
             49
            ],
            [
             1294,
             2,
             410
            ],
            [
             235,
             2,
             44
            ],
            [
             143,
             1,
             41
            ],
            [
             162,
             4,
             39
            ],
            [
             291,
             3,
             101
            ],
            [
             425,
             11,
             68
            ],
            [
             1212,
             13,
             391
            ],
            [
             56249,
             1596,
             5623
            ],
            [
             1001,
             2,
             425
            ],
            [
             68,
             0,
             7
            ],
            [
             604,
             0,
             186
            ],
            [
             913,
             1,
             210
            ],
            [
             88,
             1,
             26
            ],
            [
             119,
             1,
             31
            ],
            [
             70,
             0,
             33
            ],
            [
             18,
             0,
             13
            ],
            [
             232,
             0,
             60
            ],
            [
             532,
             2,
             156
            ],
            [
             326,
             1,
             124
            ],
            [
             128,
             0,
             46
            ],
            [
             470,
             1,
             119
            ],
            [
             122,
             3,
             37
            ],
            [
             1,
             0,
             1
            ],
            [
             70,
             1,
             10
            ],
            [
             168,
             0,
             42
            ],
            [
             1162,
             0,
             428
            ]
           ],
           "geo": "geo",
           "hoverlabel": {
            "namelength": 0
           },
           "hovertemplate": "<b>%{hovertext}</b><br><br>Date=02/15/2020<br>size=%{marker.color}<br>Confirmed=%{customdata[0]}<br>Deaths=%{customdata[1]}<br>Recovered=%{customdata[2]}<br>Lat=%{lat}<br>Long=%{lon}",
           "hovertext": [
            "Anhui",
            "Beijing",
            "Chongqing",
            "Fujian",
            "Gansu",
            "Guangdong",
            "Guangxi",
            "Guizhou",
            "Hainan",
            "Hebei",
            "Heilongjiang",
            "Henan",
            "Hubei",
            "Hunan",
            "Inner Mongolia",
            "Jiangsu",
            "Jiangxi",
            "Jilin",
            "Liaoning",
            "Ningxia",
            "Qinghai",
            "Shaanxi",
            "Shandong",
            "Shanghai",
            "Shanxi",
            "Sichuan",
            "Tianjin",
            "Tibet",
            "Xinjiang",
            "Yunnan",
            "Zhejiang"
           ],
           "lat": [
            31.82571,
            40.18238,
            30.05718,
            26.07783,
            36.0611,
            23.33841,
            23.82908,
            26.81536,
            19.19673,
            38.0428,
            47.862,
            33.882020000000004,
            30.97564,
            27.61041,
            44.09448,
            32.97027,
            27.61401,
            43.66657,
            41.29284000000001,
            37.26923,
            35.65945,
            35.19165,
            36.34377,
            31.20327,
            37.57769,
            30.617140000000006,
            39.29362,
            30.1534,
            41.11981,
            24.97411,
            29.18251
           ],
           "legendgroup": "",
           "lon": [
            117.2264,
            116.4142,
            107.874,
            117.9895,
            103.8343,
            113.422,
            108.7881,
            106.8748,
            109.7455,
            114.5149,
            127.7622,
            113.614,
            112.2707,
            111.7088,
            113.9456,
            119.464,
            115.7221,
            126.1917,
            122.6086,
            106.1655,
            96.02564,
            108.8701,
            118.1529,
            121.4554,
            112.2922,
            102.7103,
            117.333,
            88.7879,
            85.17822,
            101.4868,
            120.0985
           ],
           "marker": {
            "color": [
             30.822070014844883,
             19.364916731037084,
             23.323807579381203,
             16.881943016134134,
             9.486832980505138,
             35.9722114972099,
             15.329709716755891,
             11.958260743101398,
             12.727922061357855,
             17.05872210923198,
             20.615528128088304,
             34.813790371058424,
             237.16871631815187,
             31.63858403911275,
             8.246211251235321,
             24.576411454889016,
             30.215889859476256,
             9.38083151964686,
             10.908712114635714,
             8.366600265340756,
             4.242640687119285,
             15.231546211727817,
             23.065125189341593,
             18.05547008526779,
             11.313708498984761,
             21.6794833886788,
             11.045361017187261,
             1,
             8.366600265340756,
             12.96148139681572,
             34.08812109811862
            ],
            "coloraxis": "coloraxis",
            "size": [
             30.822070014844883,
             19.364916731037084,
             23.323807579381203,
             16.881943016134134,
             9.486832980505138,
             35.9722114972099,
             15.329709716755891,
             11.958260743101398,
             12.727922061357855,
             17.05872210923198,
             20.615528128088304,
             34.813790371058424,
             237.16871631815187,
             31.63858403911275,
             8.246211251235321,
             24.576411454889016,
             30.215889859476256,
             9.38083151964686,
             10.908712114635714,
             8.366600265340756,
             4.242640687119285,
             15.231546211727817,
             23.065125189341593,
             18.05547008526779,
             11.313708498984761,
             21.6794833886788,
             11.045361017187261,
             1,
             8.366600265340756,
             12.96148139681572,
             34.08812109811862
            ],
            "sizemode": "area",
            "sizeref": 0.603023631377743
           },
           "name": "",
           "showlegend": false,
           "type": "scattergeo"
          }
         ],
         "name": "02/15/2020"
        },
        {
         "data": [
          {
           "customdata": [
            [
             962,
             6,
             255
            ],
            [
             380,
             4,
             108
            ],
            [
             551,
             5,
             207
            ],
            [
             287,
             0,
             82
            ],
            [
             90,
             2,
             54
            ],
            [
             1316,
             2,
             465
            ],
            [
             237,
             2,
             49
            ],
            [
             144,
             1,
             46
            ],
            [
             162,
             4,
             52
            ],
            [
             300,
             3,
             105
            ],
            [
             445,
             11,
             79
            ],
            [
             1231,
             13,
             440
            ],
            [
             58182,
             1696,
             6639
            ],
            [
             1004,
             3,
             464
            ],
            [
             70,
             0,
             8
            ],
            [
             617,
             0,
             218
            ],
            [
             925,
             1,
             240
            ],
            [
             89,
             1,
             30
            ],
            [
             121,
             1,
             40
            ],
            [
             70,
             0,
             33
            ],
            [
             18,
             0,
             13
            ],
            [
             236,
             0,
             71
            ],
            [
             537,
             2,
             173
            ],
            [
             328,
             1,
             140
            ],
            [
             129,
             0,
             50
            ],
            [
             481,
             3,
             131
            ],
            [
             124,
             3,
             45
            ],
            [
             1,
             0,
             1
            ],
            [
             71,
             1,
             12
            ],
            [
             171,
             0,
             42
            ],
            [
             1167,
             0,
             456
            ]
           ],
           "geo": "geo",
           "hoverlabel": {
            "namelength": 0
           },
           "hovertemplate": "<b>%{hovertext}</b><br><br>Date=02/16/2020<br>size=%{marker.color}<br>Confirmed=%{customdata[0]}<br>Deaths=%{customdata[1]}<br>Recovered=%{customdata[2]}<br>Lat=%{lat}<br>Long=%{lon}",
           "hovertext": [
            "Anhui",
            "Beijing",
            "Chongqing",
            "Fujian",
            "Gansu",
            "Guangdong",
            "Guangxi",
            "Guizhou",
            "Hainan",
            "Hebei",
            "Heilongjiang",
            "Henan",
            "Hubei",
            "Hunan",
            "Inner Mongolia",
            "Jiangsu",
            "Jiangxi",
            "Jilin",
            "Liaoning",
            "Ningxia",
            "Qinghai",
            "Shaanxi",
            "Shandong",
            "Shanghai",
            "Shanxi",
            "Sichuan",
            "Tianjin",
            "Tibet",
            "Xinjiang",
            "Yunnan",
            "Zhejiang"
           ],
           "lat": [
            31.82571,
            40.18238,
            30.05718,
            26.07783,
            36.0611,
            23.33841,
            23.82908,
            26.81536,
            19.19673,
            38.0428,
            47.862,
            33.882020000000004,
            30.97564,
            27.61041,
            44.09448,
            32.97027,
            27.61401,
            43.66657,
            41.29284000000001,
            37.26923,
            35.65945,
            35.19165,
            36.34377,
            31.20327,
            37.57769,
            30.617140000000006,
            39.29362,
            30.1534,
            41.11981,
            24.97411,
            29.18251
           ],
           "legendgroup": "",
           "lon": [
            117.2264,
            116.4142,
            107.874,
            117.9895,
            103.8343,
            113.422,
            108.7881,
            106.8748,
            109.7455,
            114.5149,
            127.7622,
            113.614,
            112.2707,
            111.7088,
            113.9456,
            119.464,
            115.7221,
            126.1917,
            122.6086,
            106.1655,
            96.02564,
            108.8701,
            118.1529,
            121.4554,
            112.2922,
            102.7103,
            117.333,
            88.7879,
            85.17822,
            101.4868,
            120.0985
           ],
           "marker": {
            "color": [
             31.016124838541646,
             19.493588689617926,
             23.473389188611005,
             16.941074346097416,
             9.486832980505138,
             36.27671429443411,
             15.394804318340652,
             12,
             12.727922061357855,
             17.320508075688775,
             21.095023109728988,
             35.08560958569767,
             241.20945255109717,
             31.68595903550972,
             8.366600265340756,
             24.839484696748443,
             30.4138126514911,
             9.433981132056603,
             11,
             8.366600265340756,
             4.242640687119285,
             15.362291495737216,
             23.173260452512935,
             18.110770276274835,
             11.357816691600547,
             21.93171219946131,
             11.135528725660043,
             1,
             8.426149773176359,
             13.076696830622021,
             34.161381705077446
            ],
            "coloraxis": "coloraxis",
            "size": [
             31.016124838541646,
             19.493588689617926,
             23.473389188611005,
             16.941074346097416,
             9.486832980505138,
             36.27671429443411,
             15.394804318340652,
             12,
             12.727922061357855,
             17.320508075688775,
             21.095023109728988,
             35.08560958569767,
             241.20945255109717,
             31.68595903550972,
             8.366600265340756,
             24.839484696748443,
             30.4138126514911,
             9.433981132056603,
             11,
             8.366600265340756,
             4.242640687119285,
             15.362291495737216,
             23.173260452512935,
             18.110770276274835,
             11.357816691600547,
             21.93171219946131,
             11.135528725660043,
             1,
             8.426149773176359,
             13.076696830622021,
             34.161381705077446
            ],
            "sizemode": "area",
            "sizeref": 0.603023631377743
           },
           "name": "",
           "showlegend": false,
           "type": "scattergeo"
          }
         ],
         "name": "02/16/2020"
        }
       ],
       "layout": {
        "coloraxis": {
         "colorbar": {
          "title": {
           "text": "size"
          }
         },
         "colorscale": [
          [
           0,
           "#0d0887"
          ],
          [
           0.1111111111111111,
           "#46039f"
          ],
          [
           0.2222222222222222,
           "#7201a8"
          ],
          [
           0.3333333333333333,
           "#9c179e"
          ],
          [
           0.4444444444444444,
           "#bd3786"
          ],
          [
           0.5555555555555556,
           "#d8576b"
          ],
          [
           0.6666666666666666,
           "#ed7953"
          ],
          [
           0.7777777777777778,
           "#fb9f3a"
          ],
          [
           0.8888888888888888,
           "#fdca26"
          ],
          [
           1,
           "#f0f921"
          ]
         ],
         "showscale": false
        },
        "geo": {
         "center": {},
         "domain": {
          "x": [
           0,
           1
          ],
          "y": [
           0,
           1
          ]
         },
         "projection": {
          "type": "natural earth"
         },
         "scope": "asia"
        },
        "legend": {
         "itemsizing": "constant",
         "tracegroupgap": 0
        },
        "sliders": [
         {
          "active": 0,
          "currentvalue": {
           "prefix": "Date="
          },
          "len": 0.9,
          "pad": {
           "b": 10,
           "t": 60
          },
          "steps": [
           {
            "args": [
             [
              "01/22/2020"
             ],
             {
              "frame": {
               "duration": 0,
               "redraw": true
              },
              "fromcurrent": true,
              "mode": "immediate",
              "transition": {
               "duration": 0,
               "easing": "linear"
              }
             }
            ],
            "label": "01/22/2020",
            "method": "animate"
           },
           {
            "args": [
             [
              "01/23/2020"
             ],
             {
              "frame": {
               "duration": 0,
               "redraw": true
              },
              "fromcurrent": true,
              "mode": "immediate",
              "transition": {
               "duration": 0,
               "easing": "linear"
              }
             }
            ],
            "label": "01/23/2020",
            "method": "animate"
           },
           {
            "args": [
             [
              "01/24/2020"
             ],
             {
              "frame": {
               "duration": 0,
               "redraw": true
              },
              "fromcurrent": true,
              "mode": "immediate",
              "transition": {
               "duration": 0,
               "easing": "linear"
              }
             }
            ],
            "label": "01/24/2020",
            "method": "animate"
           },
           {
            "args": [
             [
              "01/25/2020"
             ],
             {
              "frame": {
               "duration": 0,
               "redraw": true
              },
              "fromcurrent": true,
              "mode": "immediate",
              "transition": {
               "duration": 0,
               "easing": "linear"
              }
             }
            ],
            "label": "01/25/2020",
            "method": "animate"
           },
           {
            "args": [
             [
              "01/26/2020"
             ],
             {
              "frame": {
               "duration": 0,
               "redraw": true
              },
              "fromcurrent": true,
              "mode": "immediate",
              "transition": {
               "duration": 0,
               "easing": "linear"
              }
             }
            ],
            "label": "01/26/2020",
            "method": "animate"
           },
           {
            "args": [
             [
              "01/27/2020"
             ],
             {
              "frame": {
               "duration": 0,
               "redraw": true
              },
              "fromcurrent": true,
              "mode": "immediate",
              "transition": {
               "duration": 0,
               "easing": "linear"
              }
             }
            ],
            "label": "01/27/2020",
            "method": "animate"
           },
           {
            "args": [
             [
              "01/28/2020"
             ],
             {
              "frame": {
               "duration": 0,
               "redraw": true
              },
              "fromcurrent": true,
              "mode": "immediate",
              "transition": {
               "duration": 0,
               "easing": "linear"
              }
             }
            ],
            "label": "01/28/2020",
            "method": "animate"
           },
           {
            "args": [
             [
              "01/29/2020"
             ],
             {
              "frame": {
               "duration": 0,
               "redraw": true
              },
              "fromcurrent": true,
              "mode": "immediate",
              "transition": {
               "duration": 0,
               "easing": "linear"
              }
             }
            ],
            "label": "01/29/2020",
            "method": "animate"
           },
           {
            "args": [
             [
              "01/30/2020"
             ],
             {
              "frame": {
               "duration": 0,
               "redraw": true
              },
              "fromcurrent": true,
              "mode": "immediate",
              "transition": {
               "duration": 0,
               "easing": "linear"
              }
             }
            ],
            "label": "01/30/2020",
            "method": "animate"
           },
           {
            "args": [
             [
              "01/31/2020"
             ],
             {
              "frame": {
               "duration": 0,
               "redraw": true
              },
              "fromcurrent": true,
              "mode": "immediate",
              "transition": {
               "duration": 0,
               "easing": "linear"
              }
             }
            ],
            "label": "01/31/2020",
            "method": "animate"
           },
           {
            "args": [
             [
              "02/01/2020"
             ],
             {
              "frame": {
               "duration": 0,
               "redraw": true
              },
              "fromcurrent": true,
              "mode": "immediate",
              "transition": {
               "duration": 0,
               "easing": "linear"
              }
             }
            ],
            "label": "02/01/2020",
            "method": "animate"
           },
           {
            "args": [
             [
              "02/02/2020"
             ],
             {
              "frame": {
               "duration": 0,
               "redraw": true
              },
              "fromcurrent": true,
              "mode": "immediate",
              "transition": {
               "duration": 0,
               "easing": "linear"
              }
             }
            ],
            "label": "02/02/2020",
            "method": "animate"
           },
           {
            "args": [
             [
              "02/03/2020"
             ],
             {
              "frame": {
               "duration": 0,
               "redraw": true
              },
              "fromcurrent": true,
              "mode": "immediate",
              "transition": {
               "duration": 0,
               "easing": "linear"
              }
             }
            ],
            "label": "02/03/2020",
            "method": "animate"
           },
           {
            "args": [
             [
              "02/04/2020"
             ],
             {
              "frame": {
               "duration": 0,
               "redraw": true
              },
              "fromcurrent": true,
              "mode": "immediate",
              "transition": {
               "duration": 0,
               "easing": "linear"
              }
             }
            ],
            "label": "02/04/2020",
            "method": "animate"
           },
           {
            "args": [
             [
              "02/05/2020"
             ],
             {
              "frame": {
               "duration": 0,
               "redraw": true
              },
              "fromcurrent": true,
              "mode": "immediate",
              "transition": {
               "duration": 0,
               "easing": "linear"
              }
             }
            ],
            "label": "02/05/2020",
            "method": "animate"
           },
           {
            "args": [
             [
              "02/06/2020"
             ],
             {
              "frame": {
               "duration": 0,
               "redraw": true
              },
              "fromcurrent": true,
              "mode": "immediate",
              "transition": {
               "duration": 0,
               "easing": "linear"
              }
             }
            ],
            "label": "02/06/2020",
            "method": "animate"
           },
           {
            "args": [
             [
              "02/07/2020"
             ],
             {
              "frame": {
               "duration": 0,
               "redraw": true
              },
              "fromcurrent": true,
              "mode": "immediate",
              "transition": {
               "duration": 0,
               "easing": "linear"
              }
             }
            ],
            "label": "02/07/2020",
            "method": "animate"
           },
           {
            "args": [
             [
              "02/08/2020"
             ],
             {
              "frame": {
               "duration": 0,
               "redraw": true
              },
              "fromcurrent": true,
              "mode": "immediate",
              "transition": {
               "duration": 0,
               "easing": "linear"
              }
             }
            ],
            "label": "02/08/2020",
            "method": "animate"
           },
           {
            "args": [
             [
              "02/09/2020"
             ],
             {
              "frame": {
               "duration": 0,
               "redraw": true
              },
              "fromcurrent": true,
              "mode": "immediate",
              "transition": {
               "duration": 0,
               "easing": "linear"
              }
             }
            ],
            "label": "02/09/2020",
            "method": "animate"
           },
           {
            "args": [
             [
              "02/10/2020"
             ],
             {
              "frame": {
               "duration": 0,
               "redraw": true
              },
              "fromcurrent": true,
              "mode": "immediate",
              "transition": {
               "duration": 0,
               "easing": "linear"
              }
             }
            ],
            "label": "02/10/2020",
            "method": "animate"
           },
           {
            "args": [
             [
              "02/11/2020"
             ],
             {
              "frame": {
               "duration": 0,
               "redraw": true
              },
              "fromcurrent": true,
              "mode": "immediate",
              "transition": {
               "duration": 0,
               "easing": "linear"
              }
             }
            ],
            "label": "02/11/2020",
            "method": "animate"
           },
           {
            "args": [
             [
              "02/12/2020"
             ],
             {
              "frame": {
               "duration": 0,
               "redraw": true
              },
              "fromcurrent": true,
              "mode": "immediate",
              "transition": {
               "duration": 0,
               "easing": "linear"
              }
             }
            ],
            "label": "02/12/2020",
            "method": "animate"
           },
           {
            "args": [
             [
              "02/13/2020"
             ],
             {
              "frame": {
               "duration": 0,
               "redraw": true
              },
              "fromcurrent": true,
              "mode": "immediate",
              "transition": {
               "duration": 0,
               "easing": "linear"
              }
             }
            ],
            "label": "02/13/2020",
            "method": "animate"
           },
           {
            "args": [
             [
              "02/14/2020"
             ],
             {
              "frame": {
               "duration": 0,
               "redraw": true
              },
              "fromcurrent": true,
              "mode": "immediate",
              "transition": {
               "duration": 0,
               "easing": "linear"
              }
             }
            ],
            "label": "02/14/2020",
            "method": "animate"
           },
           {
            "args": [
             [
              "02/15/2020"
             ],
             {
              "frame": {
               "duration": 0,
               "redraw": true
              },
              "fromcurrent": true,
              "mode": "immediate",
              "transition": {
               "duration": 0,
               "easing": "linear"
              }
             }
            ],
            "label": "02/15/2020",
            "method": "animate"
           },
           {
            "args": [
             [
              "02/16/2020"
             ],
             {
              "frame": {
               "duration": 0,
               "redraw": true
              },
              "fromcurrent": true,
              "mode": "immediate",
              "transition": {
               "duration": 0,
               "easing": "linear"
              }
             }
            ],
            "label": "02/16/2020",
            "method": "animate"
           }
          ],
          "x": 0.1,
          "xanchor": "left",
          "y": 0,
          "yanchor": "top"
         }
        ],
        "template": {
         "data": {
          "bar": [
           {
            "error_x": {
             "color": "#2a3f5f"
            },
            "error_y": {
             "color": "#2a3f5f"
            },
            "marker": {
             "line": {
              "color": "#E5ECF6",
              "width": 0.5
             }
            },
            "type": "bar"
           }
          ],
          "barpolar": [
           {
            "marker": {
             "line": {
              "color": "#E5ECF6",
              "width": 0.5
             }
            },
            "type": "barpolar"
           }
          ],
          "carpet": [
           {
            "aaxis": {
             "endlinecolor": "#2a3f5f",
             "gridcolor": "white",
             "linecolor": "white",
             "minorgridcolor": "white",
             "startlinecolor": "#2a3f5f"
            },
            "baxis": {
             "endlinecolor": "#2a3f5f",
             "gridcolor": "white",
             "linecolor": "white",
             "minorgridcolor": "white",
             "startlinecolor": "#2a3f5f"
            },
            "type": "carpet"
           }
          ],
          "choropleth": [
           {
            "colorbar": {
             "outlinewidth": 0,
             "ticks": ""
            },
            "type": "choropleth"
           }
          ],
          "contour": [
           {
            "colorbar": {
             "outlinewidth": 0,
             "ticks": ""
            },
            "colorscale": [
             [
              0,
              "#0d0887"
             ],
             [
              0.1111111111111111,
              "#46039f"
             ],
             [
              0.2222222222222222,
              "#7201a8"
             ],
             [
              0.3333333333333333,
              "#9c179e"
             ],
             [
              0.4444444444444444,
              "#bd3786"
             ],
             [
              0.5555555555555556,
              "#d8576b"
             ],
             [
              0.6666666666666666,
              "#ed7953"
             ],
             [
              0.7777777777777778,
              "#fb9f3a"
             ],
             [
              0.8888888888888888,
              "#fdca26"
             ],
             [
              1,
              "#f0f921"
             ]
            ],
            "type": "contour"
           }
          ],
          "contourcarpet": [
           {
            "colorbar": {
             "outlinewidth": 0,
             "ticks": ""
            },
            "type": "contourcarpet"
           }
          ],
          "heatmap": [
           {
            "colorbar": {
             "outlinewidth": 0,
             "ticks": ""
            },
            "colorscale": [
             [
              0,
              "#0d0887"
             ],
             [
              0.1111111111111111,
              "#46039f"
             ],
             [
              0.2222222222222222,
              "#7201a8"
             ],
             [
              0.3333333333333333,
              "#9c179e"
             ],
             [
              0.4444444444444444,
              "#bd3786"
             ],
             [
              0.5555555555555556,
              "#d8576b"
             ],
             [
              0.6666666666666666,
              "#ed7953"
             ],
             [
              0.7777777777777778,
              "#fb9f3a"
             ],
             [
              0.8888888888888888,
              "#fdca26"
             ],
             [
              1,
              "#f0f921"
             ]
            ],
            "type": "heatmap"
           }
          ],
          "heatmapgl": [
           {
            "colorbar": {
             "outlinewidth": 0,
             "ticks": ""
            },
            "colorscale": [
             [
              0,
              "#0d0887"
             ],
             [
              0.1111111111111111,
              "#46039f"
             ],
             [
              0.2222222222222222,
              "#7201a8"
             ],
             [
              0.3333333333333333,
              "#9c179e"
             ],
             [
              0.4444444444444444,
              "#bd3786"
             ],
             [
              0.5555555555555556,
              "#d8576b"
             ],
             [
              0.6666666666666666,
              "#ed7953"
             ],
             [
              0.7777777777777778,
              "#fb9f3a"
             ],
             [
              0.8888888888888888,
              "#fdca26"
             ],
             [
              1,
              "#f0f921"
             ]
            ],
            "type": "heatmapgl"
           }
          ],
          "histogram": [
           {
            "marker": {
             "colorbar": {
              "outlinewidth": 0,
              "ticks": ""
             }
            },
            "type": "histogram"
           }
          ],
          "histogram2d": [
           {
            "colorbar": {
             "outlinewidth": 0,
             "ticks": ""
            },
            "colorscale": [
             [
              0,
              "#0d0887"
             ],
             [
              0.1111111111111111,
              "#46039f"
             ],
             [
              0.2222222222222222,
              "#7201a8"
             ],
             [
              0.3333333333333333,
              "#9c179e"
             ],
             [
              0.4444444444444444,
              "#bd3786"
             ],
             [
              0.5555555555555556,
              "#d8576b"
             ],
             [
              0.6666666666666666,
              "#ed7953"
             ],
             [
              0.7777777777777778,
              "#fb9f3a"
             ],
             [
              0.8888888888888888,
              "#fdca26"
             ],
             [
              1,
              "#f0f921"
             ]
            ],
            "type": "histogram2d"
           }
          ],
          "histogram2dcontour": [
           {
            "colorbar": {
             "outlinewidth": 0,
             "ticks": ""
            },
            "colorscale": [
             [
              0,
              "#0d0887"
             ],
             [
              0.1111111111111111,
              "#46039f"
             ],
             [
              0.2222222222222222,
              "#7201a8"
             ],
             [
              0.3333333333333333,
              "#9c179e"
             ],
             [
              0.4444444444444444,
              "#bd3786"
             ],
             [
              0.5555555555555556,
              "#d8576b"
             ],
             [
              0.6666666666666666,
              "#ed7953"
             ],
             [
              0.7777777777777778,
              "#fb9f3a"
             ],
             [
              0.8888888888888888,
              "#fdca26"
             ],
             [
              1,
              "#f0f921"
             ]
            ],
            "type": "histogram2dcontour"
           }
          ],
          "mesh3d": [
           {
            "colorbar": {
             "outlinewidth": 0,
             "ticks": ""
            },
            "type": "mesh3d"
           }
          ],
          "parcoords": [
           {
            "line": {
             "colorbar": {
              "outlinewidth": 0,
              "ticks": ""
             }
            },
            "type": "parcoords"
           }
          ],
          "pie": [
           {
            "automargin": true,
            "type": "pie"
           }
          ],
          "scatter": [
           {
            "marker": {
             "colorbar": {
              "outlinewidth": 0,
              "ticks": ""
             }
            },
            "type": "scatter"
           }
          ],
          "scatter3d": [
           {
            "line": {
             "colorbar": {
              "outlinewidth": 0,
              "ticks": ""
             }
            },
            "marker": {
             "colorbar": {
              "outlinewidth": 0,
              "ticks": ""
             }
            },
            "type": "scatter3d"
           }
          ],
          "scattercarpet": [
           {
            "marker": {
             "colorbar": {
              "outlinewidth": 0,
              "ticks": ""
             }
            },
            "type": "scattercarpet"
           }
          ],
          "scattergeo": [
           {
            "marker": {
             "colorbar": {
              "outlinewidth": 0,
              "ticks": ""
             }
            },
            "type": "scattergeo"
           }
          ],
          "scattergl": [
           {
            "marker": {
             "colorbar": {
              "outlinewidth": 0,
              "ticks": ""
             }
            },
            "type": "scattergl"
           }
          ],
          "scattermapbox": [
           {
            "marker": {
             "colorbar": {
              "outlinewidth": 0,
              "ticks": ""
             }
            },
            "type": "scattermapbox"
           }
          ],
          "scatterpolar": [
           {
            "marker": {
             "colorbar": {
              "outlinewidth": 0,
              "ticks": ""
             }
            },
            "type": "scatterpolar"
           }
          ],
          "scatterpolargl": [
           {
            "marker": {
             "colorbar": {
              "outlinewidth": 0,
              "ticks": ""
             }
            },
            "type": "scatterpolargl"
           }
          ],
          "scatterternary": [
           {
            "marker": {
             "colorbar": {
              "outlinewidth": 0,
              "ticks": ""
             }
            },
            "type": "scatterternary"
           }
          ],
          "surface": [
           {
            "colorbar": {
             "outlinewidth": 0,
             "ticks": ""
            },
            "colorscale": [
             [
              0,
              "#0d0887"
             ],
             [
              0.1111111111111111,
              "#46039f"
             ],
             [
              0.2222222222222222,
              "#7201a8"
             ],
             [
              0.3333333333333333,
              "#9c179e"
             ],
             [
              0.4444444444444444,
              "#bd3786"
             ],
             [
              0.5555555555555556,
              "#d8576b"
             ],
             [
              0.6666666666666666,
              "#ed7953"
             ],
             [
              0.7777777777777778,
              "#fb9f3a"
             ],
             [
              0.8888888888888888,
              "#fdca26"
             ],
             [
              1,
              "#f0f921"
             ]
            ],
            "type": "surface"
           }
          ],
          "table": [
           {
            "cells": {
             "fill": {
              "color": "#EBF0F8"
             },
             "line": {
              "color": "white"
             }
            },
            "header": {
             "fill": {
              "color": "#C8D4E3"
             },
             "line": {
              "color": "white"
             }
            },
            "type": "table"
           }
          ]
         },
         "layout": {
          "annotationdefaults": {
           "arrowcolor": "#2a3f5f",
           "arrowhead": 0,
           "arrowwidth": 1
          },
          "coloraxis": {
           "colorbar": {
            "outlinewidth": 0,
            "ticks": ""
           }
          },
          "colorscale": {
           "diverging": [
            [
             0,
             "#8e0152"
            ],
            [
             0.1,
             "#c51b7d"
            ],
            [
             0.2,
             "#de77ae"
            ],
            [
             0.3,
             "#f1b6da"
            ],
            [
             0.4,
             "#fde0ef"
            ],
            [
             0.5,
             "#f7f7f7"
            ],
            [
             0.6,
             "#e6f5d0"
            ],
            [
             0.7,
             "#b8e186"
            ],
            [
             0.8,
             "#7fbc41"
            ],
            [
             0.9,
             "#4d9221"
            ],
            [
             1,
             "#276419"
            ]
           ],
           "sequential": [
            [
             0,
             "#0d0887"
            ],
            [
             0.1111111111111111,
             "#46039f"
            ],
            [
             0.2222222222222222,
             "#7201a8"
            ],
            [
             0.3333333333333333,
             "#9c179e"
            ],
            [
             0.4444444444444444,
             "#bd3786"
            ],
            [
             0.5555555555555556,
             "#d8576b"
            ],
            [
             0.6666666666666666,
             "#ed7953"
            ],
            [
             0.7777777777777778,
             "#fb9f3a"
            ],
            [
             0.8888888888888888,
             "#fdca26"
            ],
            [
             1,
             "#f0f921"
            ]
           ],
           "sequentialminus": [
            [
             0,
             "#0d0887"
            ],
            [
             0.1111111111111111,
             "#46039f"
            ],
            [
             0.2222222222222222,
             "#7201a8"
            ],
            [
             0.3333333333333333,
             "#9c179e"
            ],
            [
             0.4444444444444444,
             "#bd3786"
            ],
            [
             0.5555555555555556,
             "#d8576b"
            ],
            [
             0.6666666666666666,
             "#ed7953"
            ],
            [
             0.7777777777777778,
             "#fb9f3a"
            ],
            [
             0.8888888888888888,
             "#fdca26"
            ],
            [
             1,
             "#f0f921"
            ]
           ]
          },
          "colorway": [
           "#636efa",
           "#EF553B",
           "#00cc96",
           "#ab63fa",
           "#FFA15A",
           "#19d3f3",
           "#FF6692",
           "#B6E880",
           "#FF97FF",
           "#FECB52"
          ],
          "font": {
           "color": "#2a3f5f"
          },
          "geo": {
           "bgcolor": "white",
           "lakecolor": "white",
           "landcolor": "#E5ECF6",
           "showlakes": true,
           "showland": true,
           "subunitcolor": "white"
          },
          "hoverlabel": {
           "align": "left"
          },
          "hovermode": "closest",
          "mapbox": {
           "style": "light"
          },
          "paper_bgcolor": "white",
          "plot_bgcolor": "#E5ECF6",
          "polar": {
           "angularaxis": {
            "gridcolor": "white",
            "linecolor": "white",
            "ticks": ""
           },
           "bgcolor": "#E5ECF6",
           "radialaxis": {
            "gridcolor": "white",
            "linecolor": "white",
            "ticks": ""
           }
          },
          "scene": {
           "xaxis": {
            "backgroundcolor": "#E5ECF6",
            "gridcolor": "white",
            "gridwidth": 2,
            "linecolor": "white",
            "showbackground": true,
            "ticks": "",
            "zerolinecolor": "white"
           },
           "yaxis": {
            "backgroundcolor": "#E5ECF6",
            "gridcolor": "white",
            "gridwidth": 2,
            "linecolor": "white",
            "showbackground": true,
            "ticks": "",
            "zerolinecolor": "white"
           },
           "zaxis": {
            "backgroundcolor": "#E5ECF6",
            "gridcolor": "white",
            "gridwidth": 2,
            "linecolor": "white",
            "showbackground": true,
            "ticks": "",
            "zerolinecolor": "white"
           }
          },
          "shapedefaults": {
           "line": {
            "color": "#2a3f5f"
           }
          },
          "ternary": {
           "aaxis": {
            "gridcolor": "white",
            "linecolor": "white",
            "ticks": ""
           },
           "baxis": {
            "gridcolor": "white",
            "linecolor": "white",
            "ticks": ""
           },
           "bgcolor": "#E5ECF6",
           "caxis": {
            "gridcolor": "white",
            "linecolor": "white",
            "ticks": ""
           }
          },
          "title": {
           "x": 0.05
          },
          "xaxis": {
           "automargin": true,
           "gridcolor": "white",
           "linecolor": "white",
           "ticks": "",
           "title": {
            "standoff": 15
           },
           "zerolinecolor": "white",
           "zerolinewidth": 2
          },
          "yaxis": {
           "automargin": true,
           "gridcolor": "white",
           "linecolor": "white",
           "ticks": "",
           "title": {
            "standoff": 15
           },
           "zerolinecolor": "white",
           "zerolinewidth": 2
          }
         }
        },
        "title": {
         "text": "Spread in China over time"
        },
        "updatemenus": [
         {
          "buttons": [
           {
            "args": [
             null,
             {
              "frame": {
               "duration": 500,
               "redraw": true
              },
              "fromcurrent": true,
              "mode": "immediate",
              "transition": {
               "duration": 500,
               "easing": "linear"
              }
             }
            ],
            "label": "&#9654;",
            "method": "animate"
           },
           {
            "args": [
             [
              null
             ],
             {
              "frame": {
               "duration": 0,
               "redraw": true
              },
              "fromcurrent": true,
              "mode": "immediate",
              "transition": {
               "duration": 0,
               "easing": "linear"
              }
             }
            ],
            "label": "&#9724;",
            "method": "animate"
           }
          ],
          "direction": "left",
          "pad": {
           "r": 10,
           "t": 70
          },
          "showactive": false,
          "type": "buttons",
          "x": 0.1,
          "xanchor": "right",
          "y": 0,
          "yanchor": "top"
         }
        ]
       }
      },
      "text/html": [
       "<div>\n",
       "        \n",
       "        \n",
       "            <div id=\"d9b1d986-ccff-4ef2-8121-d6a11d7913d8\" class=\"plotly-graph-div\" style=\"height:525px; width:100%;\"></div>\n",
       "            <script type=\"text/javascript\">\n",
       "                require([\"plotly\"], function(Plotly) {\n",
       "                    window.PLOTLYENV=window.PLOTLYENV || {};\n",
       "                    \n",
       "                if (document.getElementById(\"d9b1d986-ccff-4ef2-8121-d6a11d7913d8\")) {\n",
       "                    Plotly.newPlot(\n",
       "                        'd9b1d986-ccff-4ef2-8121-d6a11d7913d8',\n",
       "                        [{\"customdata\": [[1.0, 0.0, 0.0], [14.0, 0.0, 0.0], [6.0, 0.0, 0.0], [1.0, 0.0, 0.0], [0.0, 0.0, 0.0], [26.0, 0.0, 0.0], [2.0, 0.0, 0.0], [1.0, 0.0, 0.0], [4.0, 0.0, 0.0], [1.0, 0.0, 0.0], [0.0, 0.0, 0.0], [5.0, 0.0, 0.0], [444.0, 17.0, 28.0], [4.0, 0.0, 0.0], [0.0, 0.0, 0.0], [1.0, 0.0, 0.0], [2.0, 0.0, 0.0], [0.0, 0.0, 0.0], [2.0, 0.0, 0.0], [1.0, 0.0, 0.0], [0.0, 0.0, 0.0], [0.0, 0.0, 0.0], [2.0, 0.0, 0.0], [9.0, 0.0, 0.0], [1.0, 0.0, 0.0], [5.0, 0.0, 0.0], [4.0, 0.0, 0.0], [0.0, 0.0, 0.0], [0.0, 0.0, 0.0], [1.0, 0.0, 0.0], [10.0, 0.0, 0.0]], \"geo\": \"geo\", \"hoverlabel\": {\"namelength\": 0}, \"hovertemplate\": \"<b>%{hovertext}</b><br><br>Date=01/22/2020<br>size=%{marker.color}<br>Confirmed=%{customdata[0]}<br>Deaths=%{customdata[1]}<br>Recovered=%{customdata[2]}<br>Lat=%{lat}<br>Long=%{lon}\", \"hovertext\": [\"Anhui\", \"Beijing\", \"Chongqing\", \"Fujian\", \"Gansu\", \"Guangdong\", \"Guangxi\", \"Guizhou\", \"Hainan\", \"Hebei\", \"Heilongjiang\", \"Henan\", \"Hubei\", \"Hunan\", \"Inner Mongolia\", \"Jiangsu\", \"Jiangxi\", \"Jilin\", \"Liaoning\", \"Ningxia\", \"Qinghai\", \"Shaanxi\", \"Shandong\", \"Shanghai\", \"Shanxi\", \"Sichuan\", \"Tianjin\", \"Tibet\", \"Xinjiang\", \"Yunnan\", \"Zhejiang\"], \"lat\": [31.82571, 40.18238, 30.05718, 26.07783, 36.0611, 23.33841, 23.82908, 26.81536, 19.19673, 38.0428, 47.862, 33.882020000000004, 30.97564, 27.61041, 44.09448, 32.97027, 27.61401, 43.66657, 41.29284000000001, 37.26923, 35.65945, 35.19165, 36.34377, 31.20327, 37.57769, 30.617140000000006, 39.29362, 30.1534, 41.11981, 24.97411, 29.18251], \"legendgroup\": \"\", \"lon\": [117.2264, 116.4142, 107.874, 117.9895, 103.8343, 113.422, 108.7881, 106.8748, 109.7455, 114.5149, 127.7622, 113.614, 112.2707, 111.7088, 113.9456, 119.464, 115.7221, 126.1917, 122.6086, 106.1655, 96.02564, 108.8701, 118.1529, 121.4554, 112.2922, 102.7103, 117.333, 88.7879, 85.17822, 101.4868, 120.0985], \"marker\": {\"color\": [1.0, 3.7416573867739413, 2.449489742783178, 1.0, 0.0, 5.0990195135927845, 1.4142135623730951, 1.0, 2.0, 1.0, 0.0, 2.23606797749979, 21.071307505705477, 2.0, 0.0, 1.0, 1.4142135623730951, 0.0, 1.4142135623730951, 1.0, 0.0, 0.0, 1.4142135623730951, 3.0, 1.0, 2.23606797749979, 2.0, 0.0, 0.0, 1.0, 3.1622776601683795], \"coloraxis\": \"coloraxis\", \"size\": [1.0, 3.7416573867739413, 2.449489742783178, 1.0, 0.0, 5.0990195135927845, 1.4142135623730951, 1.0, 2.0, 1.0, 0.0, 2.23606797749979, 21.071307505705477, 2.0, 0.0, 1.0, 1.4142135623730951, 0.0, 1.4142135623730951, 1.0, 0.0, 0.0, 1.4142135623730951, 3.0, 1.0, 2.23606797749979, 2.0, 0.0, 0.0, 1.0, 3.1622776601683795], \"sizemode\": \"area\", \"sizeref\": 0.603023631377743}, \"name\": \"\", \"showlegend\": false, \"type\": \"scattergeo\"}],\n",
       "                        {\"coloraxis\": {\"colorbar\": {\"title\": {\"text\": \"size\"}}, \"colorscale\": [[0.0, \"#0d0887\"], [0.1111111111111111, \"#46039f\"], [0.2222222222222222, \"#7201a8\"], [0.3333333333333333, \"#9c179e\"], [0.4444444444444444, \"#bd3786\"], [0.5555555555555556, \"#d8576b\"], [0.6666666666666666, \"#ed7953\"], [0.7777777777777778, \"#fb9f3a\"], [0.8888888888888888, \"#fdca26\"], [1.0, \"#f0f921\"]], \"showscale\": false}, \"geo\": {\"center\": {}, \"domain\": {\"x\": [0.0, 1.0], \"y\": [0.0, 1.0]}, \"projection\": {\"type\": \"natural earth\"}, \"scope\": \"asia\"}, \"legend\": {\"itemsizing\": \"constant\", \"tracegroupgap\": 0}, \"sliders\": [{\"active\": 0, \"currentvalue\": {\"prefix\": \"Date=\"}, \"len\": 0.9, \"pad\": {\"b\": 10, \"t\": 60}, \"steps\": [{\"args\": [[\"01/22/2020\"], {\"frame\": {\"duration\": 0, \"redraw\": true}, \"fromcurrent\": true, \"mode\": \"immediate\", \"transition\": {\"duration\": 0, \"easing\": \"linear\"}}], \"label\": \"01/22/2020\", \"method\": \"animate\"}, {\"args\": [[\"01/23/2020\"], {\"frame\": {\"duration\": 0, \"redraw\": true}, \"fromcurrent\": true, \"mode\": \"immediate\", \"transition\": {\"duration\": 0, \"easing\": \"linear\"}}], \"label\": \"01/23/2020\", \"method\": \"animate\"}, {\"args\": [[\"01/24/2020\"], {\"frame\": {\"duration\": 0, \"redraw\": true}, \"fromcurrent\": true, \"mode\": \"immediate\", \"transition\": {\"duration\": 0, \"easing\": \"linear\"}}], \"label\": \"01/24/2020\", \"method\": \"animate\"}, {\"args\": [[\"01/25/2020\"], {\"frame\": {\"duration\": 0, \"redraw\": true}, \"fromcurrent\": true, \"mode\": \"immediate\", \"transition\": {\"duration\": 0, \"easing\": \"linear\"}}], \"label\": \"01/25/2020\", \"method\": \"animate\"}, {\"args\": [[\"01/26/2020\"], {\"frame\": {\"duration\": 0, \"redraw\": true}, \"fromcurrent\": true, \"mode\": \"immediate\", \"transition\": {\"duration\": 0, \"easing\": \"linear\"}}], \"label\": \"01/26/2020\", \"method\": \"animate\"}, {\"args\": [[\"01/27/2020\"], {\"frame\": {\"duration\": 0, \"redraw\": true}, \"fromcurrent\": true, \"mode\": \"immediate\", \"transition\": {\"duration\": 0, \"easing\": \"linear\"}}], \"label\": \"01/27/2020\", \"method\": \"animate\"}, {\"args\": [[\"01/28/2020\"], {\"frame\": {\"duration\": 0, \"redraw\": true}, \"fromcurrent\": true, \"mode\": \"immediate\", \"transition\": {\"duration\": 0, \"easing\": \"linear\"}}], \"label\": \"01/28/2020\", \"method\": \"animate\"}, {\"args\": [[\"01/29/2020\"], {\"frame\": {\"duration\": 0, \"redraw\": true}, \"fromcurrent\": true, \"mode\": \"immediate\", \"transition\": {\"duration\": 0, \"easing\": \"linear\"}}], \"label\": \"01/29/2020\", \"method\": \"animate\"}, {\"args\": [[\"01/30/2020\"], {\"frame\": {\"duration\": 0, \"redraw\": true}, \"fromcurrent\": true, \"mode\": \"immediate\", \"transition\": {\"duration\": 0, \"easing\": \"linear\"}}], \"label\": \"01/30/2020\", \"method\": \"animate\"}, {\"args\": [[\"01/31/2020\"], {\"frame\": {\"duration\": 0, \"redraw\": true}, \"fromcurrent\": true, \"mode\": \"immediate\", \"transition\": {\"duration\": 0, \"easing\": \"linear\"}}], \"label\": \"01/31/2020\", \"method\": \"animate\"}, {\"args\": [[\"02/01/2020\"], {\"frame\": {\"duration\": 0, \"redraw\": true}, \"fromcurrent\": true, \"mode\": \"immediate\", \"transition\": {\"duration\": 0, \"easing\": \"linear\"}}], \"label\": \"02/01/2020\", \"method\": \"animate\"}, {\"args\": [[\"02/02/2020\"], {\"frame\": {\"duration\": 0, \"redraw\": true}, \"fromcurrent\": true, \"mode\": \"immediate\", \"transition\": {\"duration\": 0, \"easing\": \"linear\"}}], \"label\": \"02/02/2020\", \"method\": \"animate\"}, {\"args\": [[\"02/03/2020\"], {\"frame\": {\"duration\": 0, \"redraw\": true}, \"fromcurrent\": true, \"mode\": \"immediate\", \"transition\": {\"duration\": 0, \"easing\": \"linear\"}}], \"label\": \"02/03/2020\", \"method\": \"animate\"}, {\"args\": [[\"02/04/2020\"], {\"frame\": {\"duration\": 0, \"redraw\": true}, \"fromcurrent\": true, \"mode\": \"immediate\", \"transition\": {\"duration\": 0, \"easing\": \"linear\"}}], \"label\": \"02/04/2020\", \"method\": \"animate\"}, {\"args\": [[\"02/05/2020\"], {\"frame\": {\"duration\": 0, \"redraw\": true}, \"fromcurrent\": true, \"mode\": \"immediate\", \"transition\": {\"duration\": 0, \"easing\": \"linear\"}}], \"label\": \"02/05/2020\", \"method\": \"animate\"}, {\"args\": [[\"02/06/2020\"], {\"frame\": {\"duration\": 0, \"redraw\": true}, \"fromcurrent\": true, \"mode\": \"immediate\", \"transition\": {\"duration\": 0, \"easing\": \"linear\"}}], \"label\": \"02/06/2020\", \"method\": \"animate\"}, {\"args\": [[\"02/07/2020\"], {\"frame\": {\"duration\": 0, \"redraw\": true}, \"fromcurrent\": true, \"mode\": \"immediate\", \"transition\": {\"duration\": 0, \"easing\": \"linear\"}}], \"label\": \"02/07/2020\", \"method\": \"animate\"}, {\"args\": [[\"02/08/2020\"], {\"frame\": {\"duration\": 0, \"redraw\": true}, \"fromcurrent\": true, \"mode\": \"immediate\", \"transition\": {\"duration\": 0, \"easing\": \"linear\"}}], \"label\": \"02/08/2020\", \"method\": \"animate\"}, {\"args\": [[\"02/09/2020\"], {\"frame\": {\"duration\": 0, \"redraw\": true}, \"fromcurrent\": true, \"mode\": \"immediate\", \"transition\": {\"duration\": 0, \"easing\": \"linear\"}}], \"label\": \"02/09/2020\", \"method\": \"animate\"}, {\"args\": [[\"02/10/2020\"], {\"frame\": {\"duration\": 0, \"redraw\": true}, \"fromcurrent\": true, \"mode\": \"immediate\", \"transition\": {\"duration\": 0, \"easing\": \"linear\"}}], \"label\": \"02/10/2020\", \"method\": \"animate\"}, {\"args\": [[\"02/11/2020\"], {\"frame\": {\"duration\": 0, \"redraw\": true}, \"fromcurrent\": true, \"mode\": \"immediate\", \"transition\": {\"duration\": 0, \"easing\": \"linear\"}}], \"label\": \"02/11/2020\", \"method\": \"animate\"}, {\"args\": [[\"02/12/2020\"], {\"frame\": {\"duration\": 0, \"redraw\": true}, \"fromcurrent\": true, \"mode\": \"immediate\", \"transition\": {\"duration\": 0, \"easing\": \"linear\"}}], \"label\": \"02/12/2020\", \"method\": \"animate\"}, {\"args\": [[\"02/13/2020\"], {\"frame\": {\"duration\": 0, \"redraw\": true}, \"fromcurrent\": true, \"mode\": \"immediate\", \"transition\": {\"duration\": 0, \"easing\": \"linear\"}}], \"label\": \"02/13/2020\", \"method\": \"animate\"}, {\"args\": [[\"02/14/2020\"], {\"frame\": {\"duration\": 0, \"redraw\": true}, \"fromcurrent\": true, \"mode\": \"immediate\", \"transition\": {\"duration\": 0, \"easing\": \"linear\"}}], \"label\": \"02/14/2020\", \"method\": \"animate\"}, {\"args\": [[\"02/15/2020\"], {\"frame\": {\"duration\": 0, \"redraw\": true}, \"fromcurrent\": true, \"mode\": \"immediate\", \"transition\": {\"duration\": 0, \"easing\": \"linear\"}}], \"label\": \"02/15/2020\", \"method\": \"animate\"}, {\"args\": [[\"02/16/2020\"], {\"frame\": {\"duration\": 0, \"redraw\": true}, \"fromcurrent\": true, \"mode\": \"immediate\", \"transition\": {\"duration\": 0, \"easing\": \"linear\"}}], \"label\": \"02/16/2020\", \"method\": \"animate\"}], \"x\": 0.1, \"xanchor\": \"left\", \"y\": 0, \"yanchor\": \"top\"}], \"template\": {\"data\": {\"bar\": [{\"error_x\": {\"color\": \"#2a3f5f\"}, \"error_y\": {\"color\": \"#2a3f5f\"}, \"marker\": {\"line\": {\"color\": \"#E5ECF6\", \"width\": 0.5}}, \"type\": \"bar\"}], \"barpolar\": [{\"marker\": {\"line\": {\"color\": \"#E5ECF6\", \"width\": 0.5}}, \"type\": \"barpolar\"}], \"carpet\": [{\"aaxis\": {\"endlinecolor\": \"#2a3f5f\", \"gridcolor\": \"white\", \"linecolor\": \"white\", \"minorgridcolor\": \"white\", \"startlinecolor\": \"#2a3f5f\"}, \"baxis\": {\"endlinecolor\": \"#2a3f5f\", \"gridcolor\": \"white\", \"linecolor\": \"white\", \"minorgridcolor\": \"white\", \"startlinecolor\": \"#2a3f5f\"}, \"type\": \"carpet\"}], \"choropleth\": [{\"colorbar\": {\"outlinewidth\": 0, \"ticks\": \"\"}, \"type\": \"choropleth\"}], \"contour\": [{\"colorbar\": {\"outlinewidth\": 0, \"ticks\": \"\"}, \"colorscale\": [[0.0, \"#0d0887\"], [0.1111111111111111, \"#46039f\"], [0.2222222222222222, \"#7201a8\"], [0.3333333333333333, \"#9c179e\"], [0.4444444444444444, \"#bd3786\"], [0.5555555555555556, \"#d8576b\"], [0.6666666666666666, \"#ed7953\"], [0.7777777777777778, \"#fb9f3a\"], [0.8888888888888888, \"#fdca26\"], [1.0, \"#f0f921\"]], \"type\": \"contour\"}], \"contourcarpet\": [{\"colorbar\": {\"outlinewidth\": 0, \"ticks\": \"\"}, \"type\": \"contourcarpet\"}], \"heatmap\": [{\"colorbar\": {\"outlinewidth\": 0, \"ticks\": \"\"}, \"colorscale\": [[0.0, \"#0d0887\"], [0.1111111111111111, \"#46039f\"], [0.2222222222222222, \"#7201a8\"], [0.3333333333333333, \"#9c179e\"], [0.4444444444444444, \"#bd3786\"], [0.5555555555555556, \"#d8576b\"], [0.6666666666666666, \"#ed7953\"], [0.7777777777777778, \"#fb9f3a\"], [0.8888888888888888, \"#fdca26\"], [1.0, \"#f0f921\"]], \"type\": \"heatmap\"}], \"heatmapgl\": [{\"colorbar\": {\"outlinewidth\": 0, \"ticks\": \"\"}, \"colorscale\": [[0.0, \"#0d0887\"], [0.1111111111111111, \"#46039f\"], [0.2222222222222222, \"#7201a8\"], [0.3333333333333333, \"#9c179e\"], [0.4444444444444444, \"#bd3786\"], [0.5555555555555556, \"#d8576b\"], [0.6666666666666666, \"#ed7953\"], [0.7777777777777778, \"#fb9f3a\"], [0.8888888888888888, \"#fdca26\"], [1.0, \"#f0f921\"]], \"type\": \"heatmapgl\"}], \"histogram\": [{\"marker\": {\"colorbar\": {\"outlinewidth\": 0, \"ticks\": \"\"}}, \"type\": \"histogram\"}], \"histogram2d\": [{\"colorbar\": {\"outlinewidth\": 0, \"ticks\": \"\"}, \"colorscale\": [[0.0, \"#0d0887\"], [0.1111111111111111, \"#46039f\"], [0.2222222222222222, \"#7201a8\"], [0.3333333333333333, \"#9c179e\"], [0.4444444444444444, \"#bd3786\"], [0.5555555555555556, \"#d8576b\"], [0.6666666666666666, \"#ed7953\"], [0.7777777777777778, \"#fb9f3a\"], [0.8888888888888888, \"#fdca26\"], [1.0, \"#f0f921\"]], \"type\": \"histogram2d\"}], \"histogram2dcontour\": [{\"colorbar\": {\"outlinewidth\": 0, \"ticks\": \"\"}, \"colorscale\": [[0.0, \"#0d0887\"], [0.1111111111111111, \"#46039f\"], [0.2222222222222222, \"#7201a8\"], [0.3333333333333333, \"#9c179e\"], [0.4444444444444444, \"#bd3786\"], [0.5555555555555556, \"#d8576b\"], [0.6666666666666666, \"#ed7953\"], [0.7777777777777778, \"#fb9f3a\"], [0.8888888888888888, \"#fdca26\"], [1.0, \"#f0f921\"]], \"type\": \"histogram2dcontour\"}], \"mesh3d\": [{\"colorbar\": {\"outlinewidth\": 0, \"ticks\": \"\"}, \"type\": \"mesh3d\"}], \"parcoords\": [{\"line\": {\"colorbar\": {\"outlinewidth\": 0, \"ticks\": \"\"}}, \"type\": \"parcoords\"}], \"pie\": [{\"automargin\": true, \"type\": \"pie\"}], \"scatter\": [{\"marker\": {\"colorbar\": {\"outlinewidth\": 0, \"ticks\": \"\"}}, \"type\": \"scatter\"}], \"scatter3d\": [{\"line\": {\"colorbar\": {\"outlinewidth\": 0, \"ticks\": \"\"}}, \"marker\": {\"colorbar\": {\"outlinewidth\": 0, \"ticks\": \"\"}}, \"type\": \"scatter3d\"}], \"scattercarpet\": [{\"marker\": {\"colorbar\": {\"outlinewidth\": 0, \"ticks\": \"\"}}, \"type\": \"scattercarpet\"}], \"scattergeo\": [{\"marker\": {\"colorbar\": {\"outlinewidth\": 0, \"ticks\": \"\"}}, \"type\": \"scattergeo\"}], \"scattergl\": [{\"marker\": {\"colorbar\": {\"outlinewidth\": 0, \"ticks\": \"\"}}, \"type\": \"scattergl\"}], \"scattermapbox\": [{\"marker\": {\"colorbar\": {\"outlinewidth\": 0, \"ticks\": \"\"}}, \"type\": \"scattermapbox\"}], \"scatterpolar\": [{\"marker\": {\"colorbar\": {\"outlinewidth\": 0, \"ticks\": \"\"}}, \"type\": \"scatterpolar\"}], \"scatterpolargl\": [{\"marker\": {\"colorbar\": {\"outlinewidth\": 0, \"ticks\": \"\"}}, \"type\": \"scatterpolargl\"}], \"scatterternary\": [{\"marker\": {\"colorbar\": {\"outlinewidth\": 0, \"ticks\": \"\"}}, \"type\": \"scatterternary\"}], \"surface\": [{\"colorbar\": {\"outlinewidth\": 0, \"ticks\": \"\"}, \"colorscale\": [[0.0, \"#0d0887\"], [0.1111111111111111, \"#46039f\"], [0.2222222222222222, \"#7201a8\"], [0.3333333333333333, \"#9c179e\"], [0.4444444444444444, \"#bd3786\"], [0.5555555555555556, \"#d8576b\"], [0.6666666666666666, \"#ed7953\"], [0.7777777777777778, \"#fb9f3a\"], [0.8888888888888888, \"#fdca26\"], [1.0, \"#f0f921\"]], \"type\": \"surface\"}], \"table\": [{\"cells\": {\"fill\": {\"color\": \"#EBF0F8\"}, \"line\": {\"color\": \"white\"}}, \"header\": {\"fill\": {\"color\": \"#C8D4E3\"}, \"line\": {\"color\": \"white\"}}, \"type\": \"table\"}]}, \"layout\": {\"annotationdefaults\": {\"arrowcolor\": \"#2a3f5f\", \"arrowhead\": 0, \"arrowwidth\": 1}, \"coloraxis\": {\"colorbar\": {\"outlinewidth\": 0, \"ticks\": \"\"}}, \"colorscale\": {\"diverging\": [[0, \"#8e0152\"], [0.1, \"#c51b7d\"], [0.2, \"#de77ae\"], [0.3, \"#f1b6da\"], [0.4, \"#fde0ef\"], [0.5, \"#f7f7f7\"], [0.6, \"#e6f5d0\"], [0.7, \"#b8e186\"], [0.8, \"#7fbc41\"], [0.9, \"#4d9221\"], [1, \"#276419\"]], \"sequential\": [[0.0, \"#0d0887\"], [0.1111111111111111, \"#46039f\"], [0.2222222222222222, \"#7201a8\"], [0.3333333333333333, \"#9c179e\"], [0.4444444444444444, \"#bd3786\"], [0.5555555555555556, \"#d8576b\"], [0.6666666666666666, \"#ed7953\"], [0.7777777777777778, \"#fb9f3a\"], [0.8888888888888888, \"#fdca26\"], [1.0, \"#f0f921\"]], \"sequentialminus\": [[0.0, \"#0d0887\"], [0.1111111111111111, \"#46039f\"], [0.2222222222222222, \"#7201a8\"], [0.3333333333333333, \"#9c179e\"], [0.4444444444444444, \"#bd3786\"], [0.5555555555555556, \"#d8576b\"], [0.6666666666666666, \"#ed7953\"], [0.7777777777777778, \"#fb9f3a\"], [0.8888888888888888, \"#fdca26\"], [1.0, \"#f0f921\"]]}, \"colorway\": [\"#636efa\", \"#EF553B\", \"#00cc96\", \"#ab63fa\", \"#FFA15A\", \"#19d3f3\", \"#FF6692\", \"#B6E880\", \"#FF97FF\", \"#FECB52\"], \"font\": {\"color\": \"#2a3f5f\"}, \"geo\": {\"bgcolor\": \"white\", \"lakecolor\": \"white\", \"landcolor\": \"#E5ECF6\", \"showlakes\": true, \"showland\": true, \"subunitcolor\": \"white\"}, \"hoverlabel\": {\"align\": \"left\"}, \"hovermode\": \"closest\", \"mapbox\": {\"style\": \"light\"}, \"paper_bgcolor\": \"white\", \"plot_bgcolor\": \"#E5ECF6\", \"polar\": {\"angularaxis\": {\"gridcolor\": \"white\", \"linecolor\": \"white\", \"ticks\": \"\"}, \"bgcolor\": \"#E5ECF6\", \"radialaxis\": {\"gridcolor\": \"white\", \"linecolor\": \"white\", \"ticks\": \"\"}}, \"scene\": {\"xaxis\": {\"backgroundcolor\": \"#E5ECF6\", \"gridcolor\": \"white\", \"gridwidth\": 2, \"linecolor\": \"white\", \"showbackground\": true, \"ticks\": \"\", \"zerolinecolor\": \"white\"}, \"yaxis\": {\"backgroundcolor\": \"#E5ECF6\", \"gridcolor\": \"white\", \"gridwidth\": 2, \"linecolor\": \"white\", \"showbackground\": true, \"ticks\": \"\", \"zerolinecolor\": \"white\"}, \"zaxis\": {\"backgroundcolor\": \"#E5ECF6\", \"gridcolor\": \"white\", \"gridwidth\": 2, \"linecolor\": \"white\", \"showbackground\": true, \"ticks\": \"\", \"zerolinecolor\": \"white\"}}, \"shapedefaults\": {\"line\": {\"color\": \"#2a3f5f\"}}, \"ternary\": {\"aaxis\": {\"gridcolor\": \"white\", \"linecolor\": \"white\", \"ticks\": \"\"}, \"baxis\": {\"gridcolor\": \"white\", \"linecolor\": \"white\", \"ticks\": \"\"}, \"bgcolor\": \"#E5ECF6\", \"caxis\": {\"gridcolor\": \"white\", \"linecolor\": \"white\", \"ticks\": \"\"}}, \"title\": {\"x\": 0.05}, \"xaxis\": {\"automargin\": true, \"gridcolor\": \"white\", \"linecolor\": \"white\", \"ticks\": \"\", \"title\": {\"standoff\": 15}, \"zerolinecolor\": \"white\", \"zerolinewidth\": 2}, \"yaxis\": {\"automargin\": true, \"gridcolor\": \"white\", \"linecolor\": \"white\", \"ticks\": \"\", \"title\": {\"standoff\": 15}, \"zerolinecolor\": \"white\", \"zerolinewidth\": 2}}}, \"title\": {\"text\": \"Spread in China over time\"}, \"updatemenus\": [{\"buttons\": [{\"args\": [null, {\"frame\": {\"duration\": 500, \"redraw\": true}, \"fromcurrent\": true, \"mode\": \"immediate\", \"transition\": {\"duration\": 500, \"easing\": \"linear\"}}], \"label\": \"&#9654;\", \"method\": \"animate\"}, {\"args\": [[null], {\"frame\": {\"duration\": 0, \"redraw\": true}, \"fromcurrent\": true, \"mode\": \"immediate\", \"transition\": {\"duration\": 0, \"easing\": \"linear\"}}], \"label\": \"&#9724;\", \"method\": \"animate\"}], \"direction\": \"left\", \"pad\": {\"r\": 10, \"t\": 70}, \"showactive\": false, \"type\": \"buttons\", \"x\": 0.1, \"xanchor\": \"right\", \"y\": 0, \"yanchor\": \"top\"}]},\n",
       "                        {\"responsive\": true}\n",
       "                    ).then(function(){\n",
       "                            Plotly.addFrames('d9b1d986-ccff-4ef2-8121-d6a11d7913d8', [{\"data\": [{\"customdata\": [[1.0, 0.0, 0.0], [14.0, 0.0, 0.0], [6.0, 0.0, 0.0], [1.0, 0.0, 0.0], [0.0, 0.0, 0.0], [26.0, 0.0, 0.0], [2.0, 0.0, 0.0], [1.0, 0.0, 0.0], [4.0, 0.0, 0.0], [1.0, 0.0, 0.0], [0.0, 0.0, 0.0], [5.0, 0.0, 0.0], [444.0, 17.0, 28.0], [4.0, 0.0, 0.0], [0.0, 0.0, 0.0], [1.0, 0.0, 0.0], [2.0, 0.0, 0.0], [0.0, 0.0, 0.0], [2.0, 0.0, 0.0], [1.0, 0.0, 0.0], [0.0, 0.0, 0.0], [0.0, 0.0, 0.0], [2.0, 0.0, 0.0], [9.0, 0.0, 0.0], [1.0, 0.0, 0.0], [5.0, 0.0, 0.0], [4.0, 0.0, 0.0], [0.0, 0.0, 0.0], [0.0, 0.0, 0.0], [1.0, 0.0, 0.0], [10.0, 0.0, 0.0]], \"geo\": \"geo\", \"hoverlabel\": {\"namelength\": 0}, \"hovertemplate\": \"<b>%{hovertext}</b><br><br>Date=01/22/2020<br>size=%{marker.color}<br>Confirmed=%{customdata[0]}<br>Deaths=%{customdata[1]}<br>Recovered=%{customdata[2]}<br>Lat=%{lat}<br>Long=%{lon}\", \"hovertext\": [\"Anhui\", \"Beijing\", \"Chongqing\", \"Fujian\", \"Gansu\", \"Guangdong\", \"Guangxi\", \"Guizhou\", \"Hainan\", \"Hebei\", \"Heilongjiang\", \"Henan\", \"Hubei\", \"Hunan\", \"Inner Mongolia\", \"Jiangsu\", \"Jiangxi\", \"Jilin\", \"Liaoning\", \"Ningxia\", \"Qinghai\", \"Shaanxi\", \"Shandong\", \"Shanghai\", \"Shanxi\", \"Sichuan\", \"Tianjin\", \"Tibet\", \"Xinjiang\", \"Yunnan\", \"Zhejiang\"], \"lat\": [31.82571, 40.18238, 30.05718, 26.07783, 36.0611, 23.33841, 23.82908, 26.81536, 19.19673, 38.0428, 47.862, 33.882020000000004, 30.97564, 27.61041, 44.09448, 32.97027, 27.61401, 43.66657, 41.29284000000001, 37.26923, 35.65945, 35.19165, 36.34377, 31.20327, 37.57769, 30.617140000000006, 39.29362, 30.1534, 41.11981, 24.97411, 29.18251], \"legendgroup\": \"\", \"lon\": [117.2264, 116.4142, 107.874, 117.9895, 103.8343, 113.422, 108.7881, 106.8748, 109.7455, 114.5149, 127.7622, 113.614, 112.2707, 111.7088, 113.9456, 119.464, 115.7221, 126.1917, 122.6086, 106.1655, 96.02564, 108.8701, 118.1529, 121.4554, 112.2922, 102.7103, 117.333, 88.7879, 85.17822, 101.4868, 120.0985], \"marker\": {\"color\": [1.0, 3.7416573867739413, 2.449489742783178, 1.0, 0.0, 5.0990195135927845, 1.4142135623730951, 1.0, 2.0, 1.0, 0.0, 2.23606797749979, 21.071307505705477, 2.0, 0.0, 1.0, 1.4142135623730951, 0.0, 1.4142135623730951, 1.0, 0.0, 0.0, 1.4142135623730951, 3.0, 1.0, 2.23606797749979, 2.0, 0.0, 0.0, 1.0, 3.1622776601683795], \"coloraxis\": \"coloraxis\", \"size\": [1.0, 3.7416573867739413, 2.449489742783178, 1.0, 0.0, 5.0990195135927845, 1.4142135623730951, 1.0, 2.0, 1.0, 0.0, 2.23606797749979, 21.071307505705477, 2.0, 0.0, 1.0, 1.4142135623730951, 0.0, 1.4142135623730951, 1.0, 0.0, 0.0, 1.4142135623730951, 3.0, 1.0, 2.23606797749979, 2.0, 0.0, 0.0, 1.0, 3.1622776601683795], \"sizemode\": \"area\", \"sizeref\": 0.603023631377743}, \"name\": \"\", \"showlegend\": false, \"type\": \"scattergeo\"}], \"name\": \"01/22/2020\"}, {\"data\": [{\"customdata\": [[9.0, 0.0, 0.0], [22.0, 0.0, 0.0], [9.0, 0.0, 0.0], [5.0, 0.0, 0.0], [2.0, 0.0, 0.0], [32.0, 0.0, 2.0], [5.0, 0.0, 0.0], [3.0, 0.0, 0.0], [5.0, 0.0, 0.0], [1.0, 1.0, 0.0], [2.0, 0.0, 0.0], [5.0, 0.0, 0.0], [444.0, 17.0, 28.0], [9.0, 0.0, 0.0], [0.0, 0.0, 0.0], [5.0, 0.0, 0.0], [7.0, 0.0, 0.0], [1.0, 0.0, 0.0], [3.0, 0.0, 0.0], [1.0, 0.0, 0.0], [0.0, 0.0, 0.0], [3.0, 0.0, 0.0], [6.0, 0.0, 0.0], [16.0, 0.0, 0.0], [1.0, 0.0, 0.0], [8.0, 0.0, 0.0], [4.0, 0.0, 0.0], [0.0, 0.0, 0.0], [2.0, 0.0, 0.0], [2.0, 0.0, 0.0], [27.0, 0.0, 0.0]], \"geo\": \"geo\", \"hoverlabel\": {\"namelength\": 0}, \"hovertemplate\": \"<b>%{hovertext}</b><br><br>Date=01/23/2020<br>size=%{marker.color}<br>Confirmed=%{customdata[0]}<br>Deaths=%{customdata[1]}<br>Recovered=%{customdata[2]}<br>Lat=%{lat}<br>Long=%{lon}\", \"hovertext\": [\"Anhui\", \"Beijing\", \"Chongqing\", \"Fujian\", \"Gansu\", \"Guangdong\", \"Guangxi\", \"Guizhou\", \"Hainan\", \"Hebei\", \"Heilongjiang\", \"Henan\", \"Hubei\", \"Hunan\", \"Inner Mongolia\", \"Jiangsu\", \"Jiangxi\", \"Jilin\", \"Liaoning\", \"Ningxia\", \"Qinghai\", \"Shaanxi\", \"Shandong\", \"Shanghai\", \"Shanxi\", \"Sichuan\", \"Tianjin\", \"Tibet\", \"Xinjiang\", \"Yunnan\", \"Zhejiang\"], \"lat\": [31.82571, 40.18238, 30.05718, 26.07783, 36.0611, 23.33841, 23.82908, 26.81536, 19.19673, 38.0428, 47.862, 33.882020000000004, 30.97564, 27.61041, 44.09448, 32.97027, 27.61401, 43.66657, 41.29284000000001, 37.26923, 35.65945, 35.19165, 36.34377, 31.20327, 37.57769, 30.617140000000006, 39.29362, 30.1534, 41.11981, 24.97411, 29.18251], \"legendgroup\": \"\", \"lon\": [117.2264, 116.4142, 107.874, 117.9895, 103.8343, 113.422, 108.7881, 106.8748, 109.7455, 114.5149, 127.7622, 113.614, 112.2707, 111.7088, 113.9456, 119.464, 115.7221, 126.1917, 122.6086, 106.1655, 96.02564, 108.8701, 118.1529, 121.4554, 112.2922, 102.7103, 117.333, 88.7879, 85.17822, 101.4868, 120.0985], \"marker\": {\"color\": [3.0, 4.69041575982343, 3.0, 2.23606797749979, 1.4142135623730951, 5.656854249492381, 2.23606797749979, 1.7320508075688772, 2.23606797749979, 1.0, 1.4142135623730951, 2.23606797749979, 21.071307505705477, 3.0, 0.0, 2.23606797749979, 2.6457513110645907, 1.0, 1.7320508075688772, 1.0, 0.0, 1.7320508075688772, 2.449489742783178, 4.0, 1.0, 2.8284271247461903, 2.0, 0.0, 1.4142135623730951, 1.4142135623730951, 5.196152422706632], \"coloraxis\": \"coloraxis\", \"size\": [3.0, 4.69041575982343, 3.0, 2.23606797749979, 1.4142135623730951, 5.656854249492381, 2.23606797749979, 1.7320508075688772, 2.23606797749979, 1.0, 1.4142135623730951, 2.23606797749979, 21.071307505705477, 3.0, 0.0, 2.23606797749979, 2.6457513110645907, 1.0, 1.7320508075688772, 1.0, 0.0, 1.7320508075688772, 2.449489742783178, 4.0, 1.0, 2.8284271247461903, 2.0, 0.0, 1.4142135623730951, 1.4142135623730951, 5.196152422706632], \"sizemode\": \"area\", \"sizeref\": 0.603023631377743}, \"name\": \"\", \"showlegend\": false, \"type\": \"scattergeo\"}], \"name\": \"01/23/2020\"}, {\"data\": [{\"customdata\": [[15.0, 0.0, 0.0], [36.0, 0.0, 1.0], [27.0, 0.0, 0.0], [10.0, 0.0, 0.0], [2.0, 0.0, 0.0], [53.0, 0.0, 2.0], [23.0, 0.0, 0.0], [3.0, 0.0, 0.0], [8.0, 0.0, 0.0], [2.0, 1.0, 0.0], [4.0, 1.0, 0.0], [9.0, 0.0, 0.0], [549.0, 24.0, 31.0], [24.0, 0.0, 0.0], [1.0, 0.0, 0.0], [9.0, 0.0, 0.0], [18.0, 0.0, 0.0], [3.0, 0.0, 0.0], [4.0, 0.0, 0.0], [2.0, 0.0, 0.0], [0.0, 0.0, 0.0], [5.0, 0.0, 0.0], [15.0, 0.0, 0.0], [20.0, 0.0, 1.0], [1.0, 0.0, 0.0], [15.0, 0.0, 0.0], [8.0, 0.0, 0.0], [0.0, 0.0, 0.0], [2.0, 0.0, 0.0], [5.0, 0.0, 0.0], [43.0, 0.0, 1.0]], \"geo\": \"geo\", \"hoverlabel\": {\"namelength\": 0}, \"hovertemplate\": \"<b>%{hovertext}</b><br><br>Date=01/24/2020<br>size=%{marker.color}<br>Confirmed=%{customdata[0]}<br>Deaths=%{customdata[1]}<br>Recovered=%{customdata[2]}<br>Lat=%{lat}<br>Long=%{lon}\", \"hovertext\": [\"Anhui\", \"Beijing\", \"Chongqing\", \"Fujian\", \"Gansu\", \"Guangdong\", \"Guangxi\", \"Guizhou\", \"Hainan\", \"Hebei\", \"Heilongjiang\", \"Henan\", \"Hubei\", \"Hunan\", \"Inner Mongolia\", \"Jiangsu\", \"Jiangxi\", \"Jilin\", \"Liaoning\", \"Ningxia\", \"Qinghai\", \"Shaanxi\", \"Shandong\", \"Shanghai\", \"Shanxi\", \"Sichuan\", \"Tianjin\", \"Tibet\", \"Xinjiang\", \"Yunnan\", \"Zhejiang\"], \"lat\": [31.82571, 40.18238, 30.05718, 26.07783, 36.0611, 23.33841, 23.82908, 26.81536, 19.19673, 38.0428, 47.862, 33.882020000000004, 30.97564, 27.61041, 44.09448, 32.97027, 27.61401, 43.66657, 41.29284000000001, 37.26923, 35.65945, 35.19165, 36.34377, 31.20327, 37.57769, 30.617140000000006, 39.29362, 30.1534, 41.11981, 24.97411, 29.18251], \"legendgroup\": \"\", \"lon\": [117.2264, 116.4142, 107.874, 117.9895, 103.8343, 113.422, 108.7881, 106.8748, 109.7455, 114.5149, 127.7622, 113.614, 112.2707, 111.7088, 113.9456, 119.464, 115.7221, 126.1917, 122.6086, 106.1655, 96.02564, 108.8701, 118.1529, 121.4554, 112.2922, 102.7103, 117.333, 88.7879, 85.17822, 101.4868, 120.0985], \"marker\": {\"color\": [3.872983346207417, 6.0, 5.196152422706632, 3.1622776601683795, 1.4142135623730951, 7.280109889280518, 4.795831523312719, 1.7320508075688772, 2.8284271247461903, 1.4142135623730951, 2.0, 3.0, 23.430749027719962, 4.898979485566356, 1.0, 3.0, 4.242640687119285, 1.7320508075688772, 2.0, 1.4142135623730951, 0.0, 2.23606797749979, 3.872983346207417, 4.47213595499958, 1.0, 3.872983346207417, 2.8284271247461903, 0.0, 1.4142135623730951, 2.23606797749979, 6.557438524302], \"coloraxis\": \"coloraxis\", \"size\": [3.872983346207417, 6.0, 5.196152422706632, 3.1622776601683795, 1.4142135623730951, 7.280109889280518, 4.795831523312719, 1.7320508075688772, 2.8284271247461903, 1.4142135623730951, 2.0, 3.0, 23.430749027719962, 4.898979485566356, 1.0, 3.0, 4.242640687119285, 1.7320508075688772, 2.0, 1.4142135623730951, 0.0, 2.23606797749979, 3.872983346207417, 4.47213595499958, 1.0, 3.872983346207417, 2.8284271247461903, 0.0, 1.4142135623730951, 2.23606797749979, 6.557438524302], \"sizemode\": \"area\", \"sizeref\": 0.603023631377743}, \"name\": \"\", \"showlegend\": false, \"type\": \"scattergeo\"}], \"name\": \"01/24/2020\"}, {\"data\": [{\"customdata\": [[39.0, 0.0, 0.0], [41.0, 0.0, 2.0], [57.0, 0.0, 0.0], [18.0, 0.0, 0.0], [4.0, 0.0, 0.0], [78.0, 0.0, 2.0], [23.0, 0.0, 0.0], [4.0, 0.0, 0.0], [19.0, 0.0, 0.0], [8.0, 1.0, 0.0], [9.0, 1.0, 0.0], [32.0, 0.0, 0.0], [761.0, 40.0, 32.0], [43.0, 0.0, 0.0], [7.0, 0.0, 0.0], [18.0, 0.0, 1.0], [18.0, 0.0, 0.0], [4.0, 0.0, 0.0], [17.0, 0.0, 0.0], [3.0, 0.0, 0.0], [1.0, 0.0, 0.0], [15.0, 0.0, 0.0], [27.0, 0.0, 0.0], [33.0, 0.0, 1.0], [6.0, 0.0, 0.0], [28.0, 0.0, 0.0], [10.0, 0.0, 0.0], [0.0, 0.0, 0.0], [3.0, 0.0, 0.0], [11.0, 0.0, 0.0], [62.0, 0.0, 1.0]], \"geo\": \"geo\", \"hoverlabel\": {\"namelength\": 0}, \"hovertemplate\": \"<b>%{hovertext}</b><br><br>Date=01/25/2020<br>size=%{marker.color}<br>Confirmed=%{customdata[0]}<br>Deaths=%{customdata[1]}<br>Recovered=%{customdata[2]}<br>Lat=%{lat}<br>Long=%{lon}\", \"hovertext\": [\"Anhui\", \"Beijing\", \"Chongqing\", \"Fujian\", \"Gansu\", \"Guangdong\", \"Guangxi\", \"Guizhou\", \"Hainan\", \"Hebei\", \"Heilongjiang\", \"Henan\", \"Hubei\", \"Hunan\", \"Inner Mongolia\", \"Jiangsu\", \"Jiangxi\", \"Jilin\", \"Liaoning\", \"Ningxia\", \"Qinghai\", \"Shaanxi\", \"Shandong\", \"Shanghai\", \"Shanxi\", \"Sichuan\", \"Tianjin\", \"Tibet\", \"Xinjiang\", \"Yunnan\", \"Zhejiang\"], \"lat\": [31.82571, 40.18238, 30.05718, 26.07783, 36.0611, 23.33841, 23.82908, 26.81536, 19.19673, 38.0428, 47.862, 33.882020000000004, 30.97564, 27.61041, 44.09448, 32.97027, 27.61401, 43.66657, 41.29284000000001, 37.26923, 35.65945, 35.19165, 36.34377, 31.20327, 37.57769, 30.617140000000006, 39.29362, 30.1534, 41.11981, 24.97411, 29.18251], \"legendgroup\": \"\", \"lon\": [117.2264, 116.4142, 107.874, 117.9895, 103.8343, 113.422, 108.7881, 106.8748, 109.7455, 114.5149, 127.7622, 113.614, 112.2707, 111.7088, 113.9456, 119.464, 115.7221, 126.1917, 122.6086, 106.1655, 96.02564, 108.8701, 118.1529, 121.4554, 112.2922, 102.7103, 117.333, 88.7879, 85.17822, 101.4868, 120.0985], \"marker\": {\"color\": [6.244997998398398, 6.4031242374328485, 7.54983443527075, 4.242640687119285, 2.0, 8.831760866327848, 4.795831523312719, 2.0, 4.358898943540674, 2.8284271247461903, 3.0, 5.656854249492381, 27.586228448267445, 6.557438524302, 2.6457513110645907, 4.242640687119285, 4.242640687119285, 2.0, 4.123105625617661, 1.7320508075688772, 1.0, 3.872983346207417, 5.196152422706632, 5.744562646538029, 2.449489742783178, 5.291502622129181, 3.1622776601683795, 0.0, 1.7320508075688772, 3.3166247903554, 7.874007874011811], \"coloraxis\": \"coloraxis\", \"size\": [6.244997998398398, 6.4031242374328485, 7.54983443527075, 4.242640687119285, 2.0, 8.831760866327848, 4.795831523312719, 2.0, 4.358898943540674, 2.8284271247461903, 3.0, 5.656854249492381, 27.586228448267445, 6.557438524302, 2.6457513110645907, 4.242640687119285, 4.242640687119285, 2.0, 4.123105625617661, 1.7320508075688772, 1.0, 3.872983346207417, 5.196152422706632, 5.744562646538029, 2.449489742783178, 5.291502622129181, 3.1622776601683795, 0.0, 1.7320508075688772, 3.3166247903554, 7.874007874011811], \"sizemode\": \"area\", \"sizeref\": 0.603023631377743}, \"name\": \"\", \"showlegend\": false, \"type\": \"scattergeo\"}], \"name\": \"01/25/2020\"}, {\"data\": [{\"customdata\": [[60.0, 0.0, 0.0], [68.0, 0.0, 2.0], [75.0, 0.0, 0.0], [35.0, 0.0, 0.0], [7.0, 0.0, 0.0], [111.0, 0.0, 2.0], [36.0, 0.0, 0.0], [5.0, 0.0, 0.0], [22.0, 0.0, 0.0], [13.0, 1.0, 0.0], [15.0, 1.0, 0.0], [83.0, 1.0, 0.0], [1058.0, 52.0, 42.0], [69.0, 0.0, 0.0], [7.0, 0.0, 0.0], [33.0, 0.0, 1.0], [36.0, 0.0, 0.0], [4.0, 0.0, 0.0], [21.0, 0.0, 0.0], [4.0, 0.0, 0.0], [1.0, 0.0, 0.0], [22.0, 0.0, 0.0], [46.0, 0.0, 0.0], [40.0, 1.0, 1.0], [9.0, 0.0, 0.0], [44.0, 0.0, 0.0], [14.0, 0.0, 0.0], [0.0, 0.0, 0.0], [4.0, 0.0, 0.0], [16.0, 0.0, 0.0], [104.0, 0.0, 1.0]], \"geo\": \"geo\", \"hoverlabel\": {\"namelength\": 0}, \"hovertemplate\": \"<b>%{hovertext}</b><br><br>Date=01/26/2020<br>size=%{marker.color}<br>Confirmed=%{customdata[0]}<br>Deaths=%{customdata[1]}<br>Recovered=%{customdata[2]}<br>Lat=%{lat}<br>Long=%{lon}\", \"hovertext\": [\"Anhui\", \"Beijing\", \"Chongqing\", \"Fujian\", \"Gansu\", \"Guangdong\", \"Guangxi\", \"Guizhou\", \"Hainan\", \"Hebei\", \"Heilongjiang\", \"Henan\", \"Hubei\", \"Hunan\", \"Inner Mongolia\", \"Jiangsu\", \"Jiangxi\", \"Jilin\", \"Liaoning\", \"Ningxia\", \"Qinghai\", \"Shaanxi\", \"Shandong\", \"Shanghai\", \"Shanxi\", \"Sichuan\", \"Tianjin\", \"Tibet\", \"Xinjiang\", \"Yunnan\", \"Zhejiang\"], \"lat\": [31.82571, 40.18238, 30.05718, 26.07783, 36.0611, 23.33841, 23.82908, 26.81536, 19.19673, 38.0428, 47.862, 33.882020000000004, 30.97564, 27.61041, 44.09448, 32.97027, 27.61401, 43.66657, 41.29284000000001, 37.26923, 35.65945, 35.19165, 36.34377, 31.20327, 37.57769, 30.617140000000006, 39.29362, 30.1534, 41.11981, 24.97411, 29.18251], \"legendgroup\": \"\", \"lon\": [117.2264, 116.4142, 107.874, 117.9895, 103.8343, 113.422, 108.7881, 106.8748, 109.7455, 114.5149, 127.7622, 113.614, 112.2707, 111.7088, 113.9456, 119.464, 115.7221, 126.1917, 122.6086, 106.1655, 96.02564, 108.8701, 118.1529, 121.4554, 112.2922, 102.7103, 117.333, 88.7879, 85.17822, 101.4868, 120.0985], \"marker\": {\"color\": [7.745966692414834, 8.246211251235321, 8.660254037844387, 5.916079783099616, 2.6457513110645907, 10.535653752852738, 6.0, 2.23606797749979, 4.69041575982343, 3.605551275463989, 3.872983346207417, 9.1104335791443, 32.526911934581186, 8.306623862918075, 2.6457513110645907, 5.744562646538029, 6.0, 2.0, 4.58257569495584, 2.0, 1.0, 4.69041575982343, 6.782329983125268, 6.324555320336759, 3.0, 6.6332495807108, 3.7416573867739413, 0.0, 2.0, 4.0, 10.198039027185569], \"coloraxis\": \"coloraxis\", \"size\": [7.745966692414834, 8.246211251235321, 8.660254037844387, 5.916079783099616, 2.6457513110645907, 10.535653752852738, 6.0, 2.23606797749979, 4.69041575982343, 3.605551275463989, 3.872983346207417, 9.1104335791443, 32.526911934581186, 8.306623862918075, 2.6457513110645907, 5.744562646538029, 6.0, 2.0, 4.58257569495584, 2.0, 1.0, 4.69041575982343, 6.782329983125268, 6.324555320336759, 3.0, 6.6332495807108, 3.7416573867739413, 0.0, 2.0, 4.0, 10.198039027185569], \"sizemode\": \"area\", \"sizeref\": 0.603023631377743}, \"name\": \"\", \"showlegend\": false, \"type\": \"scattergeo\"}], \"name\": \"01/26/2020\"}, {\"data\": [{\"customdata\": [[70.0, 0.0, 0.0], [80.0, 1.0, 2.0], [110.0, 0.0, 0.0], [59.0, 0.0, 0.0], [14.0, 0.0, 0.0], [151.0, 0.0, 4.0], [46.0, 0.0, 0.0], [7.0, 0.0, 0.0], [33.0, 1.0, 0.0], [18.0, 1.0, 0.0], [21.0, 1.0, 0.0], [128.0, 1.0, 0.0], [1423.0, 76.0, 45.0], [100.0, 0.0, 0.0], [11.0, 0.0, 0.0], [47.0, 0.0, 1.0], [72.0, 0.0, 2.0], [6.0, 0.0, 0.0], [27.0, 0.0, 0.0], [7.0, 0.0, 0.0], [6.0, 0.0, 0.0], [35.0, 0.0, 0.0], [75.0, 0.0, 0.0], [53.0, 1.0, 3.0], [13.0, 0.0, 0.0], [69.0, 0.0, 0.0], [23.0, 0.0, 0.0], [0.0, 0.0, 0.0], [5.0, 0.0, 0.0], [26.0, 0.0, 0.0], [128.0, 0.0, 1.0]], \"geo\": \"geo\", \"hoverlabel\": {\"namelength\": 0}, \"hovertemplate\": \"<b>%{hovertext}</b><br><br>Date=01/27/2020<br>size=%{marker.color}<br>Confirmed=%{customdata[0]}<br>Deaths=%{customdata[1]}<br>Recovered=%{customdata[2]}<br>Lat=%{lat}<br>Long=%{lon}\", \"hovertext\": [\"Anhui\", \"Beijing\", \"Chongqing\", \"Fujian\", \"Gansu\", \"Guangdong\", \"Guangxi\", \"Guizhou\", \"Hainan\", \"Hebei\", \"Heilongjiang\", \"Henan\", \"Hubei\", \"Hunan\", \"Inner Mongolia\", \"Jiangsu\", \"Jiangxi\", \"Jilin\", \"Liaoning\", \"Ningxia\", \"Qinghai\", \"Shaanxi\", \"Shandong\", \"Shanghai\", \"Shanxi\", \"Sichuan\", \"Tianjin\", \"Tibet\", \"Xinjiang\", \"Yunnan\", \"Zhejiang\"], \"lat\": [31.82571, 40.18238, 30.05718, 26.07783, 36.0611, 23.33841, 23.82908, 26.81536, 19.19673, 38.0428, 47.862, 33.882020000000004, 30.97564, 27.61041, 44.09448, 32.97027, 27.61401, 43.66657, 41.29284000000001, 37.26923, 35.65945, 35.19165, 36.34377, 31.20327, 37.57769, 30.617140000000006, 39.29362, 30.1534, 41.11981, 24.97411, 29.18251], \"legendgroup\": \"\", \"lon\": [117.2264, 116.4142, 107.874, 117.9895, 103.8343, 113.422, 108.7881, 106.8748, 109.7455, 114.5149, 127.7622, 113.614, 112.2707, 111.7088, 113.9456, 119.464, 115.7221, 126.1917, 122.6086, 106.1655, 96.02564, 108.8701, 118.1529, 121.4554, 112.2922, 102.7103, 117.333, 88.7879, 85.17822, 101.4868, 120.0985], \"marker\": {\"color\": [8.366600265340756, 8.94427190999916, 10.488088481701515, 7.681145747868608, 3.7416573867739413, 12.288205727444508, 6.782329983125268, 2.6457513110645907, 5.744562646538029, 4.242640687119285, 4.58257569495584, 11.313708498984761, 37.72267222772003, 10.0, 3.3166247903554, 6.855654600401044, 8.48528137423857, 2.449489742783178, 5.196152422706632, 2.6457513110645907, 2.449489742783178, 5.916079783099616, 8.660254037844387, 7.280109889280518, 3.605551275463989, 8.306623862918075, 4.795831523312719, 0.0, 2.23606797749979, 5.0990195135927845, 11.313708498984761], \"coloraxis\": \"coloraxis\", \"size\": [8.366600265340756, 8.94427190999916, 10.488088481701515, 7.681145747868608, 3.7416573867739413, 12.288205727444508, 6.782329983125268, 2.6457513110645907, 5.744562646538029, 4.242640687119285, 4.58257569495584, 11.313708498984761, 37.72267222772003, 10.0, 3.3166247903554, 6.855654600401044, 8.48528137423857, 2.449489742783178, 5.196152422706632, 2.6457513110645907, 2.449489742783178, 5.916079783099616, 8.660254037844387, 7.280109889280518, 3.605551275463989, 8.306623862918075, 4.795831523312719, 0.0, 2.23606797749979, 5.0990195135927845, 11.313708498984761], \"sizemode\": \"area\", \"sizeref\": 0.603023631377743}, \"name\": \"\", \"showlegend\": false, \"type\": \"scattergeo\"}], \"name\": \"01/27/2020\"}, {\"data\": [{\"customdata\": [[106.0, 0.0, 0.0], [91.0, 1.0, 4.0], [132.0, 0.0, 0.0], [80.0, 0.0, 0.0], [19.0, 0.0, 0.0], [207.0, 0.0, 4.0], [51.0, 0.0, 2.0], [9.0, 0.0, 0.0], [40.0, 1.0, 0.0], [33.0, 1.0, 0.0], [33.0, 1.0, 0.0], [168.0, 1.0, 0.0], [3554.0, 125.0, 80.0], [143.0, 0.0, 0.0], [15.0, 0.0, 0.0], [70.0, 0.0, 1.0], [109.0, 0.0, 3.0], [8.0, 0.0, 0.0], [34.0, 0.0, 0.0], [11.0, 0.0, 0.0], [6.0, 0.0, 0.0], [46.0, 0.0, 0.0], [95.0, 0.0, 0.0], [66.0, 1.0, 4.0], [27.0, 0.0, 0.0], [90.0, 0.0, 0.0], [24.0, 0.0, 0.0], [0.0, 0.0, 0.0], [10.0, 0.0, 0.0], [44.0, 0.0, 0.0], [173.0, 0.0, 3.0]], \"geo\": \"geo\", \"hoverlabel\": {\"namelength\": 0}, \"hovertemplate\": \"<b>%{hovertext}</b><br><br>Date=01/28/2020<br>size=%{marker.color}<br>Confirmed=%{customdata[0]}<br>Deaths=%{customdata[1]}<br>Recovered=%{customdata[2]}<br>Lat=%{lat}<br>Long=%{lon}\", \"hovertext\": [\"Anhui\", \"Beijing\", \"Chongqing\", \"Fujian\", \"Gansu\", \"Guangdong\", \"Guangxi\", \"Guizhou\", \"Hainan\", \"Hebei\", \"Heilongjiang\", \"Henan\", \"Hubei\", \"Hunan\", \"Inner Mongolia\", \"Jiangsu\", \"Jiangxi\", \"Jilin\", \"Liaoning\", \"Ningxia\", \"Qinghai\", \"Shaanxi\", \"Shandong\", \"Shanghai\", \"Shanxi\", \"Sichuan\", \"Tianjin\", \"Tibet\", \"Xinjiang\", \"Yunnan\", \"Zhejiang\"], \"lat\": [31.82571, 40.18238, 30.05718, 26.07783, 36.0611, 23.33841, 23.82908, 26.81536, 19.19673, 38.0428, 47.862, 33.882020000000004, 30.97564, 27.61041, 44.09448, 32.97027, 27.61401, 43.66657, 41.29284000000001, 37.26923, 35.65945, 35.19165, 36.34377, 31.20327, 37.57769, 30.617140000000006, 39.29362, 30.1534, 41.11981, 24.97411, 29.18251], \"legendgroup\": \"\", \"lon\": [117.2264, 116.4142, 107.874, 117.9895, 103.8343, 113.422, 108.7881, 106.8748, 109.7455, 114.5149, 127.7622, 113.614, 112.2707, 111.7088, 113.9456, 119.464, 115.7221, 126.1917, 122.6086, 106.1655, 96.02564, 108.8701, 118.1529, 121.4554, 112.2922, 102.7103, 117.333, 88.7879, 85.17822, 101.4868, 120.0985], \"marker\": {\"color\": [10.295630140987, 9.539392014169456, 11.489125293076057, 8.94427190999916, 4.358898943540674, 14.38749456993816, 7.14142842854285, 3.0, 6.324555320336759, 5.744562646538029, 5.744562646538029, 12.96148139681572, 59.61543424315552, 11.958260743101398, 3.872983346207417, 8.366600265340756, 10.44030650891055, 2.8284271247461903, 5.830951894845301, 3.3166247903554, 2.449489742783178, 6.782329983125268, 9.746794344808963, 8.12403840463596, 5.196152422706632, 9.486832980505138, 4.898979485566356, 0.0, 3.1622776601683795, 6.6332495807108, 13.152946437965905], \"coloraxis\": \"coloraxis\", \"size\": [10.295630140987, 9.539392014169456, 11.489125293076057, 8.94427190999916, 4.358898943540674, 14.38749456993816, 7.14142842854285, 3.0, 6.324555320336759, 5.744562646538029, 5.744562646538029, 12.96148139681572, 59.61543424315552, 11.958260743101398, 3.872983346207417, 8.366600265340756, 10.44030650891055, 2.8284271247461903, 5.830951894845301, 3.3166247903554, 2.449489742783178, 6.782329983125268, 9.746794344808963, 8.12403840463596, 5.196152422706632, 9.486832980505138, 4.898979485566356, 0.0, 3.1622776601683795, 6.6332495807108, 13.152946437965905], \"sizemode\": \"area\", \"sizeref\": 0.603023631377743}, \"name\": \"\", \"showlegend\": false, \"type\": \"scattergeo\"}], \"name\": \"01/28/2020\"}, {\"data\": [{\"customdata\": [[152.0, 0.0, 2.0], [111.0, 1.0, 4.0], [147.0, 0.0, 1.0], [84.0, 0.0, 0.0], [24.0, 0.0, 0.0], [277.0, 0.0, 5.0], [58.0, 0.0, 2.0], [9.0, 0.0, 1.0], [43.0, 1.0, 0.0], [48.0, 1.0, 0.0], [38.0, 1.0, 0.0], [206.0, 2.0, 1.0], [3554.0, 125.0, 88.0], [221.0, 0.0, 0.0], [16.0, 0.0, 0.0], [99.0, 0.0, 1.0], [109.0, 0.0, 3.0], [9.0, 0.0, 0.0], [39.0, 0.0, 1.0], [12.0, 0.0, 0.0], [6.0, 0.0, 0.0], [56.0, 0.0, 0.0], [130.0, 0.0, 1.0], [96.0, 1.0, 5.0], [27.0, 0.0, 1.0], [108.0, 1.0, 1.0], [27.0, 0.0, 0.0], [0.0, 0.0, 0.0], [13.0, 0.0, 0.0], [55.0, 0.0, 0.0], [296.0, 0.0, 3.0]], \"geo\": \"geo\", \"hoverlabel\": {\"namelength\": 0}, \"hovertemplate\": \"<b>%{hovertext}</b><br><br>Date=01/29/2020<br>size=%{marker.color}<br>Confirmed=%{customdata[0]}<br>Deaths=%{customdata[1]}<br>Recovered=%{customdata[2]}<br>Lat=%{lat}<br>Long=%{lon}\", \"hovertext\": [\"Anhui\", \"Beijing\", \"Chongqing\", \"Fujian\", \"Gansu\", \"Guangdong\", \"Guangxi\", \"Guizhou\", \"Hainan\", \"Hebei\", \"Heilongjiang\", \"Henan\", \"Hubei\", \"Hunan\", \"Inner Mongolia\", \"Jiangsu\", \"Jiangxi\", \"Jilin\", \"Liaoning\", \"Ningxia\", \"Qinghai\", \"Shaanxi\", \"Shandong\", \"Shanghai\", \"Shanxi\", \"Sichuan\", \"Tianjin\", \"Tibet\", \"Xinjiang\", \"Yunnan\", \"Zhejiang\"], \"lat\": [31.82571, 40.18238, 30.05718, 26.07783, 36.0611, 23.33841, 23.82908, 26.81536, 19.19673, 38.0428, 47.862, 33.882020000000004, 30.97564, 27.61041, 44.09448, 32.97027, 27.61401, 43.66657, 41.29284000000001, 37.26923, 35.65945, 35.19165, 36.34377, 31.20327, 37.57769, 30.617140000000006, 39.29362, 30.1534, 41.11981, 24.97411, 29.18251], \"legendgroup\": \"\", \"lon\": [117.2264, 116.4142, 107.874, 117.9895, 103.8343, 113.422, 108.7881, 106.8748, 109.7455, 114.5149, 127.7622, 113.614, 112.2707, 111.7088, 113.9456, 119.464, 115.7221, 126.1917, 122.6086, 106.1655, 96.02564, 108.8701, 118.1529, 121.4554, 112.2922, 102.7103, 117.333, 88.7879, 85.17822, 101.4868, 120.0985], \"marker\": {\"color\": [12.328828005937952, 10.535653752852738, 12.12435565298214, 9.16515138991168, 4.898979485566356, 16.64331697709324, 7.615773105863909, 3.0, 6.557438524302, 6.928203230275509, 6.164414002968976, 14.352700094407323, 59.61543424315552, 14.866068747318506, 4.0, 9.9498743710662, 10.44030650891055, 3.0, 6.244997998398398, 3.4641016151377544, 2.449489742783178, 7.483314773547883, 11.40175425099138, 9.797958971132712, 5.196152422706632, 10.392304845413264, 5.196152422706632, 0.0, 3.605551275463989, 7.416198487095663, 17.204650534085253], \"coloraxis\": \"coloraxis\", \"size\": [12.328828005937952, 10.535653752852738, 12.12435565298214, 9.16515138991168, 4.898979485566356, 16.64331697709324, 7.615773105863909, 3.0, 6.557438524302, 6.928203230275509, 6.164414002968976, 14.352700094407323, 59.61543424315552, 14.866068747318506, 4.0, 9.9498743710662, 10.44030650891055, 3.0, 6.244997998398398, 3.4641016151377544, 2.449489742783178, 7.483314773547883, 11.40175425099138, 9.797958971132712, 5.196152422706632, 10.392304845413264, 5.196152422706632, 0.0, 3.605551275463989, 7.416198487095663, 17.204650534085253], \"sizemode\": \"area\", \"sizeref\": 0.603023631377743}, \"name\": \"\", \"showlegend\": false, \"type\": \"scattergeo\"}], \"name\": \"01/29/2020\"}, {\"data\": [{\"customdata\": [[200.0, 0.0, 2.0], [114.0, 1.0, 4.0], [182.0, 0.0, 1.0], [101.0, 0.0, 0.0], [26.0, 0.0, 0.0], [354.0, 0.0, 10.0], [78.0, 0.0, 2.0], [12.0, 0.0, 1.0], [46.0, 1.0, 1.0], [65.0, 1.0, 0.0], [44.0, 2.0, 0.0], [278.0, 2.0, 2.0], [4903.0, 162.0, 90.0], [277.0, 0.0, 2.0], [19.0, 0.0, 0.0], [129.0, 0.0, 1.0], [162.0, 0.0, 5.0], [14.0, 0.0, 1.0], [41.0, 0.0, 1.0], [17.0, 0.0, 0.0], [8.0, 0.0, 0.0], [63.0, 0.0, 0.0], [158.0, 0.0, 1.0], [112.0, 1.0, 5.0], [35.0, 0.0, 1.0], [142.0, 1.0, 1.0], [31.0, 0.0, 0.0], [1.0, 0.0, 0.0], [14.0, 0.0, 0.0], [70.0, 0.0, 0.0], [428.0, 0.0, 4.0]], \"geo\": \"geo\", \"hoverlabel\": {\"namelength\": 0}, \"hovertemplate\": \"<b>%{hovertext}</b><br><br>Date=01/30/2020<br>size=%{marker.color}<br>Confirmed=%{customdata[0]}<br>Deaths=%{customdata[1]}<br>Recovered=%{customdata[2]}<br>Lat=%{lat}<br>Long=%{lon}\", \"hovertext\": [\"Anhui\", \"Beijing\", \"Chongqing\", \"Fujian\", \"Gansu\", \"Guangdong\", \"Guangxi\", \"Guizhou\", \"Hainan\", \"Hebei\", \"Heilongjiang\", \"Henan\", \"Hubei\", \"Hunan\", \"Inner Mongolia\", \"Jiangsu\", \"Jiangxi\", \"Jilin\", \"Liaoning\", \"Ningxia\", \"Qinghai\", \"Shaanxi\", \"Shandong\", \"Shanghai\", \"Shanxi\", \"Sichuan\", \"Tianjin\", \"Tibet\", \"Xinjiang\", \"Yunnan\", \"Zhejiang\"], \"lat\": [31.82571, 40.18238, 30.05718, 26.07783, 36.0611, 23.33841, 23.82908, 26.81536, 19.19673, 38.0428, 47.862, 33.882020000000004, 30.97564, 27.61041, 44.09448, 32.97027, 27.61401, 43.66657, 41.29284000000001, 37.26923, 35.65945, 35.19165, 36.34377, 31.20327, 37.57769, 30.617140000000006, 39.29362, 30.1534, 41.11981, 24.97411, 29.18251], \"legendgroup\": \"\", \"lon\": [117.2264, 116.4142, 107.874, 117.9895, 103.8343, 113.422, 108.7881, 106.8748, 109.7455, 114.5149, 127.7622, 113.614, 112.2707, 111.7088, 113.9456, 119.464, 115.7221, 126.1917, 122.6086, 106.1655, 96.02564, 108.8701, 118.1529, 121.4554, 112.2922, 102.7103, 117.333, 88.7879, 85.17822, 101.4868, 120.0985], \"marker\": {\"color\": [14.142135623730951, 10.677078252031311, 13.490737563232042, 10.04987562112089, 5.0990195135927845, 18.81488772222678, 8.831760866327848, 3.4641016151377544, 6.782329983125268, 8.06225774829855, 6.6332495807108, 16.673332000533065, 70.02142529254886, 16.64331697709324, 4.358898943540674, 11.357816691600547, 12.727922061357855, 3.7416573867739413, 6.4031242374328485, 4.123105625617661, 2.8284271247461903, 7.937253933193772, 12.569805089976535, 10.583005244258363, 5.916079783099616, 11.916375287812984, 5.5677643628300215, 1.0, 3.7416573867739413, 8.366600265340756, 20.688160865577203], \"coloraxis\": \"coloraxis\", \"size\": [14.142135623730951, 10.677078252031311, 13.490737563232042, 10.04987562112089, 5.0990195135927845, 18.81488772222678, 8.831760866327848, 3.4641016151377544, 6.782329983125268, 8.06225774829855, 6.6332495807108, 16.673332000533065, 70.02142529254886, 16.64331697709324, 4.358898943540674, 11.357816691600547, 12.727922061357855, 3.7416573867739413, 6.4031242374328485, 4.123105625617661, 2.8284271247461903, 7.937253933193772, 12.569805089976535, 10.583005244258363, 5.916079783099616, 11.916375287812984, 5.5677643628300215, 1.0, 3.7416573867739413, 8.366600265340756, 20.688160865577203], \"sizemode\": \"area\", \"sizeref\": 0.603023631377743}, \"name\": \"\", \"showlegend\": false, \"type\": \"scattergeo\"}], \"name\": \"01/30/2020\"}, {\"data\": [{\"customdata\": [[237.0, 0.0, 3.0], [139.0, 1.0, 5.0], [211.0, 0.0, 1.0], [120.0, 0.0, 0.0], [29.0, 0.0, 0.0], [436.0, 0.0, 11.0], [87.0, 0.0, 2.0], [29.0, 0.0, 2.0], [52.0, 1.0, 1.0], [82.0, 1.0, 0.0], [59.0, 2.0, 0.0], [352.0, 2.0, 3.0], [5806.0, 204.0, 141.0], [332.0, 0.0, 2.0], [20.0, 0.0, 1.0], [168.0, 0.0, 5.0], [240.0, 0.0, 7.0], [14.0, 0.0, 1.0], [48.0, 0.0, 1.0], [21.0, 0.0, 0.0], [8.0, 0.0, 0.0], [87.0, 0.0, 0.0], [184.0, 0.0, 2.0], [135.0, 1.0, 9.0], [39.0, 0.0, 1.0], [177.0, 1.0, 1.0], [32.0, 0.0, 0.0], [1.0, 0.0, 0.0], [17.0, 0.0, 0.0], [83.0, 0.0, 1.0], [538.0, 0.0, 14.0]], \"geo\": \"geo\", \"hoverlabel\": {\"namelength\": 0}, \"hovertemplate\": \"<b>%{hovertext}</b><br><br>Date=01/31/2020<br>size=%{marker.color}<br>Confirmed=%{customdata[0]}<br>Deaths=%{customdata[1]}<br>Recovered=%{customdata[2]}<br>Lat=%{lat}<br>Long=%{lon}\", \"hovertext\": [\"Anhui\", \"Beijing\", \"Chongqing\", \"Fujian\", \"Gansu\", \"Guangdong\", \"Guangxi\", \"Guizhou\", \"Hainan\", \"Hebei\", \"Heilongjiang\", \"Henan\", \"Hubei\", \"Hunan\", \"Inner Mongolia\", \"Jiangsu\", \"Jiangxi\", \"Jilin\", \"Liaoning\", \"Ningxia\", \"Qinghai\", \"Shaanxi\", \"Shandong\", \"Shanghai\", \"Shanxi\", \"Sichuan\", \"Tianjin\", \"Tibet\", \"Xinjiang\", \"Yunnan\", \"Zhejiang\"], \"lat\": [31.82571, 40.18238, 30.05718, 26.07783, 36.0611, 23.33841, 23.82908, 26.81536, 19.19673, 38.0428, 47.862, 33.882020000000004, 30.97564, 27.61041, 44.09448, 32.97027, 27.61401, 43.66657, 41.29284000000001, 37.26923, 35.65945, 35.19165, 36.34377, 31.20327, 37.57769, 30.617140000000006, 39.29362, 30.1534, 41.11981, 24.97411, 29.18251], \"legendgroup\": \"\", \"lon\": [117.2264, 116.4142, 107.874, 117.9895, 103.8343, 113.422, 108.7881, 106.8748, 109.7455, 114.5149, 127.7622, 113.614, 112.2707, 111.7088, 113.9456, 119.464, 115.7221, 126.1917, 122.6086, 106.1655, 96.02564, 108.8701, 118.1529, 121.4554, 112.2922, 102.7103, 117.333, 88.7879, 85.17822, 101.4868, 120.0985], \"marker\": {\"color\": [15.394804318340652, 11.789826122551595, 14.52583904633395, 10.954451150103322, 5.385164807134504, 20.8806130178211, 9.327379053088816, 5.385164807134504, 7.211102550927978, 9.055385138137417, 7.681145747868608, 18.76166303929372, 76.19711280619497, 18.2208671582886, 4.47213595499958, 12.96148139681572, 15.491933384829668, 3.7416573867739413, 6.928203230275509, 4.58257569495584, 2.8284271247461903, 9.327379053088816, 13.564659966250536, 11.61895003862225, 6.244997998398398, 13.30413469565007, 5.656854249492381, 1.0, 4.123105625617661, 9.1104335791443, 23.194827009486403], \"coloraxis\": \"coloraxis\", \"size\": [15.394804318340652, 11.789826122551595, 14.52583904633395, 10.954451150103322, 5.385164807134504, 20.8806130178211, 9.327379053088816, 5.385164807134504, 7.211102550927978, 9.055385138137417, 7.681145747868608, 18.76166303929372, 76.19711280619497, 18.2208671582886, 4.47213595499958, 12.96148139681572, 15.491933384829668, 3.7416573867739413, 6.928203230275509, 4.58257569495584, 2.8284271247461903, 9.327379053088816, 13.564659966250536, 11.61895003862225, 6.244997998398398, 13.30413469565007, 5.656854249492381, 1.0, 4.123105625617661, 9.1104335791443, 23.194827009486403], \"sizemode\": \"area\", \"sizeref\": 0.603023631377743}, \"name\": \"\", \"showlegend\": false, \"type\": \"scattergeo\"}], \"name\": \"01/31/2020\"}, {\"data\": [{\"customdata\": [[297.0, 0.0, 5.0], [168.0, 1.0, 9.0], [247.0, 1.0, 3.0], [144.0, 0.0, 0.0], [40.0, 0.0, 0.0], [535.0, 0.0, 14.0], [100.0, 0.0, 2.0], [29.0, 0.0, 2.0], [62.0, 1.0, 1.0], [96.0, 1.0, 0.0], [80.0, 2.0, 2.0], [422.0, 2.0, 3.0], [7153.0, 249.0, 168.0], [389.0, 0.0, 8.0], [23.0, 0.0, 1.0], [202.0, 0.0, 6.0], [286.0, 0.0, 9.0], [17.0, 0.0, 1.0], [64.0, 0.0, 1.0], [26.0, 0.0, 0.0], [9.0, 0.0, 0.0], [101.0, 0.0, 0.0], [206.0, 0.0, 3.0], [169.0, 1.0, 10.0], [47.0, 0.0, 1.0], [207.0, 1.0, 3.0], [41.0, 0.0, 0.0], [1.0, 0.0, 0.0], [18.0, 0.0, 0.0], [93.0, 0.0, 2.0], [599.0, 0.0, 21.0]], \"geo\": \"geo\", \"hoverlabel\": {\"namelength\": 0}, \"hovertemplate\": \"<b>%{hovertext}</b><br><br>Date=02/01/2020<br>size=%{marker.color}<br>Confirmed=%{customdata[0]}<br>Deaths=%{customdata[1]}<br>Recovered=%{customdata[2]}<br>Lat=%{lat}<br>Long=%{lon}\", \"hovertext\": [\"Anhui\", \"Beijing\", \"Chongqing\", \"Fujian\", \"Gansu\", \"Guangdong\", \"Guangxi\", \"Guizhou\", \"Hainan\", \"Hebei\", \"Heilongjiang\", \"Henan\", \"Hubei\", \"Hunan\", \"Inner Mongolia\", \"Jiangsu\", \"Jiangxi\", \"Jilin\", \"Liaoning\", \"Ningxia\", \"Qinghai\", \"Shaanxi\", \"Shandong\", \"Shanghai\", \"Shanxi\", \"Sichuan\", \"Tianjin\", \"Tibet\", \"Xinjiang\", \"Yunnan\", \"Zhejiang\"], \"lat\": [31.82571, 40.18238, 30.05718, 26.07783, 36.0611, 23.33841, 23.82908, 26.81536, 19.19673, 38.0428, 47.862, 33.882020000000004, 30.97564, 27.61041, 44.09448, 32.97027, 27.61401, 43.66657, 41.29284000000001, 37.26923, 35.65945, 35.19165, 36.34377, 31.20327, 37.57769, 30.617140000000006, 39.29362, 30.1534, 41.11981, 24.97411, 29.18251], \"legendgroup\": \"\", \"lon\": [117.2264, 116.4142, 107.874, 117.9895, 103.8343, 113.422, 108.7881, 106.8748, 109.7455, 114.5149, 127.7622, 113.614, 112.2707, 111.7088, 113.9456, 119.464, 115.7221, 126.1917, 122.6086, 106.1655, 96.02564, 108.8701, 118.1529, 121.4554, 112.2922, 102.7103, 117.333, 88.7879, 85.17822, 101.4868, 120.0985], \"marker\": {\"color\": [17.233687939614086, 12.96148139681572, 15.716233645501712, 12.0, 6.324555320336759, 23.130067012440755, 10.0, 5.385164807134504, 7.874007874011811, 9.797958971132712, 8.94427190999916, 20.54263858417414, 84.57541013793548, 19.72308292331602, 4.795831523312719, 14.212670403551895, 16.911534525287763, 4.123105625617661, 8.0, 5.0990195135927845, 3.0, 10.04987562112089, 14.352700094407323, 13.0, 6.855654600401044, 14.38749456993816, 6.4031242374328485, 1.0, 4.242640687119285, 9.643650760992955, 24.474476501040833], \"coloraxis\": \"coloraxis\", \"size\": [17.233687939614086, 12.96148139681572, 15.716233645501712, 12.0, 6.324555320336759, 23.130067012440755, 10.0, 5.385164807134504, 7.874007874011811, 9.797958971132712, 8.94427190999916, 20.54263858417414, 84.57541013793548, 19.72308292331602, 4.795831523312719, 14.212670403551895, 16.911534525287763, 4.123105625617661, 8.0, 5.0990195135927845, 3.0, 10.04987562112089, 14.352700094407323, 13.0, 6.855654600401044, 14.38749456993816, 6.4031242374328485, 1.0, 4.242640687119285, 9.643650760992955, 24.474476501040833], \"sizemode\": \"area\", \"sizeref\": 0.603023631377743}, \"name\": \"\", \"showlegend\": false, \"type\": \"scattergeo\"}], \"name\": \"02/01/2020\"}, {\"data\": [{\"customdata\": [[340.0, 0.0, 7.0], [191.0, 1.0, 9.0], [300.0, 2.0, 7.0], [159.0, 0.0, 0.0], [51.0, 0.0, 3.0], [632.0, 0.0, 15.0], [111.0, 0.0, 2.0], [38.0, 0.0, 2.0], [64.0, 1.0, 4.0], [104.0, 1.0, 3.0], [95.0, 2.0, 2.0], [493.0, 2.0, 10.0], [11177.0, 350.0, 295.0], [463.0, 0.0, 16.0], [27.0, 0.0, 1.0], [236.0, 0.0, 7.0], [333.0, 0.0, 12.0], [23.0, 0.0, 1.0], [70.0, 0.0, 1.0], [28.0, 0.0, 0.0], [11.0, 0.0, 0.0], [116.0, 0.0, 0.0], [230.0, 0.0, 6.0], [182.0, 1.0, 10.0], [66.0, 0.0, 3.0], [231.0, 1.0, 11.0], [48.0, 0.0, 1.0], [1.0, 0.0, 0.0], [21.0, 0.0, 0.0], [105.0, 0.0, 3.0], [661.0, 0.0, 32.0]], \"geo\": \"geo\", \"hoverlabel\": {\"namelength\": 0}, \"hovertemplate\": \"<b>%{hovertext}</b><br><br>Date=02/02/2020<br>size=%{marker.color}<br>Confirmed=%{customdata[0]}<br>Deaths=%{customdata[1]}<br>Recovered=%{customdata[2]}<br>Lat=%{lat}<br>Long=%{lon}\", \"hovertext\": [\"Anhui\", \"Beijing\", \"Chongqing\", \"Fujian\", \"Gansu\", \"Guangdong\", \"Guangxi\", \"Guizhou\", \"Hainan\", \"Hebei\", \"Heilongjiang\", \"Henan\", \"Hubei\", \"Hunan\", \"Inner Mongolia\", \"Jiangsu\", \"Jiangxi\", \"Jilin\", \"Liaoning\", \"Ningxia\", \"Qinghai\", \"Shaanxi\", \"Shandong\", \"Shanghai\", \"Shanxi\", \"Sichuan\", \"Tianjin\", \"Tibet\", \"Xinjiang\", \"Yunnan\", \"Zhejiang\"], \"lat\": [31.82571, 40.18238, 30.05718, 26.07783, 36.0611, 23.33841, 23.82908, 26.81536, 19.19673, 38.0428, 47.862, 33.882020000000004, 30.97564, 27.61041, 44.09448, 32.97027, 27.61401, 43.66657, 41.29284000000001, 37.26923, 35.65945, 35.19165, 36.34377, 31.20327, 37.57769, 30.617140000000006, 39.29362, 30.1534, 41.11981, 24.97411, 29.18251], \"legendgroup\": \"\", \"lon\": [117.2264, 116.4142, 107.874, 117.9895, 103.8343, 113.422, 108.7881, 106.8748, 109.7455, 114.5149, 127.7622, 113.614, 112.2707, 111.7088, 113.9456, 119.464, 115.7221, 126.1917, 122.6086, 106.1655, 96.02564, 108.8701, 118.1529, 121.4554, 112.2922, 102.7103, 117.333, 88.7879, 85.17822, 101.4868, 120.0985], \"marker\": {\"color\": [18.439088914585774, 13.820274961085254, 17.320508075688775, 12.609520212918492, 7.14142842854285, 25.13961017995307, 10.535653752852738, 6.164414002968976, 8.0, 10.198039027185569, 9.746794344808963, 22.20360331117452, 105.72133181151285, 21.517434791350013, 5.196152422706632, 15.362291495737216, 18.24828759089466, 4.795831523312719, 8.366600265340756, 5.291502622129181, 3.3166247903554, 10.770329614269007, 15.165750888103101, 13.490737563232042, 8.12403840463596, 15.198684153570664, 6.928203230275509, 1.0, 4.58257569495584, 10.246950765959598, 25.709920264364882], \"coloraxis\": \"coloraxis\", \"size\": [18.439088914585774, 13.820274961085254, 17.320508075688775, 12.609520212918492, 7.14142842854285, 25.13961017995307, 10.535653752852738, 6.164414002968976, 8.0, 10.198039027185569, 9.746794344808963, 22.20360331117452, 105.72133181151285, 21.517434791350013, 5.196152422706632, 15.362291495737216, 18.24828759089466, 4.795831523312719, 8.366600265340756, 5.291502622129181, 3.3166247903554, 10.770329614269007, 15.165750888103101, 13.490737563232042, 8.12403840463596, 15.198684153570664, 6.928203230275509, 1.0, 4.58257569495584, 10.246950765959598, 25.709920264364882], \"sizemode\": \"area\", \"sizeref\": 0.603023631377743}, \"name\": \"\", \"showlegend\": false, \"type\": \"scattergeo\"}], \"name\": \"02/02/2020\"}, {\"data\": [{\"customdata\": [[408.0, 0.0, 14.0], [212.0, 1.0, 12.0], [337.0, 2.0, 9.0], [179.0, 0.0, 1.0], [55.0, 0.0, 3.0], [725.0, 0.0, 21.0], [127.0, 0.0, 7.0], [46.0, 0.0, 2.0], [72.0, 1.0, 4.0], [113.0, 1.0, 3.0], [121.0, 2.0, 2.0], [566.0, 2.0, 16.0], [13522.0, 414.0, 386.0], [521.0, 0.0, 22.0], [34.0, 0.0, 1.0], [271.0, 0.0, 8.0], [391.0, 0.0, 18.0], [31.0, 0.0, 1.0], [74.0, 0.0, 1.0], [31.0, 0.0, 1.0], [13.0, 0.0, 0.0], [128.0, 0.0, 0.0], [259.0, 0.0, 7.0], [203.0, 1.0, 10.0], [74.0, 0.0, 2.0], [254.0, 1.0, 14.0], [60.0, 0.0, 1.0], [1.0, 0.0, 0.0], [24.0, 0.0, 0.0], [117.0, 0.0, 5.0], [724.0, 0.0, 43.0]], \"geo\": \"geo\", \"hoverlabel\": {\"namelength\": 0}, \"hovertemplate\": \"<b>%{hovertext}</b><br><br>Date=02/03/2020<br>size=%{marker.color}<br>Confirmed=%{customdata[0]}<br>Deaths=%{customdata[1]}<br>Recovered=%{customdata[2]}<br>Lat=%{lat}<br>Long=%{lon}\", \"hovertext\": [\"Anhui\", \"Beijing\", \"Chongqing\", \"Fujian\", \"Gansu\", \"Guangdong\", \"Guangxi\", \"Guizhou\", \"Hainan\", \"Hebei\", \"Heilongjiang\", \"Henan\", \"Hubei\", \"Hunan\", \"Inner Mongolia\", \"Jiangsu\", \"Jiangxi\", \"Jilin\", \"Liaoning\", \"Ningxia\", \"Qinghai\", \"Shaanxi\", \"Shandong\", \"Shanghai\", \"Shanxi\", \"Sichuan\", \"Tianjin\", \"Tibet\", \"Xinjiang\", \"Yunnan\", \"Zhejiang\"], \"lat\": [31.82571, 40.18238, 30.05718, 26.07783, 36.0611, 23.33841, 23.82908, 26.81536, 19.19673, 38.0428, 47.862, 33.882020000000004, 30.97564, 27.61041, 44.09448, 32.97027, 27.61401, 43.66657, 41.29284000000001, 37.26923, 35.65945, 35.19165, 36.34377, 31.20327, 37.57769, 30.617140000000006, 39.29362, 30.1534, 41.11981, 24.97411, 29.18251], \"legendgroup\": \"\", \"lon\": [117.2264, 116.4142, 107.874, 117.9895, 103.8343, 113.422, 108.7881, 106.8748, 109.7455, 114.5149, 127.7622, 113.614, 112.2707, 111.7088, 113.9456, 119.464, 115.7221, 126.1917, 122.6086, 106.1655, 96.02564, 108.8701, 118.1529, 121.4554, 112.2922, 102.7103, 117.333, 88.7879, 85.17822, 101.4868, 120.0985], \"marker\": {\"color\": [20.199009876724155, 14.560219778561036, 18.35755975068582, 13.379088160259652, 7.416198487095663, 26.92582403567252, 11.269427669584644, 6.782329983125268, 8.48528137423857, 10.63014581273465, 11.0, 23.790754506740637, 116.2841347734075, 22.825424421026653, 5.830951894845301, 16.46207763315433, 19.77371993328519, 5.5677643628300215, 8.602325267042627, 5.5677643628300215, 3.605551275463989, 11.313708498984761, 16.09347693943108, 14.247806848775006, 8.602325267042627, 15.937377450509228, 7.745966692414834, 1.0, 4.898979485566356, 10.816653826391969, 26.90724809414742], \"coloraxis\": \"coloraxis\", \"size\": [20.199009876724155, 14.560219778561036, 18.35755975068582, 13.379088160259652, 7.416198487095663, 26.92582403567252, 11.269427669584644, 6.782329983125268, 8.48528137423857, 10.63014581273465, 11.0, 23.790754506740637, 116.2841347734075, 22.825424421026653, 5.830951894845301, 16.46207763315433, 19.77371993328519, 5.5677643628300215, 8.602325267042627, 5.5677643628300215, 3.605551275463989, 11.313708498984761, 16.09347693943108, 14.247806848775006, 8.602325267042627, 15.937377450509228, 7.745966692414834, 1.0, 4.898979485566356, 10.816653826391969, 26.90724809414742], \"sizemode\": \"area\", \"sizeref\": 0.603023631377743}, \"name\": \"\", \"showlegend\": false, \"type\": \"scattergeo\"}], \"name\": \"02/03/2020\"}, {\"data\": [{\"customdata\": [[480.0, 0.0, 20.0], [228.0, 1.0, 23.0], [366.0, 2.0, 9.0], [194.0, 0.0, 3.0], [57.0, 0.0, 4.0], [813.0, 0.0, 30.0], [139.0, 0.0, 10.0], [58.0, 0.0, 2.0], [80.0, 1.0, 5.0], [126.0, 1.0, 4.0], [155.0, 2.0, 4.0], [675.0, 2.0, 27.0], [16678.0, 479.0, 522.0], [593.0, 0.0, 31.0], [35.0, 0.0, 1.0], [308.0, 0.0, 12.0], [476.0, 0.0, 20.0], [42.0, 0.0, 1.0], [81.0, 0.0, 2.0], [34.0, 0.0, 1.0], [15.0, 0.0, 0.0], [142.0, 0.0, 2.0], [275.0, 0.0, 11.0], [219.0, 1.0, 12.0], [81.0, 0.0, 4.0], [282.0, 1.0, 14.0], [67.0, 0.0, 2.0], [1.0, 0.0, 0.0], [29.0, 0.0, 0.0], [122.0, 0.0, 5.0], [829.0, 0.0, 62.0]], \"geo\": \"geo\", \"hoverlabel\": {\"namelength\": 0}, \"hovertemplate\": \"<b>%{hovertext}</b><br><br>Date=02/04/2020<br>size=%{marker.color}<br>Confirmed=%{customdata[0]}<br>Deaths=%{customdata[1]}<br>Recovered=%{customdata[2]}<br>Lat=%{lat}<br>Long=%{lon}\", \"hovertext\": [\"Anhui\", \"Beijing\", \"Chongqing\", \"Fujian\", \"Gansu\", \"Guangdong\", \"Guangxi\", \"Guizhou\", \"Hainan\", \"Hebei\", \"Heilongjiang\", \"Henan\", \"Hubei\", \"Hunan\", \"Inner Mongolia\", \"Jiangsu\", \"Jiangxi\", \"Jilin\", \"Liaoning\", \"Ningxia\", \"Qinghai\", \"Shaanxi\", \"Shandong\", \"Shanghai\", \"Shanxi\", \"Sichuan\", \"Tianjin\", \"Tibet\", \"Xinjiang\", \"Yunnan\", \"Zhejiang\"], \"lat\": [31.82571, 40.18238, 30.05718, 26.07783, 36.0611, 23.33841, 23.82908, 26.81536, 19.19673, 38.0428, 47.862, 33.882020000000004, 30.97564, 27.61041, 44.09448, 32.97027, 27.61401, 43.66657, 41.29284000000001, 37.26923, 35.65945, 35.19165, 36.34377, 31.20327, 37.57769, 30.617140000000006, 39.29362, 30.1534, 41.11981, 24.97411, 29.18251], \"legendgroup\": \"\", \"lon\": [117.2264, 116.4142, 107.874, 117.9895, 103.8343, 113.422, 108.7881, 106.8748, 109.7455, 114.5149, 127.7622, 113.614, 112.2707, 111.7088, 113.9456, 119.464, 115.7221, 126.1917, 122.6086, 106.1655, 96.02564, 108.8701, 118.1529, 121.4554, 112.2922, 102.7103, 117.333, 88.7879, 85.17822, 101.4868, 120.0985], \"marker\": {\"color\": [21.908902300206645, 15.0996688705415, 19.131126469708992, 13.92838827718412, 7.54983443527075, 28.513154858766505, 11.789826122551595, 7.615773105863909, 8.94427190999916, 11.224972160321824, 12.449899597988733, 25.98076211353316, 129.14333122542564, 24.351591323771842, 5.916079783099616, 17.549928774784245, 21.817424229271428, 6.48074069840786, 9.0, 5.830951894845301, 3.872983346207417, 11.916375287812984, 16.583123951777, 14.798648586948742, 9.0, 16.792855623746664, 8.18535277187245, 1.0, 5.385164807134504, 11.045361017187261, 28.792360097775937], \"coloraxis\": \"coloraxis\", \"size\": [21.908902300206645, 15.0996688705415, 19.131126469708992, 13.92838827718412, 7.54983443527075, 28.513154858766505, 11.789826122551595, 7.615773105863909, 8.94427190999916, 11.224972160321824, 12.449899597988733, 25.98076211353316, 129.14333122542564, 24.351591323771842, 5.916079783099616, 17.549928774784245, 21.817424229271428, 6.48074069840786, 9.0, 5.830951894845301, 3.872983346207417, 11.916375287812984, 16.583123951777, 14.798648586948742, 9.0, 16.792855623746664, 8.18535277187245, 1.0, 5.385164807134504, 11.045361017187261, 28.792360097775937], \"sizemode\": \"area\", \"sizeref\": 0.603023631377743}, \"name\": \"\", \"showlegend\": false, \"type\": \"scattergeo\"}], \"name\": \"02/04/2020\"}, {\"data\": [{\"customdata\": [[530.0, 0.0, 23.0], [253.0, 1.0, 24.0], [389.0, 2.0, 15.0], [205.0, 0.0, 11.0], [62.0, 0.0, 6.0], [895.0, 0.0, 49.0], [150.0, 0.0, 13.0], [64.0, 1.0, 9.0], [99.0, 1.0, 5.0], [135.0, 1.0, 6.0], [190.0, 2.0, 7.0], [764.0, 2.0, 47.0], [19665.0, 549.0, 633.0], [661.0, 0.0, 54.0], [42.0, 0.0, 3.0], [341.0, 0.0, 23.0], [548.0, 0.0, 27.0], [54.0, 0.0, 2.0], [89.0, 0.0, 4.0], [34.0, 0.0, 1.0], [17.0, 0.0, 3.0], [165.0, 0.0, 6.0], [307.0, 0.0, 15.0], [243.0, 1.0, 15.0], [81.0, 0.0, 5.0], [301.0, 1.0, 24.0], [69.0, 1.0, 2.0], [1.0, 0.0, 0.0], [32.0, 0.0, 0.0], [128.0, 0.0, 5.0], [895.0, 0.0, 78.0]], \"geo\": \"geo\", \"hoverlabel\": {\"namelength\": 0}, \"hovertemplate\": \"<b>%{hovertext}</b><br><br>Date=02/05/2020<br>size=%{marker.color}<br>Confirmed=%{customdata[0]}<br>Deaths=%{customdata[1]}<br>Recovered=%{customdata[2]}<br>Lat=%{lat}<br>Long=%{lon}\", \"hovertext\": [\"Anhui\", \"Beijing\", \"Chongqing\", \"Fujian\", \"Gansu\", \"Guangdong\", \"Guangxi\", \"Guizhou\", \"Hainan\", \"Hebei\", \"Heilongjiang\", \"Henan\", \"Hubei\", \"Hunan\", \"Inner Mongolia\", \"Jiangsu\", \"Jiangxi\", \"Jilin\", \"Liaoning\", \"Ningxia\", \"Qinghai\", \"Shaanxi\", \"Shandong\", \"Shanghai\", \"Shanxi\", \"Sichuan\", \"Tianjin\", \"Tibet\", \"Xinjiang\", \"Yunnan\", \"Zhejiang\"], \"lat\": [31.82571, 40.18238, 30.05718, 26.07783, 36.0611, 23.33841, 23.82908, 26.81536, 19.19673, 38.0428, 47.862, 33.882020000000004, 30.97564, 27.61041, 44.09448, 32.97027, 27.61401, 43.66657, 41.29284000000001, 37.26923, 35.65945, 35.19165, 36.34377, 31.20327, 37.57769, 30.617140000000006, 39.29362, 30.1534, 41.11981, 24.97411, 29.18251], \"legendgroup\": \"\", \"lon\": [117.2264, 116.4142, 107.874, 117.9895, 103.8343, 113.422, 108.7881, 106.8748, 109.7455, 114.5149, 127.7622, 113.614, 112.2707, 111.7088, 113.9456, 119.464, 115.7221, 126.1917, 122.6086, 106.1655, 96.02564, 108.8701, 118.1529, 121.4554, 112.2922, 102.7103, 117.333, 88.7879, 85.17822, 101.4868, 120.0985], \"marker\": {\"color\": [23.021728866442675, 15.905973720586866, 19.72308292331602, 14.317821063276353, 7.874007874011811, 29.916550603303182, 12.24744871391589, 8.0, 9.9498743710662, 11.61895003862225, 13.784048752090222, 27.640549922170507, 140.23195071024293, 25.709920264364882, 6.48074069840786, 18.466185312619388, 23.40939982143925, 7.3484692283495345, 9.433981132056603, 5.830951894845301, 4.123105625617661, 12.84523257866513, 17.52141546793523, 15.588457268119896, 9.0, 17.349351572897472, 8.306623862918075, 1.0, 5.656854249492381, 11.313708498984761, 29.916550603303182], \"coloraxis\": \"coloraxis\", \"size\": [23.021728866442675, 15.905973720586866, 19.72308292331602, 14.317821063276353, 7.874007874011811, 29.916550603303182, 12.24744871391589, 8.0, 9.9498743710662, 11.61895003862225, 13.784048752090222, 27.640549922170507, 140.23195071024293, 25.709920264364882, 6.48074069840786, 18.466185312619388, 23.40939982143925, 7.3484692283495345, 9.433981132056603, 5.830951894845301, 4.123105625617661, 12.84523257866513, 17.52141546793523, 15.588457268119896, 9.0, 17.349351572897472, 8.306623862918075, 1.0, 5.656854249492381, 11.313708498984761, 29.916550603303182], \"sizemode\": \"area\", \"sizeref\": 0.603023631377743}, \"name\": \"\", \"showlegend\": false, \"type\": \"scattergeo\"}], \"name\": \"02/05/2020\"}, {\"data\": [{\"customdata\": [[591.0, 0.0, 34.0], [274.0, 1.0, 31.0], [411.0, 2.0, 24.0], [215.0, 0.0, 14.0], [62.0, 0.0, 6.0], [970.0, 0.0, 69.0], [168.0, 0.0, 14.0], [71.0, 1.0, 6.0], [106.0, 1.0, 8.0], [157.0, 1.0, 13.0], [227.0, 3.0, 8.0], [851.0, 2.0, 56.0], [22112.0, 618.0, 817.0], [711.0, 0.0, 81.0], [46.0, 0.0, 4.0], [373.0, 0.0, 34.0], [600.0, 0.0, 37.0], [59.0, 0.0, 4.0], [94.0, 0.0, 5.0], [40.0, 0.0, 1.0], [18.0, 0.0, 3.0], [173.0, 0.0, 9.0], [347.0, 0.0, 27.0], [257.0, 1.0, 25.0], [96.0, 0.0, 12.0], [321.0, 1.0, 31.0], [79.0, 1.0, 2.0], [1.0, 0.0, 0.0], [36.0, 0.0, 0.0], [133.0, 0.0, 7.0], [954.0, 0.0, 94.0]], \"geo\": \"geo\", \"hoverlabel\": {\"namelength\": 0}, \"hovertemplate\": \"<b>%{hovertext}</b><br><br>Date=02/06/2020<br>size=%{marker.color}<br>Confirmed=%{customdata[0]}<br>Deaths=%{customdata[1]}<br>Recovered=%{customdata[2]}<br>Lat=%{lat}<br>Long=%{lon}\", \"hovertext\": [\"Anhui\", \"Beijing\", \"Chongqing\", \"Fujian\", \"Gansu\", \"Guangdong\", \"Guangxi\", \"Guizhou\", \"Hainan\", \"Hebei\", \"Heilongjiang\", \"Henan\", \"Hubei\", \"Hunan\", \"Inner Mongolia\", \"Jiangsu\", \"Jiangxi\", \"Jilin\", \"Liaoning\", \"Ningxia\", \"Qinghai\", \"Shaanxi\", \"Shandong\", \"Shanghai\", \"Shanxi\", \"Sichuan\", \"Tianjin\", \"Tibet\", \"Xinjiang\", \"Yunnan\", \"Zhejiang\"], \"lat\": [31.82571, 40.18238, 30.05718, 26.07783, 36.0611, 23.33841, 23.82908, 26.81536, 19.19673, 38.0428, 47.862, 33.882020000000004, 30.97564, 27.61041, 44.09448, 32.97027, 27.61401, 43.66657, 41.29284000000001, 37.26923, 35.65945, 35.19165, 36.34377, 31.20327, 37.57769, 30.617140000000006, 39.29362, 30.1534, 41.11981, 24.97411, 29.18251], \"legendgroup\": \"\", \"lon\": [117.2264, 116.4142, 107.874, 117.9895, 103.8343, 113.422, 108.7881, 106.8748, 109.7455, 114.5149, 127.7622, 113.614, 112.2707, 111.7088, 113.9456, 119.464, 115.7221, 126.1917, 122.6086, 106.1655, 96.02564, 108.8701, 118.1529, 121.4554, 112.2922, 102.7103, 117.333, 88.7879, 85.17822, 101.4868, 120.0985], \"marker\": {\"color\": [24.310491562286437, 16.55294535724685, 20.273134932713294, 14.66287829861518, 7.874007874011811, 31.144823004794873, 12.96148139681572, 8.426149773176359, 10.295630140987, 12.529964086141668, 15.066519173319364, 29.171904291629644, 148.70104236352884, 26.664583251946766, 6.782329983125268, 19.313207915827967, 24.49489742783178, 7.681145747868608, 9.695359714832659, 6.324555320336759, 4.242640687119285, 13.152946437965905, 18.627936010197157, 16.0312195418814, 9.797958971132712, 17.916472867168917, 8.888194417315589, 1.0, 6.0, 11.532562594670797, 30.886890422961002], \"coloraxis\": \"coloraxis\", \"size\": [24.310491562286437, 16.55294535724685, 20.273134932713294, 14.66287829861518, 7.874007874011811, 31.144823004794873, 12.96148139681572, 8.426149773176359, 10.295630140987, 12.529964086141668, 15.066519173319364, 29.171904291629644, 148.70104236352884, 26.664583251946766, 6.782329983125268, 19.313207915827967, 24.49489742783178, 7.681145747868608, 9.695359714832659, 6.324555320336759, 4.242640687119285, 13.152946437965905, 18.627936010197157, 16.0312195418814, 9.797958971132712, 17.916472867168917, 8.888194417315589, 1.0, 6.0, 11.532562594670797, 30.886890422961002], \"sizemode\": \"area\", \"sizeref\": 0.603023631377743}, \"name\": \"\", \"showlegend\": false, \"type\": \"scattergeo\"}], \"name\": \"02/06/2020\"}, {\"data\": [{\"customdata\": [[665.0, 0.0, 47.0], [297.0, 1.0, 33.0], [426.0, 2.0, 31.0], [224.0, 0.0, 20.0], [67.0, 0.0, 9.0], [1034.0, 1.0, 88.0], [172.0, 0.0, 17.0], [81.0, 1.0, 6.0], [117.0, 2.0, 10.0], [172.0, 1.0, 22.0], [277.0, 3.0, 12.0], [914.0, 3.0, 86.0], [24953.0, 699.0, 1115.0], [772.0, 0.0, 112.0], [50.0, 0.0, 5.0], [408.0, 0.0, 43.0], [661.0, 0.0, 45.0], [65.0, 1.0, 4.0], [99.0, 0.0, 7.0], [43.0, 0.0, 5.0], [18.0, 0.0, 3.0], [184.0, 0.0, 17.0], [386.0, 0.0, 37.0], [277.0, 1.0, 30.0], [104.0, 0.0, 15.0], [344.0, 1.0, 42.0], [81.0, 1.0, 2.0], [1.0, 0.0, 0.0], [39.0, 0.0, 0.0], [138.0, 0.0, 12.0], [1006.0, 0.0, 123.0]], \"geo\": \"geo\", \"hoverlabel\": {\"namelength\": 0}, \"hovertemplate\": \"<b>%{hovertext}</b><br><br>Date=02/07/2020<br>size=%{marker.color}<br>Confirmed=%{customdata[0]}<br>Deaths=%{customdata[1]}<br>Recovered=%{customdata[2]}<br>Lat=%{lat}<br>Long=%{lon}\", \"hovertext\": [\"Anhui\", \"Beijing\", \"Chongqing\", \"Fujian\", \"Gansu\", \"Guangdong\", \"Guangxi\", \"Guizhou\", \"Hainan\", \"Hebei\", \"Heilongjiang\", \"Henan\", \"Hubei\", \"Hunan\", \"Inner Mongolia\", \"Jiangsu\", \"Jiangxi\", \"Jilin\", \"Liaoning\", \"Ningxia\", \"Qinghai\", \"Shaanxi\", \"Shandong\", \"Shanghai\", \"Shanxi\", \"Sichuan\", \"Tianjin\", \"Tibet\", \"Xinjiang\", \"Yunnan\", \"Zhejiang\"], \"lat\": [31.82571, 40.18238, 30.05718, 26.07783, 36.0611, 23.33841, 23.82908, 26.81536, 19.19673, 38.0428, 47.862, 33.882020000000004, 30.97564, 27.61041, 44.09448, 32.97027, 27.61401, 43.66657, 41.29284000000001, 37.26923, 35.65945, 35.19165, 36.34377, 31.20327, 37.57769, 30.617140000000006, 39.29362, 30.1534, 41.11981, 24.97411, 29.18251], \"legendgroup\": \"\", \"lon\": [117.2264, 116.4142, 107.874, 117.9895, 103.8343, 113.422, 108.7881, 106.8748, 109.7455, 114.5149, 127.7622, 113.614, 112.2707, 111.7088, 113.9456, 119.464, 115.7221, 126.1917, 122.6086, 106.1655, 96.02564, 108.8701, 118.1529, 121.4554, 112.2922, 102.7103, 117.333, 88.7879, 85.17822, 101.4868, 120.0985], \"marker\": {\"color\": [25.787593916455254, 17.233687939614086, 20.639767440550294, 14.966629547095765, 8.18535277187245, 32.155870381627054, 13.114877048604, 9.0, 10.816653826391969, 13.114877048604, 16.64331697709324, 30.23243291566195, 157.96518603793686, 27.784887978899608, 7.0710678118654755, 20.199009876724155, 25.709920264364882, 8.06225774829855, 9.9498743710662, 6.557438524302, 4.242640687119285, 13.564659966250536, 19.6468827043885, 16.64331697709324, 10.198039027185569, 18.547236990991408, 9.0, 1.0, 6.244997998398398, 11.74734012447073, 31.71750305430741], \"coloraxis\": \"coloraxis\", \"size\": [25.787593916455254, 17.233687939614086, 20.639767440550294, 14.966629547095765, 8.18535277187245, 32.155870381627054, 13.114877048604, 9.0, 10.816653826391969, 13.114877048604, 16.64331697709324, 30.23243291566195, 157.96518603793686, 27.784887978899608, 7.0710678118654755, 20.199009876724155, 25.709920264364882, 8.06225774829855, 9.9498743710662, 6.557438524302, 4.242640687119285, 13.564659966250536, 19.6468827043885, 16.64331697709324, 10.198039027185569, 18.547236990991408, 9.0, 1.0, 6.244997998398398, 11.74734012447073, 31.71750305430741], \"sizemode\": \"area\", \"sizeref\": 0.603023631377743}, \"name\": \"\", \"showlegend\": false, \"type\": \"scattergeo\"}], \"name\": \"02/07/2020\"}, {\"data\": [{\"customdata\": [[733.0, 0.0, 59.0], [315.0, 2.0, 34.0], [428.0, 2.0, 39.0], [239.0, 0.0, 24.0], [79.0, 1.0, 12.0], [1095.0, 1.0, 112.0], [183.0, 0.0, 17.0], [89.0, 1.0, 7.0], [124.0, 2.0, 14.0], [195.0, 1.0, 30.0], [295.0, 5.0, 13.0], [981.0, 4.0, 116.0], [27100.0, 780.0, 1439.0], [803.0, 1.0, 156.0], [52.0, 0.0, 5.0], [439.0, 0.0, 51.0], [698.0, 0.0, 55.0], [69.0, 1.0, 4.0], [105.0, 0.0, 8.0], [45.0, 0.0, 15.0], [18.0, 0.0, 3.0], [195.0, 0.0, 20.0], [416.0, 0.0, 44.0], [286.0, 1.0, 41.0], [115.0, 0.0, 21.0], [364.0, 1.0, 60.0], [88.0, 1.0, 4.0], [1.0, 0.0, 0.0], [42.0, 0.0, 0.0], [138.0, 0.0, 17.0], [1048.0, 0.0, 175.0]], \"geo\": \"geo\", \"hoverlabel\": {\"namelength\": 0}, \"hovertemplate\": \"<b>%{hovertext}</b><br><br>Date=02/08/2020<br>size=%{marker.color}<br>Confirmed=%{customdata[0]}<br>Deaths=%{customdata[1]}<br>Recovered=%{customdata[2]}<br>Lat=%{lat}<br>Long=%{lon}\", \"hovertext\": [\"Anhui\", \"Beijing\", \"Chongqing\", \"Fujian\", \"Gansu\", \"Guangdong\", \"Guangxi\", \"Guizhou\", \"Hainan\", \"Hebei\", \"Heilongjiang\", \"Henan\", \"Hubei\", \"Hunan\", \"Inner Mongolia\", \"Jiangsu\", \"Jiangxi\", \"Jilin\", \"Liaoning\", \"Ningxia\", \"Qinghai\", \"Shaanxi\", \"Shandong\", \"Shanghai\", \"Shanxi\", \"Sichuan\", \"Tianjin\", \"Tibet\", \"Xinjiang\", \"Yunnan\", \"Zhejiang\"], \"lat\": [31.82571, 40.18238, 30.05718, 26.07783, 36.0611, 23.33841, 23.82908, 26.81536, 19.19673, 38.0428, 47.862, 33.882020000000004, 30.97564, 27.61041, 44.09448, 32.97027, 27.61401, 43.66657, 41.29284000000001, 37.26923, 35.65945, 35.19165, 36.34377, 31.20327, 37.57769, 30.617140000000006, 39.29362, 30.1534, 41.11981, 24.97411, 29.18251], \"legendgroup\": \"\", \"lon\": [117.2264, 116.4142, 107.874, 117.9895, 103.8343, 113.422, 108.7881, 106.8748, 109.7455, 114.5149, 127.7622, 113.614, 112.2707, 111.7088, 113.9456, 119.464, 115.7221, 126.1917, 122.6086, 106.1655, 96.02564, 108.8701, 118.1529, 121.4554, 112.2922, 102.7103, 117.333, 88.7879, 85.17822, 101.4868, 120.0985], \"marker\": {\"color\": [27.073972741361768, 17.74823934929885, 20.688160865577203, 15.459624833740307, 8.888194417315589, 33.090784215548595, 13.527749258468683, 9.433981132056603, 11.135528725660043, 13.96424004376894, 17.175564037317667, 31.32091952673165, 164.62077633154328, 28.337254630609507, 7.211102550927978, 20.952326839756964, 26.419689627245813, 8.306623862918075, 10.246950765959598, 6.708203932499369, 4.242640687119285, 13.96424004376894, 20.396078054371138, 16.911534525287763, 10.723805294763608, 19.078784028338912, 9.38083151964686, 1.0, 6.48074069840786, 11.74734012447073, 32.37282811247729], \"coloraxis\": \"coloraxis\", \"size\": [27.073972741361768, 17.74823934929885, 20.688160865577203, 15.459624833740307, 8.888194417315589, 33.090784215548595, 13.527749258468683, 9.433981132056603, 11.135528725660043, 13.96424004376894, 17.175564037317667, 31.32091952673165, 164.62077633154328, 28.337254630609507, 7.211102550927978, 20.952326839756964, 26.419689627245813, 8.306623862918075, 10.246950765959598, 6.708203932499369, 4.242640687119285, 13.96424004376894, 20.396078054371138, 16.911534525287763, 10.723805294763608, 19.078784028338912, 9.38083151964686, 1.0, 6.48074069840786, 11.74734012447073, 32.37282811247729], \"sizemode\": \"area\", \"sizeref\": 0.603023631377743}, \"name\": \"\", \"showlegend\": false, \"type\": \"scattergeo\"}], \"name\": \"02/08/2020\"}, {\"data\": [{\"customdata\": [[779.0, 1.0, 72.0], [326.0, 2.0, 37.0], [468.0, 2.0, 51.0], [250.0, 0.0, 35.0], [83.0, 2.0, 16.0], [1131.0, 1.0, 141.0], [195.0, 1.0, 18.0], [99.0, 1.0, 7.0], [131.0, 3.0, 19.0], [206.0, 2.0, 34.0], [307.0, 6.0, 14.0], [1033.0, 6.0, 153.0], [29631.0, 871.0, 1795.0], [838.0, 1.0, 186.0], [54.0, 0.0, 5.0], [468.0, 0.0, 71.0], [740.0, 0.0, 73.0], [78.0, 1.0, 12.0], [107.0, 0.0, 12.0], [45.0, 0.0, 13.0], [18.0, 0.0, 3.0], [208.0, 0.0, 25.0], [444.0, 1.0, 63.0], [293.0, 1.0, 44.0], [119.0, 0.0, 25.0], [386.0, 1.0, 71.0], [91.0, 1.0, 4.0], [1.0, 0.0, 0.0], [45.0, 0.0, 0.0], [141.0, 0.0, 18.0], [1075.0, 0.0, 201.0]], \"geo\": \"geo\", \"hoverlabel\": {\"namelength\": 0}, \"hovertemplate\": \"<b>%{hovertext}</b><br><br>Date=02/09/2020<br>size=%{marker.color}<br>Confirmed=%{customdata[0]}<br>Deaths=%{customdata[1]}<br>Recovered=%{customdata[2]}<br>Lat=%{lat}<br>Long=%{lon}\", \"hovertext\": [\"Anhui\", \"Beijing\", \"Chongqing\", \"Fujian\", \"Gansu\", \"Guangdong\", \"Guangxi\", \"Guizhou\", \"Hainan\", \"Hebei\", \"Heilongjiang\", \"Henan\", \"Hubei\", \"Hunan\", \"Inner Mongolia\", \"Jiangsu\", \"Jiangxi\", \"Jilin\", \"Liaoning\", \"Ningxia\", \"Qinghai\", \"Shaanxi\", \"Shandong\", \"Shanghai\", \"Shanxi\", \"Sichuan\", \"Tianjin\", \"Tibet\", \"Xinjiang\", \"Yunnan\", \"Zhejiang\"], \"lat\": [31.82571, 40.18238, 30.05718, 26.07783, 36.0611, 23.33841, 23.82908, 26.81536, 19.19673, 38.0428, 47.862, 33.882020000000004, 30.97564, 27.61041, 44.09448, 32.97027, 27.61401, 43.66657, 41.29284000000001, 37.26923, 35.65945, 35.19165, 36.34377, 31.20327, 37.57769, 30.617140000000006, 39.29362, 30.1534, 41.11981, 24.97411, 29.18251], \"legendgroup\": \"\", \"lon\": [117.2264, 116.4142, 107.874, 117.9895, 103.8343, 113.422, 108.7881, 106.8748, 109.7455, 114.5149, 127.7622, 113.614, 112.2707, 111.7088, 113.9456, 119.464, 115.7221, 126.1917, 122.6086, 106.1655, 96.02564, 108.8701, 118.1529, 121.4554, 112.2922, 102.7103, 117.333, 88.7879, 85.17822, 101.4868, 120.0985], \"marker\": {\"color\": [27.910571473905726, 18.05547008526779, 21.633307652783937, 15.811388300841896, 9.1104335791443, 33.63034344160047, 13.96424004376894, 9.9498743710662, 11.445523142259598, 14.352700094407323, 17.52141546793523, 32.14031735997639, 172.13657368496678, 28.948229652260256, 7.3484692283495345, 21.633307652783937, 27.202941017470888, 8.831760866327848, 10.344080432788601, 6.708203932499369, 4.242640687119285, 14.422205101855956, 21.071307505705477, 17.11724276862369, 10.908712114635714, 19.6468827043885, 9.539392014169456, 1.0, 6.708203932499369, 11.874342087037917, 32.78719262151], \"coloraxis\": \"coloraxis\", \"size\": [27.910571473905726, 18.05547008526779, 21.633307652783937, 15.811388300841896, 9.1104335791443, 33.63034344160047, 13.96424004376894, 9.9498743710662, 11.445523142259598, 14.352700094407323, 17.52141546793523, 32.14031735997639, 172.13657368496678, 28.948229652260256, 7.3484692283495345, 21.633307652783937, 27.202941017470888, 8.831760866327848, 10.344080432788601, 6.708203932499369, 4.242640687119285, 14.422205101855956, 21.071307505705477, 17.11724276862369, 10.908712114635714, 19.6468827043885, 9.539392014169456, 1.0, 6.708203932499369, 11.874342087037917, 32.78719262151], \"sizemode\": \"area\", \"sizeref\": 0.603023631377743}, \"name\": \"\", \"showlegend\": false, \"type\": \"scattergeo\"}], \"name\": \"02/09/2020\"}, {\"data\": [{\"customdata\": [[830.0, 3.0, 88.0], [337.0, 2.0, 44.0], [486.0, 2.0, 66.0], [261.0, 0.0, 39.0], [83.0, 2.0, 17.0], [1159.0, 1.0, 167.0], [210.0, 1.0, 24.0], [109.0, 1.0, 10.0], [138.0, 3.0, 19.0], [218.0, 2.0, 41.0], [331.0, 7.0, 30.0], [1073.0, 6.0, 191.0], [31728.0, 974.0, 2222.0], [879.0, 1.0, 208.0], [58.0, 0.0, 5.0], [492.0, 0.0, 81.0], [771.0, 1.0, 105.0], [80.0, 1.0, 13.0], [108.0, 0.0, 13.0], [49.0, 0.0, 13.0], [18.0, 0.0, 3.0], [213.0, 0.0, 30.0], [466.0, 1.0, 66.0], [299.0, 1.0, 48.0], [119.0, 0.0, 25.0], [405.0, 1.0, 80.0], [95.0, 1.0, 8.0], [1.0, 0.0, 0.0], [49.0, 0.0, 0.0], [149.0, 0.0, 19.0], [1092.0, 0.0, 242.0]], \"geo\": \"geo\", \"hoverlabel\": {\"namelength\": 0}, \"hovertemplate\": \"<b>%{hovertext}</b><br><br>Date=02/10/2020<br>size=%{marker.color}<br>Confirmed=%{customdata[0]}<br>Deaths=%{customdata[1]}<br>Recovered=%{customdata[2]}<br>Lat=%{lat}<br>Long=%{lon}\", \"hovertext\": [\"Anhui\", \"Beijing\", \"Chongqing\", \"Fujian\", \"Gansu\", \"Guangdong\", \"Guangxi\", \"Guizhou\", \"Hainan\", \"Hebei\", \"Heilongjiang\", \"Henan\", \"Hubei\", \"Hunan\", \"Inner Mongolia\", \"Jiangsu\", \"Jiangxi\", \"Jilin\", \"Liaoning\", \"Ningxia\", \"Qinghai\", \"Shaanxi\", \"Shandong\", \"Shanghai\", \"Shanxi\", \"Sichuan\", \"Tianjin\", \"Tibet\", \"Xinjiang\", \"Yunnan\", \"Zhejiang\"], \"lat\": [31.82571, 40.18238, 30.05718, 26.07783, 36.0611, 23.33841, 23.82908, 26.81536, 19.19673, 38.0428, 47.862, 33.882020000000004, 30.97564, 27.61041, 44.09448, 32.97027, 27.61401, 43.66657, 41.29284000000001, 37.26923, 35.65945, 35.19165, 36.34377, 31.20327, 37.57769, 30.617140000000006, 39.29362, 30.1534, 41.11981, 24.97411, 29.18251], \"legendgroup\": \"\", \"lon\": [117.2264, 116.4142, 107.874, 117.9895, 103.8343, 113.422, 108.7881, 106.8748, 109.7455, 114.5149, 127.7622, 113.614, 112.2707, 111.7088, 113.9456, 119.464, 115.7221, 126.1917, 122.6086, 106.1655, 96.02564, 108.8701, 118.1529, 121.4554, 112.2922, 102.7103, 117.333, 88.7879, 85.17822, 101.4868, 120.0985], \"marker\": {\"color\": [28.809720581775867, 18.35755975068582, 22.045407685048602, 16.15549442140351, 9.1104335791443, 34.044089061098404, 14.491376746189438, 10.44030650891055, 11.74734012447073, 14.7648230602334, 18.193405398660254, 32.7566787083184, 178.12355262569855, 29.647934160747187, 7.615773105863909, 22.181073012818835, 27.76688675382964, 8.94427190999916, 10.392304845413264, 7.0, 4.242640687119285, 14.594519519326424, 21.587033144922902, 17.291616465790582, 10.908712114635714, 20.12461179749811, 9.746794344808963, 1.0, 7.0, 12.206555615733702, 33.04542328371661], \"coloraxis\": \"coloraxis\", \"size\": [28.809720581775867, 18.35755975068582, 22.045407685048602, 16.15549442140351, 9.1104335791443, 34.044089061098404, 14.491376746189438, 10.44030650891055, 11.74734012447073, 14.7648230602334, 18.193405398660254, 32.7566787083184, 178.12355262569855, 29.647934160747187, 7.615773105863909, 22.181073012818835, 27.76688675382964, 8.94427190999916, 10.392304845413264, 7.0, 4.242640687119285, 14.594519519326424, 21.587033144922902, 17.291616465790582, 10.908712114635714, 20.12461179749811, 9.746794344808963, 1.0, 7.0, 12.206555615733702, 33.04542328371661], \"sizemode\": \"area\", \"sizeref\": 0.603023631377743}, \"name\": \"\", \"showlegend\": false, \"type\": \"scattergeo\"}], \"name\": \"02/10/2020\"}, {\"data\": [{\"customdata\": [[860.0, 4.0, 105.0], [342.0, 3.0, 48.0], [505.0, 3.0, 79.0], [267.0, 0.0, 45.0], [86.0, 2.0, 24.0], [1177.0, 1.0, 212.0], [215.0, 1.0, 33.0], [127.0, 1.0, 17.0], [144.0, 3.0, 20.0], [239.0, 2.0, 48.0], [360.0, 8.0, 28.0], [1105.0, 7.0, 218.0], [33366.0, 1068.0, 2639.0], [912.0, 1.0, 247.0], [58.0, 0.0, 5.0], [515.0, 0.0, 93.0], [804.0, 1.0, 128.0], [81.0, 1.0, 18.0], [111.0, 0.0, 19.0], [53.0, 0.0, 22.0], [18.0, 0.0, 5.0], [219.0, 0.0, 32.0], [487.0, 1.0, 80.0], [303.0, 1.0, 52.0], [124.0, 0.0, 30.0], [417.0, 1.0, 85.0], [106.0, 2.0, 10.0], [1.0, 0.0, 0.0], [55.0, 0.0, 3.0], [153.0, 0.0, 20.0], [1117.0, 0.0, 270.0]], \"geo\": \"geo\", \"hoverlabel\": {\"namelength\": 0}, \"hovertemplate\": \"<b>%{hovertext}</b><br><br>Date=02/11/2020<br>size=%{marker.color}<br>Confirmed=%{customdata[0]}<br>Deaths=%{customdata[1]}<br>Recovered=%{customdata[2]}<br>Lat=%{lat}<br>Long=%{lon}\", \"hovertext\": [\"Anhui\", \"Beijing\", \"Chongqing\", \"Fujian\", \"Gansu\", \"Guangdong\", \"Guangxi\", \"Guizhou\", \"Hainan\", \"Hebei\", \"Heilongjiang\", \"Henan\", \"Hubei\", \"Hunan\", \"Inner Mongolia\", \"Jiangsu\", \"Jiangxi\", \"Jilin\", \"Liaoning\", \"Ningxia\", \"Qinghai\", \"Shaanxi\", \"Shandong\", \"Shanghai\", \"Shanxi\", \"Sichuan\", \"Tianjin\", \"Tibet\", \"Xinjiang\", \"Yunnan\", \"Zhejiang\"], \"lat\": [31.82571, 40.18238, 30.05718, 26.07783, 36.0611, 23.33841, 23.82908, 26.81536, 19.19673, 38.0428, 47.862, 33.882020000000004, 30.97564, 27.61041, 44.09448, 32.97027, 27.61401, 43.66657, 41.29284000000001, 37.26923, 35.65945, 35.19165, 36.34377, 31.20327, 37.57769, 30.617140000000006, 39.29362, 30.1534, 41.11981, 24.97411, 29.18251], \"legendgroup\": \"\", \"lon\": [117.2264, 116.4142, 107.874, 117.9895, 103.8343, 113.422, 108.7881, 106.8748, 109.7455, 114.5149, 127.7622, 113.614, 112.2707, 111.7088, 113.9456, 119.464, 115.7221, 126.1917, 122.6086, 106.1655, 96.02564, 108.8701, 118.1529, 121.4554, 112.2922, 102.7103, 117.333, 88.7879, 85.17822, 101.4868, 120.0985], \"marker\": {\"color\": [29.32575659723036, 18.49324200890693, 22.47220505424423, 16.34013463836819, 9.273618495495704, 34.307433596816885, 14.66287829861518, 11.269427669584644, 12.0, 15.459624833740307, 18.973665961010276, 33.24154027718932, 182.6636252788168, 30.199337741083, 7.615773105863909, 22.693611435820433, 28.35489375751565, 9.0, 10.535653752852738, 7.280109889280518, 4.242640687119285, 14.798648586948742, 22.06807649071391, 17.406895185529212, 11.135528725660043, 20.42057785666214, 10.295630140987, 1.0, 7.416198487095663, 12.36931687685298, 33.421549934136806], \"coloraxis\": \"coloraxis\", \"size\": [29.32575659723036, 18.49324200890693, 22.47220505424423, 16.34013463836819, 9.273618495495704, 34.307433596816885, 14.66287829861518, 11.269427669584644, 12.0, 15.459624833740307, 18.973665961010276, 33.24154027718932, 182.6636252788168, 30.199337741083, 7.615773105863909, 22.693611435820433, 28.35489375751565, 9.0, 10.535653752852738, 7.280109889280518, 4.242640687119285, 14.798648586948742, 22.06807649071391, 17.406895185529212, 11.135528725660043, 20.42057785666214, 10.295630140987, 1.0, 7.416198487095663, 12.36931687685298, 33.421549934136806], \"sizemode\": \"area\", \"sizeref\": 0.603023631377743}, \"name\": \"\", \"showlegend\": false, \"type\": \"scattergeo\"}], \"name\": \"02/11/2020\"}, {\"data\": [{\"customdata\": [[889.0, 4.0, 127.0], [352.0, 3.0, 56.0], [518.0, 3.0, 102.0], [272.0, 0.0, 53.0], [87.0, 2.0, 31.0], [1219.0, 1.0, 275.0], [222.0, 1.0, 32.0], [133.0, 1.0, 18.0], [157.0, 4.0, 27.0], [251.0, 2.0, 54.0], [378.0, 8.0, 31.0], [1135.0, 8.0, 246.0], [33366.0, 1068.0, 2686.0], [946.0, 2.0, 304.0], [60.0, 0.0, 6.0], [543.0, 0.0, 125.0], [844.0, 1.0, 152.0], [83.0, 1.0, 22.0], [116.0, 1.0, 20.0], [58.0, 0.0, 24.0], [18.0, 0.0, 9.0], [225.0, 0.0, 43.0], [497.0, 2.0, 92.0], [311.0, 1.0, 57.0], [126.0, 0.0, 33.0], [436.0, 1.0, 92.0], [112.0, 2.0, 11.0], [1.0, 0.0, 1.0], [59.0, 0.0, 3.0], [154.0, 0.0, 26.0], [1131.0, 0.0, 321.0]], \"geo\": \"geo\", \"hoverlabel\": {\"namelength\": 0}, \"hovertemplate\": \"<b>%{hovertext}</b><br><br>Date=02/12/2020<br>size=%{marker.color}<br>Confirmed=%{customdata[0]}<br>Deaths=%{customdata[1]}<br>Recovered=%{customdata[2]}<br>Lat=%{lat}<br>Long=%{lon}\", \"hovertext\": [\"Anhui\", \"Beijing\", \"Chongqing\", \"Fujian\", \"Gansu\", \"Guangdong\", \"Guangxi\", \"Guizhou\", \"Hainan\", \"Hebei\", \"Heilongjiang\", \"Henan\", \"Hubei\", \"Hunan\", \"Inner Mongolia\", \"Jiangsu\", \"Jiangxi\", \"Jilin\", \"Liaoning\", \"Ningxia\", \"Qinghai\", \"Shaanxi\", \"Shandong\", \"Shanghai\", \"Shanxi\", \"Sichuan\", \"Tianjin\", \"Tibet\", \"Xinjiang\", \"Yunnan\", \"Zhejiang\"], \"lat\": [31.82571, 40.18238, 30.05718, 26.07783, 36.0611, 23.33841, 23.82908, 26.81536, 19.19673, 38.0428, 47.862, 33.882020000000004, 30.97564, 27.61041, 44.09448, 32.97027, 27.61401, 43.66657, 41.29284000000001, 37.26923, 35.65945, 35.19165, 36.34377, 31.20327, 37.57769, 30.617140000000006, 39.29362, 30.1534, 41.11981, 24.97411, 29.18251], \"legendgroup\": \"\", \"lon\": [117.2264, 116.4142, 107.874, 117.9895, 103.8343, 113.422, 108.7881, 106.8748, 109.7455, 114.5149, 127.7622, 113.614, 112.2707, 111.7088, 113.9456, 119.464, 115.7221, 126.1917, 122.6086, 106.1655, 96.02564, 108.8701, 118.1529, 121.4554, 112.2922, 102.7103, 117.333, 88.7879, 85.17822, 101.4868, 120.0985], \"marker\": {\"color\": [29.816103031751148, 18.76166303929372, 22.759613353482084, 16.492422502470642, 9.327379053088816, 34.91418050019218, 14.89966442575134, 11.532562594670797, 12.529964086141668, 15.84297951775486, 19.44222209522358, 33.689761055846034, 182.6636252788168, 30.757112998459398, 7.745966692414834, 23.302360395462088, 29.0516780926679, 9.1104335791443, 10.770329614269007, 7.615773105863909, 4.242640687119285, 15.0, 22.293496809607955, 17.635192088548397, 11.224972160321824, 20.8806130178211, 10.583005244258363, 1.0, 7.681145747868608, 12.409673645990857, 33.63034344160047], \"coloraxis\": \"coloraxis\", \"size\": [29.816103031751148, 18.76166303929372, 22.759613353482084, 16.492422502470642, 9.327379053088816, 34.91418050019218, 14.89966442575134, 11.532562594670797, 12.529964086141668, 15.84297951775486, 19.44222209522358, 33.689761055846034, 182.6636252788168, 30.757112998459398, 7.745966692414834, 23.302360395462088, 29.0516780926679, 9.1104335791443, 10.770329614269007, 7.615773105863909, 4.242640687119285, 15.0, 22.293496809607955, 17.635192088548397, 11.224972160321824, 20.8806130178211, 10.583005244258363, 1.0, 7.681145747868608, 12.409673645990857, 33.63034344160047], \"sizemode\": \"area\", \"sizeref\": 0.603023631377743}, \"name\": \"\", \"showlegend\": false, \"type\": \"scattergeo\"}], \"name\": \"02/12/2020\"}, {\"data\": [{\"customdata\": [[910.0, 5.0, 157.0], [366.0, 3.0, 69.0], [529.0, 4.0, 128.0], [279.0, 0.0, 57.0], [90.0, 2.0, 39.0], [1241.0, 2.0, 314.0], [222.0, 2.0, 33.0], [135.0, 1.0, 27.0], [157.0, 4.0, 30.0], [265.0, 3.0, 68.0], [395.0, 9.0, 33.0], [1169.0, 10.0, 296.0], [48206.0, 1310.0, 3459.0], [968.0, 2.0, 339.0], [61.0, 0.0, 6.0], [570.0, 0.0, 139.0], [872.0, 1.0, 170.0], [84.0, 1.0, 24.0], [117.0, 1.0, 22.0], [64.0, 0.0, 24.0], [18.0, 0.0, 11.0], [229.0, 0.0, 46.0], [509.0, 2.0, 105.0], [315.0, 1.0, 62.0], [126.0, 0.0, 36.0], [451.0, 1.0, 104.0], [119.0, 3.0, 21.0], [1.0, 0.0, 1.0], [63.0, 1.0, 6.0], [156.0, 0.0, 27.0], [1145.0, 0.0, 360.0]], \"geo\": \"geo\", \"hoverlabel\": {\"namelength\": 0}, \"hovertemplate\": \"<b>%{hovertext}</b><br><br>Date=02/13/2020<br>size=%{marker.color}<br>Confirmed=%{customdata[0]}<br>Deaths=%{customdata[1]}<br>Recovered=%{customdata[2]}<br>Lat=%{lat}<br>Long=%{lon}\", \"hovertext\": [\"Anhui\", \"Beijing\", \"Chongqing\", \"Fujian\", \"Gansu\", \"Guangdong\", \"Guangxi\", \"Guizhou\", \"Hainan\", \"Hebei\", \"Heilongjiang\", \"Henan\", \"Hubei\", \"Hunan\", \"Inner Mongolia\", \"Jiangsu\", \"Jiangxi\", \"Jilin\", \"Liaoning\", \"Ningxia\", \"Qinghai\", \"Shaanxi\", \"Shandong\", \"Shanghai\", \"Shanxi\", \"Sichuan\", \"Tianjin\", \"Tibet\", \"Xinjiang\", \"Yunnan\", \"Zhejiang\"], \"lat\": [31.82571, 40.18238, 30.05718, 26.07783, 36.0611, 23.33841, 23.82908, 26.81536, 19.19673, 38.0428, 47.862, 33.882020000000004, 30.97564, 27.61041, 44.09448, 32.97027, 27.61401, 43.66657, 41.29284000000001, 37.26923, 35.65945, 35.19165, 36.34377, 31.20327, 37.57769, 30.617140000000006, 39.29362, 30.1534, 41.11981, 24.97411, 29.18251], \"legendgroup\": \"\", \"lon\": [117.2264, 116.4142, 107.874, 117.9895, 103.8343, 113.422, 108.7881, 106.8748, 109.7455, 114.5149, 127.7622, 113.614, 112.2707, 111.7088, 113.9456, 119.464, 115.7221, 126.1917, 122.6086, 106.1655, 96.02564, 108.8701, 118.1529, 121.4554, 112.2922, 102.7103, 117.333, 88.7879, 85.17822, 101.4868, 120.0985], \"marker\": {\"color\": [30.166206257996713, 19.131126469708992, 23.0, 16.703293088490067, 9.486832980505138, 35.22782990761707, 14.89966442575134, 11.61895003862225, 12.529964086141668, 16.278820596099706, 19.87460691435179, 34.19064199455752, 219.5586482013405, 31.11269837220809, 7.810249675906654, 23.874672772626646, 29.5296461204668, 9.16515138991168, 10.816653826391969, 8.0, 4.242640687119285, 15.132745950421556, 22.561028345356956, 17.74823934929885, 11.224972160321824, 21.236760581595302, 10.908712114635714, 1.0, 7.937253933193772, 12.489995996796797, 33.83784863137726], \"coloraxis\": \"coloraxis\", \"size\": [30.166206257996713, 19.131126469708992, 23.0, 16.703293088490067, 9.486832980505138, 35.22782990761707, 14.89966442575134, 11.61895003862225, 12.529964086141668, 16.278820596099706, 19.87460691435179, 34.19064199455752, 219.5586482013405, 31.11269837220809, 7.810249675906654, 23.874672772626646, 29.5296461204668, 9.16515138991168, 10.816653826391969, 8.0, 4.242640687119285, 15.132745950421556, 22.561028345356956, 17.74823934929885, 11.224972160321824, 21.236760581595302, 10.908712114635714, 1.0, 7.937253933193772, 12.489995996796797, 33.83784863137726], \"sizemode\": \"area\", \"sizeref\": 0.603023631377743}, \"name\": \"\", \"showlegend\": false, \"type\": \"scattergeo\"}], \"name\": \"02/13/2020\"}, {\"data\": [{\"customdata\": [[934.0, 6.0, 193.0], [372.0, 3.0, 80.0], [537.0, 5.0, 152.0], [281.0, 0.0, 63.0], [90.0, 2.0, 39.0], [1261.0, 2.0, 362.0], [226.0, 2.0, 36.0], [140.0, 1.0, 28.0], [159.0, 4.0, 43.0], [283.0, 3.0, 87.0], [419.0, 11.0, 47.0], [1184.0, 11.0, 357.0], [54406.0, 1457.0, 4774.0], [988.0, 2.0, 364.0], [65.0, 0.0, 6.0], [593.0, 0.0, 157.0], [900.0, 1.0, 187.0], [86.0, 1.0, 25.0], [119.0, 1.0, 29.0], [67.0, 0.0, 24.0], [18.0, 0.0, 11.0], [230.0, 0.0, 54.0], [523.0, 2.0, 136.0], [318.0, 1.0, 90.0], [127.0, 0.0, 38.0], [463.0, 1.0, 114.0], [120.0, 3.0, 31.0], [1.0, 0.0, 1.0], [65.0, 1.0, 6.0], [162.0, 0.0, 36.0], [1155.0, 0.0, 403.0]], \"geo\": \"geo\", \"hoverlabel\": {\"namelength\": 0}, \"hovertemplate\": \"<b>%{hovertext}</b><br><br>Date=02/14/2020<br>size=%{marker.color}<br>Confirmed=%{customdata[0]}<br>Deaths=%{customdata[1]}<br>Recovered=%{customdata[2]}<br>Lat=%{lat}<br>Long=%{lon}\", \"hovertext\": [\"Anhui\", \"Beijing\", \"Chongqing\", \"Fujian\", \"Gansu\", \"Guangdong\", \"Guangxi\", \"Guizhou\", \"Hainan\", \"Hebei\", \"Heilongjiang\", \"Henan\", \"Hubei\", \"Hunan\", \"Inner Mongolia\", \"Jiangsu\", \"Jiangxi\", \"Jilin\", \"Liaoning\", \"Ningxia\", \"Qinghai\", \"Shaanxi\", \"Shandong\", \"Shanghai\", \"Shanxi\", \"Sichuan\", \"Tianjin\", \"Tibet\", \"Xinjiang\", \"Yunnan\", \"Zhejiang\"], \"lat\": [31.82571, 40.18238, 30.05718, 26.07783, 36.0611, 23.33841, 23.82908, 26.81536, 19.19673, 38.0428, 47.862, 33.882020000000004, 30.97564, 27.61041, 44.09448, 32.97027, 27.61401, 43.66657, 41.29284000000001, 37.26923, 35.65945, 35.19165, 36.34377, 31.20327, 37.57769, 30.617140000000006, 39.29362, 30.1534, 41.11981, 24.97411, 29.18251], \"legendgroup\": \"\", \"lon\": [117.2264, 116.4142, 107.874, 117.9895, 103.8343, 113.422, 108.7881, 106.8748, 109.7455, 114.5149, 127.7622, 113.614, 112.2707, 111.7088, 113.9456, 119.464, 115.7221, 126.1917, 122.6086, 106.1655, 96.02564, 108.8701, 118.1529, 121.4554, 112.2922, 102.7103, 117.333, 88.7879, 85.17822, 101.4868, 120.0985], \"marker\": {\"color\": [30.56141357987225, 19.28730152198591, 23.173260452512935, 16.76305461424021, 9.486832980505138, 35.510561809129406, 15.033296378372908, 11.832159566199232, 12.609520212918492, 16.822603841260722, 20.46948949045872, 34.40930106817051, 233.25093783305567, 31.432467291003423, 8.06225774829855, 24.351591323771842, 30.0, 9.273618495495704, 10.908712114635714, 8.18535277187245, 4.242640687119285, 15.165750888103101, 22.869193252058544, 17.832554500127006, 11.269427669584644, 21.517434791350013, 10.954451150103322, 1.0, 8.06225774829855, 12.727922061357855, 33.98529093593286], \"coloraxis\": \"coloraxis\", \"size\": [30.56141357987225, 19.28730152198591, 23.173260452512935, 16.76305461424021, 9.486832980505138, 35.510561809129406, 15.033296378372908, 11.832159566199232, 12.609520212918492, 16.822603841260722, 20.46948949045872, 34.40930106817051, 233.25093783305567, 31.432467291003423, 8.06225774829855, 24.351591323771842, 30.0, 9.273618495495704, 10.908712114635714, 8.18535277187245, 4.242640687119285, 15.165750888103101, 22.869193252058544, 17.832554500127006, 11.269427669584644, 21.517434791350013, 10.954451150103322, 1.0, 8.06225774829855, 12.727922061357855, 33.98529093593286], \"sizemode\": \"area\", \"sizeref\": 0.603023631377743}, \"name\": \"\", \"showlegend\": false, \"type\": \"scattergeo\"}], \"name\": \"02/14/2020\"}, {\"data\": [{\"customdata\": [[950.0, 6.0, 221.0], [375.0, 4.0, 98.0], [544.0, 5.0, 184.0], [285.0, 0.0, 71.0], [90.0, 2.0, 49.0], [1294.0, 2.0, 410.0], [235.0, 2.0, 44.0], [143.0, 1.0, 41.0], [162.0, 4.0, 39.0], [291.0, 3.0, 101.0], [425.0, 11.0, 68.0], [1212.0, 13.0, 391.0], [56249.0, 1596.0, 5623.0], [1001.0, 2.0, 425.0], [68.0, 0.0, 7.0], [604.0, 0.0, 186.0], [913.0, 1.0, 210.0], [88.0, 1.0, 26.0], [119.0, 1.0, 31.0], [70.0, 0.0, 33.0], [18.0, 0.0, 13.0], [232.0, 0.0, 60.0], [532.0, 2.0, 156.0], [326.0, 1.0, 124.0], [128.0, 0.0, 46.0], [470.0, 1.0, 119.0], [122.0, 3.0, 37.0], [1.0, 0.0, 1.0], [70.0, 1.0, 10.0], [168.0, 0.0, 42.0], [1162.0, 0.0, 428.0]], \"geo\": \"geo\", \"hoverlabel\": {\"namelength\": 0}, \"hovertemplate\": \"<b>%{hovertext}</b><br><br>Date=02/15/2020<br>size=%{marker.color}<br>Confirmed=%{customdata[0]}<br>Deaths=%{customdata[1]}<br>Recovered=%{customdata[2]}<br>Lat=%{lat}<br>Long=%{lon}\", \"hovertext\": [\"Anhui\", \"Beijing\", \"Chongqing\", \"Fujian\", \"Gansu\", \"Guangdong\", \"Guangxi\", \"Guizhou\", \"Hainan\", \"Hebei\", \"Heilongjiang\", \"Henan\", \"Hubei\", \"Hunan\", \"Inner Mongolia\", \"Jiangsu\", \"Jiangxi\", \"Jilin\", \"Liaoning\", \"Ningxia\", \"Qinghai\", \"Shaanxi\", \"Shandong\", \"Shanghai\", \"Shanxi\", \"Sichuan\", \"Tianjin\", \"Tibet\", \"Xinjiang\", \"Yunnan\", \"Zhejiang\"], \"lat\": [31.82571, 40.18238, 30.05718, 26.07783, 36.0611, 23.33841, 23.82908, 26.81536, 19.19673, 38.0428, 47.862, 33.882020000000004, 30.97564, 27.61041, 44.09448, 32.97027, 27.61401, 43.66657, 41.29284000000001, 37.26923, 35.65945, 35.19165, 36.34377, 31.20327, 37.57769, 30.617140000000006, 39.29362, 30.1534, 41.11981, 24.97411, 29.18251], \"legendgroup\": \"\", \"lon\": [117.2264, 116.4142, 107.874, 117.9895, 103.8343, 113.422, 108.7881, 106.8748, 109.7455, 114.5149, 127.7622, 113.614, 112.2707, 111.7088, 113.9456, 119.464, 115.7221, 126.1917, 122.6086, 106.1655, 96.02564, 108.8701, 118.1529, 121.4554, 112.2922, 102.7103, 117.333, 88.7879, 85.17822, 101.4868, 120.0985], \"marker\": {\"color\": [30.822070014844883, 19.364916731037084, 23.323807579381203, 16.881943016134134, 9.486832980505138, 35.9722114972099, 15.329709716755891, 11.958260743101398, 12.727922061357855, 17.05872210923198, 20.615528128088304, 34.813790371058424, 237.16871631815187, 31.63858403911275, 8.246211251235321, 24.576411454889016, 30.215889859476256, 9.38083151964686, 10.908712114635714, 8.366600265340756, 4.242640687119285, 15.231546211727817, 23.065125189341593, 18.05547008526779, 11.313708498984761, 21.6794833886788, 11.045361017187261, 1.0, 8.366600265340756, 12.96148139681572, 34.08812109811862], \"coloraxis\": \"coloraxis\", \"size\": [30.822070014844883, 19.364916731037084, 23.323807579381203, 16.881943016134134, 9.486832980505138, 35.9722114972099, 15.329709716755891, 11.958260743101398, 12.727922061357855, 17.05872210923198, 20.615528128088304, 34.813790371058424, 237.16871631815187, 31.63858403911275, 8.246211251235321, 24.576411454889016, 30.215889859476256, 9.38083151964686, 10.908712114635714, 8.366600265340756, 4.242640687119285, 15.231546211727817, 23.065125189341593, 18.05547008526779, 11.313708498984761, 21.6794833886788, 11.045361017187261, 1.0, 8.366600265340756, 12.96148139681572, 34.08812109811862], \"sizemode\": \"area\", \"sizeref\": 0.603023631377743}, \"name\": \"\", \"showlegend\": false, \"type\": \"scattergeo\"}], \"name\": \"02/15/2020\"}, {\"data\": [{\"customdata\": [[962.0, 6.0, 255.0], [380.0, 4.0, 108.0], [551.0, 5.0, 207.0], [287.0, 0.0, 82.0], [90.0, 2.0, 54.0], [1316.0, 2.0, 465.0], [237.0, 2.0, 49.0], [144.0, 1.0, 46.0], [162.0, 4.0, 52.0], [300.0, 3.0, 105.0], [445.0, 11.0, 79.0], [1231.0, 13.0, 440.0], [58182.0, 1696.0, 6639.0], [1004.0, 3.0, 464.0], [70.0, 0.0, 8.0], [617.0, 0.0, 218.0], [925.0, 1.0, 240.0], [89.0, 1.0, 30.0], [121.0, 1.0, 40.0], [70.0, 0.0, 33.0], [18.0, 0.0, 13.0], [236.0, 0.0, 71.0], [537.0, 2.0, 173.0], [328.0, 1.0, 140.0], [129.0, 0.0, 50.0], [481.0, 3.0, 131.0], [124.0, 3.0, 45.0], [1.0, 0.0, 1.0], [71.0, 1.0, 12.0], [171.0, 0.0, 42.0], [1167.0, 0.0, 456.0]], \"geo\": \"geo\", \"hoverlabel\": {\"namelength\": 0}, \"hovertemplate\": \"<b>%{hovertext}</b><br><br>Date=02/16/2020<br>size=%{marker.color}<br>Confirmed=%{customdata[0]}<br>Deaths=%{customdata[1]}<br>Recovered=%{customdata[2]}<br>Lat=%{lat}<br>Long=%{lon}\", \"hovertext\": [\"Anhui\", \"Beijing\", \"Chongqing\", \"Fujian\", \"Gansu\", \"Guangdong\", \"Guangxi\", \"Guizhou\", \"Hainan\", \"Hebei\", \"Heilongjiang\", \"Henan\", \"Hubei\", \"Hunan\", \"Inner Mongolia\", \"Jiangsu\", \"Jiangxi\", \"Jilin\", \"Liaoning\", \"Ningxia\", \"Qinghai\", \"Shaanxi\", \"Shandong\", \"Shanghai\", \"Shanxi\", \"Sichuan\", \"Tianjin\", \"Tibet\", \"Xinjiang\", \"Yunnan\", \"Zhejiang\"], \"lat\": [31.82571, 40.18238, 30.05718, 26.07783, 36.0611, 23.33841, 23.82908, 26.81536, 19.19673, 38.0428, 47.862, 33.882020000000004, 30.97564, 27.61041, 44.09448, 32.97027, 27.61401, 43.66657, 41.29284000000001, 37.26923, 35.65945, 35.19165, 36.34377, 31.20327, 37.57769, 30.617140000000006, 39.29362, 30.1534, 41.11981, 24.97411, 29.18251], \"legendgroup\": \"\", \"lon\": [117.2264, 116.4142, 107.874, 117.9895, 103.8343, 113.422, 108.7881, 106.8748, 109.7455, 114.5149, 127.7622, 113.614, 112.2707, 111.7088, 113.9456, 119.464, 115.7221, 126.1917, 122.6086, 106.1655, 96.02564, 108.8701, 118.1529, 121.4554, 112.2922, 102.7103, 117.333, 88.7879, 85.17822, 101.4868, 120.0985], \"marker\": {\"color\": [31.016124838541646, 19.493588689617926, 23.473389188611005, 16.941074346097416, 9.486832980505138, 36.27671429443411, 15.394804318340652, 12.0, 12.727922061357855, 17.320508075688775, 21.095023109728988, 35.08560958569767, 241.20945255109717, 31.68595903550972, 8.366600265340756, 24.839484696748443, 30.4138126514911, 9.433981132056603, 11.0, 8.366600265340756, 4.242640687119285, 15.362291495737216, 23.173260452512935, 18.110770276274835, 11.357816691600547, 21.93171219946131, 11.135528725660043, 1.0, 8.426149773176359, 13.076696830622021, 34.161381705077446], \"coloraxis\": \"coloraxis\", \"size\": [31.016124838541646, 19.493588689617926, 23.473389188611005, 16.941074346097416, 9.486832980505138, 36.27671429443411, 15.394804318340652, 12.0, 12.727922061357855, 17.320508075688775, 21.095023109728988, 35.08560958569767, 241.20945255109717, 31.68595903550972, 8.366600265340756, 24.839484696748443, 30.4138126514911, 9.433981132056603, 11.0, 8.366600265340756, 4.242640687119285, 15.362291495737216, 23.173260452512935, 18.110770276274835, 11.357816691600547, 21.93171219946131, 11.135528725660043, 1.0, 8.426149773176359, 13.076696830622021, 34.161381705077446], \"sizemode\": \"area\", \"sizeref\": 0.603023631377743}, \"name\": \"\", \"showlegend\": false, \"type\": \"scattergeo\"}], \"name\": \"02/16/2020\"}]);\n",
       "                        }).then(function(){\n",
       "                            \n",
       "var gd = document.getElementById('d9b1d986-ccff-4ef2-8121-d6a11d7913d8');\n",
       "var x = new MutationObserver(function (mutations, observer) {{\n",
       "        var display = window.getComputedStyle(gd).display;\n",
       "        if (!display || display === 'none') {{\n",
       "            console.log([gd, 'removed!']);\n",
       "            Plotly.purge(gd);\n",
       "            observer.disconnect();\n",
       "        }}\n",
       "}});\n",
       "\n",
       "// Listen for the removal of the full notebook cells\n",
       "var notebookContainer = gd.closest('#notebook-container');\n",
       "if (notebookContainer) {{\n",
       "    x.observe(notebookContainer, {childList: true});\n",
       "}}\n",
       "\n",
       "// Listen for the clearing of the current output cell\n",
       "var outputEl = gd.closest('.output');\n",
       "if (outputEl) {{\n",
       "    x.observe(outputEl, {childList: true});\n",
       "}}\n",
       "\n",
       "                        })\n",
       "                };\n",
       "                });\n",
       "            </script>\n",
       "        </div>"
      ]
     },
     "metadata": {},
     "output_type": "display_data"
    }
   ],
   "source": [
    "gdf = full_table.groupby(['Date', 'Country/Region'])['Confirmed', 'Deaths', 'Recovered'].max().reset_index()\n",
    "formated_gdf = gdf.copy()\n",
    "formated_gdf = formated_gdf[formated_gdf['Country/Region']!='China']\n",
    "formated_gdf['Date'] = pd.to_datetime(formated_gdf['Date'])\n",
    "formated_gdf['Date'] = formated_gdf['Date'].dt.strftime('%m/%d/%Y')\n",
    "\n",
    "fig = px.scatter_geo(formated_gdf[formated_gdf['Country/Region']!='China'], locations=\"Country/Region\", locationmode='country names', \n",
    "                     color=\"Confirmed\", size='Confirmed', hover_name=\"Country/Region\", range_color= [0, max(formated_gdf['Confirmed'])+2], \n",
    "                     projection=\"natural earth\", animation_frame=\"Date\", title='Spread outside China over time')\n",
    "fig.update(layout_coloraxis_showscale=False)\n",
    "fig.show()\n",
    "\n",
    "# -----------------------------------------------------------------------------------\n",
    "\n",
    "china_map = china.groupby(['Date', 'Province/State'])['Confirmed', 'Deaths', 'Recovered', 'Lat', 'Long'].max().reset_index()\n",
    "china_map['size'] = china_map['Confirmed'].pow(0.5)\n",
    "china_map['Date'] = pd.to_datetime(china_map['Date'])\n",
    "china_map['Date'] = china_map['Date'].dt.strftime('%m/%d/%Y')\n",
    "china_map.head()\n",
    "\n",
    "fig = px.scatter_geo(china_map, lat='Lat', lon='Long', scope='asia',\n",
    "                     color=\"size\", size='size', hover_name='Province/State', hover_data=['Confirmed', 'Deaths', 'Recovered'],\n",
    "                     projection=\"natural earth\", animation_frame=\"Date\", title='Spread in China over time')\n",
    "fig.update(layout_coloraxis_showscale=False)\n",
    "fig.show()"
   ]
  },
  {
   "cell_type": "code",
   "execution_count": 53,
   "metadata": {
    "scrolled": false
   },
   "outputs": [
    {
     "data": {
      "application/vnd.plotly.v1+json": {
       "config": {
        "plotlyServerURL": "https://plot.ly"
       },
       "data": [
        {
         "hoverlabel": {
          "namelength": 0
         },
         "hovertemplate": "Date=%{x}<br>Province/State=%{y}",
         "legendgroup": "",
         "line": {
          "color": "#636efa",
          "dash": "solid"
         },
         "mode": "lines",
         "name": "",
         "showlegend": false,
         "type": "scatter",
         "x": [
          "2020-01-22T00:00:00",
          "2020-01-23T00:00:00",
          "2020-01-24T00:00:00",
          "2020-01-25T00:00:00",
          "2020-01-26T00:00:00",
          "2020-01-27T00:00:00",
          "2020-01-28T00:00:00",
          "2020-01-29T00:00:00",
          "2020-01-30T00:00:00",
          "2020-01-31T00:00:00",
          "2020-02-01T00:00:00",
          "2020-02-02T00:00:00",
          "2020-02-03T00:00:00",
          "2020-02-04T00:00:00",
          "2020-02-05T00:00:00",
          "2020-02-06T00:00:00",
          "2020-02-07T00:00:00",
          "2020-02-08T00:00:00",
          "2020-02-09T00:00:00",
          "2020-02-10T00:00:00",
          "2020-02-11T00:00:00",
          "2020-02-12T00:00:00",
          "2020-02-13T00:00:00",
          "2020-02-14T00:00:00",
          "2020-02-15T00:00:00",
          "2020-02-16T00:00:00"
         ],
         "xaxis": "x",
         "y": [
          23,
          28,
          29,
          30,
          30,
          30,
          30,
          30,
          31,
          31,
          31,
          31,
          31,
          31,
          31,
          31,
          31,
          31,
          31,
          31,
          31,
          31,
          31,
          31,
          31,
          31
         ],
         "yaxis": "y"
        }
       ],
       "layout": {
        "legend": {
         "tracegroupgap": 0
        },
        "template": {
         "data": {
          "bar": [
           {
            "error_x": {
             "color": "#2a3f5f"
            },
            "error_y": {
             "color": "#2a3f5f"
            },
            "marker": {
             "line": {
              "color": "#E5ECF6",
              "width": 0.5
             }
            },
            "type": "bar"
           }
          ],
          "barpolar": [
           {
            "marker": {
             "line": {
              "color": "#E5ECF6",
              "width": 0.5
             }
            },
            "type": "barpolar"
           }
          ],
          "carpet": [
           {
            "aaxis": {
             "endlinecolor": "#2a3f5f",
             "gridcolor": "white",
             "linecolor": "white",
             "minorgridcolor": "white",
             "startlinecolor": "#2a3f5f"
            },
            "baxis": {
             "endlinecolor": "#2a3f5f",
             "gridcolor": "white",
             "linecolor": "white",
             "minorgridcolor": "white",
             "startlinecolor": "#2a3f5f"
            },
            "type": "carpet"
           }
          ],
          "choropleth": [
           {
            "colorbar": {
             "outlinewidth": 0,
             "ticks": ""
            },
            "type": "choropleth"
           }
          ],
          "contour": [
           {
            "colorbar": {
             "outlinewidth": 0,
             "ticks": ""
            },
            "colorscale": [
             [
              0,
              "#0d0887"
             ],
             [
              0.1111111111111111,
              "#46039f"
             ],
             [
              0.2222222222222222,
              "#7201a8"
             ],
             [
              0.3333333333333333,
              "#9c179e"
             ],
             [
              0.4444444444444444,
              "#bd3786"
             ],
             [
              0.5555555555555556,
              "#d8576b"
             ],
             [
              0.6666666666666666,
              "#ed7953"
             ],
             [
              0.7777777777777778,
              "#fb9f3a"
             ],
             [
              0.8888888888888888,
              "#fdca26"
             ],
             [
              1,
              "#f0f921"
             ]
            ],
            "type": "contour"
           }
          ],
          "contourcarpet": [
           {
            "colorbar": {
             "outlinewidth": 0,
             "ticks": ""
            },
            "type": "contourcarpet"
           }
          ],
          "heatmap": [
           {
            "colorbar": {
             "outlinewidth": 0,
             "ticks": ""
            },
            "colorscale": [
             [
              0,
              "#0d0887"
             ],
             [
              0.1111111111111111,
              "#46039f"
             ],
             [
              0.2222222222222222,
              "#7201a8"
             ],
             [
              0.3333333333333333,
              "#9c179e"
             ],
             [
              0.4444444444444444,
              "#bd3786"
             ],
             [
              0.5555555555555556,
              "#d8576b"
             ],
             [
              0.6666666666666666,
              "#ed7953"
             ],
             [
              0.7777777777777778,
              "#fb9f3a"
             ],
             [
              0.8888888888888888,
              "#fdca26"
             ],
             [
              1,
              "#f0f921"
             ]
            ],
            "type": "heatmap"
           }
          ],
          "heatmapgl": [
           {
            "colorbar": {
             "outlinewidth": 0,
             "ticks": ""
            },
            "colorscale": [
             [
              0,
              "#0d0887"
             ],
             [
              0.1111111111111111,
              "#46039f"
             ],
             [
              0.2222222222222222,
              "#7201a8"
             ],
             [
              0.3333333333333333,
              "#9c179e"
             ],
             [
              0.4444444444444444,
              "#bd3786"
             ],
             [
              0.5555555555555556,
              "#d8576b"
             ],
             [
              0.6666666666666666,
              "#ed7953"
             ],
             [
              0.7777777777777778,
              "#fb9f3a"
             ],
             [
              0.8888888888888888,
              "#fdca26"
             ],
             [
              1,
              "#f0f921"
             ]
            ],
            "type": "heatmapgl"
           }
          ],
          "histogram": [
           {
            "marker": {
             "colorbar": {
              "outlinewidth": 0,
              "ticks": ""
             }
            },
            "type": "histogram"
           }
          ],
          "histogram2d": [
           {
            "colorbar": {
             "outlinewidth": 0,
             "ticks": ""
            },
            "colorscale": [
             [
              0,
              "#0d0887"
             ],
             [
              0.1111111111111111,
              "#46039f"
             ],
             [
              0.2222222222222222,
              "#7201a8"
             ],
             [
              0.3333333333333333,
              "#9c179e"
             ],
             [
              0.4444444444444444,
              "#bd3786"
             ],
             [
              0.5555555555555556,
              "#d8576b"
             ],
             [
              0.6666666666666666,
              "#ed7953"
             ],
             [
              0.7777777777777778,
              "#fb9f3a"
             ],
             [
              0.8888888888888888,
              "#fdca26"
             ],
             [
              1,
              "#f0f921"
             ]
            ],
            "type": "histogram2d"
           }
          ],
          "histogram2dcontour": [
           {
            "colorbar": {
             "outlinewidth": 0,
             "ticks": ""
            },
            "colorscale": [
             [
              0,
              "#0d0887"
             ],
             [
              0.1111111111111111,
              "#46039f"
             ],
             [
              0.2222222222222222,
              "#7201a8"
             ],
             [
              0.3333333333333333,
              "#9c179e"
             ],
             [
              0.4444444444444444,
              "#bd3786"
             ],
             [
              0.5555555555555556,
              "#d8576b"
             ],
             [
              0.6666666666666666,
              "#ed7953"
             ],
             [
              0.7777777777777778,
              "#fb9f3a"
             ],
             [
              0.8888888888888888,
              "#fdca26"
             ],
             [
              1,
              "#f0f921"
             ]
            ],
            "type": "histogram2dcontour"
           }
          ],
          "mesh3d": [
           {
            "colorbar": {
             "outlinewidth": 0,
             "ticks": ""
            },
            "type": "mesh3d"
           }
          ],
          "parcoords": [
           {
            "line": {
             "colorbar": {
              "outlinewidth": 0,
              "ticks": ""
             }
            },
            "type": "parcoords"
           }
          ],
          "pie": [
           {
            "automargin": true,
            "type": "pie"
           }
          ],
          "scatter": [
           {
            "marker": {
             "colorbar": {
              "outlinewidth": 0,
              "ticks": ""
             }
            },
            "type": "scatter"
           }
          ],
          "scatter3d": [
           {
            "line": {
             "colorbar": {
              "outlinewidth": 0,
              "ticks": ""
             }
            },
            "marker": {
             "colorbar": {
              "outlinewidth": 0,
              "ticks": ""
             }
            },
            "type": "scatter3d"
           }
          ],
          "scattercarpet": [
           {
            "marker": {
             "colorbar": {
              "outlinewidth": 0,
              "ticks": ""
             }
            },
            "type": "scattercarpet"
           }
          ],
          "scattergeo": [
           {
            "marker": {
             "colorbar": {
              "outlinewidth": 0,
              "ticks": ""
             }
            },
            "type": "scattergeo"
           }
          ],
          "scattergl": [
           {
            "marker": {
             "colorbar": {
              "outlinewidth": 0,
              "ticks": ""
             }
            },
            "type": "scattergl"
           }
          ],
          "scattermapbox": [
           {
            "marker": {
             "colorbar": {
              "outlinewidth": 0,
              "ticks": ""
             }
            },
            "type": "scattermapbox"
           }
          ],
          "scatterpolar": [
           {
            "marker": {
             "colorbar": {
              "outlinewidth": 0,
              "ticks": ""
             }
            },
            "type": "scatterpolar"
           }
          ],
          "scatterpolargl": [
           {
            "marker": {
             "colorbar": {
              "outlinewidth": 0,
              "ticks": ""
             }
            },
            "type": "scatterpolargl"
           }
          ],
          "scatterternary": [
           {
            "marker": {
             "colorbar": {
              "outlinewidth": 0,
              "ticks": ""
             }
            },
            "type": "scatterternary"
           }
          ],
          "surface": [
           {
            "colorbar": {
             "outlinewidth": 0,
             "ticks": ""
            },
            "colorscale": [
             [
              0,
              "#0d0887"
             ],
             [
              0.1111111111111111,
              "#46039f"
             ],
             [
              0.2222222222222222,
              "#7201a8"
             ],
             [
              0.3333333333333333,
              "#9c179e"
             ],
             [
              0.4444444444444444,
              "#bd3786"
             ],
             [
              0.5555555555555556,
              "#d8576b"
             ],
             [
              0.6666666666666666,
              "#ed7953"
             ],
             [
              0.7777777777777778,
              "#fb9f3a"
             ],
             [
              0.8888888888888888,
              "#fdca26"
             ],
             [
              1,
              "#f0f921"
             ]
            ],
            "type": "surface"
           }
          ],
          "table": [
           {
            "cells": {
             "fill": {
              "color": "#EBF0F8"
             },
             "line": {
              "color": "white"
             }
            },
            "header": {
             "fill": {
              "color": "#C8D4E3"
             },
             "line": {
              "color": "white"
             }
            },
            "type": "table"
           }
          ]
         },
         "layout": {
          "annotationdefaults": {
           "arrowcolor": "#2a3f5f",
           "arrowhead": 0,
           "arrowwidth": 1
          },
          "coloraxis": {
           "colorbar": {
            "outlinewidth": 0,
            "ticks": ""
           }
          },
          "colorscale": {
           "diverging": [
            [
             0,
             "#8e0152"
            ],
            [
             0.1,
             "#c51b7d"
            ],
            [
             0.2,
             "#de77ae"
            ],
            [
             0.3,
             "#f1b6da"
            ],
            [
             0.4,
             "#fde0ef"
            ],
            [
             0.5,
             "#f7f7f7"
            ],
            [
             0.6,
             "#e6f5d0"
            ],
            [
             0.7,
             "#b8e186"
            ],
            [
             0.8,
             "#7fbc41"
            ],
            [
             0.9,
             "#4d9221"
            ],
            [
             1,
             "#276419"
            ]
           ],
           "sequential": [
            [
             0,
             "#0d0887"
            ],
            [
             0.1111111111111111,
             "#46039f"
            ],
            [
             0.2222222222222222,
             "#7201a8"
            ],
            [
             0.3333333333333333,
             "#9c179e"
            ],
            [
             0.4444444444444444,
             "#bd3786"
            ],
            [
             0.5555555555555556,
             "#d8576b"
            ],
            [
             0.6666666666666666,
             "#ed7953"
            ],
            [
             0.7777777777777778,
             "#fb9f3a"
            ],
            [
             0.8888888888888888,
             "#fdca26"
            ],
            [
             1,
             "#f0f921"
            ]
           ],
           "sequentialminus": [
            [
             0,
             "#0d0887"
            ],
            [
             0.1111111111111111,
             "#46039f"
            ],
            [
             0.2222222222222222,
             "#7201a8"
            ],
            [
             0.3333333333333333,
             "#9c179e"
            ],
            [
             0.4444444444444444,
             "#bd3786"
            ],
            [
             0.5555555555555556,
             "#d8576b"
            ],
            [
             0.6666666666666666,
             "#ed7953"
            ],
            [
             0.7777777777777778,
             "#fb9f3a"
            ],
            [
             0.8888888888888888,
             "#fdca26"
            ],
            [
             1,
             "#f0f921"
            ]
           ]
          },
          "colorway": [
           "#636efa",
           "#EF553B",
           "#00cc96",
           "#ab63fa",
           "#FFA15A",
           "#19d3f3",
           "#FF6692",
           "#B6E880",
           "#FF97FF",
           "#FECB52"
          ],
          "font": {
           "color": "#2a3f5f"
          },
          "geo": {
           "bgcolor": "white",
           "lakecolor": "white",
           "landcolor": "#E5ECF6",
           "showlakes": true,
           "showland": true,
           "subunitcolor": "white"
          },
          "hoverlabel": {
           "align": "left"
          },
          "hovermode": "closest",
          "mapbox": {
           "style": "light"
          },
          "paper_bgcolor": "white",
          "plot_bgcolor": "#E5ECF6",
          "polar": {
           "angularaxis": {
            "gridcolor": "white",
            "linecolor": "white",
            "ticks": ""
           },
           "bgcolor": "#E5ECF6",
           "radialaxis": {
            "gridcolor": "white",
            "linecolor": "white",
            "ticks": ""
           }
          },
          "scene": {
           "xaxis": {
            "backgroundcolor": "#E5ECF6",
            "gridcolor": "white",
            "gridwidth": 2,
            "linecolor": "white",
            "showbackground": true,
            "ticks": "",
            "zerolinecolor": "white"
           },
           "yaxis": {
            "backgroundcolor": "#E5ECF6",
            "gridcolor": "white",
            "gridwidth": 2,
            "linecolor": "white",
            "showbackground": true,
            "ticks": "",
            "zerolinecolor": "white"
           },
           "zaxis": {
            "backgroundcolor": "#E5ECF6",
            "gridcolor": "white",
            "gridwidth": 2,
            "linecolor": "white",
            "showbackground": true,
            "ticks": "",
            "zerolinecolor": "white"
           }
          },
          "shapedefaults": {
           "line": {
            "color": "#2a3f5f"
           }
          },
          "ternary": {
           "aaxis": {
            "gridcolor": "white",
            "linecolor": "white",
            "ticks": ""
           },
           "baxis": {
            "gridcolor": "white",
            "linecolor": "white",
            "ticks": ""
           },
           "bgcolor": "#E5ECF6",
           "caxis": {
            "gridcolor": "white",
            "linecolor": "white",
            "ticks": ""
           }
          },
          "title": {
           "x": 0.05
          },
          "xaxis": {
           "automargin": true,
           "gridcolor": "white",
           "linecolor": "white",
           "ticks": "",
           "title": {
            "standoff": 15
           },
           "zerolinecolor": "white",
           "zerolinewidth": 2
          },
          "yaxis": {
           "automargin": true,
           "gridcolor": "white",
           "linecolor": "white",
           "ticks": "",
           "title": {
            "standoff": 15
           },
           "zerolinecolor": "white",
           "zerolinewidth": 2
          }
         }
        },
        "title": {
         "text": "Number of Provinces/States/Regions of China to which COVID-19 spread over the time"
        },
        "xaxis": {
         "anchor": "y",
         "domain": [
          0,
          1
         ],
         "title": {
          "text": "Date"
         }
        },
        "yaxis": {
         "anchor": "x",
         "domain": [
          0,
          1
         ],
         "title": {
          "text": "Province/State"
         }
        }
       }
      },
      "text/html": [
       "<div>\n",
       "        \n",
       "        \n",
       "            <div id=\"8fe72086-59dc-4406-85c2-309e8de21f5d\" class=\"plotly-graph-div\" style=\"height:525px; width:100%;\"></div>\n",
       "            <script type=\"text/javascript\">\n",
       "                require([\"plotly\"], function(Plotly) {\n",
       "                    window.PLOTLYENV=window.PLOTLYENV || {};\n",
       "                    \n",
       "                if (document.getElementById(\"8fe72086-59dc-4406-85c2-309e8de21f5d\")) {\n",
       "                    Plotly.newPlot(\n",
       "                        '8fe72086-59dc-4406-85c2-309e8de21f5d',\n",
       "                        [{\"hoverlabel\": {\"namelength\": 0}, \"hovertemplate\": \"Date=%{x}<br>Province/State=%{y}\", \"legendgroup\": \"\", \"line\": {\"color\": \"#636efa\", \"dash\": \"solid\"}, \"mode\": \"lines\", \"name\": \"\", \"showlegend\": false, \"type\": \"scatter\", \"x\": [\"2020-01-22T00:00:00\", \"2020-01-23T00:00:00\", \"2020-01-24T00:00:00\", \"2020-01-25T00:00:00\", \"2020-01-26T00:00:00\", \"2020-01-27T00:00:00\", \"2020-01-28T00:00:00\", \"2020-01-29T00:00:00\", \"2020-01-30T00:00:00\", \"2020-01-31T00:00:00\", \"2020-02-01T00:00:00\", \"2020-02-02T00:00:00\", \"2020-02-03T00:00:00\", \"2020-02-04T00:00:00\", \"2020-02-05T00:00:00\", \"2020-02-06T00:00:00\", \"2020-02-07T00:00:00\", \"2020-02-08T00:00:00\", \"2020-02-09T00:00:00\", \"2020-02-10T00:00:00\", \"2020-02-11T00:00:00\", \"2020-02-12T00:00:00\", \"2020-02-13T00:00:00\", \"2020-02-14T00:00:00\", \"2020-02-15T00:00:00\", \"2020-02-16T00:00:00\"], \"xaxis\": \"x\", \"y\": [23, 28, 29, 30, 30, 30, 30, 30, 31, 31, 31, 31, 31, 31, 31, 31, 31, 31, 31, 31, 31, 31, 31, 31, 31, 31], \"yaxis\": \"y\"}],\n",
       "                        {\"legend\": {\"tracegroupgap\": 0}, \"template\": {\"data\": {\"bar\": [{\"error_x\": {\"color\": \"#2a3f5f\"}, \"error_y\": {\"color\": \"#2a3f5f\"}, \"marker\": {\"line\": {\"color\": \"#E5ECF6\", \"width\": 0.5}}, \"type\": \"bar\"}], \"barpolar\": [{\"marker\": {\"line\": {\"color\": \"#E5ECF6\", \"width\": 0.5}}, \"type\": \"barpolar\"}], \"carpet\": [{\"aaxis\": {\"endlinecolor\": \"#2a3f5f\", \"gridcolor\": \"white\", \"linecolor\": \"white\", \"minorgridcolor\": \"white\", \"startlinecolor\": \"#2a3f5f\"}, \"baxis\": {\"endlinecolor\": \"#2a3f5f\", \"gridcolor\": \"white\", \"linecolor\": \"white\", \"minorgridcolor\": \"white\", \"startlinecolor\": \"#2a3f5f\"}, \"type\": \"carpet\"}], \"choropleth\": [{\"colorbar\": {\"outlinewidth\": 0, \"ticks\": \"\"}, \"type\": \"choropleth\"}], \"contour\": [{\"colorbar\": {\"outlinewidth\": 0, \"ticks\": \"\"}, \"colorscale\": [[0.0, \"#0d0887\"], [0.1111111111111111, \"#46039f\"], [0.2222222222222222, \"#7201a8\"], [0.3333333333333333, \"#9c179e\"], [0.4444444444444444, \"#bd3786\"], [0.5555555555555556, \"#d8576b\"], [0.6666666666666666, \"#ed7953\"], [0.7777777777777778, \"#fb9f3a\"], [0.8888888888888888, \"#fdca26\"], [1.0, \"#f0f921\"]], \"type\": \"contour\"}], \"contourcarpet\": [{\"colorbar\": {\"outlinewidth\": 0, \"ticks\": \"\"}, \"type\": \"contourcarpet\"}], \"heatmap\": [{\"colorbar\": {\"outlinewidth\": 0, \"ticks\": \"\"}, \"colorscale\": [[0.0, \"#0d0887\"], [0.1111111111111111, \"#46039f\"], [0.2222222222222222, \"#7201a8\"], [0.3333333333333333, \"#9c179e\"], [0.4444444444444444, \"#bd3786\"], [0.5555555555555556, \"#d8576b\"], [0.6666666666666666, \"#ed7953\"], [0.7777777777777778, \"#fb9f3a\"], [0.8888888888888888, \"#fdca26\"], [1.0, \"#f0f921\"]], \"type\": \"heatmap\"}], \"heatmapgl\": [{\"colorbar\": {\"outlinewidth\": 0, \"ticks\": \"\"}, \"colorscale\": [[0.0, \"#0d0887\"], [0.1111111111111111, \"#46039f\"], [0.2222222222222222, \"#7201a8\"], [0.3333333333333333, \"#9c179e\"], [0.4444444444444444, \"#bd3786\"], [0.5555555555555556, \"#d8576b\"], [0.6666666666666666, \"#ed7953\"], [0.7777777777777778, \"#fb9f3a\"], [0.8888888888888888, \"#fdca26\"], [1.0, \"#f0f921\"]], \"type\": \"heatmapgl\"}], \"histogram\": [{\"marker\": {\"colorbar\": {\"outlinewidth\": 0, \"ticks\": \"\"}}, \"type\": \"histogram\"}], \"histogram2d\": [{\"colorbar\": {\"outlinewidth\": 0, \"ticks\": \"\"}, \"colorscale\": [[0.0, \"#0d0887\"], [0.1111111111111111, \"#46039f\"], [0.2222222222222222, \"#7201a8\"], [0.3333333333333333, \"#9c179e\"], [0.4444444444444444, \"#bd3786\"], [0.5555555555555556, \"#d8576b\"], [0.6666666666666666, \"#ed7953\"], [0.7777777777777778, \"#fb9f3a\"], [0.8888888888888888, \"#fdca26\"], [1.0, \"#f0f921\"]], \"type\": \"histogram2d\"}], \"histogram2dcontour\": [{\"colorbar\": {\"outlinewidth\": 0, \"ticks\": \"\"}, \"colorscale\": [[0.0, \"#0d0887\"], [0.1111111111111111, \"#46039f\"], [0.2222222222222222, \"#7201a8\"], [0.3333333333333333, \"#9c179e\"], [0.4444444444444444, \"#bd3786\"], [0.5555555555555556, \"#d8576b\"], [0.6666666666666666, \"#ed7953\"], [0.7777777777777778, \"#fb9f3a\"], [0.8888888888888888, \"#fdca26\"], [1.0, \"#f0f921\"]], \"type\": \"histogram2dcontour\"}], \"mesh3d\": [{\"colorbar\": {\"outlinewidth\": 0, \"ticks\": \"\"}, \"type\": \"mesh3d\"}], \"parcoords\": [{\"line\": {\"colorbar\": {\"outlinewidth\": 0, \"ticks\": \"\"}}, \"type\": \"parcoords\"}], \"pie\": [{\"automargin\": true, \"type\": \"pie\"}], \"scatter\": [{\"marker\": {\"colorbar\": {\"outlinewidth\": 0, \"ticks\": \"\"}}, \"type\": \"scatter\"}], \"scatter3d\": [{\"line\": {\"colorbar\": {\"outlinewidth\": 0, \"ticks\": \"\"}}, \"marker\": {\"colorbar\": {\"outlinewidth\": 0, \"ticks\": \"\"}}, \"type\": \"scatter3d\"}], \"scattercarpet\": [{\"marker\": {\"colorbar\": {\"outlinewidth\": 0, \"ticks\": \"\"}}, \"type\": \"scattercarpet\"}], \"scattergeo\": [{\"marker\": {\"colorbar\": {\"outlinewidth\": 0, \"ticks\": \"\"}}, \"type\": \"scattergeo\"}], \"scattergl\": [{\"marker\": {\"colorbar\": {\"outlinewidth\": 0, \"ticks\": \"\"}}, \"type\": \"scattergl\"}], \"scattermapbox\": [{\"marker\": {\"colorbar\": {\"outlinewidth\": 0, \"ticks\": \"\"}}, \"type\": \"scattermapbox\"}], \"scatterpolar\": [{\"marker\": {\"colorbar\": {\"outlinewidth\": 0, \"ticks\": \"\"}}, \"type\": \"scatterpolar\"}], \"scatterpolargl\": [{\"marker\": {\"colorbar\": {\"outlinewidth\": 0, \"ticks\": \"\"}}, \"type\": \"scatterpolargl\"}], \"scatterternary\": [{\"marker\": {\"colorbar\": {\"outlinewidth\": 0, \"ticks\": \"\"}}, \"type\": \"scatterternary\"}], \"surface\": [{\"colorbar\": {\"outlinewidth\": 0, \"ticks\": \"\"}, \"colorscale\": [[0.0, \"#0d0887\"], [0.1111111111111111, \"#46039f\"], [0.2222222222222222, \"#7201a8\"], [0.3333333333333333, \"#9c179e\"], [0.4444444444444444, \"#bd3786\"], [0.5555555555555556, \"#d8576b\"], [0.6666666666666666, \"#ed7953\"], [0.7777777777777778, \"#fb9f3a\"], [0.8888888888888888, \"#fdca26\"], [1.0, \"#f0f921\"]], \"type\": \"surface\"}], \"table\": [{\"cells\": {\"fill\": {\"color\": \"#EBF0F8\"}, \"line\": {\"color\": \"white\"}}, \"header\": {\"fill\": {\"color\": \"#C8D4E3\"}, \"line\": {\"color\": \"white\"}}, \"type\": \"table\"}]}, \"layout\": {\"annotationdefaults\": {\"arrowcolor\": \"#2a3f5f\", \"arrowhead\": 0, \"arrowwidth\": 1}, \"coloraxis\": {\"colorbar\": {\"outlinewidth\": 0, \"ticks\": \"\"}}, \"colorscale\": {\"diverging\": [[0, \"#8e0152\"], [0.1, \"#c51b7d\"], [0.2, \"#de77ae\"], [0.3, \"#f1b6da\"], [0.4, \"#fde0ef\"], [0.5, \"#f7f7f7\"], [0.6, \"#e6f5d0\"], [0.7, \"#b8e186\"], [0.8, \"#7fbc41\"], [0.9, \"#4d9221\"], [1, \"#276419\"]], \"sequential\": [[0.0, \"#0d0887\"], [0.1111111111111111, \"#46039f\"], [0.2222222222222222, \"#7201a8\"], [0.3333333333333333, \"#9c179e\"], [0.4444444444444444, \"#bd3786\"], [0.5555555555555556, \"#d8576b\"], [0.6666666666666666, \"#ed7953\"], [0.7777777777777778, \"#fb9f3a\"], [0.8888888888888888, \"#fdca26\"], [1.0, \"#f0f921\"]], \"sequentialminus\": [[0.0, \"#0d0887\"], [0.1111111111111111, \"#46039f\"], [0.2222222222222222, \"#7201a8\"], [0.3333333333333333, \"#9c179e\"], [0.4444444444444444, \"#bd3786\"], [0.5555555555555556, \"#d8576b\"], [0.6666666666666666, \"#ed7953\"], [0.7777777777777778, \"#fb9f3a\"], [0.8888888888888888, \"#fdca26\"], [1.0, \"#f0f921\"]]}, \"colorway\": [\"#636efa\", \"#EF553B\", \"#00cc96\", \"#ab63fa\", \"#FFA15A\", \"#19d3f3\", \"#FF6692\", \"#B6E880\", \"#FF97FF\", \"#FECB52\"], \"font\": {\"color\": \"#2a3f5f\"}, \"geo\": {\"bgcolor\": \"white\", \"lakecolor\": \"white\", \"landcolor\": \"#E5ECF6\", \"showlakes\": true, \"showland\": true, \"subunitcolor\": \"white\"}, \"hoverlabel\": {\"align\": \"left\"}, \"hovermode\": \"closest\", \"mapbox\": {\"style\": \"light\"}, \"paper_bgcolor\": \"white\", \"plot_bgcolor\": \"#E5ECF6\", \"polar\": {\"angularaxis\": {\"gridcolor\": \"white\", \"linecolor\": \"white\", \"ticks\": \"\"}, \"bgcolor\": \"#E5ECF6\", \"radialaxis\": {\"gridcolor\": \"white\", \"linecolor\": \"white\", \"ticks\": \"\"}}, \"scene\": {\"xaxis\": {\"backgroundcolor\": \"#E5ECF6\", \"gridcolor\": \"white\", \"gridwidth\": 2, \"linecolor\": \"white\", \"showbackground\": true, \"ticks\": \"\", \"zerolinecolor\": \"white\"}, \"yaxis\": {\"backgroundcolor\": \"#E5ECF6\", \"gridcolor\": \"white\", \"gridwidth\": 2, \"linecolor\": \"white\", \"showbackground\": true, \"ticks\": \"\", \"zerolinecolor\": \"white\"}, \"zaxis\": {\"backgroundcolor\": \"#E5ECF6\", \"gridcolor\": \"white\", \"gridwidth\": 2, \"linecolor\": \"white\", \"showbackground\": true, \"ticks\": \"\", \"zerolinecolor\": \"white\"}}, \"shapedefaults\": {\"line\": {\"color\": \"#2a3f5f\"}}, \"ternary\": {\"aaxis\": {\"gridcolor\": \"white\", \"linecolor\": \"white\", \"ticks\": \"\"}, \"baxis\": {\"gridcolor\": \"white\", \"linecolor\": \"white\", \"ticks\": \"\"}, \"bgcolor\": \"#E5ECF6\", \"caxis\": {\"gridcolor\": \"white\", \"linecolor\": \"white\", \"ticks\": \"\"}}, \"title\": {\"x\": 0.05}, \"xaxis\": {\"automargin\": true, \"gridcolor\": \"white\", \"linecolor\": \"white\", \"ticks\": \"\", \"title\": {\"standoff\": 15}, \"zerolinecolor\": \"white\", \"zerolinewidth\": 2}, \"yaxis\": {\"automargin\": true, \"gridcolor\": \"white\", \"linecolor\": \"white\", \"ticks\": \"\", \"title\": {\"standoff\": 15}, \"zerolinecolor\": \"white\", \"zerolinewidth\": 2}}}, \"title\": {\"text\": \"Number of Provinces/States/Regions of China to which COVID-19 spread over the time\"}, \"xaxis\": {\"anchor\": \"y\", \"domain\": [0.0, 1.0], \"title\": {\"text\": \"Date\"}}, \"yaxis\": {\"anchor\": \"x\", \"domain\": [0.0, 1.0], \"title\": {\"text\": \"Province/State\"}}},\n",
       "                        {\"responsive\": true}\n",
       "                    ).then(function(){\n",
       "                            \n",
       "var gd = document.getElementById('8fe72086-59dc-4406-85c2-309e8de21f5d');\n",
       "var x = new MutationObserver(function (mutations, observer) {{\n",
       "        var display = window.getComputedStyle(gd).display;\n",
       "        if (!display || display === 'none') {{\n",
       "            console.log([gd, 'removed!']);\n",
       "            Plotly.purge(gd);\n",
       "            observer.disconnect();\n",
       "        }}\n",
       "}});\n",
       "\n",
       "// Listen for the removal of the full notebook cells\n",
       "var notebookContainer = gd.closest('#notebook-container');\n",
       "if (notebookContainer) {{\n",
       "    x.observe(notebookContainer, {childList: true});\n",
       "}}\n",
       "\n",
       "// Listen for the clearing of the current output cell\n",
       "var outputEl = gd.closest('.output');\n",
       "if (outputEl) {{\n",
       "    x.observe(outputEl, {childList: true});\n",
       "}}\n",
       "\n",
       "                        })\n",
       "                };\n",
       "                });\n",
       "            </script>\n",
       "        </div>"
      ]
     },
     "metadata": {},
     "output_type": "display_data"
    },
    {
     "data": {
      "application/vnd.plotly.v1+json": {
       "config": {
        "plotlyServerURL": "https://plot.ly"
       },
       "data": [
        {
         "hoverlabel": {
          "namelength": 0
         },
         "hovertemplate": "Date=%{x}<br>Country/Region=%{y}",
         "legendgroup": "",
         "line": {
          "color": "#636efa",
          "dash": "solid"
         },
         "mode": "lines",
         "name": "",
         "showlegend": false,
         "type": "scatter",
         "x": [
          "2020-01-22T00:00:00",
          "2020-01-23T00:00:00",
          "2020-01-24T00:00:00",
          "2020-01-25T00:00:00",
          "2020-01-26T00:00:00",
          "2020-01-27T00:00:00",
          "2020-01-28T00:00:00",
          "2020-01-29T00:00:00",
          "2020-01-30T00:00:00",
          "2020-01-31T00:00:00",
          "2020-02-01T00:00:00",
          "2020-02-02T00:00:00",
          "2020-02-03T00:00:00",
          "2020-02-04T00:00:00",
          "2020-02-05T00:00:00",
          "2020-02-06T00:00:00",
          "2020-02-07T00:00:00",
          "2020-02-08T00:00:00",
          "2020-02-09T00:00:00",
          "2020-02-10T00:00:00",
          "2020-02-11T00:00:00",
          "2020-02-12T00:00:00",
          "2020-02-13T00:00:00",
          "2020-02-14T00:00:00",
          "2020-02-15T00:00:00",
          "2020-02-16T00:00:00"
         ],
         "xaxis": "x",
         "y": [
          7,
          10,
          11,
          13,
          15,
          18,
          18,
          20,
          22,
          26,
          27,
          27,
          27,
          28,
          28,
          28,
          28,
          28,
          28,
          28,
          28,
          28,
          28,
          29,
          29,
          29
         ],
         "yaxis": "y"
        }
       ],
       "layout": {
        "legend": {
         "tracegroupgap": 0
        },
        "template": {
         "data": {
          "bar": [
           {
            "error_x": {
             "color": "#2a3f5f"
            },
            "error_y": {
             "color": "#2a3f5f"
            },
            "marker": {
             "line": {
              "color": "#E5ECF6",
              "width": 0.5
             }
            },
            "type": "bar"
           }
          ],
          "barpolar": [
           {
            "marker": {
             "line": {
              "color": "#E5ECF6",
              "width": 0.5
             }
            },
            "type": "barpolar"
           }
          ],
          "carpet": [
           {
            "aaxis": {
             "endlinecolor": "#2a3f5f",
             "gridcolor": "white",
             "linecolor": "white",
             "minorgridcolor": "white",
             "startlinecolor": "#2a3f5f"
            },
            "baxis": {
             "endlinecolor": "#2a3f5f",
             "gridcolor": "white",
             "linecolor": "white",
             "minorgridcolor": "white",
             "startlinecolor": "#2a3f5f"
            },
            "type": "carpet"
           }
          ],
          "choropleth": [
           {
            "colorbar": {
             "outlinewidth": 0,
             "ticks": ""
            },
            "type": "choropleth"
           }
          ],
          "contour": [
           {
            "colorbar": {
             "outlinewidth": 0,
             "ticks": ""
            },
            "colorscale": [
             [
              0,
              "#0d0887"
             ],
             [
              0.1111111111111111,
              "#46039f"
             ],
             [
              0.2222222222222222,
              "#7201a8"
             ],
             [
              0.3333333333333333,
              "#9c179e"
             ],
             [
              0.4444444444444444,
              "#bd3786"
             ],
             [
              0.5555555555555556,
              "#d8576b"
             ],
             [
              0.6666666666666666,
              "#ed7953"
             ],
             [
              0.7777777777777778,
              "#fb9f3a"
             ],
             [
              0.8888888888888888,
              "#fdca26"
             ],
             [
              1,
              "#f0f921"
             ]
            ],
            "type": "contour"
           }
          ],
          "contourcarpet": [
           {
            "colorbar": {
             "outlinewidth": 0,
             "ticks": ""
            },
            "type": "contourcarpet"
           }
          ],
          "heatmap": [
           {
            "colorbar": {
             "outlinewidth": 0,
             "ticks": ""
            },
            "colorscale": [
             [
              0,
              "#0d0887"
             ],
             [
              0.1111111111111111,
              "#46039f"
             ],
             [
              0.2222222222222222,
              "#7201a8"
             ],
             [
              0.3333333333333333,
              "#9c179e"
             ],
             [
              0.4444444444444444,
              "#bd3786"
             ],
             [
              0.5555555555555556,
              "#d8576b"
             ],
             [
              0.6666666666666666,
              "#ed7953"
             ],
             [
              0.7777777777777778,
              "#fb9f3a"
             ],
             [
              0.8888888888888888,
              "#fdca26"
             ],
             [
              1,
              "#f0f921"
             ]
            ],
            "type": "heatmap"
           }
          ],
          "heatmapgl": [
           {
            "colorbar": {
             "outlinewidth": 0,
             "ticks": ""
            },
            "colorscale": [
             [
              0,
              "#0d0887"
             ],
             [
              0.1111111111111111,
              "#46039f"
             ],
             [
              0.2222222222222222,
              "#7201a8"
             ],
             [
              0.3333333333333333,
              "#9c179e"
             ],
             [
              0.4444444444444444,
              "#bd3786"
             ],
             [
              0.5555555555555556,
              "#d8576b"
             ],
             [
              0.6666666666666666,
              "#ed7953"
             ],
             [
              0.7777777777777778,
              "#fb9f3a"
             ],
             [
              0.8888888888888888,
              "#fdca26"
             ],
             [
              1,
              "#f0f921"
             ]
            ],
            "type": "heatmapgl"
           }
          ],
          "histogram": [
           {
            "marker": {
             "colorbar": {
              "outlinewidth": 0,
              "ticks": ""
             }
            },
            "type": "histogram"
           }
          ],
          "histogram2d": [
           {
            "colorbar": {
             "outlinewidth": 0,
             "ticks": ""
            },
            "colorscale": [
             [
              0,
              "#0d0887"
             ],
             [
              0.1111111111111111,
              "#46039f"
             ],
             [
              0.2222222222222222,
              "#7201a8"
             ],
             [
              0.3333333333333333,
              "#9c179e"
             ],
             [
              0.4444444444444444,
              "#bd3786"
             ],
             [
              0.5555555555555556,
              "#d8576b"
             ],
             [
              0.6666666666666666,
              "#ed7953"
             ],
             [
              0.7777777777777778,
              "#fb9f3a"
             ],
             [
              0.8888888888888888,
              "#fdca26"
             ],
             [
              1,
              "#f0f921"
             ]
            ],
            "type": "histogram2d"
           }
          ],
          "histogram2dcontour": [
           {
            "colorbar": {
             "outlinewidth": 0,
             "ticks": ""
            },
            "colorscale": [
             [
              0,
              "#0d0887"
             ],
             [
              0.1111111111111111,
              "#46039f"
             ],
             [
              0.2222222222222222,
              "#7201a8"
             ],
             [
              0.3333333333333333,
              "#9c179e"
             ],
             [
              0.4444444444444444,
              "#bd3786"
             ],
             [
              0.5555555555555556,
              "#d8576b"
             ],
             [
              0.6666666666666666,
              "#ed7953"
             ],
             [
              0.7777777777777778,
              "#fb9f3a"
             ],
             [
              0.8888888888888888,
              "#fdca26"
             ],
             [
              1,
              "#f0f921"
             ]
            ],
            "type": "histogram2dcontour"
           }
          ],
          "mesh3d": [
           {
            "colorbar": {
             "outlinewidth": 0,
             "ticks": ""
            },
            "type": "mesh3d"
           }
          ],
          "parcoords": [
           {
            "line": {
             "colorbar": {
              "outlinewidth": 0,
              "ticks": ""
             }
            },
            "type": "parcoords"
           }
          ],
          "pie": [
           {
            "automargin": true,
            "type": "pie"
           }
          ],
          "scatter": [
           {
            "marker": {
             "colorbar": {
              "outlinewidth": 0,
              "ticks": ""
             }
            },
            "type": "scatter"
           }
          ],
          "scatter3d": [
           {
            "line": {
             "colorbar": {
              "outlinewidth": 0,
              "ticks": ""
             }
            },
            "marker": {
             "colorbar": {
              "outlinewidth": 0,
              "ticks": ""
             }
            },
            "type": "scatter3d"
           }
          ],
          "scattercarpet": [
           {
            "marker": {
             "colorbar": {
              "outlinewidth": 0,
              "ticks": ""
             }
            },
            "type": "scattercarpet"
           }
          ],
          "scattergeo": [
           {
            "marker": {
             "colorbar": {
              "outlinewidth": 0,
              "ticks": ""
             }
            },
            "type": "scattergeo"
           }
          ],
          "scattergl": [
           {
            "marker": {
             "colorbar": {
              "outlinewidth": 0,
              "ticks": ""
             }
            },
            "type": "scattergl"
           }
          ],
          "scattermapbox": [
           {
            "marker": {
             "colorbar": {
              "outlinewidth": 0,
              "ticks": ""
             }
            },
            "type": "scattermapbox"
           }
          ],
          "scatterpolar": [
           {
            "marker": {
             "colorbar": {
              "outlinewidth": 0,
              "ticks": ""
             }
            },
            "type": "scatterpolar"
           }
          ],
          "scatterpolargl": [
           {
            "marker": {
             "colorbar": {
              "outlinewidth": 0,
              "ticks": ""
             }
            },
            "type": "scatterpolargl"
           }
          ],
          "scatterternary": [
           {
            "marker": {
             "colorbar": {
              "outlinewidth": 0,
              "ticks": ""
             }
            },
            "type": "scatterternary"
           }
          ],
          "surface": [
           {
            "colorbar": {
             "outlinewidth": 0,
             "ticks": ""
            },
            "colorscale": [
             [
              0,
              "#0d0887"
             ],
             [
              0.1111111111111111,
              "#46039f"
             ],
             [
              0.2222222222222222,
              "#7201a8"
             ],
             [
              0.3333333333333333,
              "#9c179e"
             ],
             [
              0.4444444444444444,
              "#bd3786"
             ],
             [
              0.5555555555555556,
              "#d8576b"
             ],
             [
              0.6666666666666666,
              "#ed7953"
             ],
             [
              0.7777777777777778,
              "#fb9f3a"
             ],
             [
              0.8888888888888888,
              "#fdca26"
             ],
             [
              1,
              "#f0f921"
             ]
            ],
            "type": "surface"
           }
          ],
          "table": [
           {
            "cells": {
             "fill": {
              "color": "#EBF0F8"
             },
             "line": {
              "color": "white"
             }
            },
            "header": {
             "fill": {
              "color": "#C8D4E3"
             },
             "line": {
              "color": "white"
             }
            },
            "type": "table"
           }
          ]
         },
         "layout": {
          "annotationdefaults": {
           "arrowcolor": "#2a3f5f",
           "arrowhead": 0,
           "arrowwidth": 1
          },
          "coloraxis": {
           "colorbar": {
            "outlinewidth": 0,
            "ticks": ""
           }
          },
          "colorscale": {
           "diverging": [
            [
             0,
             "#8e0152"
            ],
            [
             0.1,
             "#c51b7d"
            ],
            [
             0.2,
             "#de77ae"
            ],
            [
             0.3,
             "#f1b6da"
            ],
            [
             0.4,
             "#fde0ef"
            ],
            [
             0.5,
             "#f7f7f7"
            ],
            [
             0.6,
             "#e6f5d0"
            ],
            [
             0.7,
             "#b8e186"
            ],
            [
             0.8,
             "#7fbc41"
            ],
            [
             0.9,
             "#4d9221"
            ],
            [
             1,
             "#276419"
            ]
           ],
           "sequential": [
            [
             0,
             "#0d0887"
            ],
            [
             0.1111111111111111,
             "#46039f"
            ],
            [
             0.2222222222222222,
             "#7201a8"
            ],
            [
             0.3333333333333333,
             "#9c179e"
            ],
            [
             0.4444444444444444,
             "#bd3786"
            ],
            [
             0.5555555555555556,
             "#d8576b"
            ],
            [
             0.6666666666666666,
             "#ed7953"
            ],
            [
             0.7777777777777778,
             "#fb9f3a"
            ],
            [
             0.8888888888888888,
             "#fdca26"
            ],
            [
             1,
             "#f0f921"
            ]
           ],
           "sequentialminus": [
            [
             0,
             "#0d0887"
            ],
            [
             0.1111111111111111,
             "#46039f"
            ],
            [
             0.2222222222222222,
             "#7201a8"
            ],
            [
             0.3333333333333333,
             "#9c179e"
            ],
            [
             0.4444444444444444,
             "#bd3786"
            ],
            [
             0.5555555555555556,
             "#d8576b"
            ],
            [
             0.6666666666666666,
             "#ed7953"
            ],
            [
             0.7777777777777778,
             "#fb9f3a"
            ],
            [
             0.8888888888888888,
             "#fdca26"
            ],
            [
             1,
             "#f0f921"
            ]
           ]
          },
          "colorway": [
           "#636efa",
           "#EF553B",
           "#00cc96",
           "#ab63fa",
           "#FFA15A",
           "#19d3f3",
           "#FF6692",
           "#B6E880",
           "#FF97FF",
           "#FECB52"
          ],
          "font": {
           "color": "#2a3f5f"
          },
          "geo": {
           "bgcolor": "white",
           "lakecolor": "white",
           "landcolor": "#E5ECF6",
           "showlakes": true,
           "showland": true,
           "subunitcolor": "white"
          },
          "hoverlabel": {
           "align": "left"
          },
          "hovermode": "closest",
          "mapbox": {
           "style": "light"
          },
          "paper_bgcolor": "white",
          "plot_bgcolor": "#E5ECF6",
          "polar": {
           "angularaxis": {
            "gridcolor": "white",
            "linecolor": "white",
            "ticks": ""
           },
           "bgcolor": "#E5ECF6",
           "radialaxis": {
            "gridcolor": "white",
            "linecolor": "white",
            "ticks": ""
           }
          },
          "scene": {
           "xaxis": {
            "backgroundcolor": "#E5ECF6",
            "gridcolor": "white",
            "gridwidth": 2,
            "linecolor": "white",
            "showbackground": true,
            "ticks": "",
            "zerolinecolor": "white"
           },
           "yaxis": {
            "backgroundcolor": "#E5ECF6",
            "gridcolor": "white",
            "gridwidth": 2,
            "linecolor": "white",
            "showbackground": true,
            "ticks": "",
            "zerolinecolor": "white"
           },
           "zaxis": {
            "backgroundcolor": "#E5ECF6",
            "gridcolor": "white",
            "gridwidth": 2,
            "linecolor": "white",
            "showbackground": true,
            "ticks": "",
            "zerolinecolor": "white"
           }
          },
          "shapedefaults": {
           "line": {
            "color": "#2a3f5f"
           }
          },
          "ternary": {
           "aaxis": {
            "gridcolor": "white",
            "linecolor": "white",
            "ticks": ""
           },
           "baxis": {
            "gridcolor": "white",
            "linecolor": "white",
            "ticks": ""
           },
           "bgcolor": "#E5ECF6",
           "caxis": {
            "gridcolor": "white",
            "linecolor": "white",
            "ticks": ""
           }
          },
          "title": {
           "x": 0.05
          },
          "xaxis": {
           "automargin": true,
           "gridcolor": "white",
           "linecolor": "white",
           "ticks": "",
           "title": {
            "standoff": 15
           },
           "zerolinecolor": "white",
           "zerolinewidth": 2
          },
          "yaxis": {
           "automargin": true,
           "gridcolor": "white",
           "linecolor": "white",
           "ticks": "",
           "title": {
            "standoff": 15
           },
           "zerolinecolor": "white",
           "zerolinewidth": 2
          }
         }
        },
        "title": {
         "text": "Number of Countries/Regions to which COVID-19 spread over the time"
        },
        "xaxis": {
         "anchor": "y",
         "domain": [
          0,
          1
         ],
         "title": {
          "text": "Date"
         }
        },
        "yaxis": {
         "anchor": "x",
         "domain": [
          0,
          1
         ],
         "title": {
          "text": "Country/Region"
         }
        }
       }
      },
      "text/html": [
       "<div>\n",
       "        \n",
       "        \n",
       "            <div id=\"d76c48b0-4f2c-4264-b190-9749601139d3\" class=\"plotly-graph-div\" style=\"height:525px; width:100%;\"></div>\n",
       "            <script type=\"text/javascript\">\n",
       "                require([\"plotly\"], function(Plotly) {\n",
       "                    window.PLOTLYENV=window.PLOTLYENV || {};\n",
       "                    \n",
       "                if (document.getElementById(\"d76c48b0-4f2c-4264-b190-9749601139d3\")) {\n",
       "                    Plotly.newPlot(\n",
       "                        'd76c48b0-4f2c-4264-b190-9749601139d3',\n",
       "                        [{\"hoverlabel\": {\"namelength\": 0}, \"hovertemplate\": \"Date=%{x}<br>Country/Region=%{y}\", \"legendgroup\": \"\", \"line\": {\"color\": \"#636efa\", \"dash\": \"solid\"}, \"mode\": \"lines\", \"name\": \"\", \"showlegend\": false, \"type\": \"scatter\", \"x\": [\"2020-01-22T00:00:00\", \"2020-01-23T00:00:00\", \"2020-01-24T00:00:00\", \"2020-01-25T00:00:00\", \"2020-01-26T00:00:00\", \"2020-01-27T00:00:00\", \"2020-01-28T00:00:00\", \"2020-01-29T00:00:00\", \"2020-01-30T00:00:00\", \"2020-01-31T00:00:00\", \"2020-02-01T00:00:00\", \"2020-02-02T00:00:00\", \"2020-02-03T00:00:00\", \"2020-02-04T00:00:00\", \"2020-02-05T00:00:00\", \"2020-02-06T00:00:00\", \"2020-02-07T00:00:00\", \"2020-02-08T00:00:00\", \"2020-02-09T00:00:00\", \"2020-02-10T00:00:00\", \"2020-02-11T00:00:00\", \"2020-02-12T00:00:00\", \"2020-02-13T00:00:00\", \"2020-02-14T00:00:00\", \"2020-02-15T00:00:00\", \"2020-02-16T00:00:00\"], \"xaxis\": \"x\", \"y\": [7, 10, 11, 13, 15, 18, 18, 20, 22, 26, 27, 27, 27, 28, 28, 28, 28, 28, 28, 28, 28, 28, 28, 29, 29, 29], \"yaxis\": \"y\"}],\n",
       "                        {\"legend\": {\"tracegroupgap\": 0}, \"template\": {\"data\": {\"bar\": [{\"error_x\": {\"color\": \"#2a3f5f\"}, \"error_y\": {\"color\": \"#2a3f5f\"}, \"marker\": {\"line\": {\"color\": \"#E5ECF6\", \"width\": 0.5}}, \"type\": \"bar\"}], \"barpolar\": [{\"marker\": {\"line\": {\"color\": \"#E5ECF6\", \"width\": 0.5}}, \"type\": \"barpolar\"}], \"carpet\": [{\"aaxis\": {\"endlinecolor\": \"#2a3f5f\", \"gridcolor\": \"white\", \"linecolor\": \"white\", \"minorgridcolor\": \"white\", \"startlinecolor\": \"#2a3f5f\"}, \"baxis\": {\"endlinecolor\": \"#2a3f5f\", \"gridcolor\": \"white\", \"linecolor\": \"white\", \"minorgridcolor\": \"white\", \"startlinecolor\": \"#2a3f5f\"}, \"type\": \"carpet\"}], \"choropleth\": [{\"colorbar\": {\"outlinewidth\": 0, \"ticks\": \"\"}, \"type\": \"choropleth\"}], \"contour\": [{\"colorbar\": {\"outlinewidth\": 0, \"ticks\": \"\"}, \"colorscale\": [[0.0, \"#0d0887\"], [0.1111111111111111, \"#46039f\"], [0.2222222222222222, \"#7201a8\"], [0.3333333333333333, \"#9c179e\"], [0.4444444444444444, \"#bd3786\"], [0.5555555555555556, \"#d8576b\"], [0.6666666666666666, \"#ed7953\"], [0.7777777777777778, \"#fb9f3a\"], [0.8888888888888888, \"#fdca26\"], [1.0, \"#f0f921\"]], \"type\": \"contour\"}], \"contourcarpet\": [{\"colorbar\": {\"outlinewidth\": 0, \"ticks\": \"\"}, \"type\": \"contourcarpet\"}], \"heatmap\": [{\"colorbar\": {\"outlinewidth\": 0, \"ticks\": \"\"}, \"colorscale\": [[0.0, \"#0d0887\"], [0.1111111111111111, \"#46039f\"], [0.2222222222222222, \"#7201a8\"], [0.3333333333333333, \"#9c179e\"], [0.4444444444444444, \"#bd3786\"], [0.5555555555555556, \"#d8576b\"], [0.6666666666666666, \"#ed7953\"], [0.7777777777777778, \"#fb9f3a\"], [0.8888888888888888, \"#fdca26\"], [1.0, \"#f0f921\"]], \"type\": \"heatmap\"}], \"heatmapgl\": [{\"colorbar\": {\"outlinewidth\": 0, \"ticks\": \"\"}, \"colorscale\": [[0.0, \"#0d0887\"], [0.1111111111111111, \"#46039f\"], [0.2222222222222222, \"#7201a8\"], [0.3333333333333333, \"#9c179e\"], [0.4444444444444444, \"#bd3786\"], [0.5555555555555556, \"#d8576b\"], [0.6666666666666666, \"#ed7953\"], [0.7777777777777778, \"#fb9f3a\"], [0.8888888888888888, \"#fdca26\"], [1.0, \"#f0f921\"]], \"type\": \"heatmapgl\"}], \"histogram\": [{\"marker\": {\"colorbar\": {\"outlinewidth\": 0, \"ticks\": \"\"}}, \"type\": \"histogram\"}], \"histogram2d\": [{\"colorbar\": {\"outlinewidth\": 0, \"ticks\": \"\"}, \"colorscale\": [[0.0, \"#0d0887\"], [0.1111111111111111, \"#46039f\"], [0.2222222222222222, \"#7201a8\"], [0.3333333333333333, \"#9c179e\"], [0.4444444444444444, \"#bd3786\"], [0.5555555555555556, \"#d8576b\"], [0.6666666666666666, \"#ed7953\"], [0.7777777777777778, \"#fb9f3a\"], [0.8888888888888888, \"#fdca26\"], [1.0, \"#f0f921\"]], \"type\": \"histogram2d\"}], \"histogram2dcontour\": [{\"colorbar\": {\"outlinewidth\": 0, \"ticks\": \"\"}, \"colorscale\": [[0.0, \"#0d0887\"], [0.1111111111111111, \"#46039f\"], [0.2222222222222222, \"#7201a8\"], [0.3333333333333333, \"#9c179e\"], [0.4444444444444444, \"#bd3786\"], [0.5555555555555556, \"#d8576b\"], [0.6666666666666666, \"#ed7953\"], [0.7777777777777778, \"#fb9f3a\"], [0.8888888888888888, \"#fdca26\"], [1.0, \"#f0f921\"]], \"type\": \"histogram2dcontour\"}], \"mesh3d\": [{\"colorbar\": {\"outlinewidth\": 0, \"ticks\": \"\"}, \"type\": \"mesh3d\"}], \"parcoords\": [{\"line\": {\"colorbar\": {\"outlinewidth\": 0, \"ticks\": \"\"}}, \"type\": \"parcoords\"}], \"pie\": [{\"automargin\": true, \"type\": \"pie\"}], \"scatter\": [{\"marker\": {\"colorbar\": {\"outlinewidth\": 0, \"ticks\": \"\"}}, \"type\": \"scatter\"}], \"scatter3d\": [{\"line\": {\"colorbar\": {\"outlinewidth\": 0, \"ticks\": \"\"}}, \"marker\": {\"colorbar\": {\"outlinewidth\": 0, \"ticks\": \"\"}}, \"type\": \"scatter3d\"}], \"scattercarpet\": [{\"marker\": {\"colorbar\": {\"outlinewidth\": 0, \"ticks\": \"\"}}, \"type\": \"scattercarpet\"}], \"scattergeo\": [{\"marker\": {\"colorbar\": {\"outlinewidth\": 0, \"ticks\": \"\"}}, \"type\": \"scattergeo\"}], \"scattergl\": [{\"marker\": {\"colorbar\": {\"outlinewidth\": 0, \"ticks\": \"\"}}, \"type\": \"scattergl\"}], \"scattermapbox\": [{\"marker\": {\"colorbar\": {\"outlinewidth\": 0, \"ticks\": \"\"}}, \"type\": \"scattermapbox\"}], \"scatterpolar\": [{\"marker\": {\"colorbar\": {\"outlinewidth\": 0, \"ticks\": \"\"}}, \"type\": \"scatterpolar\"}], \"scatterpolargl\": [{\"marker\": {\"colorbar\": {\"outlinewidth\": 0, \"ticks\": \"\"}}, \"type\": \"scatterpolargl\"}], \"scatterternary\": [{\"marker\": {\"colorbar\": {\"outlinewidth\": 0, \"ticks\": \"\"}}, \"type\": \"scatterternary\"}], \"surface\": [{\"colorbar\": {\"outlinewidth\": 0, \"ticks\": \"\"}, \"colorscale\": [[0.0, \"#0d0887\"], [0.1111111111111111, \"#46039f\"], [0.2222222222222222, \"#7201a8\"], [0.3333333333333333, \"#9c179e\"], [0.4444444444444444, \"#bd3786\"], [0.5555555555555556, \"#d8576b\"], [0.6666666666666666, \"#ed7953\"], [0.7777777777777778, \"#fb9f3a\"], [0.8888888888888888, \"#fdca26\"], [1.0, \"#f0f921\"]], \"type\": \"surface\"}], \"table\": [{\"cells\": {\"fill\": {\"color\": \"#EBF0F8\"}, \"line\": {\"color\": \"white\"}}, \"header\": {\"fill\": {\"color\": \"#C8D4E3\"}, \"line\": {\"color\": \"white\"}}, \"type\": \"table\"}]}, \"layout\": {\"annotationdefaults\": {\"arrowcolor\": \"#2a3f5f\", \"arrowhead\": 0, \"arrowwidth\": 1}, \"coloraxis\": {\"colorbar\": {\"outlinewidth\": 0, \"ticks\": \"\"}}, \"colorscale\": {\"diverging\": [[0, \"#8e0152\"], [0.1, \"#c51b7d\"], [0.2, \"#de77ae\"], [0.3, \"#f1b6da\"], [0.4, \"#fde0ef\"], [0.5, \"#f7f7f7\"], [0.6, \"#e6f5d0\"], [0.7, \"#b8e186\"], [0.8, \"#7fbc41\"], [0.9, \"#4d9221\"], [1, \"#276419\"]], \"sequential\": [[0.0, \"#0d0887\"], [0.1111111111111111, \"#46039f\"], [0.2222222222222222, \"#7201a8\"], [0.3333333333333333, \"#9c179e\"], [0.4444444444444444, \"#bd3786\"], [0.5555555555555556, \"#d8576b\"], [0.6666666666666666, \"#ed7953\"], [0.7777777777777778, \"#fb9f3a\"], [0.8888888888888888, \"#fdca26\"], [1.0, \"#f0f921\"]], \"sequentialminus\": [[0.0, \"#0d0887\"], [0.1111111111111111, \"#46039f\"], [0.2222222222222222, \"#7201a8\"], [0.3333333333333333, \"#9c179e\"], [0.4444444444444444, \"#bd3786\"], [0.5555555555555556, \"#d8576b\"], [0.6666666666666666, \"#ed7953\"], [0.7777777777777778, \"#fb9f3a\"], [0.8888888888888888, \"#fdca26\"], [1.0, \"#f0f921\"]]}, \"colorway\": [\"#636efa\", \"#EF553B\", \"#00cc96\", \"#ab63fa\", \"#FFA15A\", \"#19d3f3\", \"#FF6692\", \"#B6E880\", \"#FF97FF\", \"#FECB52\"], \"font\": {\"color\": \"#2a3f5f\"}, \"geo\": {\"bgcolor\": \"white\", \"lakecolor\": \"white\", \"landcolor\": \"#E5ECF6\", \"showlakes\": true, \"showland\": true, \"subunitcolor\": \"white\"}, \"hoverlabel\": {\"align\": \"left\"}, \"hovermode\": \"closest\", \"mapbox\": {\"style\": \"light\"}, \"paper_bgcolor\": \"white\", \"plot_bgcolor\": \"#E5ECF6\", \"polar\": {\"angularaxis\": {\"gridcolor\": \"white\", \"linecolor\": \"white\", \"ticks\": \"\"}, \"bgcolor\": \"#E5ECF6\", \"radialaxis\": {\"gridcolor\": \"white\", \"linecolor\": \"white\", \"ticks\": \"\"}}, \"scene\": {\"xaxis\": {\"backgroundcolor\": \"#E5ECF6\", \"gridcolor\": \"white\", \"gridwidth\": 2, \"linecolor\": \"white\", \"showbackground\": true, \"ticks\": \"\", \"zerolinecolor\": \"white\"}, \"yaxis\": {\"backgroundcolor\": \"#E5ECF6\", \"gridcolor\": \"white\", \"gridwidth\": 2, \"linecolor\": \"white\", \"showbackground\": true, \"ticks\": \"\", \"zerolinecolor\": \"white\"}, \"zaxis\": {\"backgroundcolor\": \"#E5ECF6\", \"gridcolor\": \"white\", \"gridwidth\": 2, \"linecolor\": \"white\", \"showbackground\": true, \"ticks\": \"\", \"zerolinecolor\": \"white\"}}, \"shapedefaults\": {\"line\": {\"color\": \"#2a3f5f\"}}, \"ternary\": {\"aaxis\": {\"gridcolor\": \"white\", \"linecolor\": \"white\", \"ticks\": \"\"}, \"baxis\": {\"gridcolor\": \"white\", \"linecolor\": \"white\", \"ticks\": \"\"}, \"bgcolor\": \"#E5ECF6\", \"caxis\": {\"gridcolor\": \"white\", \"linecolor\": \"white\", \"ticks\": \"\"}}, \"title\": {\"x\": 0.05}, \"xaxis\": {\"automargin\": true, \"gridcolor\": \"white\", \"linecolor\": \"white\", \"ticks\": \"\", \"title\": {\"standoff\": 15}, \"zerolinecolor\": \"white\", \"zerolinewidth\": 2}, \"yaxis\": {\"automargin\": true, \"gridcolor\": \"white\", \"linecolor\": \"white\", \"ticks\": \"\", \"title\": {\"standoff\": 15}, \"zerolinecolor\": \"white\", \"zerolinewidth\": 2}}}, \"title\": {\"text\": \"Number of Countries/Regions to which COVID-19 spread over the time\"}, \"xaxis\": {\"anchor\": \"y\", \"domain\": [0.0, 1.0], \"title\": {\"text\": \"Date\"}}, \"yaxis\": {\"anchor\": \"x\", \"domain\": [0.0, 1.0], \"title\": {\"text\": \"Country/Region\"}}},\n",
       "                        {\"responsive\": true}\n",
       "                    ).then(function(){\n",
       "                            \n",
       "var gd = document.getElementById('d76c48b0-4f2c-4264-b190-9749601139d3');\n",
       "var x = new MutationObserver(function (mutations, observer) {{\n",
       "        var display = window.getComputedStyle(gd).display;\n",
       "        if (!display || display === 'none') {{\n",
       "            console.log([gd, 'removed!']);\n",
       "            Plotly.purge(gd);\n",
       "            observer.disconnect();\n",
       "        }}\n",
       "}});\n",
       "\n",
       "// Listen for the removal of the full notebook cells\n",
       "var notebookContainer = gd.closest('#notebook-container');\n",
       "if (notebookContainer) {{\n",
       "    x.observe(notebookContainer, {childList: true});\n",
       "}}\n",
       "\n",
       "// Listen for the clearing of the current output cell\n",
       "var outputEl = gd.closest('.output');\n",
       "if (outputEl) {{\n",
       "    x.observe(outputEl, {childList: true});\n",
       "}}\n",
       "\n",
       "                        })\n",
       "                };\n",
       "                });\n",
       "            </script>\n",
       "        </div>"
      ]
     },
     "metadata": {},
     "output_type": "display_data"
    }
   ],
   "source": [
    "c_spread = pd.DataFrame(china[china['Confirmed']!=0].groupby('Date')['Province/State'].unique().apply(len)).reset_index()\n",
    "fig = px.line(c_spread, x='Date', y='Province/State', title='Number of Provinces/States/Regions of China to which COVID-19 spread over the time')\n",
    "fig.show()\n",
    "\n",
    "spread = pd.DataFrame(full_table[full_table['Confirmed']!=0].groupby('Date')['Country/Region'].unique().apply(len)).reset_index()\n",
    "fig = px.line(spread, x='Date', y='Country/Region', title='Number of Countries/Regions to which COVID-19 spread over the time')\n",
    "fig.show()"
   ]
  },
  {
   "cell_type": "markdown",
   "metadata": {},
   "source": [
    "Although COVID-19 spread to all the provinces of the China really fast and early, number of countries to which COVID-19 spread hasn't increased after first few weeks\n",
    "\n"
   ]
  },
  {
   "cell_type": "code",
   "execution_count": 54,
   "metadata": {},
   "outputs": [
    {
     "data": {
      "application/vnd.plotly.v1+json": {
       "config": {
        "plotlyServerURL": "https://plot.ly"
       },
       "data": [
        {
         "alignmentgroup": "True",
         "hoverlabel": {
          "namelength": 0
         },
         "hovertemplate": "variable=Affected<br>value=%{x}<br>Country/Region=%{y}",
         "legendgroup": "Affected",
         "marker": {
          "color": "#636efa"
         },
         "name": "Affected",
         "offsetgroup": "Affected",
         "orientation": "h",
         "showlegend": true,
         "textposition": "auto",
         "type": "bar",
         "x": [
          0,
          0,
          0,
          0,
          0,
          0,
          0,
          1,
          1,
          1,
          1,
          1,
          3,
          5,
          5,
          6,
          7,
          7,
          9,
          12,
          15,
          15,
          17,
          20,
          20,
          46,
          54,
          57
         ],
         "xaxis": "x",
         "y": [
          "India",
          "Spain",
          "Russia",
          "Sri Lanka",
          "Finland",
          "Cambodia",
          "Nepal",
          "UK",
          "Philippines",
          "Sweden",
          "Egypt",
          "Belgium",
          "Italy",
          "Macau",
          "United Arab Emirates",
          "Canada",
          "Australia",
          "France",
          "Vietnam",
          "US",
          "Malaysia",
          "Germany",
          "Taiwan",
          "Thailand",
          "South Korea",
          "Japan",
          "Hong Kong",
          "Singapore"
         ],
         "yaxis": "y"
        },
        {
         "alignmentgroup": "True",
         "hoverlabel": {
          "namelength": 0
         },
         "hovertemplate": "variable=Deaths<br>value=%{x}<br>Country/Region=%{y}",
         "legendgroup": "Deaths",
         "marker": {
          "color": "#EF553B"
         },
         "name": "Deaths",
         "offsetgroup": "Deaths",
         "orientation": "h",
         "showlegend": true,
         "textposition": "auto",
         "type": "bar",
         "x": [
          0,
          0,
          0,
          0,
          0,
          0,
          0,
          0,
          0,
          0,
          0,
          0,
          0,
          0,
          0,
          0,
          0,
          0,
          0,
          0,
          0,
          0,
          0,
          1,
          1,
          1,
          1,
          1
         ],
         "xaxis": "x",
         "y": [
          "Singapore",
          "Thailand",
          "South Korea",
          "Malaysia",
          "Vietnam",
          "Germany",
          "US",
          "Australia",
          "Macau",
          "United Arab Emirates",
          "UK",
          "Canada",
          "Italy",
          "India",
          "Spain",
          "Russia",
          "Sri Lanka",
          "Sweden",
          "Egypt",
          "Finland",
          "Cambodia",
          "Belgium",
          "Nepal",
          "Japan",
          "Hong Kong",
          "Taiwan",
          "France",
          "Philippines"
         ],
         "yaxis": "y"
        },
        {
         "alignmentgroup": "True",
         "hoverlabel": {
          "namelength": 0
         },
         "hovertemplate": "variable=Recovered<br>value=%{x}<br>Country/Region=%{y}",
         "legendgroup": "Recovered",
         "marker": {
          "color": "#00cc96"
         },
         "name": "Recovered",
         "offsetgroup": "Recovered",
         "orientation": "h",
         "showlegend": true,
         "textposition": "auto",
         "type": "bar",
         "x": [
          0,
          0,
          0,
          0,
          1,
          1,
          1,
          1,
          1,
          1,
          1,
          2,
          2,
          2,
          2,
          3,
          3,
          4,
          4,
          5,
          7,
          7,
          8,
          8,
          9,
          12,
          14,
          18
         ],
         "xaxis": "x",
         "y": [
          "Italy",
          "Sweden",
          "Egypt",
          "Belgium",
          "Germany",
          "Canada",
          "Philippines",
          "Sri Lanka",
          "Finland",
          "Cambodia",
          "Nepal",
          "Hong Kong",
          "Taiwan",
          "Spain",
          "Russia",
          "US",
          "India",
          "France",
          "United Arab Emirates",
          "Macau",
          "Malaysia",
          "Vietnam",
          "Australia",
          "UK",
          "South Korea",
          "Japan",
          "Thailand",
          "Singapore"
         ],
         "yaxis": "y"
        }
       ],
       "layout": {
        "barmode": "relative",
        "height": 800,
        "legend": {
         "title": {
          "text": "variable"
         },
         "tracegroupgap": 0
        },
        "template": {
         "data": {
          "bar": [
           {
            "error_x": {
             "color": "#2a3f5f"
            },
            "error_y": {
             "color": "#2a3f5f"
            },
            "marker": {
             "line": {
              "color": "#E5ECF6",
              "width": 0.5
             }
            },
            "type": "bar"
           }
          ],
          "barpolar": [
           {
            "marker": {
             "line": {
              "color": "#E5ECF6",
              "width": 0.5
             }
            },
            "type": "barpolar"
           }
          ],
          "carpet": [
           {
            "aaxis": {
             "endlinecolor": "#2a3f5f",
             "gridcolor": "white",
             "linecolor": "white",
             "minorgridcolor": "white",
             "startlinecolor": "#2a3f5f"
            },
            "baxis": {
             "endlinecolor": "#2a3f5f",
             "gridcolor": "white",
             "linecolor": "white",
             "minorgridcolor": "white",
             "startlinecolor": "#2a3f5f"
            },
            "type": "carpet"
           }
          ],
          "choropleth": [
           {
            "colorbar": {
             "outlinewidth": 0,
             "ticks": ""
            },
            "type": "choropleth"
           }
          ],
          "contour": [
           {
            "colorbar": {
             "outlinewidth": 0,
             "ticks": ""
            },
            "colorscale": [
             [
              0,
              "#0d0887"
             ],
             [
              0.1111111111111111,
              "#46039f"
             ],
             [
              0.2222222222222222,
              "#7201a8"
             ],
             [
              0.3333333333333333,
              "#9c179e"
             ],
             [
              0.4444444444444444,
              "#bd3786"
             ],
             [
              0.5555555555555556,
              "#d8576b"
             ],
             [
              0.6666666666666666,
              "#ed7953"
             ],
             [
              0.7777777777777778,
              "#fb9f3a"
             ],
             [
              0.8888888888888888,
              "#fdca26"
             ],
             [
              1,
              "#f0f921"
             ]
            ],
            "type": "contour"
           }
          ],
          "contourcarpet": [
           {
            "colorbar": {
             "outlinewidth": 0,
             "ticks": ""
            },
            "type": "contourcarpet"
           }
          ],
          "heatmap": [
           {
            "colorbar": {
             "outlinewidth": 0,
             "ticks": ""
            },
            "colorscale": [
             [
              0,
              "#0d0887"
             ],
             [
              0.1111111111111111,
              "#46039f"
             ],
             [
              0.2222222222222222,
              "#7201a8"
             ],
             [
              0.3333333333333333,
              "#9c179e"
             ],
             [
              0.4444444444444444,
              "#bd3786"
             ],
             [
              0.5555555555555556,
              "#d8576b"
             ],
             [
              0.6666666666666666,
              "#ed7953"
             ],
             [
              0.7777777777777778,
              "#fb9f3a"
             ],
             [
              0.8888888888888888,
              "#fdca26"
             ],
             [
              1,
              "#f0f921"
             ]
            ],
            "type": "heatmap"
           }
          ],
          "heatmapgl": [
           {
            "colorbar": {
             "outlinewidth": 0,
             "ticks": ""
            },
            "colorscale": [
             [
              0,
              "#0d0887"
             ],
             [
              0.1111111111111111,
              "#46039f"
             ],
             [
              0.2222222222222222,
              "#7201a8"
             ],
             [
              0.3333333333333333,
              "#9c179e"
             ],
             [
              0.4444444444444444,
              "#bd3786"
             ],
             [
              0.5555555555555556,
              "#d8576b"
             ],
             [
              0.6666666666666666,
              "#ed7953"
             ],
             [
              0.7777777777777778,
              "#fb9f3a"
             ],
             [
              0.8888888888888888,
              "#fdca26"
             ],
             [
              1,
              "#f0f921"
             ]
            ],
            "type": "heatmapgl"
           }
          ],
          "histogram": [
           {
            "marker": {
             "colorbar": {
              "outlinewidth": 0,
              "ticks": ""
             }
            },
            "type": "histogram"
           }
          ],
          "histogram2d": [
           {
            "colorbar": {
             "outlinewidth": 0,
             "ticks": ""
            },
            "colorscale": [
             [
              0,
              "#0d0887"
             ],
             [
              0.1111111111111111,
              "#46039f"
             ],
             [
              0.2222222222222222,
              "#7201a8"
             ],
             [
              0.3333333333333333,
              "#9c179e"
             ],
             [
              0.4444444444444444,
              "#bd3786"
             ],
             [
              0.5555555555555556,
              "#d8576b"
             ],
             [
              0.6666666666666666,
              "#ed7953"
             ],
             [
              0.7777777777777778,
              "#fb9f3a"
             ],
             [
              0.8888888888888888,
              "#fdca26"
             ],
             [
              1,
              "#f0f921"
             ]
            ],
            "type": "histogram2d"
           }
          ],
          "histogram2dcontour": [
           {
            "colorbar": {
             "outlinewidth": 0,
             "ticks": ""
            },
            "colorscale": [
             [
              0,
              "#0d0887"
             ],
             [
              0.1111111111111111,
              "#46039f"
             ],
             [
              0.2222222222222222,
              "#7201a8"
             ],
             [
              0.3333333333333333,
              "#9c179e"
             ],
             [
              0.4444444444444444,
              "#bd3786"
             ],
             [
              0.5555555555555556,
              "#d8576b"
             ],
             [
              0.6666666666666666,
              "#ed7953"
             ],
             [
              0.7777777777777778,
              "#fb9f3a"
             ],
             [
              0.8888888888888888,
              "#fdca26"
             ],
             [
              1,
              "#f0f921"
             ]
            ],
            "type": "histogram2dcontour"
           }
          ],
          "mesh3d": [
           {
            "colorbar": {
             "outlinewidth": 0,
             "ticks": ""
            },
            "type": "mesh3d"
           }
          ],
          "parcoords": [
           {
            "line": {
             "colorbar": {
              "outlinewidth": 0,
              "ticks": ""
             }
            },
            "type": "parcoords"
           }
          ],
          "pie": [
           {
            "automargin": true,
            "type": "pie"
           }
          ],
          "scatter": [
           {
            "marker": {
             "colorbar": {
              "outlinewidth": 0,
              "ticks": ""
             }
            },
            "type": "scatter"
           }
          ],
          "scatter3d": [
           {
            "line": {
             "colorbar": {
              "outlinewidth": 0,
              "ticks": ""
             }
            },
            "marker": {
             "colorbar": {
              "outlinewidth": 0,
              "ticks": ""
             }
            },
            "type": "scatter3d"
           }
          ],
          "scattercarpet": [
           {
            "marker": {
             "colorbar": {
              "outlinewidth": 0,
              "ticks": ""
             }
            },
            "type": "scattercarpet"
           }
          ],
          "scattergeo": [
           {
            "marker": {
             "colorbar": {
              "outlinewidth": 0,
              "ticks": ""
             }
            },
            "type": "scattergeo"
           }
          ],
          "scattergl": [
           {
            "marker": {
             "colorbar": {
              "outlinewidth": 0,
              "ticks": ""
             }
            },
            "type": "scattergl"
           }
          ],
          "scattermapbox": [
           {
            "marker": {
             "colorbar": {
              "outlinewidth": 0,
              "ticks": ""
             }
            },
            "type": "scattermapbox"
           }
          ],
          "scatterpolar": [
           {
            "marker": {
             "colorbar": {
              "outlinewidth": 0,
              "ticks": ""
             }
            },
            "type": "scatterpolar"
           }
          ],
          "scatterpolargl": [
           {
            "marker": {
             "colorbar": {
              "outlinewidth": 0,
              "ticks": ""
             }
            },
            "type": "scatterpolargl"
           }
          ],
          "scatterternary": [
           {
            "marker": {
             "colorbar": {
              "outlinewidth": 0,
              "ticks": ""
             }
            },
            "type": "scatterternary"
           }
          ],
          "surface": [
           {
            "colorbar": {
             "outlinewidth": 0,
             "ticks": ""
            },
            "colorscale": [
             [
              0,
              "#0d0887"
             ],
             [
              0.1111111111111111,
              "#46039f"
             ],
             [
              0.2222222222222222,
              "#7201a8"
             ],
             [
              0.3333333333333333,
              "#9c179e"
             ],
             [
              0.4444444444444444,
              "#bd3786"
             ],
             [
              0.5555555555555556,
              "#d8576b"
             ],
             [
              0.6666666666666666,
              "#ed7953"
             ],
             [
              0.7777777777777778,
              "#fb9f3a"
             ],
             [
              0.8888888888888888,
              "#fdca26"
             ],
             [
              1,
              "#f0f921"
             ]
            ],
            "type": "surface"
           }
          ],
          "table": [
           {
            "cells": {
             "fill": {
              "color": "#EBF0F8"
             },
             "line": {
              "color": "white"
             }
            },
            "header": {
             "fill": {
              "color": "#C8D4E3"
             },
             "line": {
              "color": "white"
             }
            },
            "type": "table"
           }
          ]
         },
         "layout": {
          "annotationdefaults": {
           "arrowcolor": "#2a3f5f",
           "arrowhead": 0,
           "arrowwidth": 1
          },
          "coloraxis": {
           "colorbar": {
            "outlinewidth": 0,
            "ticks": ""
           }
          },
          "colorscale": {
           "diverging": [
            [
             0,
             "#8e0152"
            ],
            [
             0.1,
             "#c51b7d"
            ],
            [
             0.2,
             "#de77ae"
            ],
            [
             0.3,
             "#f1b6da"
            ],
            [
             0.4,
             "#fde0ef"
            ],
            [
             0.5,
             "#f7f7f7"
            ],
            [
             0.6,
             "#e6f5d0"
            ],
            [
             0.7,
             "#b8e186"
            ],
            [
             0.8,
             "#7fbc41"
            ],
            [
             0.9,
             "#4d9221"
            ],
            [
             1,
             "#276419"
            ]
           ],
           "sequential": [
            [
             0,
             "#0d0887"
            ],
            [
             0.1111111111111111,
             "#46039f"
            ],
            [
             0.2222222222222222,
             "#7201a8"
            ],
            [
             0.3333333333333333,
             "#9c179e"
            ],
            [
             0.4444444444444444,
             "#bd3786"
            ],
            [
             0.5555555555555556,
             "#d8576b"
            ],
            [
             0.6666666666666666,
             "#ed7953"
            ],
            [
             0.7777777777777778,
             "#fb9f3a"
            ],
            [
             0.8888888888888888,
             "#fdca26"
            ],
            [
             1,
             "#f0f921"
            ]
           ],
           "sequentialminus": [
            [
             0,
             "#0d0887"
            ],
            [
             0.1111111111111111,
             "#46039f"
            ],
            [
             0.2222222222222222,
             "#7201a8"
            ],
            [
             0.3333333333333333,
             "#9c179e"
            ],
            [
             0.4444444444444444,
             "#bd3786"
            ],
            [
             0.5555555555555556,
             "#d8576b"
            ],
            [
             0.6666666666666666,
             "#ed7953"
            ],
            [
             0.7777777777777778,
             "#fb9f3a"
            ],
            [
             0.8888888888888888,
             "#fdca26"
            ],
            [
             1,
             "#f0f921"
            ]
           ]
          },
          "colorway": [
           "#636efa",
           "#EF553B",
           "#00cc96",
           "#ab63fa",
           "#FFA15A",
           "#19d3f3",
           "#FF6692",
           "#B6E880",
           "#FF97FF",
           "#FECB52"
          ],
          "font": {
           "color": "#2a3f5f"
          },
          "geo": {
           "bgcolor": "white",
           "lakecolor": "white",
           "landcolor": "#E5ECF6",
           "showlakes": true,
           "showland": true,
           "subunitcolor": "white"
          },
          "hoverlabel": {
           "align": "left"
          },
          "hovermode": "closest",
          "mapbox": {
           "style": "light"
          },
          "paper_bgcolor": "white",
          "plot_bgcolor": "#E5ECF6",
          "polar": {
           "angularaxis": {
            "gridcolor": "white",
            "linecolor": "white",
            "ticks": ""
           },
           "bgcolor": "#E5ECF6",
           "radialaxis": {
            "gridcolor": "white",
            "linecolor": "white",
            "ticks": ""
           }
          },
          "scene": {
           "xaxis": {
            "backgroundcolor": "#E5ECF6",
            "gridcolor": "white",
            "gridwidth": 2,
            "linecolor": "white",
            "showbackground": true,
            "ticks": "",
            "zerolinecolor": "white"
           },
           "yaxis": {
            "backgroundcolor": "#E5ECF6",
            "gridcolor": "white",
            "gridwidth": 2,
            "linecolor": "white",
            "showbackground": true,
            "ticks": "",
            "zerolinecolor": "white"
           },
           "zaxis": {
            "backgroundcolor": "#E5ECF6",
            "gridcolor": "white",
            "gridwidth": 2,
            "linecolor": "white",
            "showbackground": true,
            "ticks": "",
            "zerolinecolor": "white"
           }
          },
          "shapedefaults": {
           "line": {
            "color": "#2a3f5f"
           }
          },
          "ternary": {
           "aaxis": {
            "gridcolor": "white",
            "linecolor": "white",
            "ticks": ""
           },
           "baxis": {
            "gridcolor": "white",
            "linecolor": "white",
            "ticks": ""
           },
           "bgcolor": "#E5ECF6",
           "caxis": {
            "gridcolor": "white",
            "linecolor": "white",
            "ticks": ""
           }
          },
          "title": {
           "x": 0.05
          },
          "xaxis": {
           "automargin": true,
           "gridcolor": "white",
           "linecolor": "white",
           "ticks": "",
           "title": {
            "standoff": 15
           },
           "zerolinecolor": "white",
           "zerolinewidth": 2
          },
          "yaxis": {
           "automargin": true,
           "gridcolor": "white",
           "linecolor": "white",
           "ticks": "",
           "title": {
            "standoff": 15
           },
           "zerolinecolor": "white",
           "zerolinewidth": 2
          }
         }
        },
        "title": {
         "text": "Number of Cases outside China"
        },
        "uniformtext": {
         "minsize": 8,
         "mode": "hide"
        },
        "xaxis": {
         "anchor": "y",
         "domain": [
          0,
          1
         ],
         "title": {
          "text": "value"
         }
        },
        "yaxis": {
         "anchor": "x",
         "domain": [
          0,
          1
         ],
         "title": {
          "text": "Country/Region"
         }
        }
       }
      },
      "text/html": [
       "<div>\n",
       "        \n",
       "        \n",
       "            <div id=\"cd9cd64b-390c-4cf8-aa40-7d2f0ab1ab2e\" class=\"plotly-graph-div\" style=\"height:800px; width:100%;\"></div>\n",
       "            <script type=\"text/javascript\">\n",
       "                require([\"plotly\"], function(Plotly) {\n",
       "                    window.PLOTLYENV=window.PLOTLYENV || {};\n",
       "                    \n",
       "                if (document.getElementById(\"cd9cd64b-390c-4cf8-aa40-7d2f0ab1ab2e\")) {\n",
       "                    Plotly.newPlot(\n",
       "                        'cd9cd64b-390c-4cf8-aa40-7d2f0ab1ab2e',\n",
       "                        [{\"alignmentgroup\": \"True\", \"hoverlabel\": {\"namelength\": 0}, \"hovertemplate\": \"variable=Affected<br>value=%{x}<br>Country/Region=%{y}\", \"legendgroup\": \"Affected\", \"marker\": {\"color\": \"#636efa\"}, \"name\": \"Affected\", \"offsetgroup\": \"Affected\", \"orientation\": \"h\", \"showlegend\": true, \"textposition\": \"auto\", \"type\": \"bar\", \"x\": [0.0, 0.0, 0.0, 0.0, 0.0, 0.0, 0.0, 1.0, 1.0, 1.0, 1.0, 1.0, 3.0, 5.0, 5.0, 6.0, 7.0, 7.0, 9.0, 12.0, 15.0, 15.0, 17.0, 20.0, 20.0, 46.0, 54.0, 57.0], \"xaxis\": \"x\", \"y\": [\"India\", \"Spain\", \"Russia\", \"Sri Lanka\", \"Finland\", \"Cambodia\", \"Nepal\", \"UK\", \"Philippines\", \"Sweden\", \"Egypt\", \"Belgium\", \"Italy\", \"Macau\", \"United Arab Emirates\", \"Canada\", \"Australia\", \"France\", \"Vietnam\", \"US\", \"Malaysia\", \"Germany\", \"Taiwan\", \"Thailand\", \"South Korea\", \"Japan\", \"Hong Kong\", \"Singapore\"], \"yaxis\": \"y\"}, {\"alignmentgroup\": \"True\", \"hoverlabel\": {\"namelength\": 0}, \"hovertemplate\": \"variable=Deaths<br>value=%{x}<br>Country/Region=%{y}\", \"legendgroup\": \"Deaths\", \"marker\": {\"color\": \"#EF553B\"}, \"name\": \"Deaths\", \"offsetgroup\": \"Deaths\", \"orientation\": \"h\", \"showlegend\": true, \"textposition\": \"auto\", \"type\": \"bar\", \"x\": [0.0, 0.0, 0.0, 0.0, 0.0, 0.0, 0.0, 0.0, 0.0, 0.0, 0.0, 0.0, 0.0, 0.0, 0.0, 0.0, 0.0, 0.0, 0.0, 0.0, 0.0, 0.0, 0.0, 1.0, 1.0, 1.0, 1.0, 1.0], \"xaxis\": \"x\", \"y\": [\"Singapore\", \"Thailand\", \"South Korea\", \"Malaysia\", \"Vietnam\", \"Germany\", \"US\", \"Australia\", \"Macau\", \"United Arab Emirates\", \"UK\", \"Canada\", \"Italy\", \"India\", \"Spain\", \"Russia\", \"Sri Lanka\", \"Sweden\", \"Egypt\", \"Finland\", \"Cambodia\", \"Belgium\", \"Nepal\", \"Japan\", \"Hong Kong\", \"Taiwan\", \"France\", \"Philippines\"], \"yaxis\": \"y\"}, {\"alignmentgroup\": \"True\", \"hoverlabel\": {\"namelength\": 0}, \"hovertemplate\": \"variable=Recovered<br>value=%{x}<br>Country/Region=%{y}\", \"legendgroup\": \"Recovered\", \"marker\": {\"color\": \"#00cc96\"}, \"name\": \"Recovered\", \"offsetgroup\": \"Recovered\", \"orientation\": \"h\", \"showlegend\": true, \"textposition\": \"auto\", \"type\": \"bar\", \"x\": [0.0, 0.0, 0.0, 0.0, 1.0, 1.0, 1.0, 1.0, 1.0, 1.0, 1.0, 2.0, 2.0, 2.0, 2.0, 3.0, 3.0, 4.0, 4.0, 5.0, 7.0, 7.0, 8.0, 8.0, 9.0, 12.0, 14.0, 18.0], \"xaxis\": \"x\", \"y\": [\"Italy\", \"Sweden\", \"Egypt\", \"Belgium\", \"Germany\", \"Canada\", \"Philippines\", \"Sri Lanka\", \"Finland\", \"Cambodia\", \"Nepal\", \"Hong Kong\", \"Taiwan\", \"Spain\", \"Russia\", \"US\", \"India\", \"France\", \"United Arab Emirates\", \"Macau\", \"Malaysia\", \"Vietnam\", \"Australia\", \"UK\", \"South Korea\", \"Japan\", \"Thailand\", \"Singapore\"], \"yaxis\": \"y\"}],\n",
       "                        {\"barmode\": \"relative\", \"height\": 800, \"legend\": {\"title\": {\"text\": \"variable\"}, \"tracegroupgap\": 0}, \"template\": {\"data\": {\"bar\": [{\"error_x\": {\"color\": \"#2a3f5f\"}, \"error_y\": {\"color\": \"#2a3f5f\"}, \"marker\": {\"line\": {\"color\": \"#E5ECF6\", \"width\": 0.5}}, \"type\": \"bar\"}], \"barpolar\": [{\"marker\": {\"line\": {\"color\": \"#E5ECF6\", \"width\": 0.5}}, \"type\": \"barpolar\"}], \"carpet\": [{\"aaxis\": {\"endlinecolor\": \"#2a3f5f\", \"gridcolor\": \"white\", \"linecolor\": \"white\", \"minorgridcolor\": \"white\", \"startlinecolor\": \"#2a3f5f\"}, \"baxis\": {\"endlinecolor\": \"#2a3f5f\", \"gridcolor\": \"white\", \"linecolor\": \"white\", \"minorgridcolor\": \"white\", \"startlinecolor\": \"#2a3f5f\"}, \"type\": \"carpet\"}], \"choropleth\": [{\"colorbar\": {\"outlinewidth\": 0, \"ticks\": \"\"}, \"type\": \"choropleth\"}], \"contour\": [{\"colorbar\": {\"outlinewidth\": 0, \"ticks\": \"\"}, \"colorscale\": [[0.0, \"#0d0887\"], [0.1111111111111111, \"#46039f\"], [0.2222222222222222, \"#7201a8\"], [0.3333333333333333, \"#9c179e\"], [0.4444444444444444, \"#bd3786\"], [0.5555555555555556, \"#d8576b\"], [0.6666666666666666, \"#ed7953\"], [0.7777777777777778, \"#fb9f3a\"], [0.8888888888888888, \"#fdca26\"], [1.0, \"#f0f921\"]], \"type\": \"contour\"}], \"contourcarpet\": [{\"colorbar\": {\"outlinewidth\": 0, \"ticks\": \"\"}, \"type\": \"contourcarpet\"}], \"heatmap\": [{\"colorbar\": {\"outlinewidth\": 0, \"ticks\": \"\"}, \"colorscale\": [[0.0, \"#0d0887\"], [0.1111111111111111, \"#46039f\"], [0.2222222222222222, \"#7201a8\"], [0.3333333333333333, \"#9c179e\"], [0.4444444444444444, \"#bd3786\"], [0.5555555555555556, \"#d8576b\"], [0.6666666666666666, \"#ed7953\"], [0.7777777777777778, \"#fb9f3a\"], [0.8888888888888888, \"#fdca26\"], [1.0, \"#f0f921\"]], \"type\": \"heatmap\"}], \"heatmapgl\": [{\"colorbar\": {\"outlinewidth\": 0, \"ticks\": \"\"}, \"colorscale\": [[0.0, \"#0d0887\"], [0.1111111111111111, \"#46039f\"], [0.2222222222222222, \"#7201a8\"], [0.3333333333333333, \"#9c179e\"], [0.4444444444444444, \"#bd3786\"], [0.5555555555555556, \"#d8576b\"], [0.6666666666666666, \"#ed7953\"], [0.7777777777777778, \"#fb9f3a\"], [0.8888888888888888, \"#fdca26\"], [1.0, \"#f0f921\"]], \"type\": \"heatmapgl\"}], \"histogram\": [{\"marker\": {\"colorbar\": {\"outlinewidth\": 0, \"ticks\": \"\"}}, \"type\": \"histogram\"}], \"histogram2d\": [{\"colorbar\": {\"outlinewidth\": 0, \"ticks\": \"\"}, \"colorscale\": [[0.0, \"#0d0887\"], [0.1111111111111111, \"#46039f\"], [0.2222222222222222, \"#7201a8\"], [0.3333333333333333, \"#9c179e\"], [0.4444444444444444, \"#bd3786\"], [0.5555555555555556, \"#d8576b\"], [0.6666666666666666, \"#ed7953\"], [0.7777777777777778, \"#fb9f3a\"], [0.8888888888888888, \"#fdca26\"], [1.0, \"#f0f921\"]], \"type\": \"histogram2d\"}], \"histogram2dcontour\": [{\"colorbar\": {\"outlinewidth\": 0, \"ticks\": \"\"}, \"colorscale\": [[0.0, \"#0d0887\"], [0.1111111111111111, \"#46039f\"], [0.2222222222222222, \"#7201a8\"], [0.3333333333333333, \"#9c179e\"], [0.4444444444444444, \"#bd3786\"], [0.5555555555555556, \"#d8576b\"], [0.6666666666666666, \"#ed7953\"], [0.7777777777777778, \"#fb9f3a\"], [0.8888888888888888, \"#fdca26\"], [1.0, \"#f0f921\"]], \"type\": \"histogram2dcontour\"}], \"mesh3d\": [{\"colorbar\": {\"outlinewidth\": 0, \"ticks\": \"\"}, \"type\": \"mesh3d\"}], \"parcoords\": [{\"line\": {\"colorbar\": {\"outlinewidth\": 0, \"ticks\": \"\"}}, \"type\": \"parcoords\"}], \"pie\": [{\"automargin\": true, \"type\": \"pie\"}], \"scatter\": [{\"marker\": {\"colorbar\": {\"outlinewidth\": 0, \"ticks\": \"\"}}, \"type\": \"scatter\"}], \"scatter3d\": [{\"line\": {\"colorbar\": {\"outlinewidth\": 0, \"ticks\": \"\"}}, \"marker\": {\"colorbar\": {\"outlinewidth\": 0, \"ticks\": \"\"}}, \"type\": \"scatter3d\"}], \"scattercarpet\": [{\"marker\": {\"colorbar\": {\"outlinewidth\": 0, \"ticks\": \"\"}}, \"type\": \"scattercarpet\"}], \"scattergeo\": [{\"marker\": {\"colorbar\": {\"outlinewidth\": 0, \"ticks\": \"\"}}, \"type\": \"scattergeo\"}], \"scattergl\": [{\"marker\": {\"colorbar\": {\"outlinewidth\": 0, \"ticks\": \"\"}}, \"type\": \"scattergl\"}], \"scattermapbox\": [{\"marker\": {\"colorbar\": {\"outlinewidth\": 0, \"ticks\": \"\"}}, \"type\": \"scattermapbox\"}], \"scatterpolar\": [{\"marker\": {\"colorbar\": {\"outlinewidth\": 0, \"ticks\": \"\"}}, \"type\": \"scatterpolar\"}], \"scatterpolargl\": [{\"marker\": {\"colorbar\": {\"outlinewidth\": 0, \"ticks\": \"\"}}, \"type\": \"scatterpolargl\"}], \"scatterternary\": [{\"marker\": {\"colorbar\": {\"outlinewidth\": 0, \"ticks\": \"\"}}, \"type\": \"scatterternary\"}], \"surface\": [{\"colorbar\": {\"outlinewidth\": 0, \"ticks\": \"\"}, \"colorscale\": [[0.0, \"#0d0887\"], [0.1111111111111111, \"#46039f\"], [0.2222222222222222, \"#7201a8\"], [0.3333333333333333, \"#9c179e\"], [0.4444444444444444, \"#bd3786\"], [0.5555555555555556, \"#d8576b\"], [0.6666666666666666, \"#ed7953\"], [0.7777777777777778, \"#fb9f3a\"], [0.8888888888888888, \"#fdca26\"], [1.0, \"#f0f921\"]], \"type\": \"surface\"}], \"table\": [{\"cells\": {\"fill\": {\"color\": \"#EBF0F8\"}, \"line\": {\"color\": \"white\"}}, \"header\": {\"fill\": {\"color\": \"#C8D4E3\"}, \"line\": {\"color\": \"white\"}}, \"type\": \"table\"}]}, \"layout\": {\"annotationdefaults\": {\"arrowcolor\": \"#2a3f5f\", \"arrowhead\": 0, \"arrowwidth\": 1}, \"coloraxis\": {\"colorbar\": {\"outlinewidth\": 0, \"ticks\": \"\"}}, \"colorscale\": {\"diverging\": [[0, \"#8e0152\"], [0.1, \"#c51b7d\"], [0.2, \"#de77ae\"], [0.3, \"#f1b6da\"], [0.4, \"#fde0ef\"], [0.5, \"#f7f7f7\"], [0.6, \"#e6f5d0\"], [0.7, \"#b8e186\"], [0.8, \"#7fbc41\"], [0.9, \"#4d9221\"], [1, \"#276419\"]], \"sequential\": [[0.0, \"#0d0887\"], [0.1111111111111111, \"#46039f\"], [0.2222222222222222, \"#7201a8\"], [0.3333333333333333, \"#9c179e\"], [0.4444444444444444, \"#bd3786\"], [0.5555555555555556, \"#d8576b\"], [0.6666666666666666, \"#ed7953\"], [0.7777777777777778, \"#fb9f3a\"], [0.8888888888888888, \"#fdca26\"], [1.0, \"#f0f921\"]], \"sequentialminus\": [[0.0, \"#0d0887\"], [0.1111111111111111, \"#46039f\"], [0.2222222222222222, \"#7201a8\"], [0.3333333333333333, \"#9c179e\"], [0.4444444444444444, \"#bd3786\"], [0.5555555555555556, \"#d8576b\"], [0.6666666666666666, \"#ed7953\"], [0.7777777777777778, \"#fb9f3a\"], [0.8888888888888888, \"#fdca26\"], [1.0, \"#f0f921\"]]}, \"colorway\": [\"#636efa\", \"#EF553B\", \"#00cc96\", \"#ab63fa\", \"#FFA15A\", \"#19d3f3\", \"#FF6692\", \"#B6E880\", \"#FF97FF\", \"#FECB52\"], \"font\": {\"color\": \"#2a3f5f\"}, \"geo\": {\"bgcolor\": \"white\", \"lakecolor\": \"white\", \"landcolor\": \"#E5ECF6\", \"showlakes\": true, \"showland\": true, \"subunitcolor\": \"white\"}, \"hoverlabel\": {\"align\": \"left\"}, \"hovermode\": \"closest\", \"mapbox\": {\"style\": \"light\"}, \"paper_bgcolor\": \"white\", \"plot_bgcolor\": \"#E5ECF6\", \"polar\": {\"angularaxis\": {\"gridcolor\": \"white\", \"linecolor\": \"white\", \"ticks\": \"\"}, \"bgcolor\": \"#E5ECF6\", \"radialaxis\": {\"gridcolor\": \"white\", \"linecolor\": \"white\", \"ticks\": \"\"}}, \"scene\": {\"xaxis\": {\"backgroundcolor\": \"#E5ECF6\", \"gridcolor\": \"white\", \"gridwidth\": 2, \"linecolor\": \"white\", \"showbackground\": true, \"ticks\": \"\", \"zerolinecolor\": \"white\"}, \"yaxis\": {\"backgroundcolor\": \"#E5ECF6\", \"gridcolor\": \"white\", \"gridwidth\": 2, \"linecolor\": \"white\", \"showbackground\": true, \"ticks\": \"\", \"zerolinecolor\": \"white\"}, \"zaxis\": {\"backgroundcolor\": \"#E5ECF6\", \"gridcolor\": \"white\", \"gridwidth\": 2, \"linecolor\": \"white\", \"showbackground\": true, \"ticks\": \"\", \"zerolinecolor\": \"white\"}}, \"shapedefaults\": {\"line\": {\"color\": \"#2a3f5f\"}}, \"ternary\": {\"aaxis\": {\"gridcolor\": \"white\", \"linecolor\": \"white\", \"ticks\": \"\"}, \"baxis\": {\"gridcolor\": \"white\", \"linecolor\": \"white\", \"ticks\": \"\"}, \"bgcolor\": \"#E5ECF6\", \"caxis\": {\"gridcolor\": \"white\", \"linecolor\": \"white\", \"ticks\": \"\"}}, \"title\": {\"x\": 0.05}, \"xaxis\": {\"automargin\": true, \"gridcolor\": \"white\", \"linecolor\": \"white\", \"ticks\": \"\", \"title\": {\"standoff\": 15}, \"zerolinecolor\": \"white\", \"zerolinewidth\": 2}, \"yaxis\": {\"automargin\": true, \"gridcolor\": \"white\", \"linecolor\": \"white\", \"ticks\": \"\", \"title\": {\"standoff\": 15}, \"zerolinecolor\": \"white\", \"zerolinewidth\": 2}}}, \"title\": {\"text\": \"Number of Cases outside China\"}, \"uniformtext\": {\"minsize\": 8, \"mode\": \"hide\"}, \"xaxis\": {\"anchor\": \"y\", \"domain\": [0.0, 1.0], \"title\": {\"text\": \"value\"}}, \"yaxis\": {\"anchor\": \"x\", \"domain\": [0.0, 1.0], \"title\": {\"text\": \"Country/Region\"}}},\n",
       "                        {\"responsive\": true}\n",
       "                    ).then(function(){\n",
       "                            \n",
       "var gd = document.getElementById('cd9cd64b-390c-4cf8-aa40-7d2f0ab1ab2e');\n",
       "var x = new MutationObserver(function (mutations, observer) {{\n",
       "        var display = window.getComputedStyle(gd).display;\n",
       "        if (!display || display === 'none') {{\n",
       "            console.log([gd, 'removed!']);\n",
       "            Plotly.purge(gd);\n",
       "            observer.disconnect();\n",
       "        }}\n",
       "}});\n",
       "\n",
       "// Listen for the removal of the full notebook cells\n",
       "var notebookContainer = gd.closest('#notebook-container');\n",
       "if (notebookContainer) {{\n",
       "    x.observe(notebookContainer, {childList: true});\n",
       "}}\n",
       "\n",
       "// Listen for the clearing of the current output cell\n",
       "var outputEl = gd.closest('.output');\n",
       "if (outputEl) {{\n",
       "    x.observe(outputEl, {childList: true});\n",
       "}}\n",
       "\n",
       "                        })\n",
       "                };\n",
       "                });\n",
       "            </script>\n",
       "        </div>"
      ]
     },
     "metadata": {},
     "output_type": "display_data"
    },
    {
     "data": {
      "application/vnd.plotly.v1+json": {
       "config": {
        "plotlyServerURL": "https://plot.ly"
       },
       "data": [
        {
         "alignmentgroup": "True",
         "hoverlabel": {
          "namelength": 0
         },
         "hovertemplate": "variable=Affected<br>value=%{x}<br>Province/State=%{y}",
         "legendgroup": "Affected",
         "marker": {
          "color": "#636efa"
         },
         "name": "Affected",
         "offsetgroup": "Affected",
         "orientation": "h",
         "showlegend": true,
         "textposition": "auto",
         "type": "bar",
         "x": [
          0,
          5,
          34,
          37,
          58,
          58,
          62,
          76,
          79,
          80,
          97,
          106,
          129,
          165,
          186,
          187,
          192,
          205,
          268,
          339,
          347,
          355,
          362,
          399,
          537,
          684,
          701,
          711,
          778,
          849,
          49847
         ],
         "xaxis": "x",
         "y": [
          "Tibet",
          "Qinghai",
          "Gansu",
          "Ningxia",
          "Jilin",
          "Xinjiang",
          "Inner Mongolia",
          "Tianjin",
          "Shanxi",
          "Liaoning",
          "Guizhou",
          "Hainan",
          "Yunnan",
          "Shaanxi",
          "Guangxi",
          "Shanghai",
          "Hebei",
          "Fujian",
          "Beijing",
          "Chongqing",
          "Sichuan",
          "Heilongjiang",
          "Shandong",
          "Jiangsu",
          "Hunan",
          "Jiangxi",
          "Anhui",
          "Zhejiang",
          "Henan",
          "Guangdong",
          "Hubei"
         ],
         "yaxis": "y"
        },
        {
         "alignmentgroup": "True",
         "hoverlabel": {
          "namelength": 0
         },
         "hovertemplate": "variable=Deaths<br>value=%{x}<br>Province/State=%{y}",
         "legendgroup": "Deaths",
         "marker": {
          "color": "#EF553B"
         },
         "name": "Deaths",
         "offsetgroup": "Deaths",
         "orientation": "h",
         "showlegend": true,
         "textposition": "auto",
         "type": "bar",
         "x": [
          0,
          0,
          0,
          0,
          0,
          0,
          0,
          0,
          0,
          0,
          1,
          1,
          1,
          1,
          1,
          1,
          2,
          2,
          2,
          2,
          3,
          3,
          3,
          3,
          4,
          4,
          5,
          6,
          11,
          13,
          1696
         ],
         "xaxis": "x",
         "y": [
          "Zhejiang",
          "Jiangsu",
          "Fujian",
          "Shaanxi",
          "Yunnan",
          "Shanxi",
          "Ningxia",
          "Inner Mongolia",
          "Qinghai",
          "Tibet",
          "Jiangxi",
          "Shanghai",
          "Guizhou",
          "Liaoning",
          "Jilin",
          "Xinjiang",
          "Guangdong",
          "Shandong",
          "Guangxi",
          "Gansu",
          "Hunan",
          "Sichuan",
          "Hebei",
          "Tianjin",
          "Beijing",
          "Hainan",
          "Chongqing",
          "Anhui",
          "Heilongjiang",
          "Henan",
          "Hubei"
         ],
         "yaxis": "y"
        },
        {
         "alignmentgroup": "True",
         "hoverlabel": {
          "namelength": 0
         },
         "hovertemplate": "variable=Recovered<br>value=%{x}<br>Province/State=%{y}",
         "legendgroup": "Recovered",
         "marker": {
          "color": "#00cc96"
         },
         "name": "Recovered",
         "offsetgroup": "Recovered",
         "orientation": "h",
         "showlegend": true,
         "textposition": "auto",
         "type": "bar",
         "x": [
          1,
          8,
          12,
          13,
          30,
          33,
          40,
          42,
          45,
          46,
          49,
          50,
          52,
          54,
          71,
          79,
          82,
          105,
          108,
          131,
          140,
          173,
          207,
          218,
          240,
          255,
          440,
          456,
          464,
          465,
          6639
         ],
         "xaxis": "x",
         "y": [
          "Tibet",
          "Inner Mongolia",
          "Xinjiang",
          "Qinghai",
          "Jilin",
          "Ningxia",
          "Liaoning",
          "Yunnan",
          "Tianjin",
          "Guizhou",
          "Guangxi",
          "Shanxi",
          "Hainan",
          "Gansu",
          "Shaanxi",
          "Heilongjiang",
          "Fujian",
          "Hebei",
          "Beijing",
          "Sichuan",
          "Shanghai",
          "Shandong",
          "Chongqing",
          "Jiangsu",
          "Jiangxi",
          "Anhui",
          "Henan",
          "Zhejiang",
          "Hunan",
          "Guangdong",
          "Hubei"
         ],
         "yaxis": "y"
        }
       ],
       "layout": {
        "barmode": "relative",
        "height": 800,
        "legend": {
         "title": {
          "text": "variable"
         },
         "tracegroupgap": 0
        },
        "template": {
         "data": {
          "bar": [
           {
            "error_x": {
             "color": "#2a3f5f"
            },
            "error_y": {
             "color": "#2a3f5f"
            },
            "marker": {
             "line": {
              "color": "#E5ECF6",
              "width": 0.5
             }
            },
            "type": "bar"
           }
          ],
          "barpolar": [
           {
            "marker": {
             "line": {
              "color": "#E5ECF6",
              "width": 0.5
             }
            },
            "type": "barpolar"
           }
          ],
          "carpet": [
           {
            "aaxis": {
             "endlinecolor": "#2a3f5f",
             "gridcolor": "white",
             "linecolor": "white",
             "minorgridcolor": "white",
             "startlinecolor": "#2a3f5f"
            },
            "baxis": {
             "endlinecolor": "#2a3f5f",
             "gridcolor": "white",
             "linecolor": "white",
             "minorgridcolor": "white",
             "startlinecolor": "#2a3f5f"
            },
            "type": "carpet"
           }
          ],
          "choropleth": [
           {
            "colorbar": {
             "outlinewidth": 0,
             "ticks": ""
            },
            "type": "choropleth"
           }
          ],
          "contour": [
           {
            "colorbar": {
             "outlinewidth": 0,
             "ticks": ""
            },
            "colorscale": [
             [
              0,
              "#0d0887"
             ],
             [
              0.1111111111111111,
              "#46039f"
             ],
             [
              0.2222222222222222,
              "#7201a8"
             ],
             [
              0.3333333333333333,
              "#9c179e"
             ],
             [
              0.4444444444444444,
              "#bd3786"
             ],
             [
              0.5555555555555556,
              "#d8576b"
             ],
             [
              0.6666666666666666,
              "#ed7953"
             ],
             [
              0.7777777777777778,
              "#fb9f3a"
             ],
             [
              0.8888888888888888,
              "#fdca26"
             ],
             [
              1,
              "#f0f921"
             ]
            ],
            "type": "contour"
           }
          ],
          "contourcarpet": [
           {
            "colorbar": {
             "outlinewidth": 0,
             "ticks": ""
            },
            "type": "contourcarpet"
           }
          ],
          "heatmap": [
           {
            "colorbar": {
             "outlinewidth": 0,
             "ticks": ""
            },
            "colorscale": [
             [
              0,
              "#0d0887"
             ],
             [
              0.1111111111111111,
              "#46039f"
             ],
             [
              0.2222222222222222,
              "#7201a8"
             ],
             [
              0.3333333333333333,
              "#9c179e"
             ],
             [
              0.4444444444444444,
              "#bd3786"
             ],
             [
              0.5555555555555556,
              "#d8576b"
             ],
             [
              0.6666666666666666,
              "#ed7953"
             ],
             [
              0.7777777777777778,
              "#fb9f3a"
             ],
             [
              0.8888888888888888,
              "#fdca26"
             ],
             [
              1,
              "#f0f921"
             ]
            ],
            "type": "heatmap"
           }
          ],
          "heatmapgl": [
           {
            "colorbar": {
             "outlinewidth": 0,
             "ticks": ""
            },
            "colorscale": [
             [
              0,
              "#0d0887"
             ],
             [
              0.1111111111111111,
              "#46039f"
             ],
             [
              0.2222222222222222,
              "#7201a8"
             ],
             [
              0.3333333333333333,
              "#9c179e"
             ],
             [
              0.4444444444444444,
              "#bd3786"
             ],
             [
              0.5555555555555556,
              "#d8576b"
             ],
             [
              0.6666666666666666,
              "#ed7953"
             ],
             [
              0.7777777777777778,
              "#fb9f3a"
             ],
             [
              0.8888888888888888,
              "#fdca26"
             ],
             [
              1,
              "#f0f921"
             ]
            ],
            "type": "heatmapgl"
           }
          ],
          "histogram": [
           {
            "marker": {
             "colorbar": {
              "outlinewidth": 0,
              "ticks": ""
             }
            },
            "type": "histogram"
           }
          ],
          "histogram2d": [
           {
            "colorbar": {
             "outlinewidth": 0,
             "ticks": ""
            },
            "colorscale": [
             [
              0,
              "#0d0887"
             ],
             [
              0.1111111111111111,
              "#46039f"
             ],
             [
              0.2222222222222222,
              "#7201a8"
             ],
             [
              0.3333333333333333,
              "#9c179e"
             ],
             [
              0.4444444444444444,
              "#bd3786"
             ],
             [
              0.5555555555555556,
              "#d8576b"
             ],
             [
              0.6666666666666666,
              "#ed7953"
             ],
             [
              0.7777777777777778,
              "#fb9f3a"
             ],
             [
              0.8888888888888888,
              "#fdca26"
             ],
             [
              1,
              "#f0f921"
             ]
            ],
            "type": "histogram2d"
           }
          ],
          "histogram2dcontour": [
           {
            "colorbar": {
             "outlinewidth": 0,
             "ticks": ""
            },
            "colorscale": [
             [
              0,
              "#0d0887"
             ],
             [
              0.1111111111111111,
              "#46039f"
             ],
             [
              0.2222222222222222,
              "#7201a8"
             ],
             [
              0.3333333333333333,
              "#9c179e"
             ],
             [
              0.4444444444444444,
              "#bd3786"
             ],
             [
              0.5555555555555556,
              "#d8576b"
             ],
             [
              0.6666666666666666,
              "#ed7953"
             ],
             [
              0.7777777777777778,
              "#fb9f3a"
             ],
             [
              0.8888888888888888,
              "#fdca26"
             ],
             [
              1,
              "#f0f921"
             ]
            ],
            "type": "histogram2dcontour"
           }
          ],
          "mesh3d": [
           {
            "colorbar": {
             "outlinewidth": 0,
             "ticks": ""
            },
            "type": "mesh3d"
           }
          ],
          "parcoords": [
           {
            "line": {
             "colorbar": {
              "outlinewidth": 0,
              "ticks": ""
             }
            },
            "type": "parcoords"
           }
          ],
          "pie": [
           {
            "automargin": true,
            "type": "pie"
           }
          ],
          "scatter": [
           {
            "marker": {
             "colorbar": {
              "outlinewidth": 0,
              "ticks": ""
             }
            },
            "type": "scatter"
           }
          ],
          "scatter3d": [
           {
            "line": {
             "colorbar": {
              "outlinewidth": 0,
              "ticks": ""
             }
            },
            "marker": {
             "colorbar": {
              "outlinewidth": 0,
              "ticks": ""
             }
            },
            "type": "scatter3d"
           }
          ],
          "scattercarpet": [
           {
            "marker": {
             "colorbar": {
              "outlinewidth": 0,
              "ticks": ""
             }
            },
            "type": "scattercarpet"
           }
          ],
          "scattergeo": [
           {
            "marker": {
             "colorbar": {
              "outlinewidth": 0,
              "ticks": ""
             }
            },
            "type": "scattergeo"
           }
          ],
          "scattergl": [
           {
            "marker": {
             "colorbar": {
              "outlinewidth": 0,
              "ticks": ""
             }
            },
            "type": "scattergl"
           }
          ],
          "scattermapbox": [
           {
            "marker": {
             "colorbar": {
              "outlinewidth": 0,
              "ticks": ""
             }
            },
            "type": "scattermapbox"
           }
          ],
          "scatterpolar": [
           {
            "marker": {
             "colorbar": {
              "outlinewidth": 0,
              "ticks": ""
             }
            },
            "type": "scatterpolar"
           }
          ],
          "scatterpolargl": [
           {
            "marker": {
             "colorbar": {
              "outlinewidth": 0,
              "ticks": ""
             }
            },
            "type": "scatterpolargl"
           }
          ],
          "scatterternary": [
           {
            "marker": {
             "colorbar": {
              "outlinewidth": 0,
              "ticks": ""
             }
            },
            "type": "scatterternary"
           }
          ],
          "surface": [
           {
            "colorbar": {
             "outlinewidth": 0,
             "ticks": ""
            },
            "colorscale": [
             [
              0,
              "#0d0887"
             ],
             [
              0.1111111111111111,
              "#46039f"
             ],
             [
              0.2222222222222222,
              "#7201a8"
             ],
             [
              0.3333333333333333,
              "#9c179e"
             ],
             [
              0.4444444444444444,
              "#bd3786"
             ],
             [
              0.5555555555555556,
              "#d8576b"
             ],
             [
              0.6666666666666666,
              "#ed7953"
             ],
             [
              0.7777777777777778,
              "#fb9f3a"
             ],
             [
              0.8888888888888888,
              "#fdca26"
             ],
             [
              1,
              "#f0f921"
             ]
            ],
            "type": "surface"
           }
          ],
          "table": [
           {
            "cells": {
             "fill": {
              "color": "#EBF0F8"
             },
             "line": {
              "color": "white"
             }
            },
            "header": {
             "fill": {
              "color": "#C8D4E3"
             },
             "line": {
              "color": "white"
             }
            },
            "type": "table"
           }
          ]
         },
         "layout": {
          "annotationdefaults": {
           "arrowcolor": "#2a3f5f",
           "arrowhead": 0,
           "arrowwidth": 1
          },
          "coloraxis": {
           "colorbar": {
            "outlinewidth": 0,
            "ticks": ""
           }
          },
          "colorscale": {
           "diverging": [
            [
             0,
             "#8e0152"
            ],
            [
             0.1,
             "#c51b7d"
            ],
            [
             0.2,
             "#de77ae"
            ],
            [
             0.3,
             "#f1b6da"
            ],
            [
             0.4,
             "#fde0ef"
            ],
            [
             0.5,
             "#f7f7f7"
            ],
            [
             0.6,
             "#e6f5d0"
            ],
            [
             0.7,
             "#b8e186"
            ],
            [
             0.8,
             "#7fbc41"
            ],
            [
             0.9,
             "#4d9221"
            ],
            [
             1,
             "#276419"
            ]
           ],
           "sequential": [
            [
             0,
             "#0d0887"
            ],
            [
             0.1111111111111111,
             "#46039f"
            ],
            [
             0.2222222222222222,
             "#7201a8"
            ],
            [
             0.3333333333333333,
             "#9c179e"
            ],
            [
             0.4444444444444444,
             "#bd3786"
            ],
            [
             0.5555555555555556,
             "#d8576b"
            ],
            [
             0.6666666666666666,
             "#ed7953"
            ],
            [
             0.7777777777777778,
             "#fb9f3a"
            ],
            [
             0.8888888888888888,
             "#fdca26"
            ],
            [
             1,
             "#f0f921"
            ]
           ],
           "sequentialminus": [
            [
             0,
             "#0d0887"
            ],
            [
             0.1111111111111111,
             "#46039f"
            ],
            [
             0.2222222222222222,
             "#7201a8"
            ],
            [
             0.3333333333333333,
             "#9c179e"
            ],
            [
             0.4444444444444444,
             "#bd3786"
            ],
            [
             0.5555555555555556,
             "#d8576b"
            ],
            [
             0.6666666666666666,
             "#ed7953"
            ],
            [
             0.7777777777777778,
             "#fb9f3a"
            ],
            [
             0.8888888888888888,
             "#fdca26"
            ],
            [
             1,
             "#f0f921"
            ]
           ]
          },
          "colorway": [
           "#636efa",
           "#EF553B",
           "#00cc96",
           "#ab63fa",
           "#FFA15A",
           "#19d3f3",
           "#FF6692",
           "#B6E880",
           "#FF97FF",
           "#FECB52"
          ],
          "font": {
           "color": "#2a3f5f"
          },
          "geo": {
           "bgcolor": "white",
           "lakecolor": "white",
           "landcolor": "#E5ECF6",
           "showlakes": true,
           "showland": true,
           "subunitcolor": "white"
          },
          "hoverlabel": {
           "align": "left"
          },
          "hovermode": "closest",
          "mapbox": {
           "style": "light"
          },
          "paper_bgcolor": "white",
          "plot_bgcolor": "#E5ECF6",
          "polar": {
           "angularaxis": {
            "gridcolor": "white",
            "linecolor": "white",
            "ticks": ""
           },
           "bgcolor": "#E5ECF6",
           "radialaxis": {
            "gridcolor": "white",
            "linecolor": "white",
            "ticks": ""
           }
          },
          "scene": {
           "xaxis": {
            "backgroundcolor": "#E5ECF6",
            "gridcolor": "white",
            "gridwidth": 2,
            "linecolor": "white",
            "showbackground": true,
            "ticks": "",
            "zerolinecolor": "white"
           },
           "yaxis": {
            "backgroundcolor": "#E5ECF6",
            "gridcolor": "white",
            "gridwidth": 2,
            "linecolor": "white",
            "showbackground": true,
            "ticks": "",
            "zerolinecolor": "white"
           },
           "zaxis": {
            "backgroundcolor": "#E5ECF6",
            "gridcolor": "white",
            "gridwidth": 2,
            "linecolor": "white",
            "showbackground": true,
            "ticks": "",
            "zerolinecolor": "white"
           }
          },
          "shapedefaults": {
           "line": {
            "color": "#2a3f5f"
           }
          },
          "ternary": {
           "aaxis": {
            "gridcolor": "white",
            "linecolor": "white",
            "ticks": ""
           },
           "baxis": {
            "gridcolor": "white",
            "linecolor": "white",
            "ticks": ""
           },
           "bgcolor": "#E5ECF6",
           "caxis": {
            "gridcolor": "white",
            "linecolor": "white",
            "ticks": ""
           }
          },
          "title": {
           "x": 0.05
          },
          "xaxis": {
           "automargin": true,
           "gridcolor": "white",
           "linecolor": "white",
           "ticks": "",
           "title": {
            "standoff": 15
           },
           "zerolinecolor": "white",
           "zerolinewidth": 2
          },
          "yaxis": {
           "automargin": true,
           "gridcolor": "white",
           "linecolor": "white",
           "ticks": "",
           "title": {
            "standoff": 15
           },
           "zerolinecolor": "white",
           "zerolinewidth": 2
          }
         }
        },
        "title": {
         "text": "Number of Cases in China"
        },
        "uniformtext": {
         "minsize": 8,
         "mode": "hide"
        },
        "xaxis": {
         "anchor": "y",
         "domain": [
          0,
          1
         ],
         "title": {
          "text": "value"
         }
        },
        "yaxis": {
         "anchor": "x",
         "domain": [
          0,
          1
         ],
         "title": {
          "text": "Province/State"
         }
        }
       }
      },
      "text/html": [
       "<div>\n",
       "        \n",
       "        \n",
       "            <div id=\"4f20eadc-030a-4043-a3a3-38ec9bd69fe1\" class=\"plotly-graph-div\" style=\"height:800px; width:100%;\"></div>\n",
       "            <script type=\"text/javascript\">\n",
       "                require([\"plotly\"], function(Plotly) {\n",
       "                    window.PLOTLYENV=window.PLOTLYENV || {};\n",
       "                    \n",
       "                if (document.getElementById(\"4f20eadc-030a-4043-a3a3-38ec9bd69fe1\")) {\n",
       "                    Plotly.newPlot(\n",
       "                        '4f20eadc-030a-4043-a3a3-38ec9bd69fe1',\n",
       "                        [{\"alignmentgroup\": \"True\", \"hoverlabel\": {\"namelength\": 0}, \"hovertemplate\": \"variable=Affected<br>value=%{x}<br>Province/State=%{y}\", \"legendgroup\": \"Affected\", \"marker\": {\"color\": \"#636efa\"}, \"name\": \"Affected\", \"offsetgroup\": \"Affected\", \"orientation\": \"h\", \"showlegend\": true, \"textposition\": \"auto\", \"type\": \"bar\", \"x\": [0.0, 5.0, 34.0, 37.0, 58.0, 58.0, 62.0, 76.0, 79.0, 80.0, 97.0, 106.0, 129.0, 165.0, 186.0, 187.0, 192.0, 205.0, 268.0, 339.0, 347.0, 355.0, 362.0, 399.0, 537.0, 684.0, 701.0, 711.0, 778.0, 849.0, 49847.0], \"xaxis\": \"x\", \"y\": [\"Tibet\", \"Qinghai\", \"Gansu\", \"Ningxia\", \"Jilin\", \"Xinjiang\", \"Inner Mongolia\", \"Tianjin\", \"Shanxi\", \"Liaoning\", \"Guizhou\", \"Hainan\", \"Yunnan\", \"Shaanxi\", \"Guangxi\", \"Shanghai\", \"Hebei\", \"Fujian\", \"Beijing\", \"Chongqing\", \"Sichuan\", \"Heilongjiang\", \"Shandong\", \"Jiangsu\", \"Hunan\", \"Jiangxi\", \"Anhui\", \"Zhejiang\", \"Henan\", \"Guangdong\", \"Hubei\"], \"yaxis\": \"y\"}, {\"alignmentgroup\": \"True\", \"hoverlabel\": {\"namelength\": 0}, \"hovertemplate\": \"variable=Deaths<br>value=%{x}<br>Province/State=%{y}\", \"legendgroup\": \"Deaths\", \"marker\": {\"color\": \"#EF553B\"}, \"name\": \"Deaths\", \"offsetgroup\": \"Deaths\", \"orientation\": \"h\", \"showlegend\": true, \"textposition\": \"auto\", \"type\": \"bar\", \"x\": [0.0, 0.0, 0.0, 0.0, 0.0, 0.0, 0.0, 0.0, 0.0, 0.0, 1.0, 1.0, 1.0, 1.0, 1.0, 1.0, 2.0, 2.0, 2.0, 2.0, 3.0, 3.0, 3.0, 3.0, 4.0, 4.0, 5.0, 6.0, 11.0, 13.0, 1696.0], \"xaxis\": \"x\", \"y\": [\"Zhejiang\", \"Jiangsu\", \"Fujian\", \"Shaanxi\", \"Yunnan\", \"Shanxi\", \"Ningxia\", \"Inner Mongolia\", \"Qinghai\", \"Tibet\", \"Jiangxi\", \"Shanghai\", \"Guizhou\", \"Liaoning\", \"Jilin\", \"Xinjiang\", \"Guangdong\", \"Shandong\", \"Guangxi\", \"Gansu\", \"Hunan\", \"Sichuan\", \"Hebei\", \"Tianjin\", \"Beijing\", \"Hainan\", \"Chongqing\", \"Anhui\", \"Heilongjiang\", \"Henan\", \"Hubei\"], \"yaxis\": \"y\"}, {\"alignmentgroup\": \"True\", \"hoverlabel\": {\"namelength\": 0}, \"hovertemplate\": \"variable=Recovered<br>value=%{x}<br>Province/State=%{y}\", \"legendgroup\": \"Recovered\", \"marker\": {\"color\": \"#00cc96\"}, \"name\": \"Recovered\", \"offsetgroup\": \"Recovered\", \"orientation\": \"h\", \"showlegend\": true, \"textposition\": \"auto\", \"type\": \"bar\", \"x\": [1.0, 8.0, 12.0, 13.0, 30.0, 33.0, 40.0, 42.0, 45.0, 46.0, 49.0, 50.0, 52.0, 54.0, 71.0, 79.0, 82.0, 105.0, 108.0, 131.0, 140.0, 173.0, 207.0, 218.0, 240.0, 255.0, 440.0, 456.0, 464.0, 465.0, 6639.0], \"xaxis\": \"x\", \"y\": [\"Tibet\", \"Inner Mongolia\", \"Xinjiang\", \"Qinghai\", \"Jilin\", \"Ningxia\", \"Liaoning\", \"Yunnan\", \"Tianjin\", \"Guizhou\", \"Guangxi\", \"Shanxi\", \"Hainan\", \"Gansu\", \"Shaanxi\", \"Heilongjiang\", \"Fujian\", \"Hebei\", \"Beijing\", \"Sichuan\", \"Shanghai\", \"Shandong\", \"Chongqing\", \"Jiangsu\", \"Jiangxi\", \"Anhui\", \"Henan\", \"Zhejiang\", \"Hunan\", \"Guangdong\", \"Hubei\"], \"yaxis\": \"y\"}],\n",
       "                        {\"barmode\": \"relative\", \"height\": 800, \"legend\": {\"title\": {\"text\": \"variable\"}, \"tracegroupgap\": 0}, \"template\": {\"data\": {\"bar\": [{\"error_x\": {\"color\": \"#2a3f5f\"}, \"error_y\": {\"color\": \"#2a3f5f\"}, \"marker\": {\"line\": {\"color\": \"#E5ECF6\", \"width\": 0.5}}, \"type\": \"bar\"}], \"barpolar\": [{\"marker\": {\"line\": {\"color\": \"#E5ECF6\", \"width\": 0.5}}, \"type\": \"barpolar\"}], \"carpet\": [{\"aaxis\": {\"endlinecolor\": \"#2a3f5f\", \"gridcolor\": \"white\", \"linecolor\": \"white\", \"minorgridcolor\": \"white\", \"startlinecolor\": \"#2a3f5f\"}, \"baxis\": {\"endlinecolor\": \"#2a3f5f\", \"gridcolor\": \"white\", \"linecolor\": \"white\", \"minorgridcolor\": \"white\", \"startlinecolor\": \"#2a3f5f\"}, \"type\": \"carpet\"}], \"choropleth\": [{\"colorbar\": {\"outlinewidth\": 0, \"ticks\": \"\"}, \"type\": \"choropleth\"}], \"contour\": [{\"colorbar\": {\"outlinewidth\": 0, \"ticks\": \"\"}, \"colorscale\": [[0.0, \"#0d0887\"], [0.1111111111111111, \"#46039f\"], [0.2222222222222222, \"#7201a8\"], [0.3333333333333333, \"#9c179e\"], [0.4444444444444444, \"#bd3786\"], [0.5555555555555556, \"#d8576b\"], [0.6666666666666666, \"#ed7953\"], [0.7777777777777778, \"#fb9f3a\"], [0.8888888888888888, \"#fdca26\"], [1.0, \"#f0f921\"]], \"type\": \"contour\"}], \"contourcarpet\": [{\"colorbar\": {\"outlinewidth\": 0, \"ticks\": \"\"}, \"type\": \"contourcarpet\"}], \"heatmap\": [{\"colorbar\": {\"outlinewidth\": 0, \"ticks\": \"\"}, \"colorscale\": [[0.0, \"#0d0887\"], [0.1111111111111111, \"#46039f\"], [0.2222222222222222, \"#7201a8\"], [0.3333333333333333, \"#9c179e\"], [0.4444444444444444, \"#bd3786\"], [0.5555555555555556, \"#d8576b\"], [0.6666666666666666, \"#ed7953\"], [0.7777777777777778, \"#fb9f3a\"], [0.8888888888888888, \"#fdca26\"], [1.0, \"#f0f921\"]], \"type\": \"heatmap\"}], \"heatmapgl\": [{\"colorbar\": {\"outlinewidth\": 0, \"ticks\": \"\"}, \"colorscale\": [[0.0, \"#0d0887\"], [0.1111111111111111, \"#46039f\"], [0.2222222222222222, \"#7201a8\"], [0.3333333333333333, \"#9c179e\"], [0.4444444444444444, \"#bd3786\"], [0.5555555555555556, \"#d8576b\"], [0.6666666666666666, \"#ed7953\"], [0.7777777777777778, \"#fb9f3a\"], [0.8888888888888888, \"#fdca26\"], [1.0, \"#f0f921\"]], \"type\": \"heatmapgl\"}], \"histogram\": [{\"marker\": {\"colorbar\": {\"outlinewidth\": 0, \"ticks\": \"\"}}, \"type\": \"histogram\"}], \"histogram2d\": [{\"colorbar\": {\"outlinewidth\": 0, \"ticks\": \"\"}, \"colorscale\": [[0.0, \"#0d0887\"], [0.1111111111111111, \"#46039f\"], [0.2222222222222222, \"#7201a8\"], [0.3333333333333333, \"#9c179e\"], [0.4444444444444444, \"#bd3786\"], [0.5555555555555556, \"#d8576b\"], [0.6666666666666666, \"#ed7953\"], [0.7777777777777778, \"#fb9f3a\"], [0.8888888888888888, \"#fdca26\"], [1.0, \"#f0f921\"]], \"type\": \"histogram2d\"}], \"histogram2dcontour\": [{\"colorbar\": {\"outlinewidth\": 0, \"ticks\": \"\"}, \"colorscale\": [[0.0, \"#0d0887\"], [0.1111111111111111, \"#46039f\"], [0.2222222222222222, \"#7201a8\"], [0.3333333333333333, \"#9c179e\"], [0.4444444444444444, \"#bd3786\"], [0.5555555555555556, \"#d8576b\"], [0.6666666666666666, \"#ed7953\"], [0.7777777777777778, \"#fb9f3a\"], [0.8888888888888888, \"#fdca26\"], [1.0, \"#f0f921\"]], \"type\": \"histogram2dcontour\"}], \"mesh3d\": [{\"colorbar\": {\"outlinewidth\": 0, \"ticks\": \"\"}, \"type\": \"mesh3d\"}], \"parcoords\": [{\"line\": {\"colorbar\": {\"outlinewidth\": 0, \"ticks\": \"\"}}, \"type\": \"parcoords\"}], \"pie\": [{\"automargin\": true, \"type\": \"pie\"}], \"scatter\": [{\"marker\": {\"colorbar\": {\"outlinewidth\": 0, \"ticks\": \"\"}}, \"type\": \"scatter\"}], \"scatter3d\": [{\"line\": {\"colorbar\": {\"outlinewidth\": 0, \"ticks\": \"\"}}, \"marker\": {\"colorbar\": {\"outlinewidth\": 0, \"ticks\": \"\"}}, \"type\": \"scatter3d\"}], \"scattercarpet\": [{\"marker\": {\"colorbar\": {\"outlinewidth\": 0, \"ticks\": \"\"}}, \"type\": \"scattercarpet\"}], \"scattergeo\": [{\"marker\": {\"colorbar\": {\"outlinewidth\": 0, \"ticks\": \"\"}}, \"type\": \"scattergeo\"}], \"scattergl\": [{\"marker\": {\"colorbar\": {\"outlinewidth\": 0, \"ticks\": \"\"}}, \"type\": \"scattergl\"}], \"scattermapbox\": [{\"marker\": {\"colorbar\": {\"outlinewidth\": 0, \"ticks\": \"\"}}, \"type\": \"scattermapbox\"}], \"scatterpolar\": [{\"marker\": {\"colorbar\": {\"outlinewidth\": 0, \"ticks\": \"\"}}, \"type\": \"scatterpolar\"}], \"scatterpolargl\": [{\"marker\": {\"colorbar\": {\"outlinewidth\": 0, \"ticks\": \"\"}}, \"type\": \"scatterpolargl\"}], \"scatterternary\": [{\"marker\": {\"colorbar\": {\"outlinewidth\": 0, \"ticks\": \"\"}}, \"type\": \"scatterternary\"}], \"surface\": [{\"colorbar\": {\"outlinewidth\": 0, \"ticks\": \"\"}, \"colorscale\": [[0.0, \"#0d0887\"], [0.1111111111111111, \"#46039f\"], [0.2222222222222222, \"#7201a8\"], [0.3333333333333333, \"#9c179e\"], [0.4444444444444444, \"#bd3786\"], [0.5555555555555556, \"#d8576b\"], [0.6666666666666666, \"#ed7953\"], [0.7777777777777778, \"#fb9f3a\"], [0.8888888888888888, \"#fdca26\"], [1.0, \"#f0f921\"]], \"type\": \"surface\"}], \"table\": [{\"cells\": {\"fill\": {\"color\": \"#EBF0F8\"}, \"line\": {\"color\": \"white\"}}, \"header\": {\"fill\": {\"color\": \"#C8D4E3\"}, \"line\": {\"color\": \"white\"}}, \"type\": \"table\"}]}, \"layout\": {\"annotationdefaults\": {\"arrowcolor\": \"#2a3f5f\", \"arrowhead\": 0, \"arrowwidth\": 1}, \"coloraxis\": {\"colorbar\": {\"outlinewidth\": 0, \"ticks\": \"\"}}, \"colorscale\": {\"diverging\": [[0, \"#8e0152\"], [0.1, \"#c51b7d\"], [0.2, \"#de77ae\"], [0.3, \"#f1b6da\"], [0.4, \"#fde0ef\"], [0.5, \"#f7f7f7\"], [0.6, \"#e6f5d0\"], [0.7, \"#b8e186\"], [0.8, \"#7fbc41\"], [0.9, \"#4d9221\"], [1, \"#276419\"]], \"sequential\": [[0.0, \"#0d0887\"], [0.1111111111111111, \"#46039f\"], [0.2222222222222222, \"#7201a8\"], [0.3333333333333333, \"#9c179e\"], [0.4444444444444444, \"#bd3786\"], [0.5555555555555556, \"#d8576b\"], [0.6666666666666666, \"#ed7953\"], [0.7777777777777778, \"#fb9f3a\"], [0.8888888888888888, \"#fdca26\"], [1.0, \"#f0f921\"]], \"sequentialminus\": [[0.0, \"#0d0887\"], [0.1111111111111111, \"#46039f\"], [0.2222222222222222, \"#7201a8\"], [0.3333333333333333, \"#9c179e\"], [0.4444444444444444, \"#bd3786\"], [0.5555555555555556, \"#d8576b\"], [0.6666666666666666, \"#ed7953\"], [0.7777777777777778, \"#fb9f3a\"], [0.8888888888888888, \"#fdca26\"], [1.0, \"#f0f921\"]]}, \"colorway\": [\"#636efa\", \"#EF553B\", \"#00cc96\", \"#ab63fa\", \"#FFA15A\", \"#19d3f3\", \"#FF6692\", \"#B6E880\", \"#FF97FF\", \"#FECB52\"], \"font\": {\"color\": \"#2a3f5f\"}, \"geo\": {\"bgcolor\": \"white\", \"lakecolor\": \"white\", \"landcolor\": \"#E5ECF6\", \"showlakes\": true, \"showland\": true, \"subunitcolor\": \"white\"}, \"hoverlabel\": {\"align\": \"left\"}, \"hovermode\": \"closest\", \"mapbox\": {\"style\": \"light\"}, \"paper_bgcolor\": \"white\", \"plot_bgcolor\": \"#E5ECF6\", \"polar\": {\"angularaxis\": {\"gridcolor\": \"white\", \"linecolor\": \"white\", \"ticks\": \"\"}, \"bgcolor\": \"#E5ECF6\", \"radialaxis\": {\"gridcolor\": \"white\", \"linecolor\": \"white\", \"ticks\": \"\"}}, \"scene\": {\"xaxis\": {\"backgroundcolor\": \"#E5ECF6\", \"gridcolor\": \"white\", \"gridwidth\": 2, \"linecolor\": \"white\", \"showbackground\": true, \"ticks\": \"\", \"zerolinecolor\": \"white\"}, \"yaxis\": {\"backgroundcolor\": \"#E5ECF6\", \"gridcolor\": \"white\", \"gridwidth\": 2, \"linecolor\": \"white\", \"showbackground\": true, \"ticks\": \"\", \"zerolinecolor\": \"white\"}, \"zaxis\": {\"backgroundcolor\": \"#E5ECF6\", \"gridcolor\": \"white\", \"gridwidth\": 2, \"linecolor\": \"white\", \"showbackground\": true, \"ticks\": \"\", \"zerolinecolor\": \"white\"}}, \"shapedefaults\": {\"line\": {\"color\": \"#2a3f5f\"}}, \"ternary\": {\"aaxis\": {\"gridcolor\": \"white\", \"linecolor\": \"white\", \"ticks\": \"\"}, \"baxis\": {\"gridcolor\": \"white\", \"linecolor\": \"white\", \"ticks\": \"\"}, \"bgcolor\": \"#E5ECF6\", \"caxis\": {\"gridcolor\": \"white\", \"linecolor\": \"white\", \"ticks\": \"\"}}, \"title\": {\"x\": 0.05}, \"xaxis\": {\"automargin\": true, \"gridcolor\": \"white\", \"linecolor\": \"white\", \"ticks\": \"\", \"title\": {\"standoff\": 15}, \"zerolinecolor\": \"white\", \"zerolinewidth\": 2}, \"yaxis\": {\"automargin\": true, \"gridcolor\": \"white\", \"linecolor\": \"white\", \"ticks\": \"\", \"title\": {\"standoff\": 15}, \"zerolinecolor\": \"white\", \"zerolinewidth\": 2}}}, \"title\": {\"text\": \"Number of Cases in China\"}, \"uniformtext\": {\"minsize\": 8, \"mode\": \"hide\"}, \"xaxis\": {\"anchor\": \"y\", \"domain\": [0.0, 1.0], \"title\": {\"text\": \"value\"}}, \"yaxis\": {\"anchor\": \"x\", \"domain\": [0.0, 1.0], \"title\": {\"text\": \"Province/State\"}}},\n",
       "                        {\"responsive\": true}\n",
       "                    ).then(function(){\n",
       "                            \n",
       "var gd = document.getElementById('4f20eadc-030a-4043-a3a3-38ec9bd69fe1');\n",
       "var x = new MutationObserver(function (mutations, observer) {{\n",
       "        var display = window.getComputedStyle(gd).display;\n",
       "        if (!display || display === 'none') {{\n",
       "            console.log([gd, 'removed!']);\n",
       "            Plotly.purge(gd);\n",
       "            observer.disconnect();\n",
       "        }}\n",
       "}});\n",
       "\n",
       "// Listen for the removal of the full notebook cells\n",
       "var notebookContainer = gd.closest('#notebook-container');\n",
       "if (notebookContainer) {{\n",
       "    x.observe(notebookContainer, {childList: true});\n",
       "}}\n",
       "\n",
       "// Listen for the clearing of the current output cell\n",
       "var outputEl = gd.closest('.output');\n",
       "if (outputEl) {{\n",
       "    x.observe(outputEl, {childList: true});\n",
       "}}\n",
       "\n",
       "                        })\n",
       "                };\n",
       "                });\n",
       "            </script>\n",
       "        </div>"
      ]
     },
     "metadata": {},
     "output_type": "display_data"
    }
   ],
   "source": [
    "rl = row_latest.groupby('Country/Region')['Confirmed', 'Deaths', 'Recovered'].sum().reset_index().sort_values(by='Confirmed', ascending=False).reset_index(drop=True)\n",
    "rl.head().style.background_gradient(cmap='rainbow')\n",
    "\n",
    "ncl = rl.copy()\n",
    "ncl['Affected'] = ncl['Confirmed'] - ncl['Deaths'] - ncl['Recovered']\n",
    "ncl = ncl.melt(id_vars=\"Country/Region\", value_vars=['Affected', 'Recovered', 'Deaths'])\n",
    "\n",
    "fig = px.bar(ncl.sort_values(['variable', 'value']), \n",
    "             y=\"Country/Region\", x=\"value\", color='variable', orientation='h', height=800,\n",
    "             # height=600, width=1000,\n",
    "             title='Number of Cases outside China')\n",
    "fig.update_layout(uniformtext_minsize=8, uniformtext_mode='hide')\n",
    "fig.show()\n",
    "\n",
    "# ------------------------------------------\n",
    "\n",
    "cl = china_latest.groupby('Province/State')['Confirmed', 'Deaths', 'Recovered'].sum().reset_index().sort_values(by='Confirmed', ascending=False).reset_index(drop=True)\n",
    "# cl.head().style.background_gradient(cmap='rainbow')\n",
    "\n",
    "ncl = cl.copy()\n",
    "ncl['Affected'] = ncl['Confirmed'] - ncl['Deaths'] - ncl['Recovered']\n",
    "ncl = ncl.melt(id_vars=\"Province/State\", value_vars=['Affected', 'Recovered', 'Deaths'])\n",
    "\n",
    "fig = px.bar(ncl.sort_values(['variable', 'value']), \n",
    "             y=\"Province/State\", x=\"value\", color='variable', orientation='h', height=800,\n",
    "             # height=600, width=1000,\n",
    "             title='Number of Cases in China')\n",
    "fig.update_layout(uniformtext_minsize=8, uniformtext_mode='hide')\n",
    "fig.show()"
   ]
  }
 ],
 "metadata": {
  "kernelspec": {
   "display_name": "Python 3",
   "language": "python",
   "name": "python3"
  },
  "language_info": {
   "codemirror_mode": {
    "name": "ipython",
    "version": 3
   },
   "file_extension": ".py",
   "mimetype": "text/x-python",
   "name": "python",
   "nbconvert_exporter": "python",
   "pygments_lexer": "ipython3",
   "version": "3.7.4"
  }
 },
 "nbformat": 4,
 "nbformat_minor": 2
}
